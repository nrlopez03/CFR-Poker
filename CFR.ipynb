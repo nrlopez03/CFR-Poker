{
 "cells": [
  {
   "cell_type": "code",
   "execution_count": 13,
   "id": "22928b7e",
   "metadata": {},
   "outputs": [],
   "source": [
    "#MUST RUN\n",
    "#import code\n",
    "\n",
    "import pandas as pd\n",
    "import numpy as np\n",
    "import math\n",
    "import random\n",
    "import collections\n",
    "import itertools\n",
    "from tqdm.notebook import tqdm\n",
    "from matplotlib import pyplot as plt"
   ]
  },
  {
   "cell_type": "code",
   "execution_count": 14,
   "id": "169ace32",
   "metadata": {},
   "outputs": [],
   "source": [
    "#MUST RUN\n",
    "#establishes deck of cards\n",
    "\n",
    "suits = [\"s\", \"h\", \"d\", \"c\"]\n",
    "cards = [\"2\",\"3\",\"4\",\"5\",\"6\",\"7\",\"8\",\"9\",\"T\",\"J\",\"Q\",\"K\",\"A\"]\n",
    "deck = [cards[i] + suits[j] for j in range(len(suits)) for i in range(len(cards)) ]"
   ]
  },
  {
   "cell_type": "code",
   "execution_count": 15,
   "id": "3ae9f841",
   "metadata": {},
   "outputs": [],
   "source": [
    "#MUST RUN\n",
    "#establishes functions to determine hand strength\n",
    "\n",
    "def check_quads(num_counts, numbers_to_values):\n",
    "\n",
    "    score = 7\n",
    "    score += numbers_to_values[num_counts.most_common()[0][0]]        \n",
    "    score += numbers_to_values[num_counts.most_common()[1][0]]/100\n",
    "\n",
    "    return score\n",
    "\n",
    "def check_full_house(num_counts, numbers_to_values):\n",
    "\n",
    "    score = 6\n",
    "    score += numbers_to_values[num_counts.most_common()[0][0]]\n",
    "    score += numbers_to_values[num_counts.most_common()[1][0]]/100\n",
    "\n",
    "    return score\n",
    "\n",
    "def check_three_kind(num_counts, numbers_to_values):\n",
    "\n",
    "    score = 3\n",
    "    score += numbers_to_values[num_counts.most_common()[0][0]]\n",
    "\n",
    "    singles = sorted([num_counts.most_common()[1][0],num_counts.most_common()[2][0]], reverse=True)\n",
    "\n",
    "    score += numbers_to_values[singles[0]]/100\n",
    "    score += numbers_to_values[singles[1]]/100/100   \n",
    "    \n",
    "    return score\n",
    "\n",
    "def check_two_pair(num_counts, numbers_to_values):\n",
    "    \n",
    "    score = 2\n",
    "\n",
    "    doubles = sorted([num_counts.most_common()[0][0],num_counts.most_common()[1][0]], reverse=True)\n",
    "\n",
    "    score += numbers_to_values[doubles[0]]\n",
    "    score += numbers_to_values[doubles[1]]/100\n",
    "\n",
    "    score += numbers_to_values[num_counts.most_common()[2][0]]/100/100\n",
    "    \n",
    "    return score\n",
    "\n",
    "def check_one_pair(num_counts, numbers_to_values):\n",
    "    \n",
    "    score = 1\n",
    "    score += numbers_to_values[num_counts.most_common()[0][0]]\n",
    "\n",
    "    singles = sorted([num_counts.most_common()[1][0],num_counts.most_common()[2][0],num_counts.most_common()[3][0]], reverse=True)\n",
    "\n",
    "    score += numbers_to_values[singles[0]]/100\n",
    "    score += numbers_to_values[singles[1]]/100/100\n",
    "    score += numbers_to_values[singles[2]]/100/100/100\n",
    "    \n",
    "    return score\n",
    "\n",
    "def check_high_card(magnitude_num, numbers_to_values):\n",
    "\n",
    "    score = 0\n",
    "\n",
    "    singles = sorted(magnitude_num, reverse=True)\n",
    "    \n",
    "    score += numbers_to_values[singles[0]]\n",
    "    score += numbers_to_values[singles[1]]/100\n",
    "    score += numbers_to_values[singles[2]]/100/100\n",
    "    score += numbers_to_values[singles[3]]/100/100/100\n",
    "    score += numbers_to_values[singles[4]]/100/100/100/100 \n",
    "    \n",
    "    return score\n",
    "\n",
    "def check_straight(magnitude_num, numbers_to_values):\n",
    "    \n",
    "    score = 0\n",
    "    \n",
    "    if (len(np.unique(magnitude_num))==5) & (max(magnitude_num)-min(magnitude_num) == 4):\n",
    "        \n",
    "        score = 4\n",
    "        \n",
    "        score += numbers_to_values[max(magnitude_num)]\n",
    "        \n",
    "    elif (len(np.unique(magnitude_num))==5) & (sorted(magnitude_num, reverse=True)==[14, 5, 4, 3, 2]):\n",
    "        \n",
    "        score = 4\n",
    "        \n",
    "        score += numbers_to_values[5]\n",
    "        \n",
    "    return score\n",
    "    \n",
    "def check_flush(suits, magnitude_num, numbers_to_values):\n",
    "    \n",
    "    if len(np.unique(suits)) == 1:\n",
    "        \n",
    "        score = 5\n",
    "        \n",
    "        singles = sorted(magnitude_num, reverse=True)\n",
    "        \n",
    "        score += numbers_to_values[singles[0]]\n",
    "        score += numbers_to_values[singles[1]]/100\n",
    "        score += numbers_to_values[singles[2]]/100/100\n",
    "        score += numbers_to_values[singles[3]]/100/100/100\n",
    "        score += numbers_to_values[singles[4]]/100/100/100/100 \n",
    "        \n",
    "    else:\n",
    "        \n",
    "        score = 0\n",
    "        \n",
    "    return score\n",
    "\n",
    "def calc_five_card_strength(five_cards):\n",
    "    \n",
    "    #straight flush: 8\n",
    "    #four of a kind: 7\n",
    "    #full house: 6\n",
    "    #flush: 5\n",
    "    #straight: 4\n",
    "    #trips: 3\n",
    "    #two pair: 2\n",
    "    #pair: 1\n",
    "    #high card: 0\n",
    "    \n",
    "    #ones digit is hand type\n",
    "    #tens-hundreds digits are most important card(s)\n",
    "    #next two digits are second most imporatant card(s), and so one\n",
    "    \n",
    "    score = 0\n",
    "    \n",
    "    cards_to_numbers = {\"2\":2, \"3\":3, \"4\":4, \"5\":5, \"6\":6, \"7\":7, \"8\":8, \"9\":9, \"T\":10, \"J\":11, \"Q\":12, \"K\":13, \"A\":14}\n",
    "    cards_to_values = {\"2\":.05, \"3\":.1, \"4\":.15, \"5\":.2, \"6\":.25, \"7\":.3, \"8\":.35, \"9\":.4, \"T\":.45, \"J\":.5, \"Q\":.55, \"K\":.6, \"A\":.65}\n",
    "    numbers_to_values = dict(zip(cards_to_numbers.values(),cards_to_values.values()))\n",
    "    \n",
    "    magnitude = [five_cards[i][0] for i in range(len(five_cards))]\n",
    "    magnitude_num = [cards_to_numbers[magnitude[i]] for i in range(len(magnitude))]\n",
    "    \n",
    "    suits = [five_cards[i][1] for i in range(len(five_cards))]\n",
    "    \n",
    "    num_counts = collections.Counter(magnitude_num)\n",
    "    \n",
    "    #check for quads\n",
    "    if num_counts.most_common()[0][1] == 4:\n",
    "        \n",
    "        score = check_quads(num_counts, numbers_to_values)\n",
    "    \n",
    "    #check for full house\n",
    "    elif (num_counts.most_common()[0][1] == 3) & (num_counts.most_common()[1][1] == 2):\n",
    "        \n",
    "        score = check_full_house(num_counts, numbers_to_values)\n",
    "    \n",
    "    #check for three of a kind\n",
    "    elif (num_counts.most_common()[0][1] == 3):\n",
    "        \n",
    "        score = check_three_kind(num_counts, numbers_to_values)\n",
    "    \n",
    "    #check for two pair\n",
    "    elif (num_counts.most_common()[0][1] == 2) & (num_counts.most_common()[1][1] == 2):\n",
    "        \n",
    "        score = check_two_pair(num_counts, numbers_to_values)\n",
    "    \n",
    "    #check for pair\n",
    "    elif (num_counts.most_common()[0][1] == 2):\n",
    "        \n",
    "        score = check_one_pair(num_counts, numbers_to_values)\n",
    "    \n",
    "    #check for high card\n",
    "    else:\n",
    "        \n",
    "        score = check_high_card(magnitude_num, numbers_to_values)\n",
    "    \n",
    "    straight = check_straight(magnitude_num, numbers_to_values)\n",
    "    flush = check_flush(suits, magnitude_num, numbers_to_values)\n",
    "    \n",
    "    if (flush > 0) & (straight > 0):\n",
    "        \n",
    "        score = straight + 4\n",
    "        \n",
    "    else:\n",
    "        \n",
    "        score = max(score, flush, straight)\n",
    "    \n",
    "    return score\n",
    "\n",
    "def calc_seven_card_strength(hand, board):\n",
    "    \n",
    "    all_scores = []\n",
    "    \n",
    "    for five_cards in list(itertools.combinations([*hand, *board],5)):\n",
    "        \n",
    "        all_scores.append(calc_five_card_strength(list(five_cards)))\n",
    "        \n",
    "    return max(all_scores)\n",
    "    "
   ]
  },
  {
   "cell_type": "code",
   "execution_count": 16,
   "id": "a2eb7f89",
   "metadata": {},
   "outputs": [],
   "source": [
    "#MUST RUN\n",
    "#creates a class to represent a poker board state, with functions that modify itself\n",
    "\n",
    "class board_state:\n",
    "    def __init__(self, phase, hand1, hand2, board, mod_deck):\n",
    "        self.phase = phase\n",
    "        self.hand1 = hand1\n",
    "        self.hand2 = hand2\n",
    "        self.board = board\n",
    "        self.mod_deck = mod_deck\n",
    "    \n",
    "    def show_state(self):\n",
    "        print('Player 1 hand: ' + str(self.hand1))\n",
    "        print('Player 2 hand: ' + str(self.hand2))\n",
    "        print('Board: ' + str(self.board))\n",
    "    \n",
    "    def flop(self):\n",
    "        if self.phase != 0:\n",
    "            print('error: phase not preflop, cannot execute flop.')\n",
    "            #error\n",
    "        elif self.phase == 0:\n",
    "            self.phase = 1\n",
    "            self.board = random.sample(self.mod_deck, 3)\n",
    "            \n",
    "            self.mod_deck = [self.mod_deck[i] for i in range(len(self.mod_deck)) if self.mod_deck[i] not in self.board]\n",
    "            \n",
    "    def turn(self):\n",
    "        if self.phase != 1:\n",
    "            print('error: phase not flop, cannot execute turn.')\n",
    "            #error\n",
    "        elif self.phase == 1:\n",
    "            self.phase = 2\n",
    "            turn = random.sample(self.mod_deck, 1)[0]\n",
    "            self.board.append(turn)\n",
    "            \n",
    "            self.mod_deck.remove(turn)\n",
    "            \n",
    "    def river(self):\n",
    "        if self.phase != 2:\n",
    "            print('error: phase not turn, cannot execute river.')\n",
    "            #error\n",
    "        elif self.phase == 2:\n",
    "            self.phase = 3\n",
    "            river = random.sample(self.mod_deck, 1)[0]\n",
    "            self.board.append(river)\n",
    "            \n",
    "            self.mod_deck.remove(river)\n",
    "            \n",
    "    def calculate_winner(self):\n",
    "        \n",
    "        if self.phase != 3:\n",
    "            \n",
    "            print('error: phase not river, cannot calculate winner.')\n",
    "            \n",
    "        elif self.phase == 3:\n",
    "        \n",
    "            hand1_strength = calc_seven_card_strength(self.board,self.hand1)\n",
    "            hand2_strength = calc_seven_card_strength(self.board,self.hand2)\n",
    "            \n",
    "            if hand1_strength > hand2_strength:\n",
    "\n",
    "                return 1\n",
    "\n",
    "            elif hand2_strength > hand1_strength:\n",
    "\n",
    "                return 2\n",
    "\n",
    "            else:\n",
    "\n",
    "                return 0\n",
    "            \n",
    "    def all_phases_calculate(self):\n",
    "        \n",
    "        self.flop()\n",
    "        self.turn()\n",
    "        self.river()\n",
    "        \n",
    "        return self.calculate_winner()\n",
    "        "
   ]
  },
  {
   "cell_type": "code",
   "execution_count": 17,
   "id": "361d33e1",
   "metadata": {},
   "outputs": [],
   "source": [
    "# MUST RUN\n",
    "#creates functions that create a board state\n",
    "\n",
    "def start_game():\n",
    "    \n",
    "    hands = random.sample(deck, 4)\n",
    "    \n",
    "    hand1 = hands[0:2]\n",
    "    hand2 = hands[2:4]\n",
    "    \n",
    "    mod_deck = [deck[i] for i in range(52) if deck[i] not in hands]\n",
    "    \n",
    "    X = board_state(0,hand1,hand2,[],mod_deck)\n",
    "    \n",
    "    return X\n",
    "\n",
    "def start_game_with_hands(hand1, hand2):\n",
    "    \n",
    "    mod_deck = [deck[i] for i in range(52) if deck[i] not in [*hand1, *hand2]]\n",
    "    \n",
    "    X = board_state(0,hand1,hand2,[],mod_deck)\n",
    "    \n",
    "    return X"
   ]
  },
  {
   "cell_type": "code",
   "execution_count": 18,
   "id": "35647d76",
   "metadata": {},
   "outputs": [],
   "source": [
    "#MUST RUN\n",
    "#compares two hands, runs iterations simulations and returns the number of times hand 1 won, hand 2 won, and ties.\n",
    "#If equity is True, ignores ties\n",
    "\n",
    "def simulate_hand_fight(hand1, hand2, iterations=1000, equity=True):\n",
    "    \n",
    "    results = [0,0,0]\n",
    "    \n",
    "    for trial in range(iterations):\n",
    "        \n",
    "        game_trial = start_game_with_hands(hand1, hand2)\n",
    "        \n",
    "        results[game_trial.all_phases_calculate()] += 1\n",
    "        \n",
    "    if equity==True:\n",
    "        \n",
    "        results = [results[1]+results[0]/2, results[2]+results[0]/2]\n",
    "        \n",
    "    return results"
   ]
  },
  {
   "cell_type": "code",
   "execution_count": 19,
   "id": "a8156f1b",
   "metadata": {},
   "outputs": [],
   "source": [
    "#creates matrix of handfight win probabilities of hands pitted against each other (52*51/2) by (52*51/2)\n",
    "\n",
    "def create_pf_win_prob_matrix(iters):\n",
    "    \n",
    "    num_hands = int(52*51/2)\n",
    "    \n",
    "    #converts tuples to lists\n",
    "    poss_hands = [list(list(itertools.combinations(deck,2))[i]) for i in range(num_hands)]\n",
    "    hand_nums = np.array(range(num_hands))\n",
    "    num_to_hand = dict(zip(hand_nums, poss_hands))\n",
    "    \n",
    "    surplus_win_probs = np.zeros([num_hands,num_hands])\n",
    "    \n",
    "    for hand1_num in tqdm(range(num_hands)):\n",
    "        \n",
    "        for hand2_num in tqdm(range(hand1_num)):\n",
    "            \n",
    "            hand1 = num_to_hand[hand1_num]\n",
    "            hand2 = num_to_hand[hand2_num]\n",
    "            \n",
    "            surplus_win_prob_p1 = (2*simulate_hand_fight(hand1,hand2, iters, True)[0]/iters-1)\n",
    "            surplus_win_probs[hand1_num,hand2_num] = surplus_win_prob_p1\n",
    "            surplus_win_probs[hand2_num,hand1_num] = -surplus_win_prob_p1\n",
    "    \n",
    "    return surplus_win_probs"
   ]
  },
  {
   "cell_type": "code",
   "execution_count": 37,
   "id": "75b0e8e3",
   "metadata": {},
   "outputs": [],
   "source": [
    "#very complicated code that returns regret for both players after many iterations\n",
    "#this is what we have to fix (for this specific sim) - i don't know if it's broken though lol\n",
    "#we assume blocker effects don't exist here\n",
    "\n",
    "def hu_pf_sim_v2(surplus_win_probs, num_iter = 10000, iters=100):\n",
    "    \n",
    "    #set overall parameters\n",
    "    num_hands = int(52*51/2)\n",
    "    stacks = 10 \n",
    "    \n",
    "    #create general variables/dicts needed later\n",
    "    poss_hands = [list(list(itertools.combinations(deck,2))[i]) for i in range(num_hands)]\n",
    "    hand_nums = np.array(range(num_hands))\n",
    "    num_to_hand = dict(zip(hand_nums, poss_hands))\n",
    "    hand_to_num = {tuple(poss_hand): num for poss_hand, num in zip(poss_hands, hand_nums)}\n",
    "    # hand_to_num = dict(zip(poss_hands, hand_nums))\n",
    "    \n",
    "\n",
    "    #create regret matrices; first element is fold, second is shove. We start with both equal to 1 such that each action is 50%\n",
    "    p1_strats = np.array([[1, 1]] * num_hands).astype(float) #fold, shove\n",
    "    p2_strats = np.array([[1, 1]] * num_hands).astype(float) #fold, call (conditional on p1 shoving)\n",
    "    \n",
    "    #the following code is the optimization and runs num_iter times\n",
    "    for iter in tqdm(range(num_iter)):\n",
    "        \n",
    "        hand1_num = random.sample(list(hand_nums),1)[0]\n",
    "        hand1 = num_to_hand[hand1_num]\n",
    "        possible_hand2 = [subset_h2 for subset_h2 in num_to_hand.values() if not any(card in hand1 for card in subset_h2)]\n",
    "        hand2 = random.sample(list(possible_hand2),1)[0]\n",
    "        hand2_num = hand_to_num[tuple(hand2)]\n",
    "        possible_hand1 = [subset_h1 for subset_h1 in num_to_hand.values() if not any(card in hand2 for card in subset_h1)]\n",
    "\n",
    "        \n",
    "        #an information set is one hand. we calculate win probability based on p1's hand against all possible hands p2 has, conditional on p2 calling\n",
    "        #for now, IGNORE BLOCKER EFFECTS\n",
    "        all_win_prob_p1 = 0\n",
    "        total_prob_p2_calls = 0\n",
    "        for hand_i in possible_hand2:\n",
    "            hand_i = hand_to_num[tuple(hand_i)]\n",
    "            per_hand_win_prob_p1 = (surplus_win_probs[hand1_num, hand_i]+1)/2\n",
    "            \n",
    "            #calc prob p1 bets\n",
    "            if p2_strats[hand_i, 0]<=0:\n",
    "                if p2_strats[hand_i, 1]<=0:\n",
    "                    p2_sim_prob_fold=.5\n",
    "                else:\n",
    "                    p2_sim_prob_fold=0\n",
    "            else:\n",
    "                if p2_strats[hand_i, 1]<=0:\n",
    "                    p2_sim_prob_fold=1\n",
    "                else:\n",
    "                    p2_sim_prob_fold = p2_strats[hand_i, 0]/sum(p2_strats[hand_i, :])\n",
    "            \n",
    "            all_win_prob_p1 = all_win_prob_p1 + (1-p2_sim_prob_fold)*per_hand_win_prob_p1\n",
    "            total_prob_p2_calls = total_prob_p2_calls + (1-p2_sim_prob_fold)\n",
    "        \n",
    "        win_prob_p1 = all_win_prob_p1/total_prob_p2_calls\n",
    "        \n",
    "        #this code chunk calculates the expected win probability for player 2 given only their hand. we must condition on whether p1 will bet or not, so given that we face a bet, find our expected WP.\n",
    "        all_win_prob_p2 = 0\n",
    "        total_prob_p1_bets = 0\n",
    "        for hand_i in possible_hand1:\n",
    "            hand_i = hand_to_num[tuple(hand_i)]\n",
    "            per_hand_win_prob_p2 = 1-(surplus_win_probs[hand_i, hand2_num]+1)/2\n",
    "            \n",
    "            #calc prob p1 bets\n",
    "            if p1_strats[hand_i, 0]<=0:\n",
    "                if p1_strats[hand_i, 1]<=0:\n",
    "                    p1_sim_prob_fold=.5\n",
    "                else:\n",
    "                    p1_sim_prob_fold=0\n",
    "            else:\n",
    "                if p1_strats[hand_i, 1]<=0:\n",
    "                    p1_sim_prob_fold=1\n",
    "                else:\n",
    "                    p1_sim_prob_fold = p1_strats[hand_i, 0]/sum(p1_strats[hand_i, :])\n",
    "            \n",
    "            all_win_prob_p2 = all_win_prob_p2 + (1-p1_sim_prob_fold)*per_hand_win_prob_p2\n",
    "            total_prob_p1_bets = total_prob_p1_bets + (1-p1_sim_prob_fold)\n",
    "        \n",
    "        win_prob_p2 = all_win_prob_p2/total_prob_p1_bets\n",
    "            \n",
    "        #we now calculate, based on the regret matrices:\n",
    "        #from p2's perspective, what is the probability that p1 folds\n",
    "        #form p1's perspective, what is the probability that p2 folds\n",
    "        #sim is your guess of the other person's action\n",
    "        #con is your probability of action\n",
    "        p1_sim_prob_fold = 0\n",
    "        p2_sim_prob_fold = 0\n",
    "        \n",
    "        for hand_i in possible_hand1:\n",
    "            hand_i = hand_to_num[tuple(hand_i)]\n",
    "\n",
    "            if p1_strats[hand_i, 0]<=0:\n",
    "                if p1_strats[hand_i, 1]<=0:\n",
    "                    p1_sim_prob_fold+=.5\n",
    "                else:\n",
    "                    p1_sim_prob_fold+=0\n",
    "            else:\n",
    "                if p1_strats[hand_i, 1]<=0:\n",
    "                    p1_sim_prob_fold+=1\n",
    "                else:\n",
    "                    p1_sim_prob_fold += p1_strats[hand_i, 0]/sum(p1_strats[hand_i, :])\n",
    "        \n",
    "        for hand_i in possible_hand2:\n",
    "            hand_i = hand_to_num[tuple(hand_i)]\n",
    "                    \n",
    "                    \n",
    "            if p2_strats[hand_i, 0]<=0:\n",
    "                if p2_strats[hand_i, 1]<=0:\n",
    "                    p2_sim_prob_fold+=.5\n",
    "                else:\n",
    "                    p2_sim_prob_fold+=0\n",
    "            else:\n",
    "                if p2_strats[hand_i, 1]<=0:\n",
    "                    p2_sim_prob_fold+=1\n",
    "                else:\n",
    "                    p2_sim_prob_fold += p2_strats[hand_i, 0]/sum(p2_strats[hand_i, :])\n",
    "                    \n",
    "        p1_sim_prob_fold = p1_sim_prob_fold/len(possible_hand1)\n",
    "        p2_sim_prob_fold = p2_sim_prob_fold/len(possible_hand2)\n",
    "        \n",
    "        if p2_strats[hand2_num, 0]<=0:\n",
    "            if p2_strats[hand2_num, 1]<=0:\n",
    "                p2_con_prob_fold=.5\n",
    "            else:\n",
    "                p2_con_prob_fold=0\n",
    "        else:\n",
    "            if p2_strats[hand2_num, 1]<=0:\n",
    "                p2_con_prob_fold=1\n",
    "            else:\n",
    "                p2_con_prob_fold = p2_strats[hand2_num, 0]/sum(p2_strats[hand2_num, :])\n",
    "              \n",
    "        if p1_strats[hand1_num, 0]<=0:\n",
    "            if p1_strats[hand1_num, 1]<=0:\n",
    "                p1_con_prob_fold=.5\n",
    "            else:\n",
    "                p1_con_prob_fold=0\n",
    "        else:\n",
    "            if p1_strats[hand1_num, 1]<=0:\n",
    "                p1_con_prob_fold=1\n",
    "            else:\n",
    "                p1_con_prob_fold = p1_strats[hand1_num, 0]/sum(p1_strats[hand1_num, :])\n",
    "        \n",
    "        #calculate actual payouts for folding and pushing\n",
    "        p1_actual_payouts = np.array([0, 1.5*p2_sim_prob_fold + ((stacks+.5)*win_prob_p1-(stacks-.5)*(1-win_prob_p1))*(1-p2_sim_prob_fold)])\n",
    "        p1_mixed_chosen_payout = np.dot([p1_con_prob_fold,(1-p1_con_prob_fold)],p1_actual_payouts)\n",
    "        p1_regret = p1_actual_payouts-p1_mixed_chosen_payout\n",
    "        \n",
    "        #calculate actual payouts for folding and calling\n",
    "        p2_actual_payouts = np.array([0, ((stacks+1)*(win_prob_p2)-(stacks-1)*(1-win_prob_p2))])*(1-p1_sim_prob_fold)\n",
    "        p2_mixed_chosen_payout = np.dot([p2_sim_prob_fold,(1-p2_sim_prob_fold)],p2_actual_payouts)\n",
    "        p2_regret = p2_actual_payouts-p2_mixed_chosen_payout\n",
    "        \n",
    "        p1_strats[hand1_num] = (p1_strats[hand1_num] + p1_regret)\n",
    "        p2_strats[hand2_num] = (p2_strats[hand2_num] + p2_regret)\n",
    "        \n",
    "    return p1_strats, p2_strats"
   ]
  },
  {
   "cell_type": "code",
   "execution_count": 21,
   "id": "4f7213c5",
   "metadata": {
    "scrolled": true
   },
   "outputs": [
    {
     "data": {
      "application/vnd.jupyter.widget-view+json": {
       "model_id": "dd8d69cf1a724a8484adef8470ff401e",
       "version_major": 2,
       "version_minor": 0
      },
      "text/plain": [
       "  0%|          | 0/1326 [00:00<?, ?it/s]"
      ]
     },
     "metadata": {},
     "output_type": "display_data"
    },
    {
     "data": {
      "application/vnd.jupyter.widget-view+json": {
       "model_id": "710de8969763473aa27e641cabec056f",
       "version_major": 2,
       "version_minor": 0
      },
      "text/plain": [
       "0it [00:00, ?it/s]"
      ]
     },
     "metadata": {},
     "output_type": "display_data"
    },
    {
     "data": {
      "application/vnd.jupyter.widget-view+json": {
       "model_id": "bf4df89335a1420eb793554735b9e7d2",
       "version_major": 2,
       "version_minor": 0
      },
      "text/plain": [
       "  0%|          | 0/1 [00:00<?, ?it/s]"
      ]
     },
     "metadata": {},
     "output_type": "display_data"
    },
    {
     "data": {
      "application/vnd.jupyter.widget-view+json": {
       "model_id": "6751b323c086434a8e14cfc5562a822e",
       "version_major": 2,
       "version_minor": 0
      },
      "text/plain": [
       "  0%|          | 0/2 [00:00<?, ?it/s]"
      ]
     },
     "metadata": {},
     "output_type": "display_data"
    },
    {
     "data": {
      "application/vnd.jupyter.widget-view+json": {
       "model_id": "d2934d522a3f43b7985d62955aca3961",
       "version_major": 2,
       "version_minor": 0
      },
      "text/plain": [
       "  0%|          | 0/3 [00:00<?, ?it/s]"
      ]
     },
     "metadata": {},
     "output_type": "display_data"
    },
    {
     "data": {
      "application/vnd.jupyter.widget-view+json": {
       "model_id": "201601db80924f6696eb1b8cd9b7cf92",
       "version_major": 2,
       "version_minor": 0
      },
      "text/plain": [
       "  0%|          | 0/4 [00:00<?, ?it/s]"
      ]
     },
     "metadata": {},
     "output_type": "display_data"
    },
    {
     "data": {
      "application/vnd.jupyter.widget-view+json": {
       "model_id": "fcf947760a494b1b9ec6edc9252926ce",
       "version_major": 2,
       "version_minor": 0
      },
      "text/plain": [
       "  0%|          | 0/5 [00:00<?, ?it/s]"
      ]
     },
     "metadata": {},
     "output_type": "display_data"
    },
    {
     "data": {
      "application/vnd.jupyter.widget-view+json": {
       "model_id": "23b7e0d172aa4f1fa2452a1c50b6f8c7",
       "version_major": 2,
       "version_minor": 0
      },
      "text/plain": [
       "  0%|          | 0/6 [00:00<?, ?it/s]"
      ]
     },
     "metadata": {},
     "output_type": "display_data"
    },
    {
     "data": {
      "application/vnd.jupyter.widget-view+json": {
       "model_id": "e965dbd7e3c74614baf2350f89ed2c91",
       "version_major": 2,
       "version_minor": 0
      },
      "text/plain": [
       "  0%|          | 0/7 [00:00<?, ?it/s]"
      ]
     },
     "metadata": {},
     "output_type": "display_data"
    },
    {
     "data": {
      "application/vnd.jupyter.widget-view+json": {
       "model_id": "849319d5ee4241c9825a4932d0ba84af",
       "version_major": 2,
       "version_minor": 0
      },
      "text/plain": [
       "  0%|          | 0/8 [00:00<?, ?it/s]"
      ]
     },
     "metadata": {},
     "output_type": "display_data"
    },
    {
     "data": {
      "application/vnd.jupyter.widget-view+json": {
       "model_id": "a82c2a576270481db703006b2e73aada",
       "version_major": 2,
       "version_minor": 0
      },
      "text/plain": [
       "  0%|          | 0/9 [00:00<?, ?it/s]"
      ]
     },
     "metadata": {},
     "output_type": "display_data"
    },
    {
     "data": {
      "application/vnd.jupyter.widget-view+json": {
       "model_id": "c590efdac4bf4d6cb140cd8928d64f6a",
       "version_major": 2,
       "version_minor": 0
      },
      "text/plain": [
       "  0%|          | 0/10 [00:00<?, ?it/s]"
      ]
     },
     "metadata": {},
     "output_type": "display_data"
    },
    {
     "data": {
      "application/vnd.jupyter.widget-view+json": {
       "model_id": "35a7860aafb941f1a1873c7d3e74560d",
       "version_major": 2,
       "version_minor": 0
      },
      "text/plain": [
       "  0%|          | 0/11 [00:00<?, ?it/s]"
      ]
     },
     "metadata": {},
     "output_type": "display_data"
    },
    {
     "data": {
      "application/vnd.jupyter.widget-view+json": {
       "model_id": "3a268dc5ae6d44e3a4781dba37ce20c2",
       "version_major": 2,
       "version_minor": 0
      },
      "text/plain": [
       "  0%|          | 0/12 [00:00<?, ?it/s]"
      ]
     },
     "metadata": {},
     "output_type": "display_data"
    },
    {
     "data": {
      "application/vnd.jupyter.widget-view+json": {
       "model_id": "8cfd8f6ba8914a6c83e717bb2304d287",
       "version_major": 2,
       "version_minor": 0
      },
      "text/plain": [
       "  0%|          | 0/13 [00:00<?, ?it/s]"
      ]
     },
     "metadata": {},
     "output_type": "display_data"
    },
    {
     "data": {
      "application/vnd.jupyter.widget-view+json": {
       "model_id": "2a53174a136748c3b2309efeb049b43e",
       "version_major": 2,
       "version_minor": 0
      },
      "text/plain": [
       "  0%|          | 0/14 [00:00<?, ?it/s]"
      ]
     },
     "metadata": {},
     "output_type": "display_data"
    },
    {
     "data": {
      "application/vnd.jupyter.widget-view+json": {
       "model_id": "f447a18ee2b047fcb70df6684cbf4314",
       "version_major": 2,
       "version_minor": 0
      },
      "text/plain": [
       "  0%|          | 0/15 [00:00<?, ?it/s]"
      ]
     },
     "metadata": {},
     "output_type": "display_data"
    },
    {
     "data": {
      "application/vnd.jupyter.widget-view+json": {
       "model_id": "e9b6652f347f418cadbd235c4d3d382d",
       "version_major": 2,
       "version_minor": 0
      },
      "text/plain": [
       "  0%|          | 0/16 [00:00<?, ?it/s]"
      ]
     },
     "metadata": {},
     "output_type": "display_data"
    },
    {
     "data": {
      "application/vnd.jupyter.widget-view+json": {
       "model_id": "861289ed5acf4e60aab415fd534eb814",
       "version_major": 2,
       "version_minor": 0
      },
      "text/plain": [
       "  0%|          | 0/17 [00:00<?, ?it/s]"
      ]
     },
     "metadata": {},
     "output_type": "display_data"
    },
    {
     "data": {
      "application/vnd.jupyter.widget-view+json": {
       "model_id": "8090640dd1634106a92bd0856df44343",
       "version_major": 2,
       "version_minor": 0
      },
      "text/plain": [
       "  0%|          | 0/18 [00:00<?, ?it/s]"
      ]
     },
     "metadata": {},
     "output_type": "display_data"
    },
    {
     "data": {
      "application/vnd.jupyter.widget-view+json": {
       "model_id": "36b5177200c841d88310f276c89127b3",
       "version_major": 2,
       "version_minor": 0
      },
      "text/plain": [
       "  0%|          | 0/19 [00:00<?, ?it/s]"
      ]
     },
     "metadata": {},
     "output_type": "display_data"
    },
    {
     "data": {
      "application/vnd.jupyter.widget-view+json": {
       "model_id": "380f189485d544659d6452dbc3ace3c4",
       "version_major": 2,
       "version_minor": 0
      },
      "text/plain": [
       "  0%|          | 0/20 [00:00<?, ?it/s]"
      ]
     },
     "metadata": {},
     "output_type": "display_data"
    },
    {
     "data": {
      "application/vnd.jupyter.widget-view+json": {
       "model_id": "4476c7cfd0244fcfb4086208dc36fc13",
       "version_major": 2,
       "version_minor": 0
      },
      "text/plain": [
       "  0%|          | 0/21 [00:00<?, ?it/s]"
      ]
     },
     "metadata": {},
     "output_type": "display_data"
    },
    {
     "data": {
      "application/vnd.jupyter.widget-view+json": {
       "model_id": "f53404b7026b4b17af0981684fd257c6",
       "version_major": 2,
       "version_minor": 0
      },
      "text/plain": [
       "  0%|          | 0/22 [00:00<?, ?it/s]"
      ]
     },
     "metadata": {},
     "output_type": "display_data"
    },
    {
     "data": {
      "application/vnd.jupyter.widget-view+json": {
       "model_id": "83dc1babf3d34902affcc71b40f4d906",
       "version_major": 2,
       "version_minor": 0
      },
      "text/plain": [
       "  0%|          | 0/23 [00:00<?, ?it/s]"
      ]
     },
     "metadata": {},
     "output_type": "display_data"
    },
    {
     "data": {
      "application/vnd.jupyter.widget-view+json": {
       "model_id": "617abbfea7ef42a4a8311f7dccfb55db",
       "version_major": 2,
       "version_minor": 0
      },
      "text/plain": [
       "  0%|          | 0/24 [00:00<?, ?it/s]"
      ]
     },
     "metadata": {},
     "output_type": "display_data"
    },
    {
     "data": {
      "application/vnd.jupyter.widget-view+json": {
       "model_id": "22ee247bbdf445ac8dae15c9456ee88c",
       "version_major": 2,
       "version_minor": 0
      },
      "text/plain": [
       "  0%|          | 0/25 [00:00<?, ?it/s]"
      ]
     },
     "metadata": {},
     "output_type": "display_data"
    },
    {
     "data": {
      "application/vnd.jupyter.widget-view+json": {
       "model_id": "219240afbfd049498b4c9aff37a178bb",
       "version_major": 2,
       "version_minor": 0
      },
      "text/plain": [
       "  0%|          | 0/26 [00:00<?, ?it/s]"
      ]
     },
     "metadata": {},
     "output_type": "display_data"
    },
    {
     "data": {
      "application/vnd.jupyter.widget-view+json": {
       "model_id": "93bdbf1ae2464fc883fc871fb047c36e",
       "version_major": 2,
       "version_minor": 0
      },
      "text/plain": [
       "  0%|          | 0/27 [00:00<?, ?it/s]"
      ]
     },
     "metadata": {},
     "output_type": "display_data"
    },
    {
     "data": {
      "application/vnd.jupyter.widget-view+json": {
       "model_id": "8b5095719b9d421595b0874213e81262",
       "version_major": 2,
       "version_minor": 0
      },
      "text/plain": [
       "  0%|          | 0/28 [00:00<?, ?it/s]"
      ]
     },
     "metadata": {},
     "output_type": "display_data"
    },
    {
     "data": {
      "application/vnd.jupyter.widget-view+json": {
       "model_id": "0be434e4932948f0bc8cfb5461c18ff3",
       "version_major": 2,
       "version_minor": 0
      },
      "text/plain": [
       "  0%|          | 0/29 [00:00<?, ?it/s]"
      ]
     },
     "metadata": {},
     "output_type": "display_data"
    },
    {
     "data": {
      "application/vnd.jupyter.widget-view+json": {
       "model_id": "deb4c1049e5c4383adfe22f303f50886",
       "version_major": 2,
       "version_minor": 0
      },
      "text/plain": [
       "  0%|          | 0/30 [00:00<?, ?it/s]"
      ]
     },
     "metadata": {},
     "output_type": "display_data"
    },
    {
     "data": {
      "application/vnd.jupyter.widget-view+json": {
       "model_id": "a83e5f425e794ecda6bb19d7f665418f",
       "version_major": 2,
       "version_minor": 0
      },
      "text/plain": [
       "  0%|          | 0/31 [00:00<?, ?it/s]"
      ]
     },
     "metadata": {},
     "output_type": "display_data"
    },
    {
     "data": {
      "application/vnd.jupyter.widget-view+json": {
       "model_id": "41f5f41f20ce4f7b9c05697491b570b8",
       "version_major": 2,
       "version_minor": 0
      },
      "text/plain": [
       "  0%|          | 0/32 [00:00<?, ?it/s]"
      ]
     },
     "metadata": {},
     "output_type": "display_data"
    },
    {
     "data": {
      "application/vnd.jupyter.widget-view+json": {
       "model_id": "a8505521b09a44518d1728f2fb9278e6",
       "version_major": 2,
       "version_minor": 0
      },
      "text/plain": [
       "  0%|          | 0/33 [00:00<?, ?it/s]"
      ]
     },
     "metadata": {},
     "output_type": "display_data"
    },
    {
     "data": {
      "application/vnd.jupyter.widget-view+json": {
       "model_id": "e7ef84ba7a49486693a0290fe771c5d3",
       "version_major": 2,
       "version_minor": 0
      },
      "text/plain": [
       "  0%|          | 0/34 [00:00<?, ?it/s]"
      ]
     },
     "metadata": {},
     "output_type": "display_data"
    },
    {
     "data": {
      "application/vnd.jupyter.widget-view+json": {
       "model_id": "440c49c42e604d91a5faab924ba2f962",
       "version_major": 2,
       "version_minor": 0
      },
      "text/plain": [
       "  0%|          | 0/35 [00:00<?, ?it/s]"
      ]
     },
     "metadata": {},
     "output_type": "display_data"
    },
    {
     "data": {
      "application/vnd.jupyter.widget-view+json": {
       "model_id": "ea37686b08cd4a17a79534dbbdb2269b",
       "version_major": 2,
       "version_minor": 0
      },
      "text/plain": [
       "  0%|          | 0/36 [00:00<?, ?it/s]"
      ]
     },
     "metadata": {},
     "output_type": "display_data"
    },
    {
     "data": {
      "application/vnd.jupyter.widget-view+json": {
       "model_id": "f5f6903c0b3e4b0ab40144e62769ca69",
       "version_major": 2,
       "version_minor": 0
      },
      "text/plain": [
       "  0%|          | 0/37 [00:00<?, ?it/s]"
      ]
     },
     "metadata": {},
     "output_type": "display_data"
    },
    {
     "data": {
      "application/vnd.jupyter.widget-view+json": {
       "model_id": "17fe6754a63e41deb6a135e540cf2461",
       "version_major": 2,
       "version_minor": 0
      },
      "text/plain": [
       "  0%|          | 0/38 [00:00<?, ?it/s]"
      ]
     },
     "metadata": {},
     "output_type": "display_data"
    },
    {
     "data": {
      "application/vnd.jupyter.widget-view+json": {
       "model_id": "d6e4feb440fb45379863160a8be02738",
       "version_major": 2,
       "version_minor": 0
      },
      "text/plain": [
       "  0%|          | 0/39 [00:00<?, ?it/s]"
      ]
     },
     "metadata": {},
     "output_type": "display_data"
    },
    {
     "data": {
      "application/vnd.jupyter.widget-view+json": {
       "model_id": "afe90994b3264035b50436acbcbb5b60",
       "version_major": 2,
       "version_minor": 0
      },
      "text/plain": [
       "  0%|          | 0/40 [00:00<?, ?it/s]"
      ]
     },
     "metadata": {},
     "output_type": "display_data"
    },
    {
     "data": {
      "application/vnd.jupyter.widget-view+json": {
       "model_id": "eb30560005da4430ad51a4e59e4644d8",
       "version_major": 2,
       "version_minor": 0
      },
      "text/plain": [
       "  0%|          | 0/41 [00:00<?, ?it/s]"
      ]
     },
     "metadata": {},
     "output_type": "display_data"
    },
    {
     "data": {
      "application/vnd.jupyter.widget-view+json": {
       "model_id": "410d50eed17747e98eaa0e4eb92df9b7",
       "version_major": 2,
       "version_minor": 0
      },
      "text/plain": [
       "  0%|          | 0/42 [00:00<?, ?it/s]"
      ]
     },
     "metadata": {},
     "output_type": "display_data"
    },
    {
     "data": {
      "application/vnd.jupyter.widget-view+json": {
       "model_id": "f325e9e1770b42119735769256ab9ccc",
       "version_major": 2,
       "version_minor": 0
      },
      "text/plain": [
       "  0%|          | 0/43 [00:00<?, ?it/s]"
      ]
     },
     "metadata": {},
     "output_type": "display_data"
    },
    {
     "data": {
      "application/vnd.jupyter.widget-view+json": {
       "model_id": "04d55b7e47804ab4926364105e451dd9",
       "version_major": 2,
       "version_minor": 0
      },
      "text/plain": [
       "  0%|          | 0/44 [00:00<?, ?it/s]"
      ]
     },
     "metadata": {},
     "output_type": "display_data"
    },
    {
     "data": {
      "application/vnd.jupyter.widget-view+json": {
       "model_id": "eebda70c13734304839e223a9c0e1886",
       "version_major": 2,
       "version_minor": 0
      },
      "text/plain": [
       "  0%|          | 0/45 [00:00<?, ?it/s]"
      ]
     },
     "metadata": {},
     "output_type": "display_data"
    },
    {
     "data": {
      "application/vnd.jupyter.widget-view+json": {
       "model_id": "0075a71bdd0742f8835d9c05342f2ddc",
       "version_major": 2,
       "version_minor": 0
      },
      "text/plain": [
       "  0%|          | 0/46 [00:00<?, ?it/s]"
      ]
     },
     "metadata": {},
     "output_type": "display_data"
    },
    {
     "data": {
      "application/vnd.jupyter.widget-view+json": {
       "model_id": "debe31ad56f44fa788597db6b3fe3ce9",
       "version_major": 2,
       "version_minor": 0
      },
      "text/plain": [
       "  0%|          | 0/47 [00:00<?, ?it/s]"
      ]
     },
     "metadata": {},
     "output_type": "display_data"
    },
    {
     "data": {
      "application/vnd.jupyter.widget-view+json": {
       "model_id": "c1a6e2736e5343f78b011825b53125c0",
       "version_major": 2,
       "version_minor": 0
      },
      "text/plain": [
       "  0%|          | 0/48 [00:00<?, ?it/s]"
      ]
     },
     "metadata": {},
     "output_type": "display_data"
    },
    {
     "data": {
      "application/vnd.jupyter.widget-view+json": {
       "model_id": "c4f1a6e0a19b43dd8ae58a2f0d2dad02",
       "version_major": 2,
       "version_minor": 0
      },
      "text/plain": [
       "  0%|          | 0/49 [00:00<?, ?it/s]"
      ]
     },
     "metadata": {},
     "output_type": "display_data"
    },
    {
     "data": {
      "application/vnd.jupyter.widget-view+json": {
       "model_id": "aa14079da39d4b46b20e1add9f57ebb6",
       "version_major": 2,
       "version_minor": 0
      },
      "text/plain": [
       "  0%|          | 0/50 [00:00<?, ?it/s]"
      ]
     },
     "metadata": {},
     "output_type": "display_data"
    },
    {
     "data": {
      "application/vnd.jupyter.widget-view+json": {
       "model_id": "f112ce30a83c45bdab827ac47bbc3f1b",
       "version_major": 2,
       "version_minor": 0
      },
      "text/plain": [
       "  0%|          | 0/51 [00:00<?, ?it/s]"
      ]
     },
     "metadata": {},
     "output_type": "display_data"
    },
    {
     "data": {
      "application/vnd.jupyter.widget-view+json": {
       "model_id": "6badcd6c389a44eca980fe3012104cc5",
       "version_major": 2,
       "version_minor": 0
      },
      "text/plain": [
       "  0%|          | 0/52 [00:00<?, ?it/s]"
      ]
     },
     "metadata": {},
     "output_type": "display_data"
    },
    {
     "data": {
      "application/vnd.jupyter.widget-view+json": {
       "model_id": "f2121067df5d4971842d0d6fc34e1ba0",
       "version_major": 2,
       "version_minor": 0
      },
      "text/plain": [
       "  0%|          | 0/53 [00:00<?, ?it/s]"
      ]
     },
     "metadata": {},
     "output_type": "display_data"
    },
    {
     "data": {
      "application/vnd.jupyter.widget-view+json": {
       "model_id": "d17d464bf5fe423daf05b4b3b8d5abbe",
       "version_major": 2,
       "version_minor": 0
      },
      "text/plain": [
       "  0%|          | 0/54 [00:00<?, ?it/s]"
      ]
     },
     "metadata": {},
     "output_type": "display_data"
    },
    {
     "data": {
      "application/vnd.jupyter.widget-view+json": {
       "model_id": "c6c8d54138ae46308dd472a8c4f34234",
       "version_major": 2,
       "version_minor": 0
      },
      "text/plain": [
       "  0%|          | 0/55 [00:00<?, ?it/s]"
      ]
     },
     "metadata": {},
     "output_type": "display_data"
    },
    {
     "data": {
      "application/vnd.jupyter.widget-view+json": {
       "model_id": "a9e0fb7a965741dd90010379ee3b3307",
       "version_major": 2,
       "version_minor": 0
      },
      "text/plain": [
       "  0%|          | 0/56 [00:00<?, ?it/s]"
      ]
     },
     "metadata": {},
     "output_type": "display_data"
    },
    {
     "data": {
      "application/vnd.jupyter.widget-view+json": {
       "model_id": "478e40fcebcc4d0db477cd5fec7ab402",
       "version_major": 2,
       "version_minor": 0
      },
      "text/plain": [
       "  0%|          | 0/57 [00:00<?, ?it/s]"
      ]
     },
     "metadata": {},
     "output_type": "display_data"
    },
    {
     "data": {
      "application/vnd.jupyter.widget-view+json": {
       "model_id": "825dc3879bfa47588c8370b8daf95ba3",
       "version_major": 2,
       "version_minor": 0
      },
      "text/plain": [
       "  0%|          | 0/58 [00:00<?, ?it/s]"
      ]
     },
     "metadata": {},
     "output_type": "display_data"
    },
    {
     "data": {
      "application/vnd.jupyter.widget-view+json": {
       "model_id": "dca4646a1cb347beaf883c64a92cbeef",
       "version_major": 2,
       "version_minor": 0
      },
      "text/plain": [
       "  0%|          | 0/59 [00:00<?, ?it/s]"
      ]
     },
     "metadata": {},
     "output_type": "display_data"
    },
    {
     "data": {
      "application/vnd.jupyter.widget-view+json": {
       "model_id": "92016e4b8eda4d6d9280cca985c02646",
       "version_major": 2,
       "version_minor": 0
      },
      "text/plain": [
       "  0%|          | 0/60 [00:00<?, ?it/s]"
      ]
     },
     "metadata": {},
     "output_type": "display_data"
    },
    {
     "data": {
      "application/vnd.jupyter.widget-view+json": {
       "model_id": "02ebcb0a46f44df7a7ca8f164a2264ca",
       "version_major": 2,
       "version_minor": 0
      },
      "text/plain": [
       "  0%|          | 0/61 [00:00<?, ?it/s]"
      ]
     },
     "metadata": {},
     "output_type": "display_data"
    },
    {
     "data": {
      "application/vnd.jupyter.widget-view+json": {
       "model_id": "8cc7fc7d7c814db2a7794ebe877af007",
       "version_major": 2,
       "version_minor": 0
      },
      "text/plain": [
       "  0%|          | 0/62 [00:00<?, ?it/s]"
      ]
     },
     "metadata": {},
     "output_type": "display_data"
    },
    {
     "data": {
      "application/vnd.jupyter.widget-view+json": {
       "model_id": "d16955ece6ea4147a15887a43669f465",
       "version_major": 2,
       "version_minor": 0
      },
      "text/plain": [
       "  0%|          | 0/63 [00:00<?, ?it/s]"
      ]
     },
     "metadata": {},
     "output_type": "display_data"
    },
    {
     "data": {
      "application/vnd.jupyter.widget-view+json": {
       "model_id": "19d71a0df90c4addb390e4d61f0c41d1",
       "version_major": 2,
       "version_minor": 0
      },
      "text/plain": [
       "  0%|          | 0/64 [00:00<?, ?it/s]"
      ]
     },
     "metadata": {},
     "output_type": "display_data"
    },
    {
     "data": {
      "application/vnd.jupyter.widget-view+json": {
       "model_id": "68ac937cb16e4a49a096a33151eb2884",
       "version_major": 2,
       "version_minor": 0
      },
      "text/plain": [
       "  0%|          | 0/65 [00:00<?, ?it/s]"
      ]
     },
     "metadata": {},
     "output_type": "display_data"
    },
    {
     "data": {
      "application/vnd.jupyter.widget-view+json": {
       "model_id": "8224906bc5a14b0eb0a65e0cdb0a83e8",
       "version_major": 2,
       "version_minor": 0
      },
      "text/plain": [
       "  0%|          | 0/66 [00:00<?, ?it/s]"
      ]
     },
     "metadata": {},
     "output_type": "display_data"
    },
    {
     "data": {
      "application/vnd.jupyter.widget-view+json": {
       "model_id": "fb7bb6e353e041d98b73739646555785",
       "version_major": 2,
       "version_minor": 0
      },
      "text/plain": [
       "  0%|          | 0/67 [00:00<?, ?it/s]"
      ]
     },
     "metadata": {},
     "output_type": "display_data"
    },
    {
     "data": {
      "application/vnd.jupyter.widget-view+json": {
       "model_id": "1db2f040ee4941318174b31dbda2649a",
       "version_major": 2,
       "version_minor": 0
      },
      "text/plain": [
       "  0%|          | 0/68 [00:00<?, ?it/s]"
      ]
     },
     "metadata": {},
     "output_type": "display_data"
    },
    {
     "data": {
      "application/vnd.jupyter.widget-view+json": {
       "model_id": "b0bcc24c9ab2453496ae0316d44c645b",
       "version_major": 2,
       "version_minor": 0
      },
      "text/plain": [
       "  0%|          | 0/69 [00:00<?, ?it/s]"
      ]
     },
     "metadata": {},
     "output_type": "display_data"
    },
    {
     "data": {
      "application/vnd.jupyter.widget-view+json": {
       "model_id": "259d9713d1f04c4ba490766f9a1a28a2",
       "version_major": 2,
       "version_minor": 0
      },
      "text/plain": [
       "  0%|          | 0/70 [00:00<?, ?it/s]"
      ]
     },
     "metadata": {},
     "output_type": "display_data"
    },
    {
     "data": {
      "application/vnd.jupyter.widget-view+json": {
       "model_id": "50919abbaeb247d1afb9552133f4772c",
       "version_major": 2,
       "version_minor": 0
      },
      "text/plain": [
       "  0%|          | 0/71 [00:00<?, ?it/s]"
      ]
     },
     "metadata": {},
     "output_type": "display_data"
    },
    {
     "data": {
      "application/vnd.jupyter.widget-view+json": {
       "model_id": "09371ca3886a42da904e7e6c615bf170",
       "version_major": 2,
       "version_minor": 0
      },
      "text/plain": [
       "  0%|          | 0/72 [00:00<?, ?it/s]"
      ]
     },
     "metadata": {},
     "output_type": "display_data"
    },
    {
     "data": {
      "application/vnd.jupyter.widget-view+json": {
       "model_id": "41d5d9f0273f4e799f0f4289cc4f02e0",
       "version_major": 2,
       "version_minor": 0
      },
      "text/plain": [
       "  0%|          | 0/73 [00:00<?, ?it/s]"
      ]
     },
     "metadata": {},
     "output_type": "display_data"
    },
    {
     "data": {
      "application/vnd.jupyter.widget-view+json": {
       "model_id": "d3e2725352f040c4b6318b8fa4b6d02f",
       "version_major": 2,
       "version_minor": 0
      },
      "text/plain": [
       "  0%|          | 0/74 [00:00<?, ?it/s]"
      ]
     },
     "metadata": {},
     "output_type": "display_data"
    },
    {
     "data": {
      "application/vnd.jupyter.widget-view+json": {
       "model_id": "8f8befd450c9420297f2deb610033e10",
       "version_major": 2,
       "version_minor": 0
      },
      "text/plain": [
       "  0%|          | 0/75 [00:00<?, ?it/s]"
      ]
     },
     "metadata": {},
     "output_type": "display_data"
    },
    {
     "data": {
      "application/vnd.jupyter.widget-view+json": {
       "model_id": "4e66a20456c8447cb777f05e543aca32",
       "version_major": 2,
       "version_minor": 0
      },
      "text/plain": [
       "  0%|          | 0/76 [00:00<?, ?it/s]"
      ]
     },
     "metadata": {},
     "output_type": "display_data"
    },
    {
     "data": {
      "application/vnd.jupyter.widget-view+json": {
       "model_id": "253460eec5a9499ebea276cceba6c2bb",
       "version_major": 2,
       "version_minor": 0
      },
      "text/plain": [
       "  0%|          | 0/77 [00:00<?, ?it/s]"
      ]
     },
     "metadata": {},
     "output_type": "display_data"
    },
    {
     "data": {
      "application/vnd.jupyter.widget-view+json": {
       "model_id": "1ca4f245f5f7493d9125477643069ef5",
       "version_major": 2,
       "version_minor": 0
      },
      "text/plain": [
       "  0%|          | 0/78 [00:00<?, ?it/s]"
      ]
     },
     "metadata": {},
     "output_type": "display_data"
    },
    {
     "data": {
      "application/vnd.jupyter.widget-view+json": {
       "model_id": "c7e8418ffeb8432b891919d8b2153218",
       "version_major": 2,
       "version_minor": 0
      },
      "text/plain": [
       "  0%|          | 0/79 [00:00<?, ?it/s]"
      ]
     },
     "metadata": {},
     "output_type": "display_data"
    },
    {
     "data": {
      "application/vnd.jupyter.widget-view+json": {
       "model_id": "69d9216695e54ed596a3ba71753abef9",
       "version_major": 2,
       "version_minor": 0
      },
      "text/plain": [
       "  0%|          | 0/80 [00:00<?, ?it/s]"
      ]
     },
     "metadata": {},
     "output_type": "display_data"
    },
    {
     "data": {
      "application/vnd.jupyter.widget-view+json": {
       "model_id": "3ee8bc2a654b489b9eacb7cdd519cf82",
       "version_major": 2,
       "version_minor": 0
      },
      "text/plain": [
       "  0%|          | 0/81 [00:00<?, ?it/s]"
      ]
     },
     "metadata": {},
     "output_type": "display_data"
    },
    {
     "data": {
      "application/vnd.jupyter.widget-view+json": {
       "model_id": "cb4ea620090243db9251ba5dbc1358d6",
       "version_major": 2,
       "version_minor": 0
      },
      "text/plain": [
       "  0%|          | 0/82 [00:00<?, ?it/s]"
      ]
     },
     "metadata": {},
     "output_type": "display_data"
    },
    {
     "data": {
      "application/vnd.jupyter.widget-view+json": {
       "model_id": "5c53b4d184264229949668b8904df6e8",
       "version_major": 2,
       "version_minor": 0
      },
      "text/plain": [
       "  0%|          | 0/83 [00:00<?, ?it/s]"
      ]
     },
     "metadata": {},
     "output_type": "display_data"
    },
    {
     "data": {
      "application/vnd.jupyter.widget-view+json": {
       "model_id": "bd0fb1f48fe94da99dc2ad033bf1724f",
       "version_major": 2,
       "version_minor": 0
      },
      "text/plain": [
       "  0%|          | 0/84 [00:00<?, ?it/s]"
      ]
     },
     "metadata": {},
     "output_type": "display_data"
    },
    {
     "data": {
      "application/vnd.jupyter.widget-view+json": {
       "model_id": "33cc881007514198ada47ee2490049b6",
       "version_major": 2,
       "version_minor": 0
      },
      "text/plain": [
       "  0%|          | 0/85 [00:00<?, ?it/s]"
      ]
     },
     "metadata": {},
     "output_type": "display_data"
    },
    {
     "data": {
      "application/vnd.jupyter.widget-view+json": {
       "model_id": "5162fc8515c64cab9eb8f47171e7ce22",
       "version_major": 2,
       "version_minor": 0
      },
      "text/plain": [
       "  0%|          | 0/86 [00:00<?, ?it/s]"
      ]
     },
     "metadata": {},
     "output_type": "display_data"
    },
    {
     "data": {
      "application/vnd.jupyter.widget-view+json": {
       "model_id": "20892fc00426450e835a15f98493d7b2",
       "version_major": 2,
       "version_minor": 0
      },
      "text/plain": [
       "  0%|          | 0/87 [00:00<?, ?it/s]"
      ]
     },
     "metadata": {},
     "output_type": "display_data"
    },
    {
     "data": {
      "application/vnd.jupyter.widget-view+json": {
       "model_id": "478b10bb15994ccabda93a208edcf4d6",
       "version_major": 2,
       "version_minor": 0
      },
      "text/plain": [
       "  0%|          | 0/88 [00:00<?, ?it/s]"
      ]
     },
     "metadata": {},
     "output_type": "display_data"
    },
    {
     "data": {
      "application/vnd.jupyter.widget-view+json": {
       "model_id": "a348daba35024a098b02929e7fd3fc03",
       "version_major": 2,
       "version_minor": 0
      },
      "text/plain": [
       "  0%|          | 0/89 [00:00<?, ?it/s]"
      ]
     },
     "metadata": {},
     "output_type": "display_data"
    },
    {
     "data": {
      "application/vnd.jupyter.widget-view+json": {
       "model_id": "33f473b612df467cb4543514caee5426",
       "version_major": 2,
       "version_minor": 0
      },
      "text/plain": [
       "  0%|          | 0/90 [00:00<?, ?it/s]"
      ]
     },
     "metadata": {},
     "output_type": "display_data"
    },
    {
     "data": {
      "application/vnd.jupyter.widget-view+json": {
       "model_id": "b250a99a55284ef9a56b87bca40df35e",
       "version_major": 2,
       "version_minor": 0
      },
      "text/plain": [
       "  0%|          | 0/91 [00:00<?, ?it/s]"
      ]
     },
     "metadata": {},
     "output_type": "display_data"
    },
    {
     "data": {
      "application/vnd.jupyter.widget-view+json": {
       "model_id": "90114e11538747bb9368797abcef9441",
       "version_major": 2,
       "version_minor": 0
      },
      "text/plain": [
       "  0%|          | 0/92 [00:00<?, ?it/s]"
      ]
     },
     "metadata": {},
     "output_type": "display_data"
    },
    {
     "data": {
      "application/vnd.jupyter.widget-view+json": {
       "model_id": "7489c4e3f43e413d8447c9dc35913c0e",
       "version_major": 2,
       "version_minor": 0
      },
      "text/plain": [
       "  0%|          | 0/93 [00:00<?, ?it/s]"
      ]
     },
     "metadata": {},
     "output_type": "display_data"
    },
    {
     "data": {
      "application/vnd.jupyter.widget-view+json": {
       "model_id": "b0ab213bddbb40f4a146e9b3513ae1ff",
       "version_major": 2,
       "version_minor": 0
      },
      "text/plain": [
       "  0%|          | 0/94 [00:00<?, ?it/s]"
      ]
     },
     "metadata": {},
     "output_type": "display_data"
    },
    {
     "data": {
      "application/vnd.jupyter.widget-view+json": {
       "model_id": "a12cad473e5e41368240462bb48f1c32",
       "version_major": 2,
       "version_minor": 0
      },
      "text/plain": [
       "  0%|          | 0/95 [00:00<?, ?it/s]"
      ]
     },
     "metadata": {},
     "output_type": "display_data"
    },
    {
     "data": {
      "application/vnd.jupyter.widget-view+json": {
       "model_id": "908457d3467c418184c5b793413683b3",
       "version_major": 2,
       "version_minor": 0
      },
      "text/plain": [
       "  0%|          | 0/96 [00:00<?, ?it/s]"
      ]
     },
     "metadata": {},
     "output_type": "display_data"
    },
    {
     "data": {
      "application/vnd.jupyter.widget-view+json": {
       "model_id": "d017de31411d4a7c91543af0911e5ba5",
       "version_major": 2,
       "version_minor": 0
      },
      "text/plain": [
       "  0%|          | 0/97 [00:00<?, ?it/s]"
      ]
     },
     "metadata": {},
     "output_type": "display_data"
    },
    {
     "data": {
      "application/vnd.jupyter.widget-view+json": {
       "model_id": "13d89f0af2504023bd372b2fcf0b989a",
       "version_major": 2,
       "version_minor": 0
      },
      "text/plain": [
       "  0%|          | 0/98 [00:00<?, ?it/s]"
      ]
     },
     "metadata": {},
     "output_type": "display_data"
    },
    {
     "data": {
      "application/vnd.jupyter.widget-view+json": {
       "model_id": "9f30653f9ccf459eb5ae617ba50f3160",
       "version_major": 2,
       "version_minor": 0
      },
      "text/plain": [
       "  0%|          | 0/99 [00:00<?, ?it/s]"
      ]
     },
     "metadata": {},
     "output_type": "display_data"
    },
    {
     "data": {
      "application/vnd.jupyter.widget-view+json": {
       "model_id": "1eef6f52828f4f4f9b2d9079e1e5939b",
       "version_major": 2,
       "version_minor": 0
      },
      "text/plain": [
       "  0%|          | 0/100 [00:00<?, ?it/s]"
      ]
     },
     "metadata": {},
     "output_type": "display_data"
    },
    {
     "data": {
      "application/vnd.jupyter.widget-view+json": {
       "model_id": "10849f2eba964d638552c78689dd562b",
       "version_major": 2,
       "version_minor": 0
      },
      "text/plain": [
       "  0%|          | 0/101 [00:00<?, ?it/s]"
      ]
     },
     "metadata": {},
     "output_type": "display_data"
    },
    {
     "data": {
      "application/vnd.jupyter.widget-view+json": {
       "model_id": "52328a4e73c44a64bf40afd7bd469a76",
       "version_major": 2,
       "version_minor": 0
      },
      "text/plain": [
       "  0%|          | 0/102 [00:00<?, ?it/s]"
      ]
     },
     "metadata": {},
     "output_type": "display_data"
    },
    {
     "data": {
      "application/vnd.jupyter.widget-view+json": {
       "model_id": "d546e8c7bec049688f8289bff9d16606",
       "version_major": 2,
       "version_minor": 0
      },
      "text/plain": [
       "  0%|          | 0/103 [00:00<?, ?it/s]"
      ]
     },
     "metadata": {},
     "output_type": "display_data"
    },
    {
     "data": {
      "application/vnd.jupyter.widget-view+json": {
       "model_id": "de430a48519f4efca9d7acdad8c9dec1",
       "version_major": 2,
       "version_minor": 0
      },
      "text/plain": [
       "  0%|          | 0/104 [00:00<?, ?it/s]"
      ]
     },
     "metadata": {},
     "output_type": "display_data"
    },
    {
     "data": {
      "application/vnd.jupyter.widget-view+json": {
       "model_id": "ab9292feae114a5ab5a6cc5b6b102230",
       "version_major": 2,
       "version_minor": 0
      },
      "text/plain": [
       "  0%|          | 0/105 [00:00<?, ?it/s]"
      ]
     },
     "metadata": {},
     "output_type": "display_data"
    },
    {
     "data": {
      "application/vnd.jupyter.widget-view+json": {
       "model_id": "2fcbfc84e5104c4fa2fe0b8536e2bb2f",
       "version_major": 2,
       "version_minor": 0
      },
      "text/plain": [
       "  0%|          | 0/106 [00:00<?, ?it/s]"
      ]
     },
     "metadata": {},
     "output_type": "display_data"
    },
    {
     "data": {
      "application/vnd.jupyter.widget-view+json": {
       "model_id": "cd93a789a2ff4093b14306c0343390f0",
       "version_major": 2,
       "version_minor": 0
      },
      "text/plain": [
       "  0%|          | 0/107 [00:00<?, ?it/s]"
      ]
     },
     "metadata": {},
     "output_type": "display_data"
    },
    {
     "data": {
      "application/vnd.jupyter.widget-view+json": {
       "model_id": "6ee7f88faea34d2ca95778438afb5eaf",
       "version_major": 2,
       "version_minor": 0
      },
      "text/plain": [
       "  0%|          | 0/108 [00:00<?, ?it/s]"
      ]
     },
     "metadata": {},
     "output_type": "display_data"
    },
    {
     "data": {
      "application/vnd.jupyter.widget-view+json": {
       "model_id": "d7f0f2d8110d4288b3d702b13ef1ecb3",
       "version_major": 2,
       "version_minor": 0
      },
      "text/plain": [
       "  0%|          | 0/109 [00:00<?, ?it/s]"
      ]
     },
     "metadata": {},
     "output_type": "display_data"
    },
    {
     "data": {
      "application/vnd.jupyter.widget-view+json": {
       "model_id": "4b6f29ca76e64df680e047f24b3adf85",
       "version_major": 2,
       "version_minor": 0
      },
      "text/plain": [
       "  0%|          | 0/110 [00:00<?, ?it/s]"
      ]
     },
     "metadata": {},
     "output_type": "display_data"
    },
    {
     "data": {
      "application/vnd.jupyter.widget-view+json": {
       "model_id": "bf4778b144e84cfd8feb934c1ef9be55",
       "version_major": 2,
       "version_minor": 0
      },
      "text/plain": [
       "  0%|          | 0/111 [00:00<?, ?it/s]"
      ]
     },
     "metadata": {},
     "output_type": "display_data"
    },
    {
     "data": {
      "application/vnd.jupyter.widget-view+json": {
       "model_id": "147e282e98ed4ba1a316306b96557949",
       "version_major": 2,
       "version_minor": 0
      },
      "text/plain": [
       "  0%|          | 0/112 [00:00<?, ?it/s]"
      ]
     },
     "metadata": {},
     "output_type": "display_data"
    },
    {
     "data": {
      "application/vnd.jupyter.widget-view+json": {
       "model_id": "b75981c04e964fb4a9e61f8bf02c195a",
       "version_major": 2,
       "version_minor": 0
      },
      "text/plain": [
       "  0%|          | 0/113 [00:00<?, ?it/s]"
      ]
     },
     "metadata": {},
     "output_type": "display_data"
    },
    {
     "data": {
      "application/vnd.jupyter.widget-view+json": {
       "model_id": "a373576cc56d43049053168b9300cc53",
       "version_major": 2,
       "version_minor": 0
      },
      "text/plain": [
       "  0%|          | 0/114 [00:00<?, ?it/s]"
      ]
     },
     "metadata": {},
     "output_type": "display_data"
    },
    {
     "data": {
      "application/vnd.jupyter.widget-view+json": {
       "model_id": "82c1665906da41f6bf6eb6412c06ecb4",
       "version_major": 2,
       "version_minor": 0
      },
      "text/plain": [
       "  0%|          | 0/115 [00:00<?, ?it/s]"
      ]
     },
     "metadata": {},
     "output_type": "display_data"
    },
    {
     "data": {
      "application/vnd.jupyter.widget-view+json": {
       "model_id": "9c6ff375f296473b87accabb788bab59",
       "version_major": 2,
       "version_minor": 0
      },
      "text/plain": [
       "  0%|          | 0/116 [00:00<?, ?it/s]"
      ]
     },
     "metadata": {},
     "output_type": "display_data"
    },
    {
     "data": {
      "application/vnd.jupyter.widget-view+json": {
       "model_id": "a240a54848bd45ccaa11942861c8e7a8",
       "version_major": 2,
       "version_minor": 0
      },
      "text/plain": [
       "  0%|          | 0/117 [00:00<?, ?it/s]"
      ]
     },
     "metadata": {},
     "output_type": "display_data"
    },
    {
     "data": {
      "application/vnd.jupyter.widget-view+json": {
       "model_id": "b0114855709d4460a57fc25a5e1e1cd2",
       "version_major": 2,
       "version_minor": 0
      },
      "text/plain": [
       "  0%|          | 0/118 [00:00<?, ?it/s]"
      ]
     },
     "metadata": {},
     "output_type": "display_data"
    },
    {
     "data": {
      "application/vnd.jupyter.widget-view+json": {
       "model_id": "f9a5f59e31e04aa495f480a1c2d5568c",
       "version_major": 2,
       "version_minor": 0
      },
      "text/plain": [
       "  0%|          | 0/119 [00:00<?, ?it/s]"
      ]
     },
     "metadata": {},
     "output_type": "display_data"
    },
    {
     "data": {
      "application/vnd.jupyter.widget-view+json": {
       "model_id": "94cd1705eb22477e841a86231f67d110",
       "version_major": 2,
       "version_minor": 0
      },
      "text/plain": [
       "  0%|          | 0/120 [00:00<?, ?it/s]"
      ]
     },
     "metadata": {},
     "output_type": "display_data"
    },
    {
     "data": {
      "application/vnd.jupyter.widget-view+json": {
       "model_id": "49ff8dd65eb641c5bb7cc9a4705029c9",
       "version_major": 2,
       "version_minor": 0
      },
      "text/plain": [
       "  0%|          | 0/121 [00:00<?, ?it/s]"
      ]
     },
     "metadata": {},
     "output_type": "display_data"
    },
    {
     "data": {
      "application/vnd.jupyter.widget-view+json": {
       "model_id": "75be482b61f447dab94c7ce1d39e66b6",
       "version_major": 2,
       "version_minor": 0
      },
      "text/plain": [
       "  0%|          | 0/122 [00:00<?, ?it/s]"
      ]
     },
     "metadata": {},
     "output_type": "display_data"
    },
    {
     "data": {
      "application/vnd.jupyter.widget-view+json": {
       "model_id": "652ce72ea17e47318f3dc863629d8046",
       "version_major": 2,
       "version_minor": 0
      },
      "text/plain": [
       "  0%|          | 0/123 [00:00<?, ?it/s]"
      ]
     },
     "metadata": {},
     "output_type": "display_data"
    },
    {
     "data": {
      "application/vnd.jupyter.widget-view+json": {
       "model_id": "b08c16dceb0644eb91a2be724763f27d",
       "version_major": 2,
       "version_minor": 0
      },
      "text/plain": [
       "  0%|          | 0/124 [00:00<?, ?it/s]"
      ]
     },
     "metadata": {},
     "output_type": "display_data"
    },
    {
     "data": {
      "application/vnd.jupyter.widget-view+json": {
       "model_id": "e8fa7f64174542eeaeffbc02c6237e1a",
       "version_major": 2,
       "version_minor": 0
      },
      "text/plain": [
       "  0%|          | 0/125 [00:00<?, ?it/s]"
      ]
     },
     "metadata": {},
     "output_type": "display_data"
    },
    {
     "data": {
      "application/vnd.jupyter.widget-view+json": {
       "model_id": "305021d0feec42b9833222a4b193ea8d",
       "version_major": 2,
       "version_minor": 0
      },
      "text/plain": [
       "  0%|          | 0/126 [00:00<?, ?it/s]"
      ]
     },
     "metadata": {},
     "output_type": "display_data"
    },
    {
     "data": {
      "application/vnd.jupyter.widget-view+json": {
       "model_id": "b5c8c2638d594f41ad74e6f18502d052",
       "version_major": 2,
       "version_minor": 0
      },
      "text/plain": [
       "  0%|          | 0/127 [00:00<?, ?it/s]"
      ]
     },
     "metadata": {},
     "output_type": "display_data"
    },
    {
     "data": {
      "application/vnd.jupyter.widget-view+json": {
       "model_id": "d0eab87b70ef433f8e7ff0e71d40cabd",
       "version_major": 2,
       "version_minor": 0
      },
      "text/plain": [
       "  0%|          | 0/128 [00:00<?, ?it/s]"
      ]
     },
     "metadata": {},
     "output_type": "display_data"
    },
    {
     "data": {
      "application/vnd.jupyter.widget-view+json": {
       "model_id": "c4cbb67fb59f440e90ec452acb6308f3",
       "version_major": 2,
       "version_minor": 0
      },
      "text/plain": [
       "  0%|          | 0/129 [00:00<?, ?it/s]"
      ]
     },
     "metadata": {},
     "output_type": "display_data"
    },
    {
     "data": {
      "application/vnd.jupyter.widget-view+json": {
       "model_id": "d375d4c603a849cfa7990e051a355106",
       "version_major": 2,
       "version_minor": 0
      },
      "text/plain": [
       "  0%|          | 0/130 [00:00<?, ?it/s]"
      ]
     },
     "metadata": {},
     "output_type": "display_data"
    },
    {
     "data": {
      "application/vnd.jupyter.widget-view+json": {
       "model_id": "35f9754129124be1979d6ce6f25cad45",
       "version_major": 2,
       "version_minor": 0
      },
      "text/plain": [
       "  0%|          | 0/131 [00:00<?, ?it/s]"
      ]
     },
     "metadata": {},
     "output_type": "display_data"
    },
    {
     "data": {
      "application/vnd.jupyter.widget-view+json": {
       "model_id": "fd5e6c98518546a5bcb9f2b7dac229bf",
       "version_major": 2,
       "version_minor": 0
      },
      "text/plain": [
       "  0%|          | 0/132 [00:00<?, ?it/s]"
      ]
     },
     "metadata": {},
     "output_type": "display_data"
    },
    {
     "data": {
      "application/vnd.jupyter.widget-view+json": {
       "model_id": "9fab436d5af94302810edb6b62fa88ff",
       "version_major": 2,
       "version_minor": 0
      },
      "text/plain": [
       "  0%|          | 0/133 [00:00<?, ?it/s]"
      ]
     },
     "metadata": {},
     "output_type": "display_data"
    },
    {
     "data": {
      "application/vnd.jupyter.widget-view+json": {
       "model_id": "c910b68cb56b492aaf0e6274a6a43569",
       "version_major": 2,
       "version_minor": 0
      },
      "text/plain": [
       "  0%|          | 0/134 [00:00<?, ?it/s]"
      ]
     },
     "metadata": {},
     "output_type": "display_data"
    },
    {
     "data": {
      "application/vnd.jupyter.widget-view+json": {
       "model_id": "b2b91e8231f84a5ba054e4ea7a8908b0",
       "version_major": 2,
       "version_minor": 0
      },
      "text/plain": [
       "  0%|          | 0/135 [00:00<?, ?it/s]"
      ]
     },
     "metadata": {},
     "output_type": "display_data"
    },
    {
     "data": {
      "application/vnd.jupyter.widget-view+json": {
       "model_id": "26847486d52f403fabd532bc113384ba",
       "version_major": 2,
       "version_minor": 0
      },
      "text/plain": [
       "  0%|          | 0/136 [00:00<?, ?it/s]"
      ]
     },
     "metadata": {},
     "output_type": "display_data"
    },
    {
     "data": {
      "application/vnd.jupyter.widget-view+json": {
       "model_id": "96373e67222e4be690390b04f9e06101",
       "version_major": 2,
       "version_minor": 0
      },
      "text/plain": [
       "  0%|          | 0/137 [00:00<?, ?it/s]"
      ]
     },
     "metadata": {},
     "output_type": "display_data"
    },
    {
     "data": {
      "application/vnd.jupyter.widget-view+json": {
       "model_id": "5d75087ed4a845938c01c716718365f7",
       "version_major": 2,
       "version_minor": 0
      },
      "text/plain": [
       "  0%|          | 0/138 [00:00<?, ?it/s]"
      ]
     },
     "metadata": {},
     "output_type": "display_data"
    },
    {
     "data": {
      "application/vnd.jupyter.widget-view+json": {
       "model_id": "8d73dc85671d490190402fcc34a4859e",
       "version_major": 2,
       "version_minor": 0
      },
      "text/plain": [
       "  0%|          | 0/139 [00:00<?, ?it/s]"
      ]
     },
     "metadata": {},
     "output_type": "display_data"
    },
    {
     "data": {
      "application/vnd.jupyter.widget-view+json": {
       "model_id": "ed9605aeb5d348ae9d8779411ccbf905",
       "version_major": 2,
       "version_minor": 0
      },
      "text/plain": [
       "  0%|          | 0/140 [00:00<?, ?it/s]"
      ]
     },
     "metadata": {},
     "output_type": "display_data"
    },
    {
     "data": {
      "application/vnd.jupyter.widget-view+json": {
       "model_id": "cee438136fbf4785a9a21528c31a9981",
       "version_major": 2,
       "version_minor": 0
      },
      "text/plain": [
       "  0%|          | 0/141 [00:00<?, ?it/s]"
      ]
     },
     "metadata": {},
     "output_type": "display_data"
    },
    {
     "data": {
      "application/vnd.jupyter.widget-view+json": {
       "model_id": "42b1c451e81c4ad4b61a39f97722ce1c",
       "version_major": 2,
       "version_minor": 0
      },
      "text/plain": [
       "  0%|          | 0/142 [00:00<?, ?it/s]"
      ]
     },
     "metadata": {},
     "output_type": "display_data"
    },
    {
     "data": {
      "application/vnd.jupyter.widget-view+json": {
       "model_id": "361ea5e8cdbc429ab5083730f48de243",
       "version_major": 2,
       "version_minor": 0
      },
      "text/plain": [
       "  0%|          | 0/143 [00:00<?, ?it/s]"
      ]
     },
     "metadata": {},
     "output_type": "display_data"
    },
    {
     "data": {
      "application/vnd.jupyter.widget-view+json": {
       "model_id": "a6dd0900a3fd4753a87289df0a481f29",
       "version_major": 2,
       "version_minor": 0
      },
      "text/plain": [
       "  0%|          | 0/144 [00:00<?, ?it/s]"
      ]
     },
     "metadata": {},
     "output_type": "display_data"
    },
    {
     "data": {
      "application/vnd.jupyter.widget-view+json": {
       "model_id": "2f13933c5c984e81b15eeb31516658ca",
       "version_major": 2,
       "version_minor": 0
      },
      "text/plain": [
       "  0%|          | 0/145 [00:00<?, ?it/s]"
      ]
     },
     "metadata": {},
     "output_type": "display_data"
    },
    {
     "data": {
      "application/vnd.jupyter.widget-view+json": {
       "model_id": "eb069e516e89428f85003f624fb91161",
       "version_major": 2,
       "version_minor": 0
      },
      "text/plain": [
       "  0%|          | 0/146 [00:00<?, ?it/s]"
      ]
     },
     "metadata": {},
     "output_type": "display_data"
    },
    {
     "data": {
      "application/vnd.jupyter.widget-view+json": {
       "model_id": "6fa78af7e9be4f6580eacd1b0716c7af",
       "version_major": 2,
       "version_minor": 0
      },
      "text/plain": [
       "  0%|          | 0/147 [00:00<?, ?it/s]"
      ]
     },
     "metadata": {},
     "output_type": "display_data"
    },
    {
     "data": {
      "application/vnd.jupyter.widget-view+json": {
       "model_id": "a3152b9e737f45a384c2147d37ea833e",
       "version_major": 2,
       "version_minor": 0
      },
      "text/plain": [
       "  0%|          | 0/148 [00:00<?, ?it/s]"
      ]
     },
     "metadata": {},
     "output_type": "display_data"
    },
    {
     "data": {
      "application/vnd.jupyter.widget-view+json": {
       "model_id": "121dc2768c70422dbce76fbd2d634f55",
       "version_major": 2,
       "version_minor": 0
      },
      "text/plain": [
       "  0%|          | 0/149 [00:00<?, ?it/s]"
      ]
     },
     "metadata": {},
     "output_type": "display_data"
    },
    {
     "data": {
      "application/vnd.jupyter.widget-view+json": {
       "model_id": "37143de359d84da1b92ef8db23958225",
       "version_major": 2,
       "version_minor": 0
      },
      "text/plain": [
       "  0%|          | 0/150 [00:00<?, ?it/s]"
      ]
     },
     "metadata": {},
     "output_type": "display_data"
    },
    {
     "data": {
      "application/vnd.jupyter.widget-view+json": {
       "model_id": "2b8c2bd6f1d44a9f83a832a17003b9a8",
       "version_major": 2,
       "version_minor": 0
      },
      "text/plain": [
       "  0%|          | 0/151 [00:00<?, ?it/s]"
      ]
     },
     "metadata": {},
     "output_type": "display_data"
    },
    {
     "data": {
      "application/vnd.jupyter.widget-view+json": {
       "model_id": "f6ca7a53681d40dca2065892dc35e38c",
       "version_major": 2,
       "version_minor": 0
      },
      "text/plain": [
       "  0%|          | 0/152 [00:00<?, ?it/s]"
      ]
     },
     "metadata": {},
     "output_type": "display_data"
    },
    {
     "data": {
      "application/vnd.jupyter.widget-view+json": {
       "model_id": "5e370ca443234947a15e4891a9e9a7e8",
       "version_major": 2,
       "version_minor": 0
      },
      "text/plain": [
       "  0%|          | 0/153 [00:00<?, ?it/s]"
      ]
     },
     "metadata": {},
     "output_type": "display_data"
    },
    {
     "data": {
      "application/vnd.jupyter.widget-view+json": {
       "model_id": "e4f6e764e886446c84ca6132427fcff4",
       "version_major": 2,
       "version_minor": 0
      },
      "text/plain": [
       "  0%|          | 0/154 [00:00<?, ?it/s]"
      ]
     },
     "metadata": {},
     "output_type": "display_data"
    },
    {
     "data": {
      "application/vnd.jupyter.widget-view+json": {
       "model_id": "57d3bfdd5481412f8492abf7800d802b",
       "version_major": 2,
       "version_minor": 0
      },
      "text/plain": [
       "  0%|          | 0/155 [00:00<?, ?it/s]"
      ]
     },
     "metadata": {},
     "output_type": "display_data"
    },
    {
     "data": {
      "application/vnd.jupyter.widget-view+json": {
       "model_id": "68cbfc40edb348e3971de041e772c919",
       "version_major": 2,
       "version_minor": 0
      },
      "text/plain": [
       "  0%|          | 0/156 [00:00<?, ?it/s]"
      ]
     },
     "metadata": {},
     "output_type": "display_data"
    },
    {
     "data": {
      "application/vnd.jupyter.widget-view+json": {
       "model_id": "8bd362ac1492408e8fe5317b366a2a6c",
       "version_major": 2,
       "version_minor": 0
      },
      "text/plain": [
       "  0%|          | 0/157 [00:00<?, ?it/s]"
      ]
     },
     "metadata": {},
     "output_type": "display_data"
    },
    {
     "data": {
      "application/vnd.jupyter.widget-view+json": {
       "model_id": "c051b07a2b6044f2addc1812997d4d2f",
       "version_major": 2,
       "version_minor": 0
      },
      "text/plain": [
       "  0%|          | 0/158 [00:00<?, ?it/s]"
      ]
     },
     "metadata": {},
     "output_type": "display_data"
    },
    {
     "data": {
      "application/vnd.jupyter.widget-view+json": {
       "model_id": "ffcb4446d1ce4f32b80e3f36d30e6db1",
       "version_major": 2,
       "version_minor": 0
      },
      "text/plain": [
       "  0%|          | 0/159 [00:00<?, ?it/s]"
      ]
     },
     "metadata": {},
     "output_type": "display_data"
    },
    {
     "data": {
      "application/vnd.jupyter.widget-view+json": {
       "model_id": "72832d8fb94f446eb62d2675b1e73c5b",
       "version_major": 2,
       "version_minor": 0
      },
      "text/plain": [
       "  0%|          | 0/160 [00:00<?, ?it/s]"
      ]
     },
     "metadata": {},
     "output_type": "display_data"
    },
    {
     "data": {
      "application/vnd.jupyter.widget-view+json": {
       "model_id": "0f403264257a40deb87170d71f6b1288",
       "version_major": 2,
       "version_minor": 0
      },
      "text/plain": [
       "  0%|          | 0/161 [00:00<?, ?it/s]"
      ]
     },
     "metadata": {},
     "output_type": "display_data"
    },
    {
     "data": {
      "application/vnd.jupyter.widget-view+json": {
       "model_id": "13f6f31264d04d7191abc7f996a9f80d",
       "version_major": 2,
       "version_minor": 0
      },
      "text/plain": [
       "  0%|          | 0/162 [00:00<?, ?it/s]"
      ]
     },
     "metadata": {},
     "output_type": "display_data"
    },
    {
     "data": {
      "application/vnd.jupyter.widget-view+json": {
       "model_id": "2b98b57fd88846e2b1dfb63c50a48531",
       "version_major": 2,
       "version_minor": 0
      },
      "text/plain": [
       "  0%|          | 0/163 [00:00<?, ?it/s]"
      ]
     },
     "metadata": {},
     "output_type": "display_data"
    },
    {
     "data": {
      "application/vnd.jupyter.widget-view+json": {
       "model_id": "e6cefeb16ab84328909994902a75d821",
       "version_major": 2,
       "version_minor": 0
      },
      "text/plain": [
       "  0%|          | 0/164 [00:00<?, ?it/s]"
      ]
     },
     "metadata": {},
     "output_type": "display_data"
    },
    {
     "data": {
      "application/vnd.jupyter.widget-view+json": {
       "model_id": "3549abd011d243858cf80925515b7c2a",
       "version_major": 2,
       "version_minor": 0
      },
      "text/plain": [
       "  0%|          | 0/165 [00:00<?, ?it/s]"
      ]
     },
     "metadata": {},
     "output_type": "display_data"
    },
    {
     "data": {
      "application/vnd.jupyter.widget-view+json": {
       "model_id": "1916ef2bc6a44915b8f73f84675461a8",
       "version_major": 2,
       "version_minor": 0
      },
      "text/plain": [
       "  0%|          | 0/166 [00:00<?, ?it/s]"
      ]
     },
     "metadata": {},
     "output_type": "display_data"
    },
    {
     "data": {
      "application/vnd.jupyter.widget-view+json": {
       "model_id": "4611b4de84d141ee8a74e8cc6d13f3b6",
       "version_major": 2,
       "version_minor": 0
      },
      "text/plain": [
       "  0%|          | 0/167 [00:00<?, ?it/s]"
      ]
     },
     "metadata": {},
     "output_type": "display_data"
    },
    {
     "data": {
      "application/vnd.jupyter.widget-view+json": {
       "model_id": "1bc26a1ff7244b119687ad0d2210f2f8",
       "version_major": 2,
       "version_minor": 0
      },
      "text/plain": [
       "  0%|          | 0/168 [00:00<?, ?it/s]"
      ]
     },
     "metadata": {},
     "output_type": "display_data"
    },
    {
     "data": {
      "application/vnd.jupyter.widget-view+json": {
       "model_id": "678f1fc8eb734d84921ad62c6e747ab7",
       "version_major": 2,
       "version_minor": 0
      },
      "text/plain": [
       "  0%|          | 0/169 [00:00<?, ?it/s]"
      ]
     },
     "metadata": {},
     "output_type": "display_data"
    },
    {
     "data": {
      "application/vnd.jupyter.widget-view+json": {
       "model_id": "5bdfd996219e48bfb4462494df829f2c",
       "version_major": 2,
       "version_minor": 0
      },
      "text/plain": [
       "  0%|          | 0/170 [00:00<?, ?it/s]"
      ]
     },
     "metadata": {},
     "output_type": "display_data"
    },
    {
     "data": {
      "application/vnd.jupyter.widget-view+json": {
       "model_id": "4cd672252b9845a88fb60e8da2d3a428",
       "version_major": 2,
       "version_minor": 0
      },
      "text/plain": [
       "  0%|          | 0/171 [00:00<?, ?it/s]"
      ]
     },
     "metadata": {},
     "output_type": "display_data"
    },
    {
     "data": {
      "application/vnd.jupyter.widget-view+json": {
       "model_id": "5b9455f417934fc39bdc74d615ad3a13",
       "version_major": 2,
       "version_minor": 0
      },
      "text/plain": [
       "  0%|          | 0/172 [00:00<?, ?it/s]"
      ]
     },
     "metadata": {},
     "output_type": "display_data"
    },
    {
     "data": {
      "application/vnd.jupyter.widget-view+json": {
       "model_id": "766323aa86904515a599c3f115ce2d91",
       "version_major": 2,
       "version_minor": 0
      },
      "text/plain": [
       "  0%|          | 0/173 [00:00<?, ?it/s]"
      ]
     },
     "metadata": {},
     "output_type": "display_data"
    },
    {
     "data": {
      "application/vnd.jupyter.widget-view+json": {
       "model_id": "ddce0139edbf4087b5542ff0d787bfb6",
       "version_major": 2,
       "version_minor": 0
      },
      "text/plain": [
       "  0%|          | 0/174 [00:00<?, ?it/s]"
      ]
     },
     "metadata": {},
     "output_type": "display_data"
    },
    {
     "data": {
      "application/vnd.jupyter.widget-view+json": {
       "model_id": "300131b11c6646058c6816a0f50fbbbe",
       "version_major": 2,
       "version_minor": 0
      },
      "text/plain": [
       "  0%|          | 0/175 [00:00<?, ?it/s]"
      ]
     },
     "metadata": {},
     "output_type": "display_data"
    },
    {
     "data": {
      "application/vnd.jupyter.widget-view+json": {
       "model_id": "713fb2bf6d434979b98fc5c4cf7c2ca5",
       "version_major": 2,
       "version_minor": 0
      },
      "text/plain": [
       "  0%|          | 0/176 [00:00<?, ?it/s]"
      ]
     },
     "metadata": {},
     "output_type": "display_data"
    },
    {
     "data": {
      "application/vnd.jupyter.widget-view+json": {
       "model_id": "6a79cca3f2284777ba2a107c1bdd3614",
       "version_major": 2,
       "version_minor": 0
      },
      "text/plain": [
       "  0%|          | 0/177 [00:00<?, ?it/s]"
      ]
     },
     "metadata": {},
     "output_type": "display_data"
    },
    {
     "data": {
      "application/vnd.jupyter.widget-view+json": {
       "model_id": "9a32fde5d03f404cbd94e3b9b67c8be1",
       "version_major": 2,
       "version_minor": 0
      },
      "text/plain": [
       "  0%|          | 0/178 [00:00<?, ?it/s]"
      ]
     },
     "metadata": {},
     "output_type": "display_data"
    },
    {
     "data": {
      "application/vnd.jupyter.widget-view+json": {
       "model_id": "0ab62783da8244efadf5540ea0db7414",
       "version_major": 2,
       "version_minor": 0
      },
      "text/plain": [
       "  0%|          | 0/179 [00:00<?, ?it/s]"
      ]
     },
     "metadata": {},
     "output_type": "display_data"
    },
    {
     "data": {
      "application/vnd.jupyter.widget-view+json": {
       "model_id": "d9804914fdd8491da4d0f3ff4e940089",
       "version_major": 2,
       "version_minor": 0
      },
      "text/plain": [
       "  0%|          | 0/180 [00:00<?, ?it/s]"
      ]
     },
     "metadata": {},
     "output_type": "display_data"
    },
    {
     "data": {
      "application/vnd.jupyter.widget-view+json": {
       "model_id": "643a1e35398b4a3d876640b200d01ed9",
       "version_major": 2,
       "version_minor": 0
      },
      "text/plain": [
       "  0%|          | 0/181 [00:00<?, ?it/s]"
      ]
     },
     "metadata": {},
     "output_type": "display_data"
    },
    {
     "data": {
      "application/vnd.jupyter.widget-view+json": {
       "model_id": "df618ca7f22d4380b61c0d94e30ba9fd",
       "version_major": 2,
       "version_minor": 0
      },
      "text/plain": [
       "  0%|          | 0/182 [00:00<?, ?it/s]"
      ]
     },
     "metadata": {},
     "output_type": "display_data"
    },
    {
     "data": {
      "application/vnd.jupyter.widget-view+json": {
       "model_id": "ed5d62a43bfb499586d53154b45fd22b",
       "version_major": 2,
       "version_minor": 0
      },
      "text/plain": [
       "  0%|          | 0/183 [00:00<?, ?it/s]"
      ]
     },
     "metadata": {},
     "output_type": "display_data"
    },
    {
     "data": {
      "application/vnd.jupyter.widget-view+json": {
       "model_id": "55ba70c6c3054259a2352a107ce36c47",
       "version_major": 2,
       "version_minor": 0
      },
      "text/plain": [
       "  0%|          | 0/184 [00:00<?, ?it/s]"
      ]
     },
     "metadata": {},
     "output_type": "display_data"
    },
    {
     "data": {
      "application/vnd.jupyter.widget-view+json": {
       "model_id": "d6366f99ef774466b0608f853be2a552",
       "version_major": 2,
       "version_minor": 0
      },
      "text/plain": [
       "  0%|          | 0/185 [00:00<?, ?it/s]"
      ]
     },
     "metadata": {},
     "output_type": "display_data"
    },
    {
     "data": {
      "application/vnd.jupyter.widget-view+json": {
       "model_id": "f7b58691df384cffb98b1506f434371a",
       "version_major": 2,
       "version_minor": 0
      },
      "text/plain": [
       "  0%|          | 0/186 [00:00<?, ?it/s]"
      ]
     },
     "metadata": {},
     "output_type": "display_data"
    },
    {
     "data": {
      "application/vnd.jupyter.widget-view+json": {
       "model_id": "b114fa3d63014eccb654e7e2eee49546",
       "version_major": 2,
       "version_minor": 0
      },
      "text/plain": [
       "  0%|          | 0/187 [00:00<?, ?it/s]"
      ]
     },
     "metadata": {},
     "output_type": "display_data"
    },
    {
     "data": {
      "application/vnd.jupyter.widget-view+json": {
       "model_id": "f16a43ff2bff414eb832e13c5a559abb",
       "version_major": 2,
       "version_minor": 0
      },
      "text/plain": [
       "  0%|          | 0/188 [00:00<?, ?it/s]"
      ]
     },
     "metadata": {},
     "output_type": "display_data"
    },
    {
     "data": {
      "application/vnd.jupyter.widget-view+json": {
       "model_id": "7edef2e215414b4f9d405677f4f53335",
       "version_major": 2,
       "version_minor": 0
      },
      "text/plain": [
       "  0%|          | 0/189 [00:00<?, ?it/s]"
      ]
     },
     "metadata": {},
     "output_type": "display_data"
    },
    {
     "data": {
      "application/vnd.jupyter.widget-view+json": {
       "model_id": "685fa4f3a12c43968a68e5c702932ece",
       "version_major": 2,
       "version_minor": 0
      },
      "text/plain": [
       "  0%|          | 0/190 [00:00<?, ?it/s]"
      ]
     },
     "metadata": {},
     "output_type": "display_data"
    },
    {
     "data": {
      "application/vnd.jupyter.widget-view+json": {
       "model_id": "8f40725beed64c3b8bf15d33b7c51751",
       "version_major": 2,
       "version_minor": 0
      },
      "text/plain": [
       "  0%|          | 0/191 [00:00<?, ?it/s]"
      ]
     },
     "metadata": {},
     "output_type": "display_data"
    },
    {
     "data": {
      "application/vnd.jupyter.widget-view+json": {
       "model_id": "fa04a640b1f84f6881b989c95a80aaa2",
       "version_major": 2,
       "version_minor": 0
      },
      "text/plain": [
       "  0%|          | 0/192 [00:00<?, ?it/s]"
      ]
     },
     "metadata": {},
     "output_type": "display_data"
    },
    {
     "data": {
      "application/vnd.jupyter.widget-view+json": {
       "model_id": "7d93a067a25e46f3a9b099a1ae2f2db0",
       "version_major": 2,
       "version_minor": 0
      },
      "text/plain": [
       "  0%|          | 0/193 [00:00<?, ?it/s]"
      ]
     },
     "metadata": {},
     "output_type": "display_data"
    },
    {
     "data": {
      "application/vnd.jupyter.widget-view+json": {
       "model_id": "0ead00e2ff824ed9b97b6abb39898a19",
       "version_major": 2,
       "version_minor": 0
      },
      "text/plain": [
       "  0%|          | 0/194 [00:00<?, ?it/s]"
      ]
     },
     "metadata": {},
     "output_type": "display_data"
    },
    {
     "data": {
      "application/vnd.jupyter.widget-view+json": {
       "model_id": "40bae84a531845649a7bdac4775cd575",
       "version_major": 2,
       "version_minor": 0
      },
      "text/plain": [
       "  0%|          | 0/195 [00:00<?, ?it/s]"
      ]
     },
     "metadata": {},
     "output_type": "display_data"
    },
    {
     "data": {
      "application/vnd.jupyter.widget-view+json": {
       "model_id": "2b1a2176bf5b45fc8adbd73df65763b2",
       "version_major": 2,
       "version_minor": 0
      },
      "text/plain": [
       "  0%|          | 0/196 [00:00<?, ?it/s]"
      ]
     },
     "metadata": {},
     "output_type": "display_data"
    },
    {
     "data": {
      "application/vnd.jupyter.widget-view+json": {
       "model_id": "93ce7dca02eb4dcbb36389f2f67395f0",
       "version_major": 2,
       "version_minor": 0
      },
      "text/plain": [
       "  0%|          | 0/197 [00:00<?, ?it/s]"
      ]
     },
     "metadata": {},
     "output_type": "display_data"
    },
    {
     "data": {
      "application/vnd.jupyter.widget-view+json": {
       "model_id": "107fe69fec3644a08a6216a8bf899192",
       "version_major": 2,
       "version_minor": 0
      },
      "text/plain": [
       "  0%|          | 0/198 [00:00<?, ?it/s]"
      ]
     },
     "metadata": {},
     "output_type": "display_data"
    },
    {
     "data": {
      "application/vnd.jupyter.widget-view+json": {
       "model_id": "752df65048c749deb5f47ae89fa9a2f0",
       "version_major": 2,
       "version_minor": 0
      },
      "text/plain": [
       "  0%|          | 0/199 [00:00<?, ?it/s]"
      ]
     },
     "metadata": {},
     "output_type": "display_data"
    },
    {
     "data": {
      "application/vnd.jupyter.widget-view+json": {
       "model_id": "67ea4d69f60e47ceaabeb191db1c7e32",
       "version_major": 2,
       "version_minor": 0
      },
      "text/plain": [
       "  0%|          | 0/200 [00:00<?, ?it/s]"
      ]
     },
     "metadata": {},
     "output_type": "display_data"
    },
    {
     "data": {
      "application/vnd.jupyter.widget-view+json": {
       "model_id": "5e1c4273829f44b6baa2b37b93dfbce5",
       "version_major": 2,
       "version_minor": 0
      },
      "text/plain": [
       "  0%|          | 0/201 [00:00<?, ?it/s]"
      ]
     },
     "metadata": {},
     "output_type": "display_data"
    },
    {
     "data": {
      "application/vnd.jupyter.widget-view+json": {
       "model_id": "4e46368d1225493a998389416cf01154",
       "version_major": 2,
       "version_minor": 0
      },
      "text/plain": [
       "  0%|          | 0/202 [00:00<?, ?it/s]"
      ]
     },
     "metadata": {},
     "output_type": "display_data"
    },
    {
     "data": {
      "application/vnd.jupyter.widget-view+json": {
       "model_id": "65abd8d6871443aab5bce422999c316c",
       "version_major": 2,
       "version_minor": 0
      },
      "text/plain": [
       "  0%|          | 0/203 [00:00<?, ?it/s]"
      ]
     },
     "metadata": {},
     "output_type": "display_data"
    },
    {
     "data": {
      "application/vnd.jupyter.widget-view+json": {
       "model_id": "6fdfe34788204cfbbc3708cc6c5adce1",
       "version_major": 2,
       "version_minor": 0
      },
      "text/plain": [
       "  0%|          | 0/204 [00:00<?, ?it/s]"
      ]
     },
     "metadata": {},
     "output_type": "display_data"
    },
    {
     "data": {
      "application/vnd.jupyter.widget-view+json": {
       "model_id": "bc66e70a83ed4a399a2381684523748f",
       "version_major": 2,
       "version_minor": 0
      },
      "text/plain": [
       "  0%|          | 0/205 [00:00<?, ?it/s]"
      ]
     },
     "metadata": {},
     "output_type": "display_data"
    },
    {
     "data": {
      "application/vnd.jupyter.widget-view+json": {
       "model_id": "0484b4c42b674408b79320847bd76ef0",
       "version_major": 2,
       "version_minor": 0
      },
      "text/plain": [
       "  0%|          | 0/206 [00:00<?, ?it/s]"
      ]
     },
     "metadata": {},
     "output_type": "display_data"
    },
    {
     "data": {
      "application/vnd.jupyter.widget-view+json": {
       "model_id": "0536d7a8152e4609b8ab2bef1814a016",
       "version_major": 2,
       "version_minor": 0
      },
      "text/plain": [
       "  0%|          | 0/207 [00:00<?, ?it/s]"
      ]
     },
     "metadata": {},
     "output_type": "display_data"
    },
    {
     "data": {
      "application/vnd.jupyter.widget-view+json": {
       "model_id": "77c2bd30bc024b199941083fa752316f",
       "version_major": 2,
       "version_minor": 0
      },
      "text/plain": [
       "  0%|          | 0/208 [00:00<?, ?it/s]"
      ]
     },
     "metadata": {},
     "output_type": "display_data"
    },
    {
     "data": {
      "application/vnd.jupyter.widget-view+json": {
       "model_id": "1b4db2b04b6d4406aa0aa67a5d4a91b9",
       "version_major": 2,
       "version_minor": 0
      },
      "text/plain": [
       "  0%|          | 0/209 [00:00<?, ?it/s]"
      ]
     },
     "metadata": {},
     "output_type": "display_data"
    },
    {
     "data": {
      "application/vnd.jupyter.widget-view+json": {
       "model_id": "d88539bb16ef493883f68dea26afc4ee",
       "version_major": 2,
       "version_minor": 0
      },
      "text/plain": [
       "  0%|          | 0/210 [00:00<?, ?it/s]"
      ]
     },
     "metadata": {},
     "output_type": "display_data"
    },
    {
     "data": {
      "application/vnd.jupyter.widget-view+json": {
       "model_id": "686498cad3574c428700415c6badc8ef",
       "version_major": 2,
       "version_minor": 0
      },
      "text/plain": [
       "  0%|          | 0/211 [00:00<?, ?it/s]"
      ]
     },
     "metadata": {},
     "output_type": "display_data"
    },
    {
     "data": {
      "application/vnd.jupyter.widget-view+json": {
       "model_id": "fd24a0b02ba04a75832e7ed675dd36a5",
       "version_major": 2,
       "version_minor": 0
      },
      "text/plain": [
       "  0%|          | 0/212 [00:00<?, ?it/s]"
      ]
     },
     "metadata": {},
     "output_type": "display_data"
    },
    {
     "data": {
      "application/vnd.jupyter.widget-view+json": {
       "model_id": "c3eb25c8ae79453ea04db797f698e08f",
       "version_major": 2,
       "version_minor": 0
      },
      "text/plain": [
       "  0%|          | 0/213 [00:00<?, ?it/s]"
      ]
     },
     "metadata": {},
     "output_type": "display_data"
    },
    {
     "data": {
      "application/vnd.jupyter.widget-view+json": {
       "model_id": "7de4f66fc4b74de6943c17954092bfea",
       "version_major": 2,
       "version_minor": 0
      },
      "text/plain": [
       "  0%|          | 0/214 [00:00<?, ?it/s]"
      ]
     },
     "metadata": {},
     "output_type": "display_data"
    },
    {
     "data": {
      "application/vnd.jupyter.widget-view+json": {
       "model_id": "bca4d74b117a49d4b41357044cd6e532",
       "version_major": 2,
       "version_minor": 0
      },
      "text/plain": [
       "  0%|          | 0/215 [00:00<?, ?it/s]"
      ]
     },
     "metadata": {},
     "output_type": "display_data"
    },
    {
     "data": {
      "application/vnd.jupyter.widget-view+json": {
       "model_id": "b50a9e075723466fb83e27942d9f5d37",
       "version_major": 2,
       "version_minor": 0
      },
      "text/plain": [
       "  0%|          | 0/216 [00:00<?, ?it/s]"
      ]
     },
     "metadata": {},
     "output_type": "display_data"
    },
    {
     "data": {
      "application/vnd.jupyter.widget-view+json": {
       "model_id": "17fc7256265c44f5bc720741a3d76cf7",
       "version_major": 2,
       "version_minor": 0
      },
      "text/plain": [
       "  0%|          | 0/217 [00:00<?, ?it/s]"
      ]
     },
     "metadata": {},
     "output_type": "display_data"
    },
    {
     "data": {
      "application/vnd.jupyter.widget-view+json": {
       "model_id": "aaa81a2598c74e59989dd575266a78c3",
       "version_major": 2,
       "version_minor": 0
      },
      "text/plain": [
       "  0%|          | 0/218 [00:00<?, ?it/s]"
      ]
     },
     "metadata": {},
     "output_type": "display_data"
    },
    {
     "data": {
      "application/vnd.jupyter.widget-view+json": {
       "model_id": "421eb851afda43d4a06f13844008bb9a",
       "version_major": 2,
       "version_minor": 0
      },
      "text/plain": [
       "  0%|          | 0/219 [00:00<?, ?it/s]"
      ]
     },
     "metadata": {},
     "output_type": "display_data"
    },
    {
     "data": {
      "application/vnd.jupyter.widget-view+json": {
       "model_id": "3ea4892e8caf4b8594b1e951a71d582b",
       "version_major": 2,
       "version_minor": 0
      },
      "text/plain": [
       "  0%|          | 0/220 [00:00<?, ?it/s]"
      ]
     },
     "metadata": {},
     "output_type": "display_data"
    },
    {
     "data": {
      "application/vnd.jupyter.widget-view+json": {
       "model_id": "a1a018b3a008484684556e84e8ede785",
       "version_major": 2,
       "version_minor": 0
      },
      "text/plain": [
       "  0%|          | 0/221 [00:00<?, ?it/s]"
      ]
     },
     "metadata": {},
     "output_type": "display_data"
    },
    {
     "data": {
      "application/vnd.jupyter.widget-view+json": {
       "model_id": "40241949cecf4e85836a6efdb665a399",
       "version_major": 2,
       "version_minor": 0
      },
      "text/plain": [
       "  0%|          | 0/222 [00:00<?, ?it/s]"
      ]
     },
     "metadata": {},
     "output_type": "display_data"
    },
    {
     "data": {
      "application/vnd.jupyter.widget-view+json": {
       "model_id": "d3cb8f5990994adcaa492f9904c391aa",
       "version_major": 2,
       "version_minor": 0
      },
      "text/plain": [
       "  0%|          | 0/223 [00:00<?, ?it/s]"
      ]
     },
     "metadata": {},
     "output_type": "display_data"
    },
    {
     "data": {
      "application/vnd.jupyter.widget-view+json": {
       "model_id": "00411ba9b28e4390aad4f25dbad3d2d5",
       "version_major": 2,
       "version_minor": 0
      },
      "text/plain": [
       "  0%|          | 0/224 [00:00<?, ?it/s]"
      ]
     },
     "metadata": {},
     "output_type": "display_data"
    },
    {
     "data": {
      "application/vnd.jupyter.widget-view+json": {
       "model_id": "500d4bf969be4313abebbdad20a3bcbd",
       "version_major": 2,
       "version_minor": 0
      },
      "text/plain": [
       "  0%|          | 0/225 [00:00<?, ?it/s]"
      ]
     },
     "metadata": {},
     "output_type": "display_data"
    },
    {
     "data": {
      "application/vnd.jupyter.widget-view+json": {
       "model_id": "79b30758acdb41a1b364e4e159fdae6f",
       "version_major": 2,
       "version_minor": 0
      },
      "text/plain": [
       "  0%|          | 0/226 [00:00<?, ?it/s]"
      ]
     },
     "metadata": {},
     "output_type": "display_data"
    },
    {
     "data": {
      "application/vnd.jupyter.widget-view+json": {
       "model_id": "08fb6bfa81804ce8be05c19219241bba",
       "version_major": 2,
       "version_minor": 0
      },
      "text/plain": [
       "  0%|          | 0/227 [00:00<?, ?it/s]"
      ]
     },
     "metadata": {},
     "output_type": "display_data"
    },
    {
     "data": {
      "application/vnd.jupyter.widget-view+json": {
       "model_id": "2cb3de2675d44f7dbe9e30e31136de10",
       "version_major": 2,
       "version_minor": 0
      },
      "text/plain": [
       "  0%|          | 0/228 [00:00<?, ?it/s]"
      ]
     },
     "metadata": {},
     "output_type": "display_data"
    },
    {
     "data": {
      "application/vnd.jupyter.widget-view+json": {
       "model_id": "96e2983ecc644280b63dc958ae2ed987",
       "version_major": 2,
       "version_minor": 0
      },
      "text/plain": [
       "  0%|          | 0/229 [00:00<?, ?it/s]"
      ]
     },
     "metadata": {},
     "output_type": "display_data"
    },
    {
     "data": {
      "application/vnd.jupyter.widget-view+json": {
       "model_id": "415cff388f42475e8a0f4aca11b75fae",
       "version_major": 2,
       "version_minor": 0
      },
      "text/plain": [
       "  0%|          | 0/230 [00:00<?, ?it/s]"
      ]
     },
     "metadata": {},
     "output_type": "display_data"
    },
    {
     "data": {
      "application/vnd.jupyter.widget-view+json": {
       "model_id": "54c6f905d8c444898474edf485f3a053",
       "version_major": 2,
       "version_minor": 0
      },
      "text/plain": [
       "  0%|          | 0/231 [00:00<?, ?it/s]"
      ]
     },
     "metadata": {},
     "output_type": "display_data"
    },
    {
     "data": {
      "application/vnd.jupyter.widget-view+json": {
       "model_id": "5721e4e04b8a48e5ac9fb17ec339edb6",
       "version_major": 2,
       "version_minor": 0
      },
      "text/plain": [
       "  0%|          | 0/232 [00:00<?, ?it/s]"
      ]
     },
     "metadata": {},
     "output_type": "display_data"
    },
    {
     "data": {
      "application/vnd.jupyter.widget-view+json": {
       "model_id": "53ac26190746431fa005759b88b633d0",
       "version_major": 2,
       "version_minor": 0
      },
      "text/plain": [
       "  0%|          | 0/233 [00:00<?, ?it/s]"
      ]
     },
     "metadata": {},
     "output_type": "display_data"
    },
    {
     "data": {
      "application/vnd.jupyter.widget-view+json": {
       "model_id": "94966c84fa6046e1b540b34dd5e99bc2",
       "version_major": 2,
       "version_minor": 0
      },
      "text/plain": [
       "  0%|          | 0/234 [00:00<?, ?it/s]"
      ]
     },
     "metadata": {},
     "output_type": "display_data"
    },
    {
     "data": {
      "application/vnd.jupyter.widget-view+json": {
       "model_id": "bd5ac775ccd64440885abe85695c7624",
       "version_major": 2,
       "version_minor": 0
      },
      "text/plain": [
       "  0%|          | 0/235 [00:00<?, ?it/s]"
      ]
     },
     "metadata": {},
     "output_type": "display_data"
    },
    {
     "data": {
      "application/vnd.jupyter.widget-view+json": {
       "model_id": "ad639118fde0426591c96c695ab26b2e",
       "version_major": 2,
       "version_minor": 0
      },
      "text/plain": [
       "  0%|          | 0/236 [00:00<?, ?it/s]"
      ]
     },
     "metadata": {},
     "output_type": "display_data"
    },
    {
     "data": {
      "application/vnd.jupyter.widget-view+json": {
       "model_id": "7b763e7e22324536899d54d03f33db71",
       "version_major": 2,
       "version_minor": 0
      },
      "text/plain": [
       "  0%|          | 0/237 [00:00<?, ?it/s]"
      ]
     },
     "metadata": {},
     "output_type": "display_data"
    },
    {
     "data": {
      "application/vnd.jupyter.widget-view+json": {
       "model_id": "5076518ac4ec4d748b2a9f5142c53580",
       "version_major": 2,
       "version_minor": 0
      },
      "text/plain": [
       "  0%|          | 0/238 [00:00<?, ?it/s]"
      ]
     },
     "metadata": {},
     "output_type": "display_data"
    },
    {
     "data": {
      "application/vnd.jupyter.widget-view+json": {
       "model_id": "f50d51f726a64bd98d7aa92b9385b7ff",
       "version_major": 2,
       "version_minor": 0
      },
      "text/plain": [
       "  0%|          | 0/239 [00:00<?, ?it/s]"
      ]
     },
     "metadata": {},
     "output_type": "display_data"
    },
    {
     "data": {
      "application/vnd.jupyter.widget-view+json": {
       "model_id": "ecfe3dfcb820496d96253a4db0684a93",
       "version_major": 2,
       "version_minor": 0
      },
      "text/plain": [
       "  0%|          | 0/240 [00:00<?, ?it/s]"
      ]
     },
     "metadata": {},
     "output_type": "display_data"
    },
    {
     "data": {
      "application/vnd.jupyter.widget-view+json": {
       "model_id": "fdaa613a779c4d0a8828350303be193d",
       "version_major": 2,
       "version_minor": 0
      },
      "text/plain": [
       "  0%|          | 0/241 [00:00<?, ?it/s]"
      ]
     },
     "metadata": {},
     "output_type": "display_data"
    },
    {
     "data": {
      "application/vnd.jupyter.widget-view+json": {
       "model_id": "dae991c7201f4188b21eede2562255f2",
       "version_major": 2,
       "version_minor": 0
      },
      "text/plain": [
       "  0%|          | 0/242 [00:00<?, ?it/s]"
      ]
     },
     "metadata": {},
     "output_type": "display_data"
    },
    {
     "data": {
      "application/vnd.jupyter.widget-view+json": {
       "model_id": "853429f0d89443edba27c12f6c8a03ec",
       "version_major": 2,
       "version_minor": 0
      },
      "text/plain": [
       "  0%|          | 0/243 [00:00<?, ?it/s]"
      ]
     },
     "metadata": {},
     "output_type": "display_data"
    },
    {
     "data": {
      "application/vnd.jupyter.widget-view+json": {
       "model_id": "3800db7109354d9fb1c7222725be9f58",
       "version_major": 2,
       "version_minor": 0
      },
      "text/plain": [
       "  0%|          | 0/244 [00:00<?, ?it/s]"
      ]
     },
     "metadata": {},
     "output_type": "display_data"
    },
    {
     "data": {
      "application/vnd.jupyter.widget-view+json": {
       "model_id": "caa685597d8342eea279eaca8d801a52",
       "version_major": 2,
       "version_minor": 0
      },
      "text/plain": [
       "  0%|          | 0/245 [00:00<?, ?it/s]"
      ]
     },
     "metadata": {},
     "output_type": "display_data"
    },
    {
     "data": {
      "application/vnd.jupyter.widget-view+json": {
       "model_id": "d465a67d8f5e492c9582a50f99aa282d",
       "version_major": 2,
       "version_minor": 0
      },
      "text/plain": [
       "  0%|          | 0/246 [00:00<?, ?it/s]"
      ]
     },
     "metadata": {},
     "output_type": "display_data"
    },
    {
     "data": {
      "application/vnd.jupyter.widget-view+json": {
       "model_id": "1814ac894f6345a9aafb096127a3dd72",
       "version_major": 2,
       "version_minor": 0
      },
      "text/plain": [
       "  0%|          | 0/247 [00:00<?, ?it/s]"
      ]
     },
     "metadata": {},
     "output_type": "display_data"
    },
    {
     "data": {
      "application/vnd.jupyter.widget-view+json": {
       "model_id": "86292ff6c7e74097a0ad107a19a5643d",
       "version_major": 2,
       "version_minor": 0
      },
      "text/plain": [
       "  0%|          | 0/248 [00:00<?, ?it/s]"
      ]
     },
     "metadata": {},
     "output_type": "display_data"
    },
    {
     "data": {
      "application/vnd.jupyter.widget-view+json": {
       "model_id": "d511d833845a424ca5e8b3c09217cc92",
       "version_major": 2,
       "version_minor": 0
      },
      "text/plain": [
       "  0%|          | 0/249 [00:00<?, ?it/s]"
      ]
     },
     "metadata": {},
     "output_type": "display_data"
    },
    {
     "data": {
      "application/vnd.jupyter.widget-view+json": {
       "model_id": "35bf1dd0bfd646c592f2ef490f964b89",
       "version_major": 2,
       "version_minor": 0
      },
      "text/plain": [
       "  0%|          | 0/250 [00:00<?, ?it/s]"
      ]
     },
     "metadata": {},
     "output_type": "display_data"
    },
    {
     "data": {
      "application/vnd.jupyter.widget-view+json": {
       "model_id": "386a39d09ad242ce824ab303ed7ace08",
       "version_major": 2,
       "version_minor": 0
      },
      "text/plain": [
       "  0%|          | 0/251 [00:00<?, ?it/s]"
      ]
     },
     "metadata": {},
     "output_type": "display_data"
    },
    {
     "data": {
      "application/vnd.jupyter.widget-view+json": {
       "model_id": "55f635c7dca9476ba63d3657cebe2dae",
       "version_major": 2,
       "version_minor": 0
      },
      "text/plain": [
       "  0%|          | 0/252 [00:00<?, ?it/s]"
      ]
     },
     "metadata": {},
     "output_type": "display_data"
    },
    {
     "data": {
      "application/vnd.jupyter.widget-view+json": {
       "model_id": "4b41862f8cf84f1287d10045040bd0de",
       "version_major": 2,
       "version_minor": 0
      },
      "text/plain": [
       "  0%|          | 0/253 [00:00<?, ?it/s]"
      ]
     },
     "metadata": {},
     "output_type": "display_data"
    },
    {
     "data": {
      "application/vnd.jupyter.widget-view+json": {
       "model_id": "58b8e2ee12aa448cae4facb81853fb63",
       "version_major": 2,
       "version_minor": 0
      },
      "text/plain": [
       "  0%|          | 0/254 [00:00<?, ?it/s]"
      ]
     },
     "metadata": {},
     "output_type": "display_data"
    },
    {
     "data": {
      "application/vnd.jupyter.widget-view+json": {
       "model_id": "76cebf38ff464b8291f74ecb971c5f22",
       "version_major": 2,
       "version_minor": 0
      },
      "text/plain": [
       "  0%|          | 0/255 [00:00<?, ?it/s]"
      ]
     },
     "metadata": {},
     "output_type": "display_data"
    },
    {
     "data": {
      "application/vnd.jupyter.widget-view+json": {
       "model_id": "df927ff41f49478a8cdf1dc92b9ddd34",
       "version_major": 2,
       "version_minor": 0
      },
      "text/plain": [
       "  0%|          | 0/256 [00:00<?, ?it/s]"
      ]
     },
     "metadata": {},
     "output_type": "display_data"
    },
    {
     "data": {
      "application/vnd.jupyter.widget-view+json": {
       "model_id": "ffdb8a71a6da4d9f84102941e39f9dcb",
       "version_major": 2,
       "version_minor": 0
      },
      "text/plain": [
       "  0%|          | 0/257 [00:00<?, ?it/s]"
      ]
     },
     "metadata": {},
     "output_type": "display_data"
    },
    {
     "data": {
      "application/vnd.jupyter.widget-view+json": {
       "model_id": "c8c2c9c6f549435abebe5b02725c9919",
       "version_major": 2,
       "version_minor": 0
      },
      "text/plain": [
       "  0%|          | 0/258 [00:00<?, ?it/s]"
      ]
     },
     "metadata": {},
     "output_type": "display_data"
    },
    {
     "data": {
      "application/vnd.jupyter.widget-view+json": {
       "model_id": "48d686b41ddc4522b51b9456b9b4bb01",
       "version_major": 2,
       "version_minor": 0
      },
      "text/plain": [
       "  0%|          | 0/259 [00:00<?, ?it/s]"
      ]
     },
     "metadata": {},
     "output_type": "display_data"
    },
    {
     "data": {
      "application/vnd.jupyter.widget-view+json": {
       "model_id": "ec2f2e6bcc474ee083b0ce77457144e9",
       "version_major": 2,
       "version_minor": 0
      },
      "text/plain": [
       "  0%|          | 0/260 [00:00<?, ?it/s]"
      ]
     },
     "metadata": {},
     "output_type": "display_data"
    },
    {
     "data": {
      "application/vnd.jupyter.widget-view+json": {
       "model_id": "5cd8bfc058314b17bfd1e2c7541d25d9",
       "version_major": 2,
       "version_minor": 0
      },
      "text/plain": [
       "  0%|          | 0/261 [00:00<?, ?it/s]"
      ]
     },
     "metadata": {},
     "output_type": "display_data"
    },
    {
     "data": {
      "application/vnd.jupyter.widget-view+json": {
       "model_id": "db48536fda484427b08d621c082cf8a8",
       "version_major": 2,
       "version_minor": 0
      },
      "text/plain": [
       "  0%|          | 0/262 [00:00<?, ?it/s]"
      ]
     },
     "metadata": {},
     "output_type": "display_data"
    },
    {
     "data": {
      "application/vnd.jupyter.widget-view+json": {
       "model_id": "a40c2923947040fd90ad85c51a6a9e5c",
       "version_major": 2,
       "version_minor": 0
      },
      "text/plain": [
       "  0%|          | 0/263 [00:00<?, ?it/s]"
      ]
     },
     "metadata": {},
     "output_type": "display_data"
    },
    {
     "data": {
      "application/vnd.jupyter.widget-view+json": {
       "model_id": "5bcd004e9bb441c6a6f605ad272c61d7",
       "version_major": 2,
       "version_minor": 0
      },
      "text/plain": [
       "  0%|          | 0/264 [00:00<?, ?it/s]"
      ]
     },
     "metadata": {},
     "output_type": "display_data"
    },
    {
     "data": {
      "application/vnd.jupyter.widget-view+json": {
       "model_id": "fd131733d4cb49e39ef170c72bfe5fec",
       "version_major": 2,
       "version_minor": 0
      },
      "text/plain": [
       "  0%|          | 0/265 [00:00<?, ?it/s]"
      ]
     },
     "metadata": {},
     "output_type": "display_data"
    },
    {
     "data": {
      "application/vnd.jupyter.widget-view+json": {
       "model_id": "8991fba7000b4e61ad54abac698da589",
       "version_major": 2,
       "version_minor": 0
      },
      "text/plain": [
       "  0%|          | 0/266 [00:00<?, ?it/s]"
      ]
     },
     "metadata": {},
     "output_type": "display_data"
    },
    {
     "data": {
      "application/vnd.jupyter.widget-view+json": {
       "model_id": "6d219fd301e049fbada6cf31c844ad4b",
       "version_major": 2,
       "version_minor": 0
      },
      "text/plain": [
       "  0%|          | 0/267 [00:00<?, ?it/s]"
      ]
     },
     "metadata": {},
     "output_type": "display_data"
    },
    {
     "data": {
      "application/vnd.jupyter.widget-view+json": {
       "model_id": "c20f86ac116a4d67939bb4fbbd3d9ccc",
       "version_major": 2,
       "version_minor": 0
      },
      "text/plain": [
       "  0%|          | 0/268 [00:00<?, ?it/s]"
      ]
     },
     "metadata": {},
     "output_type": "display_data"
    },
    {
     "data": {
      "application/vnd.jupyter.widget-view+json": {
       "model_id": "33aea9c2a2af49479d0dc56a4dfef371",
       "version_major": 2,
       "version_minor": 0
      },
      "text/plain": [
       "  0%|          | 0/269 [00:00<?, ?it/s]"
      ]
     },
     "metadata": {},
     "output_type": "display_data"
    },
    {
     "data": {
      "application/vnd.jupyter.widget-view+json": {
       "model_id": "3bdfbcc461e34eb7a61ddcbbdd92a3bf",
       "version_major": 2,
       "version_minor": 0
      },
      "text/plain": [
       "  0%|          | 0/270 [00:00<?, ?it/s]"
      ]
     },
     "metadata": {},
     "output_type": "display_data"
    },
    {
     "data": {
      "application/vnd.jupyter.widget-view+json": {
       "model_id": "ee58bfab906f40efa2e99435507408f0",
       "version_major": 2,
       "version_minor": 0
      },
      "text/plain": [
       "  0%|          | 0/271 [00:00<?, ?it/s]"
      ]
     },
     "metadata": {},
     "output_type": "display_data"
    },
    {
     "data": {
      "application/vnd.jupyter.widget-view+json": {
       "model_id": "7a863e162e9e4e47a45675eb484e28d7",
       "version_major": 2,
       "version_minor": 0
      },
      "text/plain": [
       "  0%|          | 0/272 [00:00<?, ?it/s]"
      ]
     },
     "metadata": {},
     "output_type": "display_data"
    },
    {
     "data": {
      "application/vnd.jupyter.widget-view+json": {
       "model_id": "597f9df9ca634b53825ea74bc05bd48b",
       "version_major": 2,
       "version_minor": 0
      },
      "text/plain": [
       "  0%|          | 0/273 [00:00<?, ?it/s]"
      ]
     },
     "metadata": {},
     "output_type": "display_data"
    },
    {
     "data": {
      "application/vnd.jupyter.widget-view+json": {
       "model_id": "7105955092cd4fa4987bb0061559ee5f",
       "version_major": 2,
       "version_minor": 0
      },
      "text/plain": [
       "  0%|          | 0/274 [00:00<?, ?it/s]"
      ]
     },
     "metadata": {},
     "output_type": "display_data"
    },
    {
     "data": {
      "application/vnd.jupyter.widget-view+json": {
       "model_id": "dae894bdf88349d7b7d4ef872bf48ef9",
       "version_major": 2,
       "version_minor": 0
      },
      "text/plain": [
       "  0%|          | 0/275 [00:00<?, ?it/s]"
      ]
     },
     "metadata": {},
     "output_type": "display_data"
    },
    {
     "data": {
      "application/vnd.jupyter.widget-view+json": {
       "model_id": "d4660d0971dc40088624962e2d565185",
       "version_major": 2,
       "version_minor": 0
      },
      "text/plain": [
       "  0%|          | 0/276 [00:00<?, ?it/s]"
      ]
     },
     "metadata": {},
     "output_type": "display_data"
    },
    {
     "data": {
      "application/vnd.jupyter.widget-view+json": {
       "model_id": "ea2a77c78def49fdba9ee636ba79ab51",
       "version_major": 2,
       "version_minor": 0
      },
      "text/plain": [
       "  0%|          | 0/277 [00:00<?, ?it/s]"
      ]
     },
     "metadata": {},
     "output_type": "display_data"
    },
    {
     "data": {
      "application/vnd.jupyter.widget-view+json": {
       "model_id": "45d8a2c0df17430189073de098021ec8",
       "version_major": 2,
       "version_minor": 0
      },
      "text/plain": [
       "  0%|          | 0/278 [00:00<?, ?it/s]"
      ]
     },
     "metadata": {},
     "output_type": "display_data"
    },
    {
     "data": {
      "application/vnd.jupyter.widget-view+json": {
       "model_id": "61bae5fd80a74fa6b8a353c619e18662",
       "version_major": 2,
       "version_minor": 0
      },
      "text/plain": [
       "  0%|          | 0/279 [00:00<?, ?it/s]"
      ]
     },
     "metadata": {},
     "output_type": "display_data"
    },
    {
     "data": {
      "application/vnd.jupyter.widget-view+json": {
       "model_id": "02330a8586724c24ba246bad7d6010c3",
       "version_major": 2,
       "version_minor": 0
      },
      "text/plain": [
       "  0%|          | 0/280 [00:00<?, ?it/s]"
      ]
     },
     "metadata": {},
     "output_type": "display_data"
    },
    {
     "data": {
      "application/vnd.jupyter.widget-view+json": {
       "model_id": "c4dca0ea9747416a8c9db2b0c4a88dc1",
       "version_major": 2,
       "version_minor": 0
      },
      "text/plain": [
       "  0%|          | 0/281 [00:00<?, ?it/s]"
      ]
     },
     "metadata": {},
     "output_type": "display_data"
    },
    {
     "data": {
      "application/vnd.jupyter.widget-view+json": {
       "model_id": "767615c7ef8a44479ffb7cbcd7c24837",
       "version_major": 2,
       "version_minor": 0
      },
      "text/plain": [
       "  0%|          | 0/282 [00:00<?, ?it/s]"
      ]
     },
     "metadata": {},
     "output_type": "display_data"
    },
    {
     "data": {
      "application/vnd.jupyter.widget-view+json": {
       "model_id": "f5018ab994a2487aa1179f8e00fdca2c",
       "version_major": 2,
       "version_minor": 0
      },
      "text/plain": [
       "  0%|          | 0/283 [00:00<?, ?it/s]"
      ]
     },
     "metadata": {},
     "output_type": "display_data"
    },
    {
     "data": {
      "application/vnd.jupyter.widget-view+json": {
       "model_id": "4d81dc8984914a11be13d2433ab6e645",
       "version_major": 2,
       "version_minor": 0
      },
      "text/plain": [
       "  0%|          | 0/284 [00:00<?, ?it/s]"
      ]
     },
     "metadata": {},
     "output_type": "display_data"
    },
    {
     "data": {
      "application/vnd.jupyter.widget-view+json": {
       "model_id": "9b9216475c75440a974eeb860d09c6bb",
       "version_major": 2,
       "version_minor": 0
      },
      "text/plain": [
       "  0%|          | 0/285 [00:00<?, ?it/s]"
      ]
     },
     "metadata": {},
     "output_type": "display_data"
    },
    {
     "data": {
      "application/vnd.jupyter.widget-view+json": {
       "model_id": "e68ec12adb994c28b8ab2e92a0749130",
       "version_major": 2,
       "version_minor": 0
      },
      "text/plain": [
       "  0%|          | 0/286 [00:00<?, ?it/s]"
      ]
     },
     "metadata": {},
     "output_type": "display_data"
    },
    {
     "data": {
      "application/vnd.jupyter.widget-view+json": {
       "model_id": "96a7fc08ebbf4e00aff9eb3b3f142b74",
       "version_major": 2,
       "version_minor": 0
      },
      "text/plain": [
       "  0%|          | 0/287 [00:00<?, ?it/s]"
      ]
     },
     "metadata": {},
     "output_type": "display_data"
    },
    {
     "data": {
      "application/vnd.jupyter.widget-view+json": {
       "model_id": "b1fccbbb35e6406589c5da190d06bb1d",
       "version_major": 2,
       "version_minor": 0
      },
      "text/plain": [
       "  0%|          | 0/288 [00:00<?, ?it/s]"
      ]
     },
     "metadata": {},
     "output_type": "display_data"
    },
    {
     "data": {
      "application/vnd.jupyter.widget-view+json": {
       "model_id": "384541d509914bdea1272a9637d8cf99",
       "version_major": 2,
       "version_minor": 0
      },
      "text/plain": [
       "  0%|          | 0/289 [00:00<?, ?it/s]"
      ]
     },
     "metadata": {},
     "output_type": "display_data"
    },
    {
     "data": {
      "application/vnd.jupyter.widget-view+json": {
       "model_id": "abe7e03f3df0435bacb28d341e0629aa",
       "version_major": 2,
       "version_minor": 0
      },
      "text/plain": [
       "  0%|          | 0/290 [00:00<?, ?it/s]"
      ]
     },
     "metadata": {},
     "output_type": "display_data"
    },
    {
     "data": {
      "application/vnd.jupyter.widget-view+json": {
       "model_id": "643ba1908f114a44a42d792b8405cfe4",
       "version_major": 2,
       "version_minor": 0
      },
      "text/plain": [
       "  0%|          | 0/291 [00:00<?, ?it/s]"
      ]
     },
     "metadata": {},
     "output_type": "display_data"
    },
    {
     "data": {
      "application/vnd.jupyter.widget-view+json": {
       "model_id": "700c962c58ff42728446dfc0b2c4bf56",
       "version_major": 2,
       "version_minor": 0
      },
      "text/plain": [
       "  0%|          | 0/292 [00:00<?, ?it/s]"
      ]
     },
     "metadata": {},
     "output_type": "display_data"
    },
    {
     "data": {
      "application/vnd.jupyter.widget-view+json": {
       "model_id": "1455405593f34f689ec5354f4dd861b7",
       "version_major": 2,
       "version_minor": 0
      },
      "text/plain": [
       "  0%|          | 0/293 [00:00<?, ?it/s]"
      ]
     },
     "metadata": {},
     "output_type": "display_data"
    },
    {
     "data": {
      "application/vnd.jupyter.widget-view+json": {
       "model_id": "69044e2a6be74a4588415a4c1ccdbd0f",
       "version_major": 2,
       "version_minor": 0
      },
      "text/plain": [
       "  0%|          | 0/294 [00:00<?, ?it/s]"
      ]
     },
     "metadata": {},
     "output_type": "display_data"
    },
    {
     "data": {
      "application/vnd.jupyter.widget-view+json": {
       "model_id": "7b9b0d52c18f4fcdbf4ed98c2284e98f",
       "version_major": 2,
       "version_minor": 0
      },
      "text/plain": [
       "  0%|          | 0/295 [00:00<?, ?it/s]"
      ]
     },
     "metadata": {},
     "output_type": "display_data"
    },
    {
     "data": {
      "application/vnd.jupyter.widget-view+json": {
       "model_id": "484f03e88dbc4e7498cf2daa5831768e",
       "version_major": 2,
       "version_minor": 0
      },
      "text/plain": [
       "  0%|          | 0/296 [00:00<?, ?it/s]"
      ]
     },
     "metadata": {},
     "output_type": "display_data"
    },
    {
     "data": {
      "application/vnd.jupyter.widget-view+json": {
       "model_id": "778ebae68fbc461097bbf8fe158aea9f",
       "version_major": 2,
       "version_minor": 0
      },
      "text/plain": [
       "  0%|          | 0/297 [00:00<?, ?it/s]"
      ]
     },
     "metadata": {},
     "output_type": "display_data"
    },
    {
     "data": {
      "application/vnd.jupyter.widget-view+json": {
       "model_id": "17e41d1e211f4fff9c73ad27b80d14e1",
       "version_major": 2,
       "version_minor": 0
      },
      "text/plain": [
       "  0%|          | 0/298 [00:00<?, ?it/s]"
      ]
     },
     "metadata": {},
     "output_type": "display_data"
    },
    {
     "data": {
      "application/vnd.jupyter.widget-view+json": {
       "model_id": "35f0ae291dd24d56979976c0a91f5655",
       "version_major": 2,
       "version_minor": 0
      },
      "text/plain": [
       "  0%|          | 0/299 [00:00<?, ?it/s]"
      ]
     },
     "metadata": {},
     "output_type": "display_data"
    },
    {
     "data": {
      "application/vnd.jupyter.widget-view+json": {
       "model_id": "cc9e6888b7f24f88bd7d120c35af18ad",
       "version_major": 2,
       "version_minor": 0
      },
      "text/plain": [
       "  0%|          | 0/300 [00:00<?, ?it/s]"
      ]
     },
     "metadata": {},
     "output_type": "display_data"
    },
    {
     "data": {
      "application/vnd.jupyter.widget-view+json": {
       "model_id": "0d7a29fccda146eebf6140db1109f7f2",
       "version_major": 2,
       "version_minor": 0
      },
      "text/plain": [
       "  0%|          | 0/301 [00:00<?, ?it/s]"
      ]
     },
     "metadata": {},
     "output_type": "display_data"
    },
    {
     "data": {
      "application/vnd.jupyter.widget-view+json": {
       "model_id": "bf6774dc25f0487d88dd27dd0f681336",
       "version_major": 2,
       "version_minor": 0
      },
      "text/plain": [
       "  0%|          | 0/302 [00:00<?, ?it/s]"
      ]
     },
     "metadata": {},
     "output_type": "display_data"
    },
    {
     "data": {
      "application/vnd.jupyter.widget-view+json": {
       "model_id": "3ccbbce4053640b782271e72e281d2e0",
       "version_major": 2,
       "version_minor": 0
      },
      "text/plain": [
       "  0%|          | 0/303 [00:00<?, ?it/s]"
      ]
     },
     "metadata": {},
     "output_type": "display_data"
    },
    {
     "data": {
      "application/vnd.jupyter.widget-view+json": {
       "model_id": "d1c6efc9b29d48cab999d33b0ba283bc",
       "version_major": 2,
       "version_minor": 0
      },
      "text/plain": [
       "  0%|          | 0/304 [00:00<?, ?it/s]"
      ]
     },
     "metadata": {},
     "output_type": "display_data"
    },
    {
     "data": {
      "application/vnd.jupyter.widget-view+json": {
       "model_id": "306d5734eb62406aa6c0108584dc06ef",
       "version_major": 2,
       "version_minor": 0
      },
      "text/plain": [
       "  0%|          | 0/305 [00:00<?, ?it/s]"
      ]
     },
     "metadata": {},
     "output_type": "display_data"
    },
    {
     "data": {
      "application/vnd.jupyter.widget-view+json": {
       "model_id": "9fa787ccaf2944caa3083d499e293dbc",
       "version_major": 2,
       "version_minor": 0
      },
      "text/plain": [
       "  0%|          | 0/306 [00:00<?, ?it/s]"
      ]
     },
     "metadata": {},
     "output_type": "display_data"
    },
    {
     "data": {
      "application/vnd.jupyter.widget-view+json": {
       "model_id": "34f9ef1ac78c44a7bfe496e9a2276b80",
       "version_major": 2,
       "version_minor": 0
      },
      "text/plain": [
       "  0%|          | 0/307 [00:00<?, ?it/s]"
      ]
     },
     "metadata": {},
     "output_type": "display_data"
    },
    {
     "data": {
      "application/vnd.jupyter.widget-view+json": {
       "model_id": "ddc1bd651aed4adbbfe451597020969c",
       "version_major": 2,
       "version_minor": 0
      },
      "text/plain": [
       "  0%|          | 0/308 [00:00<?, ?it/s]"
      ]
     },
     "metadata": {},
     "output_type": "display_data"
    },
    {
     "data": {
      "application/vnd.jupyter.widget-view+json": {
       "model_id": "9481ab512d904f8f8fc419a2fee1f75d",
       "version_major": 2,
       "version_minor": 0
      },
      "text/plain": [
       "  0%|          | 0/309 [00:00<?, ?it/s]"
      ]
     },
     "metadata": {},
     "output_type": "display_data"
    },
    {
     "data": {
      "application/vnd.jupyter.widget-view+json": {
       "model_id": "86dec1e1aa3b4d0fb1c33fa01479676e",
       "version_major": 2,
       "version_minor": 0
      },
      "text/plain": [
       "  0%|          | 0/310 [00:00<?, ?it/s]"
      ]
     },
     "metadata": {},
     "output_type": "display_data"
    },
    {
     "data": {
      "application/vnd.jupyter.widget-view+json": {
       "model_id": "f4ba47700ce84ff79ace6b0f49b17a80",
       "version_major": 2,
       "version_minor": 0
      },
      "text/plain": [
       "  0%|          | 0/311 [00:00<?, ?it/s]"
      ]
     },
     "metadata": {},
     "output_type": "display_data"
    },
    {
     "data": {
      "application/vnd.jupyter.widget-view+json": {
       "model_id": "5f4c06286b194940bdc680a41f111500",
       "version_major": 2,
       "version_minor": 0
      },
      "text/plain": [
       "  0%|          | 0/312 [00:00<?, ?it/s]"
      ]
     },
     "metadata": {},
     "output_type": "display_data"
    },
    {
     "data": {
      "application/vnd.jupyter.widget-view+json": {
       "model_id": "4711acdcfbc64051bea99e4f94b92010",
       "version_major": 2,
       "version_minor": 0
      },
      "text/plain": [
       "  0%|          | 0/313 [00:00<?, ?it/s]"
      ]
     },
     "metadata": {},
     "output_type": "display_data"
    },
    {
     "data": {
      "application/vnd.jupyter.widget-view+json": {
       "model_id": "93e30595071544c68e569a18977f68e3",
       "version_major": 2,
       "version_minor": 0
      },
      "text/plain": [
       "  0%|          | 0/314 [00:00<?, ?it/s]"
      ]
     },
     "metadata": {},
     "output_type": "display_data"
    },
    {
     "data": {
      "application/vnd.jupyter.widget-view+json": {
       "model_id": "c7671e6172e8418d95a2cf425d0e2e9d",
       "version_major": 2,
       "version_minor": 0
      },
      "text/plain": [
       "  0%|          | 0/315 [00:00<?, ?it/s]"
      ]
     },
     "metadata": {},
     "output_type": "display_data"
    },
    {
     "data": {
      "application/vnd.jupyter.widget-view+json": {
       "model_id": "adf3fc28ee9245878edbbef5ce175901",
       "version_major": 2,
       "version_minor": 0
      },
      "text/plain": [
       "  0%|          | 0/316 [00:00<?, ?it/s]"
      ]
     },
     "metadata": {},
     "output_type": "display_data"
    },
    {
     "data": {
      "application/vnd.jupyter.widget-view+json": {
       "model_id": "222790a3a5b74ec48f0903ab79eebb50",
       "version_major": 2,
       "version_minor": 0
      },
      "text/plain": [
       "  0%|          | 0/317 [00:00<?, ?it/s]"
      ]
     },
     "metadata": {},
     "output_type": "display_data"
    },
    {
     "data": {
      "application/vnd.jupyter.widget-view+json": {
       "model_id": "2affbe537817401995b507798c9031e9",
       "version_major": 2,
       "version_minor": 0
      },
      "text/plain": [
       "  0%|          | 0/318 [00:00<?, ?it/s]"
      ]
     },
     "metadata": {},
     "output_type": "display_data"
    },
    {
     "data": {
      "application/vnd.jupyter.widget-view+json": {
       "model_id": "c42a586dda0f48bb869d3cf4a65e818a",
       "version_major": 2,
       "version_minor": 0
      },
      "text/plain": [
       "  0%|          | 0/319 [00:00<?, ?it/s]"
      ]
     },
     "metadata": {},
     "output_type": "display_data"
    },
    {
     "data": {
      "application/vnd.jupyter.widget-view+json": {
       "model_id": "24842d6df5af430da936c25b90e8bb5b",
       "version_major": 2,
       "version_minor": 0
      },
      "text/plain": [
       "  0%|          | 0/320 [00:00<?, ?it/s]"
      ]
     },
     "metadata": {},
     "output_type": "display_data"
    },
    {
     "data": {
      "application/vnd.jupyter.widget-view+json": {
       "model_id": "a372aba127e44effabc7ae80c6861583",
       "version_major": 2,
       "version_minor": 0
      },
      "text/plain": [
       "  0%|          | 0/321 [00:00<?, ?it/s]"
      ]
     },
     "metadata": {},
     "output_type": "display_data"
    },
    {
     "data": {
      "application/vnd.jupyter.widget-view+json": {
       "model_id": "999e72e1e57e4f1bb29fddc44b8a4a7c",
       "version_major": 2,
       "version_minor": 0
      },
      "text/plain": [
       "  0%|          | 0/322 [00:00<?, ?it/s]"
      ]
     },
     "metadata": {},
     "output_type": "display_data"
    },
    {
     "data": {
      "application/vnd.jupyter.widget-view+json": {
       "model_id": "4b9712e142a843ff96341598a7427627",
       "version_major": 2,
       "version_minor": 0
      },
      "text/plain": [
       "  0%|          | 0/323 [00:00<?, ?it/s]"
      ]
     },
     "metadata": {},
     "output_type": "display_data"
    },
    {
     "data": {
      "application/vnd.jupyter.widget-view+json": {
       "model_id": "48bb9edd9ae445fbb620f7590202176e",
       "version_major": 2,
       "version_minor": 0
      },
      "text/plain": [
       "  0%|          | 0/324 [00:00<?, ?it/s]"
      ]
     },
     "metadata": {},
     "output_type": "display_data"
    },
    {
     "data": {
      "application/vnd.jupyter.widget-view+json": {
       "model_id": "47224e171b404737bdf61790e51bbac8",
       "version_major": 2,
       "version_minor": 0
      },
      "text/plain": [
       "  0%|          | 0/325 [00:00<?, ?it/s]"
      ]
     },
     "metadata": {},
     "output_type": "display_data"
    },
    {
     "data": {
      "application/vnd.jupyter.widget-view+json": {
       "model_id": "e7efea6b5ad547be9c03a4aad8954788",
       "version_major": 2,
       "version_minor": 0
      },
      "text/plain": [
       "  0%|          | 0/326 [00:00<?, ?it/s]"
      ]
     },
     "metadata": {},
     "output_type": "display_data"
    },
    {
     "data": {
      "application/vnd.jupyter.widget-view+json": {
       "model_id": "5d4183823d684128973eba8169cb1382",
       "version_major": 2,
       "version_minor": 0
      },
      "text/plain": [
       "  0%|          | 0/327 [00:00<?, ?it/s]"
      ]
     },
     "metadata": {},
     "output_type": "display_data"
    },
    {
     "data": {
      "application/vnd.jupyter.widget-view+json": {
       "model_id": "77a17d93296c447d98e0a8a6b38efd37",
       "version_major": 2,
       "version_minor": 0
      },
      "text/plain": [
       "  0%|          | 0/328 [00:00<?, ?it/s]"
      ]
     },
     "metadata": {},
     "output_type": "display_data"
    },
    {
     "data": {
      "application/vnd.jupyter.widget-view+json": {
       "model_id": "4465fa0331e04c44a1e100ff152c0f9d",
       "version_major": 2,
       "version_minor": 0
      },
      "text/plain": [
       "  0%|          | 0/329 [00:00<?, ?it/s]"
      ]
     },
     "metadata": {},
     "output_type": "display_data"
    },
    {
     "data": {
      "application/vnd.jupyter.widget-view+json": {
       "model_id": "ce176120f31c4a918223852e09a4b692",
       "version_major": 2,
       "version_minor": 0
      },
      "text/plain": [
       "  0%|          | 0/330 [00:00<?, ?it/s]"
      ]
     },
     "metadata": {},
     "output_type": "display_data"
    },
    {
     "data": {
      "application/vnd.jupyter.widget-view+json": {
       "model_id": "a0e5b13da6634820aaea86951d4cbdfa",
       "version_major": 2,
       "version_minor": 0
      },
      "text/plain": [
       "  0%|          | 0/331 [00:00<?, ?it/s]"
      ]
     },
     "metadata": {},
     "output_type": "display_data"
    },
    {
     "data": {
      "application/vnd.jupyter.widget-view+json": {
       "model_id": "bac12cc946014bb5b301229e5d7c3eb5",
       "version_major": 2,
       "version_minor": 0
      },
      "text/plain": [
       "  0%|          | 0/332 [00:00<?, ?it/s]"
      ]
     },
     "metadata": {},
     "output_type": "display_data"
    },
    {
     "data": {
      "application/vnd.jupyter.widget-view+json": {
       "model_id": "54f099b92a964fa39dad2287a299fcd3",
       "version_major": 2,
       "version_minor": 0
      },
      "text/plain": [
       "  0%|          | 0/333 [00:00<?, ?it/s]"
      ]
     },
     "metadata": {},
     "output_type": "display_data"
    },
    {
     "data": {
      "application/vnd.jupyter.widget-view+json": {
       "model_id": "4f6f7cf0454d466dbea81cef02891d15",
       "version_major": 2,
       "version_minor": 0
      },
      "text/plain": [
       "  0%|          | 0/334 [00:00<?, ?it/s]"
      ]
     },
     "metadata": {},
     "output_type": "display_data"
    },
    {
     "data": {
      "application/vnd.jupyter.widget-view+json": {
       "model_id": "c10be052b1fe47a69b75106f2df51e26",
       "version_major": 2,
       "version_minor": 0
      },
      "text/plain": [
       "  0%|          | 0/335 [00:00<?, ?it/s]"
      ]
     },
     "metadata": {},
     "output_type": "display_data"
    },
    {
     "data": {
      "application/vnd.jupyter.widget-view+json": {
       "model_id": "50b3eeb19a4c4b668ea07356cb114c5e",
       "version_major": 2,
       "version_minor": 0
      },
      "text/plain": [
       "  0%|          | 0/336 [00:00<?, ?it/s]"
      ]
     },
     "metadata": {},
     "output_type": "display_data"
    },
    {
     "data": {
      "application/vnd.jupyter.widget-view+json": {
       "model_id": "86f88ba03a9f44138b3aa349cd069d93",
       "version_major": 2,
       "version_minor": 0
      },
      "text/plain": [
       "  0%|          | 0/337 [00:00<?, ?it/s]"
      ]
     },
     "metadata": {},
     "output_type": "display_data"
    },
    {
     "data": {
      "application/vnd.jupyter.widget-view+json": {
       "model_id": "85695dab2ad44ba395a141da9c710a46",
       "version_major": 2,
       "version_minor": 0
      },
      "text/plain": [
       "  0%|          | 0/338 [00:00<?, ?it/s]"
      ]
     },
     "metadata": {},
     "output_type": "display_data"
    },
    {
     "data": {
      "application/vnd.jupyter.widget-view+json": {
       "model_id": "75a8807d316a4be6b31da144036fdff4",
       "version_major": 2,
       "version_minor": 0
      },
      "text/plain": [
       "  0%|          | 0/339 [00:00<?, ?it/s]"
      ]
     },
     "metadata": {},
     "output_type": "display_data"
    },
    {
     "data": {
      "application/vnd.jupyter.widget-view+json": {
       "model_id": "ca71d53c43c042e6b0100be97f9142d2",
       "version_major": 2,
       "version_minor": 0
      },
      "text/plain": [
       "  0%|          | 0/340 [00:00<?, ?it/s]"
      ]
     },
     "metadata": {},
     "output_type": "display_data"
    },
    {
     "data": {
      "application/vnd.jupyter.widget-view+json": {
       "model_id": "ad6ba3d553844b7b86184307efefebbd",
       "version_major": 2,
       "version_minor": 0
      },
      "text/plain": [
       "  0%|          | 0/341 [00:00<?, ?it/s]"
      ]
     },
     "metadata": {},
     "output_type": "display_data"
    },
    {
     "data": {
      "application/vnd.jupyter.widget-view+json": {
       "model_id": "14a90942a0e74db987f6413d2051c9df",
       "version_major": 2,
       "version_minor": 0
      },
      "text/plain": [
       "  0%|          | 0/342 [00:00<?, ?it/s]"
      ]
     },
     "metadata": {},
     "output_type": "display_data"
    },
    {
     "data": {
      "application/vnd.jupyter.widget-view+json": {
       "model_id": "2f5f0f7c82944493b620a2f61a491fe3",
       "version_major": 2,
       "version_minor": 0
      },
      "text/plain": [
       "  0%|          | 0/343 [00:00<?, ?it/s]"
      ]
     },
     "metadata": {},
     "output_type": "display_data"
    },
    {
     "data": {
      "application/vnd.jupyter.widget-view+json": {
       "model_id": "5c6b039e0cb84d5ab2b0b354269bd78c",
       "version_major": 2,
       "version_minor": 0
      },
      "text/plain": [
       "  0%|          | 0/344 [00:00<?, ?it/s]"
      ]
     },
     "metadata": {},
     "output_type": "display_data"
    },
    {
     "data": {
      "application/vnd.jupyter.widget-view+json": {
       "model_id": "afc92ce620cf4d99ba71ca731b5f5c37",
       "version_major": 2,
       "version_minor": 0
      },
      "text/plain": [
       "  0%|          | 0/345 [00:00<?, ?it/s]"
      ]
     },
     "metadata": {},
     "output_type": "display_data"
    },
    {
     "data": {
      "application/vnd.jupyter.widget-view+json": {
       "model_id": "55646e8b17354344a35cf646de0a3c42",
       "version_major": 2,
       "version_minor": 0
      },
      "text/plain": [
       "  0%|          | 0/346 [00:00<?, ?it/s]"
      ]
     },
     "metadata": {},
     "output_type": "display_data"
    },
    {
     "data": {
      "application/vnd.jupyter.widget-view+json": {
       "model_id": "6d6f8c28bc5347e7a4259c4fc196aa5f",
       "version_major": 2,
       "version_minor": 0
      },
      "text/plain": [
       "  0%|          | 0/347 [00:00<?, ?it/s]"
      ]
     },
     "metadata": {},
     "output_type": "display_data"
    },
    {
     "data": {
      "application/vnd.jupyter.widget-view+json": {
       "model_id": "3e5ab1122f8f4edd91537eab00603855",
       "version_major": 2,
       "version_minor": 0
      },
      "text/plain": [
       "  0%|          | 0/348 [00:00<?, ?it/s]"
      ]
     },
     "metadata": {},
     "output_type": "display_data"
    },
    {
     "data": {
      "application/vnd.jupyter.widget-view+json": {
       "model_id": "0806fa09479b47cfa2466502328ec6fb",
       "version_major": 2,
       "version_minor": 0
      },
      "text/plain": [
       "  0%|          | 0/349 [00:00<?, ?it/s]"
      ]
     },
     "metadata": {},
     "output_type": "display_data"
    },
    {
     "data": {
      "application/vnd.jupyter.widget-view+json": {
       "model_id": "eeb1e6483d814853a694dedf9754c9e5",
       "version_major": 2,
       "version_minor": 0
      },
      "text/plain": [
       "  0%|          | 0/350 [00:00<?, ?it/s]"
      ]
     },
     "metadata": {},
     "output_type": "display_data"
    },
    {
     "data": {
      "application/vnd.jupyter.widget-view+json": {
       "model_id": "e3978e1004cf43348391ede006a78388",
       "version_major": 2,
       "version_minor": 0
      },
      "text/plain": [
       "  0%|          | 0/351 [00:00<?, ?it/s]"
      ]
     },
     "metadata": {},
     "output_type": "display_data"
    },
    {
     "data": {
      "application/vnd.jupyter.widget-view+json": {
       "model_id": "ed6b667a61d6447f9a64ec7dd3182943",
       "version_major": 2,
       "version_minor": 0
      },
      "text/plain": [
       "  0%|          | 0/352 [00:00<?, ?it/s]"
      ]
     },
     "metadata": {},
     "output_type": "display_data"
    },
    {
     "data": {
      "application/vnd.jupyter.widget-view+json": {
       "model_id": "bd38b66fc2db4950beb6fe38f67576c8",
       "version_major": 2,
       "version_minor": 0
      },
      "text/plain": [
       "  0%|          | 0/353 [00:00<?, ?it/s]"
      ]
     },
     "metadata": {},
     "output_type": "display_data"
    },
    {
     "data": {
      "application/vnd.jupyter.widget-view+json": {
       "model_id": "315213ab3e3144628348edd3801660da",
       "version_major": 2,
       "version_minor": 0
      },
      "text/plain": [
       "  0%|          | 0/354 [00:00<?, ?it/s]"
      ]
     },
     "metadata": {},
     "output_type": "display_data"
    },
    {
     "data": {
      "application/vnd.jupyter.widget-view+json": {
       "model_id": "6dbe315c31354f8294faa5f43359d308",
       "version_major": 2,
       "version_minor": 0
      },
      "text/plain": [
       "  0%|          | 0/355 [00:00<?, ?it/s]"
      ]
     },
     "metadata": {},
     "output_type": "display_data"
    },
    {
     "data": {
      "application/vnd.jupyter.widget-view+json": {
       "model_id": "8c2f34033c1e4250bd2fc92a4802c4af",
       "version_major": 2,
       "version_minor": 0
      },
      "text/plain": [
       "  0%|          | 0/356 [00:00<?, ?it/s]"
      ]
     },
     "metadata": {},
     "output_type": "display_data"
    },
    {
     "data": {
      "application/vnd.jupyter.widget-view+json": {
       "model_id": "c4990371364247ffad931c089d3ff203",
       "version_major": 2,
       "version_minor": 0
      },
      "text/plain": [
       "  0%|          | 0/357 [00:00<?, ?it/s]"
      ]
     },
     "metadata": {},
     "output_type": "display_data"
    },
    {
     "data": {
      "application/vnd.jupyter.widget-view+json": {
       "model_id": "e16d500cd3d241039637eead2efcf1bb",
       "version_major": 2,
       "version_minor": 0
      },
      "text/plain": [
       "  0%|          | 0/358 [00:00<?, ?it/s]"
      ]
     },
     "metadata": {},
     "output_type": "display_data"
    },
    {
     "data": {
      "application/vnd.jupyter.widget-view+json": {
       "model_id": "28ffb01bccb24fa9858eeb6322f1cf74",
       "version_major": 2,
       "version_minor": 0
      },
      "text/plain": [
       "  0%|          | 0/359 [00:00<?, ?it/s]"
      ]
     },
     "metadata": {},
     "output_type": "display_data"
    },
    {
     "data": {
      "application/vnd.jupyter.widget-view+json": {
       "model_id": "4d145dbaa2b74fb4b93542231272ca7f",
       "version_major": 2,
       "version_minor": 0
      },
      "text/plain": [
       "  0%|          | 0/360 [00:00<?, ?it/s]"
      ]
     },
     "metadata": {},
     "output_type": "display_data"
    },
    {
     "data": {
      "application/vnd.jupyter.widget-view+json": {
       "model_id": "0d85802989404c2fbf44f25ddbe7772c",
       "version_major": 2,
       "version_minor": 0
      },
      "text/plain": [
       "  0%|          | 0/361 [00:00<?, ?it/s]"
      ]
     },
     "metadata": {},
     "output_type": "display_data"
    },
    {
     "data": {
      "application/vnd.jupyter.widget-view+json": {
       "model_id": "7e2d898607964be0b63e7ca3b63b9858",
       "version_major": 2,
       "version_minor": 0
      },
      "text/plain": [
       "  0%|          | 0/362 [00:00<?, ?it/s]"
      ]
     },
     "metadata": {},
     "output_type": "display_data"
    },
    {
     "data": {
      "application/vnd.jupyter.widget-view+json": {
       "model_id": "343eebe1f2b14592830b6ced5494b69a",
       "version_major": 2,
       "version_minor": 0
      },
      "text/plain": [
       "  0%|          | 0/363 [00:00<?, ?it/s]"
      ]
     },
     "metadata": {},
     "output_type": "display_data"
    },
    {
     "data": {
      "application/vnd.jupyter.widget-view+json": {
       "model_id": "f169906f3f464b56bdfecc3b366bdf06",
       "version_major": 2,
       "version_minor": 0
      },
      "text/plain": [
       "  0%|          | 0/364 [00:00<?, ?it/s]"
      ]
     },
     "metadata": {},
     "output_type": "display_data"
    },
    {
     "data": {
      "application/vnd.jupyter.widget-view+json": {
       "model_id": "46571ac63feb4c619d294425d1eb6192",
       "version_major": 2,
       "version_minor": 0
      },
      "text/plain": [
       "  0%|          | 0/365 [00:00<?, ?it/s]"
      ]
     },
     "metadata": {},
     "output_type": "display_data"
    },
    {
     "data": {
      "application/vnd.jupyter.widget-view+json": {
       "model_id": "417acfe88c984cc8b22b422a48384202",
       "version_major": 2,
       "version_minor": 0
      },
      "text/plain": [
       "  0%|          | 0/366 [00:00<?, ?it/s]"
      ]
     },
     "metadata": {},
     "output_type": "display_data"
    },
    {
     "data": {
      "application/vnd.jupyter.widget-view+json": {
       "model_id": "48972639c6174b08a46073761b95b28f",
       "version_major": 2,
       "version_minor": 0
      },
      "text/plain": [
       "  0%|          | 0/367 [00:00<?, ?it/s]"
      ]
     },
     "metadata": {},
     "output_type": "display_data"
    },
    {
     "data": {
      "application/vnd.jupyter.widget-view+json": {
       "model_id": "7d097bbe7d6046a6bb8bec6f2aff4e41",
       "version_major": 2,
       "version_minor": 0
      },
      "text/plain": [
       "  0%|          | 0/368 [00:00<?, ?it/s]"
      ]
     },
     "metadata": {},
     "output_type": "display_data"
    },
    {
     "data": {
      "application/vnd.jupyter.widget-view+json": {
       "model_id": "2bef1dd17c344999998a88d98d5df137",
       "version_major": 2,
       "version_minor": 0
      },
      "text/plain": [
       "  0%|          | 0/369 [00:00<?, ?it/s]"
      ]
     },
     "metadata": {},
     "output_type": "display_data"
    },
    {
     "data": {
      "application/vnd.jupyter.widget-view+json": {
       "model_id": "625ac03e46d24792b291520639829f04",
       "version_major": 2,
       "version_minor": 0
      },
      "text/plain": [
       "  0%|          | 0/370 [00:00<?, ?it/s]"
      ]
     },
     "metadata": {},
     "output_type": "display_data"
    },
    {
     "data": {
      "application/vnd.jupyter.widget-view+json": {
       "model_id": "150cf6fa76264e389559042b7e3e3856",
       "version_major": 2,
       "version_minor": 0
      },
      "text/plain": [
       "  0%|          | 0/371 [00:00<?, ?it/s]"
      ]
     },
     "metadata": {},
     "output_type": "display_data"
    },
    {
     "data": {
      "application/vnd.jupyter.widget-view+json": {
       "model_id": "f97389b3734d46e2a0eb8bfe67e70304",
       "version_major": 2,
       "version_minor": 0
      },
      "text/plain": [
       "  0%|          | 0/372 [00:00<?, ?it/s]"
      ]
     },
     "metadata": {},
     "output_type": "display_data"
    },
    {
     "data": {
      "application/vnd.jupyter.widget-view+json": {
       "model_id": "1a2d73b9a04c403fb0d85024de36f99d",
       "version_major": 2,
       "version_minor": 0
      },
      "text/plain": [
       "  0%|          | 0/373 [00:00<?, ?it/s]"
      ]
     },
     "metadata": {},
     "output_type": "display_data"
    },
    {
     "data": {
      "application/vnd.jupyter.widget-view+json": {
       "model_id": "de2e2f0a633c473ba9345f738ffd28ac",
       "version_major": 2,
       "version_minor": 0
      },
      "text/plain": [
       "  0%|          | 0/374 [00:00<?, ?it/s]"
      ]
     },
     "metadata": {},
     "output_type": "display_data"
    },
    {
     "data": {
      "application/vnd.jupyter.widget-view+json": {
       "model_id": "ac2f85412ad34001952e69fa6efa220f",
       "version_major": 2,
       "version_minor": 0
      },
      "text/plain": [
       "  0%|          | 0/375 [00:00<?, ?it/s]"
      ]
     },
     "metadata": {},
     "output_type": "display_data"
    },
    {
     "data": {
      "application/vnd.jupyter.widget-view+json": {
       "model_id": "43489704782f4a6bae097f291b690d37",
       "version_major": 2,
       "version_minor": 0
      },
      "text/plain": [
       "  0%|          | 0/376 [00:00<?, ?it/s]"
      ]
     },
     "metadata": {},
     "output_type": "display_data"
    },
    {
     "data": {
      "application/vnd.jupyter.widget-view+json": {
       "model_id": "175d634eec874449876380b9d11fe032",
       "version_major": 2,
       "version_minor": 0
      },
      "text/plain": [
       "  0%|          | 0/377 [00:00<?, ?it/s]"
      ]
     },
     "metadata": {},
     "output_type": "display_data"
    },
    {
     "data": {
      "application/vnd.jupyter.widget-view+json": {
       "model_id": "a606e77888b74767990ae5863fd348ad",
       "version_major": 2,
       "version_minor": 0
      },
      "text/plain": [
       "  0%|          | 0/378 [00:00<?, ?it/s]"
      ]
     },
     "metadata": {},
     "output_type": "display_data"
    },
    {
     "data": {
      "application/vnd.jupyter.widget-view+json": {
       "model_id": "f946b3b74cfe4575b503f02bd07c84b3",
       "version_major": 2,
       "version_minor": 0
      },
      "text/plain": [
       "  0%|          | 0/379 [00:00<?, ?it/s]"
      ]
     },
     "metadata": {},
     "output_type": "display_data"
    },
    {
     "data": {
      "application/vnd.jupyter.widget-view+json": {
       "model_id": "14997f1aec63400bb9e02e3c817c4bef",
       "version_major": 2,
       "version_minor": 0
      },
      "text/plain": [
       "  0%|          | 0/380 [00:00<?, ?it/s]"
      ]
     },
     "metadata": {},
     "output_type": "display_data"
    },
    {
     "data": {
      "application/vnd.jupyter.widget-view+json": {
       "model_id": "5684ae4848554339b8180b181659af5d",
       "version_major": 2,
       "version_minor": 0
      },
      "text/plain": [
       "  0%|          | 0/381 [00:00<?, ?it/s]"
      ]
     },
     "metadata": {},
     "output_type": "display_data"
    },
    {
     "data": {
      "application/vnd.jupyter.widget-view+json": {
       "model_id": "9dbbf0fde6864abe9ac851d1cff90af9",
       "version_major": 2,
       "version_minor": 0
      },
      "text/plain": [
       "  0%|          | 0/382 [00:00<?, ?it/s]"
      ]
     },
     "metadata": {},
     "output_type": "display_data"
    },
    {
     "data": {
      "application/vnd.jupyter.widget-view+json": {
       "model_id": "39bb7b1172ca427cb96072b76724180c",
       "version_major": 2,
       "version_minor": 0
      },
      "text/plain": [
       "  0%|          | 0/383 [00:00<?, ?it/s]"
      ]
     },
     "metadata": {},
     "output_type": "display_data"
    },
    {
     "data": {
      "application/vnd.jupyter.widget-view+json": {
       "model_id": "720295ce563f4a3683c7b21da0ffa432",
       "version_major": 2,
       "version_minor": 0
      },
      "text/plain": [
       "  0%|          | 0/384 [00:00<?, ?it/s]"
      ]
     },
     "metadata": {},
     "output_type": "display_data"
    },
    {
     "data": {
      "application/vnd.jupyter.widget-view+json": {
       "model_id": "4bcf96a9f90b4f06b167160a5483c5ae",
       "version_major": 2,
       "version_minor": 0
      },
      "text/plain": [
       "  0%|          | 0/385 [00:00<?, ?it/s]"
      ]
     },
     "metadata": {},
     "output_type": "display_data"
    },
    {
     "data": {
      "application/vnd.jupyter.widget-view+json": {
       "model_id": "6327783171ae491798cdc1ef672c6409",
       "version_major": 2,
       "version_minor": 0
      },
      "text/plain": [
       "  0%|          | 0/386 [00:00<?, ?it/s]"
      ]
     },
     "metadata": {},
     "output_type": "display_data"
    },
    {
     "data": {
      "application/vnd.jupyter.widget-view+json": {
       "model_id": "d655e6e544d14e74b793b594d96df7c1",
       "version_major": 2,
       "version_minor": 0
      },
      "text/plain": [
       "  0%|          | 0/387 [00:00<?, ?it/s]"
      ]
     },
     "metadata": {},
     "output_type": "display_data"
    },
    {
     "data": {
      "application/vnd.jupyter.widget-view+json": {
       "model_id": "1658dbcc8deb4f43a63a046f433313d1",
       "version_major": 2,
       "version_minor": 0
      },
      "text/plain": [
       "  0%|          | 0/388 [00:00<?, ?it/s]"
      ]
     },
     "metadata": {},
     "output_type": "display_data"
    },
    {
     "data": {
      "application/vnd.jupyter.widget-view+json": {
       "model_id": "48d129dac7b841aabb500f9899bb7d90",
       "version_major": 2,
       "version_minor": 0
      },
      "text/plain": [
       "  0%|          | 0/389 [00:00<?, ?it/s]"
      ]
     },
     "metadata": {},
     "output_type": "display_data"
    },
    {
     "data": {
      "application/vnd.jupyter.widget-view+json": {
       "model_id": "d5e8f87983264702a3f1b5f9f73418d5",
       "version_major": 2,
       "version_minor": 0
      },
      "text/plain": [
       "  0%|          | 0/390 [00:00<?, ?it/s]"
      ]
     },
     "metadata": {},
     "output_type": "display_data"
    },
    {
     "data": {
      "application/vnd.jupyter.widget-view+json": {
       "model_id": "08b4e9e220a347ca8b36ddaadffc5519",
       "version_major": 2,
       "version_minor": 0
      },
      "text/plain": [
       "  0%|          | 0/391 [00:00<?, ?it/s]"
      ]
     },
     "metadata": {},
     "output_type": "display_data"
    },
    {
     "data": {
      "application/vnd.jupyter.widget-view+json": {
       "model_id": "5ba9850b8472408fa9367a71822128c4",
       "version_major": 2,
       "version_minor": 0
      },
      "text/plain": [
       "  0%|          | 0/392 [00:00<?, ?it/s]"
      ]
     },
     "metadata": {},
     "output_type": "display_data"
    },
    {
     "data": {
      "application/vnd.jupyter.widget-view+json": {
       "model_id": "7f696546fe72456dab4fbf3b0cff4b15",
       "version_major": 2,
       "version_minor": 0
      },
      "text/plain": [
       "  0%|          | 0/393 [00:00<?, ?it/s]"
      ]
     },
     "metadata": {},
     "output_type": "display_data"
    },
    {
     "data": {
      "application/vnd.jupyter.widget-view+json": {
       "model_id": "ae713efb63214cecbc65b0ce72656afa",
       "version_major": 2,
       "version_minor": 0
      },
      "text/plain": [
       "  0%|          | 0/394 [00:00<?, ?it/s]"
      ]
     },
     "metadata": {},
     "output_type": "display_data"
    },
    {
     "data": {
      "application/vnd.jupyter.widget-view+json": {
       "model_id": "0d80dfdabde84beca45755d774615b73",
       "version_major": 2,
       "version_minor": 0
      },
      "text/plain": [
       "  0%|          | 0/395 [00:00<?, ?it/s]"
      ]
     },
     "metadata": {},
     "output_type": "display_data"
    },
    {
     "data": {
      "application/vnd.jupyter.widget-view+json": {
       "model_id": "3427d53459444f9f8c8132c7ff6fc3db",
       "version_major": 2,
       "version_minor": 0
      },
      "text/plain": [
       "  0%|          | 0/396 [00:00<?, ?it/s]"
      ]
     },
     "metadata": {},
     "output_type": "display_data"
    },
    {
     "data": {
      "application/vnd.jupyter.widget-view+json": {
       "model_id": "484180ad7c4240e6819a288c792174f8",
       "version_major": 2,
       "version_minor": 0
      },
      "text/plain": [
       "  0%|          | 0/397 [00:00<?, ?it/s]"
      ]
     },
     "metadata": {},
     "output_type": "display_data"
    },
    {
     "data": {
      "application/vnd.jupyter.widget-view+json": {
       "model_id": "7e2f3c7d362245fd8a7a419655e10b5b",
       "version_major": 2,
       "version_minor": 0
      },
      "text/plain": [
       "  0%|          | 0/398 [00:00<?, ?it/s]"
      ]
     },
     "metadata": {},
     "output_type": "display_data"
    },
    {
     "data": {
      "application/vnd.jupyter.widget-view+json": {
       "model_id": "aceca17cd88f4d308d665661ccdfa07f",
       "version_major": 2,
       "version_minor": 0
      },
      "text/plain": [
       "  0%|          | 0/399 [00:00<?, ?it/s]"
      ]
     },
     "metadata": {},
     "output_type": "display_data"
    },
    {
     "data": {
      "application/vnd.jupyter.widget-view+json": {
       "model_id": "42e9b2ceba6e462190188d7f231ed917",
       "version_major": 2,
       "version_minor": 0
      },
      "text/plain": [
       "  0%|          | 0/400 [00:00<?, ?it/s]"
      ]
     },
     "metadata": {},
     "output_type": "display_data"
    },
    {
     "data": {
      "application/vnd.jupyter.widget-view+json": {
       "model_id": "c01f539e88ef4e159c50104ac8dcdc63",
       "version_major": 2,
       "version_minor": 0
      },
      "text/plain": [
       "  0%|          | 0/401 [00:00<?, ?it/s]"
      ]
     },
     "metadata": {},
     "output_type": "display_data"
    },
    {
     "data": {
      "application/vnd.jupyter.widget-view+json": {
       "model_id": "054524e3837546809a8c5c54677a7c8c",
       "version_major": 2,
       "version_minor": 0
      },
      "text/plain": [
       "  0%|          | 0/402 [00:00<?, ?it/s]"
      ]
     },
     "metadata": {},
     "output_type": "display_data"
    },
    {
     "data": {
      "application/vnd.jupyter.widget-view+json": {
       "model_id": "11403f8f07d345a48fd1f9f804eca40f",
       "version_major": 2,
       "version_minor": 0
      },
      "text/plain": [
       "  0%|          | 0/403 [00:00<?, ?it/s]"
      ]
     },
     "metadata": {},
     "output_type": "display_data"
    },
    {
     "data": {
      "application/vnd.jupyter.widget-view+json": {
       "model_id": "c96071f086ff460a9248a754ac484937",
       "version_major": 2,
       "version_minor": 0
      },
      "text/plain": [
       "  0%|          | 0/404 [00:00<?, ?it/s]"
      ]
     },
     "metadata": {},
     "output_type": "display_data"
    },
    {
     "data": {
      "application/vnd.jupyter.widget-view+json": {
       "model_id": "4c80af4d1ac1405da8146de47373ebda",
       "version_major": 2,
       "version_minor": 0
      },
      "text/plain": [
       "  0%|          | 0/405 [00:00<?, ?it/s]"
      ]
     },
     "metadata": {},
     "output_type": "display_data"
    },
    {
     "data": {
      "application/vnd.jupyter.widget-view+json": {
       "model_id": "0e06ff21adb04c56b33aebe1ec026675",
       "version_major": 2,
       "version_minor": 0
      },
      "text/plain": [
       "  0%|          | 0/406 [00:00<?, ?it/s]"
      ]
     },
     "metadata": {},
     "output_type": "display_data"
    },
    {
     "data": {
      "application/vnd.jupyter.widget-view+json": {
       "model_id": "d925455fa23e430f94782d9d96d144d9",
       "version_major": 2,
       "version_minor": 0
      },
      "text/plain": [
       "  0%|          | 0/407 [00:00<?, ?it/s]"
      ]
     },
     "metadata": {},
     "output_type": "display_data"
    },
    {
     "data": {
      "application/vnd.jupyter.widget-view+json": {
       "model_id": "147540e6c9334d0facbfb0d4f318b679",
       "version_major": 2,
       "version_minor": 0
      },
      "text/plain": [
       "  0%|          | 0/408 [00:00<?, ?it/s]"
      ]
     },
     "metadata": {},
     "output_type": "display_data"
    },
    {
     "data": {
      "application/vnd.jupyter.widget-view+json": {
       "model_id": "865368a120e54d6f8c7487af01792016",
       "version_major": 2,
       "version_minor": 0
      },
      "text/plain": [
       "  0%|          | 0/409 [00:00<?, ?it/s]"
      ]
     },
     "metadata": {},
     "output_type": "display_data"
    },
    {
     "data": {
      "application/vnd.jupyter.widget-view+json": {
       "model_id": "e40a6c56ee0e48b8a64d3a8cf2faddcc",
       "version_major": 2,
       "version_minor": 0
      },
      "text/plain": [
       "  0%|          | 0/410 [00:00<?, ?it/s]"
      ]
     },
     "metadata": {},
     "output_type": "display_data"
    },
    {
     "data": {
      "application/vnd.jupyter.widget-view+json": {
       "model_id": "485402a572e8435b958fb67faf5b8a15",
       "version_major": 2,
       "version_minor": 0
      },
      "text/plain": [
       "  0%|          | 0/411 [00:00<?, ?it/s]"
      ]
     },
     "metadata": {},
     "output_type": "display_data"
    },
    {
     "data": {
      "application/vnd.jupyter.widget-view+json": {
       "model_id": "0fac7f0fee34489caa82e7f327def90d",
       "version_major": 2,
       "version_minor": 0
      },
      "text/plain": [
       "  0%|          | 0/412 [00:00<?, ?it/s]"
      ]
     },
     "metadata": {},
     "output_type": "display_data"
    },
    {
     "data": {
      "application/vnd.jupyter.widget-view+json": {
       "model_id": "fcfe772ad7dd46c080d6a1571ceb59b6",
       "version_major": 2,
       "version_minor": 0
      },
      "text/plain": [
       "  0%|          | 0/413 [00:00<?, ?it/s]"
      ]
     },
     "metadata": {},
     "output_type": "display_data"
    },
    {
     "data": {
      "application/vnd.jupyter.widget-view+json": {
       "model_id": "10063876d8214d4e9c60bf953836a685",
       "version_major": 2,
       "version_minor": 0
      },
      "text/plain": [
       "  0%|          | 0/414 [00:00<?, ?it/s]"
      ]
     },
     "metadata": {},
     "output_type": "display_data"
    },
    {
     "data": {
      "application/vnd.jupyter.widget-view+json": {
       "model_id": "a04ce2b6b6ed4ae584b62e7af5641000",
       "version_major": 2,
       "version_minor": 0
      },
      "text/plain": [
       "  0%|          | 0/415 [00:00<?, ?it/s]"
      ]
     },
     "metadata": {},
     "output_type": "display_data"
    },
    {
     "data": {
      "application/vnd.jupyter.widget-view+json": {
       "model_id": "2a8f635c58044fe0a82943523a730c1e",
       "version_major": 2,
       "version_minor": 0
      },
      "text/plain": [
       "  0%|          | 0/416 [00:00<?, ?it/s]"
      ]
     },
     "metadata": {},
     "output_type": "display_data"
    },
    {
     "data": {
      "application/vnd.jupyter.widget-view+json": {
       "model_id": "de2fcd41e1aa48a9bcb414620c4e563d",
       "version_major": 2,
       "version_minor": 0
      },
      "text/plain": [
       "  0%|          | 0/417 [00:00<?, ?it/s]"
      ]
     },
     "metadata": {},
     "output_type": "display_data"
    },
    {
     "data": {
      "application/vnd.jupyter.widget-view+json": {
       "model_id": "e2d113f277f74ffeaa16ae9aeedc2424",
       "version_major": 2,
       "version_minor": 0
      },
      "text/plain": [
       "  0%|          | 0/418 [00:00<?, ?it/s]"
      ]
     },
     "metadata": {},
     "output_type": "display_data"
    },
    {
     "data": {
      "application/vnd.jupyter.widget-view+json": {
       "model_id": "dc34edf07e2249af9558bc900b9338b3",
       "version_major": 2,
       "version_minor": 0
      },
      "text/plain": [
       "  0%|          | 0/419 [00:00<?, ?it/s]"
      ]
     },
     "metadata": {},
     "output_type": "display_data"
    },
    {
     "data": {
      "application/vnd.jupyter.widget-view+json": {
       "model_id": "fa659dba860542d291cde90594c1944a",
       "version_major": 2,
       "version_minor": 0
      },
      "text/plain": [
       "  0%|          | 0/420 [00:00<?, ?it/s]"
      ]
     },
     "metadata": {},
     "output_type": "display_data"
    },
    {
     "data": {
      "application/vnd.jupyter.widget-view+json": {
       "model_id": "110cee549b0f42519fc1425920904b8b",
       "version_major": 2,
       "version_minor": 0
      },
      "text/plain": [
       "  0%|          | 0/421 [00:00<?, ?it/s]"
      ]
     },
     "metadata": {},
     "output_type": "display_data"
    },
    {
     "data": {
      "application/vnd.jupyter.widget-view+json": {
       "model_id": "00b0ea31f7b2483aba4fc36dadd2dd5a",
       "version_major": 2,
       "version_minor": 0
      },
      "text/plain": [
       "  0%|          | 0/422 [00:00<?, ?it/s]"
      ]
     },
     "metadata": {},
     "output_type": "display_data"
    },
    {
     "data": {
      "application/vnd.jupyter.widget-view+json": {
       "model_id": "1ed88186929d4b8788f33a584808df61",
       "version_major": 2,
       "version_minor": 0
      },
      "text/plain": [
       "  0%|          | 0/423 [00:00<?, ?it/s]"
      ]
     },
     "metadata": {},
     "output_type": "display_data"
    },
    {
     "data": {
      "application/vnd.jupyter.widget-view+json": {
       "model_id": "d721e963155b44bf807766248661044b",
       "version_major": 2,
       "version_minor": 0
      },
      "text/plain": [
       "  0%|          | 0/424 [00:00<?, ?it/s]"
      ]
     },
     "metadata": {},
     "output_type": "display_data"
    },
    {
     "data": {
      "application/vnd.jupyter.widget-view+json": {
       "model_id": "17659b425b8a42e4bc09b44d434246ea",
       "version_major": 2,
       "version_minor": 0
      },
      "text/plain": [
       "  0%|          | 0/425 [00:00<?, ?it/s]"
      ]
     },
     "metadata": {},
     "output_type": "display_data"
    },
    {
     "data": {
      "application/vnd.jupyter.widget-view+json": {
       "model_id": "7c4ef0a020d3485e8749d6f9969ae0e7",
       "version_major": 2,
       "version_minor": 0
      },
      "text/plain": [
       "  0%|          | 0/426 [00:00<?, ?it/s]"
      ]
     },
     "metadata": {},
     "output_type": "display_data"
    },
    {
     "data": {
      "application/vnd.jupyter.widget-view+json": {
       "model_id": "b0ed0d9c89c742b6b97fbf63ca3eb824",
       "version_major": 2,
       "version_minor": 0
      },
      "text/plain": [
       "  0%|          | 0/427 [00:00<?, ?it/s]"
      ]
     },
     "metadata": {},
     "output_type": "display_data"
    },
    {
     "data": {
      "application/vnd.jupyter.widget-view+json": {
       "model_id": "86403269783c4573bc3be5f81eaac084",
       "version_major": 2,
       "version_minor": 0
      },
      "text/plain": [
       "  0%|          | 0/428 [00:00<?, ?it/s]"
      ]
     },
     "metadata": {},
     "output_type": "display_data"
    },
    {
     "data": {
      "application/vnd.jupyter.widget-view+json": {
       "model_id": "60739cef677344668344ed195392c785",
       "version_major": 2,
       "version_minor": 0
      },
      "text/plain": [
       "  0%|          | 0/429 [00:00<?, ?it/s]"
      ]
     },
     "metadata": {},
     "output_type": "display_data"
    },
    {
     "data": {
      "application/vnd.jupyter.widget-view+json": {
       "model_id": "c729179877584ae29986aee3f579d900",
       "version_major": 2,
       "version_minor": 0
      },
      "text/plain": [
       "  0%|          | 0/430 [00:00<?, ?it/s]"
      ]
     },
     "metadata": {},
     "output_type": "display_data"
    },
    {
     "data": {
      "application/vnd.jupyter.widget-view+json": {
       "model_id": "a2f39f98e31e4cddb5902bdcf493c762",
       "version_major": 2,
       "version_minor": 0
      },
      "text/plain": [
       "  0%|          | 0/431 [00:00<?, ?it/s]"
      ]
     },
     "metadata": {},
     "output_type": "display_data"
    },
    {
     "data": {
      "application/vnd.jupyter.widget-view+json": {
       "model_id": "87ed76dced3d4e159fb8de367b7aebe7",
       "version_major": 2,
       "version_minor": 0
      },
      "text/plain": [
       "  0%|          | 0/432 [00:00<?, ?it/s]"
      ]
     },
     "metadata": {},
     "output_type": "display_data"
    },
    {
     "data": {
      "application/vnd.jupyter.widget-view+json": {
       "model_id": "23ba9ac36689484bb29106d62c8b7f6b",
       "version_major": 2,
       "version_minor": 0
      },
      "text/plain": [
       "  0%|          | 0/433 [00:00<?, ?it/s]"
      ]
     },
     "metadata": {},
     "output_type": "display_data"
    },
    {
     "data": {
      "application/vnd.jupyter.widget-view+json": {
       "model_id": "163e6306ac2c4f1ab4db2ab339b300d2",
       "version_major": 2,
       "version_minor": 0
      },
      "text/plain": [
       "  0%|          | 0/434 [00:00<?, ?it/s]"
      ]
     },
     "metadata": {},
     "output_type": "display_data"
    },
    {
     "data": {
      "application/vnd.jupyter.widget-view+json": {
       "model_id": "06cbc72339834091a780b3cf9e291499",
       "version_major": 2,
       "version_minor": 0
      },
      "text/plain": [
       "  0%|          | 0/435 [00:00<?, ?it/s]"
      ]
     },
     "metadata": {},
     "output_type": "display_data"
    },
    {
     "data": {
      "application/vnd.jupyter.widget-view+json": {
       "model_id": "bc63fe0167054f3995fd83b26c0df6fc",
       "version_major": 2,
       "version_minor": 0
      },
      "text/plain": [
       "  0%|          | 0/436 [00:00<?, ?it/s]"
      ]
     },
     "metadata": {},
     "output_type": "display_data"
    },
    {
     "data": {
      "application/vnd.jupyter.widget-view+json": {
       "model_id": "b18df2d270d74c328308ef1a9798be3c",
       "version_major": 2,
       "version_minor": 0
      },
      "text/plain": [
       "  0%|          | 0/437 [00:00<?, ?it/s]"
      ]
     },
     "metadata": {},
     "output_type": "display_data"
    },
    {
     "data": {
      "application/vnd.jupyter.widget-view+json": {
       "model_id": "0ab9e678e31043258f3777c5d11934a0",
       "version_major": 2,
       "version_minor": 0
      },
      "text/plain": [
       "  0%|          | 0/438 [00:00<?, ?it/s]"
      ]
     },
     "metadata": {},
     "output_type": "display_data"
    },
    {
     "data": {
      "application/vnd.jupyter.widget-view+json": {
       "model_id": "40f8aa82c02642ae80e351b89e43b081",
       "version_major": 2,
       "version_minor": 0
      },
      "text/plain": [
       "  0%|          | 0/439 [00:00<?, ?it/s]"
      ]
     },
     "metadata": {},
     "output_type": "display_data"
    },
    {
     "data": {
      "application/vnd.jupyter.widget-view+json": {
       "model_id": "c282c6833c3b49bb94214ee640d7eea6",
       "version_major": 2,
       "version_minor": 0
      },
      "text/plain": [
       "  0%|          | 0/440 [00:00<?, ?it/s]"
      ]
     },
     "metadata": {},
     "output_type": "display_data"
    },
    {
     "data": {
      "application/vnd.jupyter.widget-view+json": {
       "model_id": "10e4d896985445b7b96dc5457147adc1",
       "version_major": 2,
       "version_minor": 0
      },
      "text/plain": [
       "  0%|          | 0/441 [00:00<?, ?it/s]"
      ]
     },
     "metadata": {},
     "output_type": "display_data"
    },
    {
     "data": {
      "application/vnd.jupyter.widget-view+json": {
       "model_id": "42fbd064f9a34e4c8807ad123d0be01e",
       "version_major": 2,
       "version_minor": 0
      },
      "text/plain": [
       "  0%|          | 0/442 [00:00<?, ?it/s]"
      ]
     },
     "metadata": {},
     "output_type": "display_data"
    },
    {
     "data": {
      "application/vnd.jupyter.widget-view+json": {
       "model_id": "58bf6b0ff81b4da7a2c23a14c0fe0e36",
       "version_major": 2,
       "version_minor": 0
      },
      "text/plain": [
       "  0%|          | 0/443 [00:00<?, ?it/s]"
      ]
     },
     "metadata": {},
     "output_type": "display_data"
    },
    {
     "data": {
      "application/vnd.jupyter.widget-view+json": {
       "model_id": "1e0585f1510c4feca27cb31c7d470407",
       "version_major": 2,
       "version_minor": 0
      },
      "text/plain": [
       "  0%|          | 0/444 [00:00<?, ?it/s]"
      ]
     },
     "metadata": {},
     "output_type": "display_data"
    },
    {
     "data": {
      "application/vnd.jupyter.widget-view+json": {
       "model_id": "8dc0124a4f83413a91895f498f2d3444",
       "version_major": 2,
       "version_minor": 0
      },
      "text/plain": [
       "  0%|          | 0/445 [00:00<?, ?it/s]"
      ]
     },
     "metadata": {},
     "output_type": "display_data"
    },
    {
     "data": {
      "application/vnd.jupyter.widget-view+json": {
       "model_id": "57a92eddff6d49f58383ac65fb25ed7f",
       "version_major": 2,
       "version_minor": 0
      },
      "text/plain": [
       "  0%|          | 0/446 [00:00<?, ?it/s]"
      ]
     },
     "metadata": {},
     "output_type": "display_data"
    },
    {
     "data": {
      "application/vnd.jupyter.widget-view+json": {
       "model_id": "918c30de0adb4156bf823f37971b63d4",
       "version_major": 2,
       "version_minor": 0
      },
      "text/plain": [
       "  0%|          | 0/447 [00:00<?, ?it/s]"
      ]
     },
     "metadata": {},
     "output_type": "display_data"
    },
    {
     "data": {
      "application/vnd.jupyter.widget-view+json": {
       "model_id": "cfd50672eedb413db58db1a368ced21d",
       "version_major": 2,
       "version_minor": 0
      },
      "text/plain": [
       "  0%|          | 0/448 [00:00<?, ?it/s]"
      ]
     },
     "metadata": {},
     "output_type": "display_data"
    },
    {
     "data": {
      "application/vnd.jupyter.widget-view+json": {
       "model_id": "a6878fcad70448309824fae21ea2be49",
       "version_major": 2,
       "version_minor": 0
      },
      "text/plain": [
       "  0%|          | 0/449 [00:00<?, ?it/s]"
      ]
     },
     "metadata": {},
     "output_type": "display_data"
    },
    {
     "data": {
      "application/vnd.jupyter.widget-view+json": {
       "model_id": "57dbf786d62e4e558d4a871fa39dc1be",
       "version_major": 2,
       "version_minor": 0
      },
      "text/plain": [
       "  0%|          | 0/450 [00:00<?, ?it/s]"
      ]
     },
     "metadata": {},
     "output_type": "display_data"
    },
    {
     "data": {
      "application/vnd.jupyter.widget-view+json": {
       "model_id": "38c497e9016f4d09a7c606ea06e2eaf3",
       "version_major": 2,
       "version_minor": 0
      },
      "text/plain": [
       "  0%|          | 0/451 [00:00<?, ?it/s]"
      ]
     },
     "metadata": {},
     "output_type": "display_data"
    },
    {
     "data": {
      "application/vnd.jupyter.widget-view+json": {
       "model_id": "bda4236426664ef391fe9b6d3eae011b",
       "version_major": 2,
       "version_minor": 0
      },
      "text/plain": [
       "  0%|          | 0/452 [00:00<?, ?it/s]"
      ]
     },
     "metadata": {},
     "output_type": "display_data"
    },
    {
     "data": {
      "application/vnd.jupyter.widget-view+json": {
       "model_id": "e5a6db73a7c7423592a532a15ac79cce",
       "version_major": 2,
       "version_minor": 0
      },
      "text/plain": [
       "  0%|          | 0/453 [00:00<?, ?it/s]"
      ]
     },
     "metadata": {},
     "output_type": "display_data"
    },
    {
     "data": {
      "application/vnd.jupyter.widget-view+json": {
       "model_id": "d9e50727e6774f3abf72cb3b85771170",
       "version_major": 2,
       "version_minor": 0
      },
      "text/plain": [
       "  0%|          | 0/454 [00:00<?, ?it/s]"
      ]
     },
     "metadata": {},
     "output_type": "display_data"
    },
    {
     "data": {
      "application/vnd.jupyter.widget-view+json": {
       "model_id": "20eb83f56c584956b549612277df84ec",
       "version_major": 2,
       "version_minor": 0
      },
      "text/plain": [
       "  0%|          | 0/455 [00:00<?, ?it/s]"
      ]
     },
     "metadata": {},
     "output_type": "display_data"
    },
    {
     "data": {
      "application/vnd.jupyter.widget-view+json": {
       "model_id": "90744c513e2540a3ac00fe8bcad2618b",
       "version_major": 2,
       "version_minor": 0
      },
      "text/plain": [
       "  0%|          | 0/456 [00:00<?, ?it/s]"
      ]
     },
     "metadata": {},
     "output_type": "display_data"
    },
    {
     "data": {
      "application/vnd.jupyter.widget-view+json": {
       "model_id": "5fa9f7ff862f466085108c2bdfaec5f6",
       "version_major": 2,
       "version_minor": 0
      },
      "text/plain": [
       "  0%|          | 0/457 [00:00<?, ?it/s]"
      ]
     },
     "metadata": {},
     "output_type": "display_data"
    },
    {
     "data": {
      "application/vnd.jupyter.widget-view+json": {
       "model_id": "ee217c3c52ca46e58d676eb785c4019c",
       "version_major": 2,
       "version_minor": 0
      },
      "text/plain": [
       "  0%|          | 0/458 [00:00<?, ?it/s]"
      ]
     },
     "metadata": {},
     "output_type": "display_data"
    },
    {
     "data": {
      "application/vnd.jupyter.widget-view+json": {
       "model_id": "97909b90158a4b4b883eca08eab1d1bc",
       "version_major": 2,
       "version_minor": 0
      },
      "text/plain": [
       "  0%|          | 0/459 [00:00<?, ?it/s]"
      ]
     },
     "metadata": {},
     "output_type": "display_data"
    },
    {
     "data": {
      "application/vnd.jupyter.widget-view+json": {
       "model_id": "8271f99f88d04c61bf34490355d1550a",
       "version_major": 2,
       "version_minor": 0
      },
      "text/plain": [
       "  0%|          | 0/460 [00:00<?, ?it/s]"
      ]
     },
     "metadata": {},
     "output_type": "display_data"
    },
    {
     "data": {
      "application/vnd.jupyter.widget-view+json": {
       "model_id": "137764d3a0f4413daea981333febe333",
       "version_major": 2,
       "version_minor": 0
      },
      "text/plain": [
       "  0%|          | 0/461 [00:00<?, ?it/s]"
      ]
     },
     "metadata": {},
     "output_type": "display_data"
    },
    {
     "data": {
      "application/vnd.jupyter.widget-view+json": {
       "model_id": "e037bd314ab2420389d831413bb39c10",
       "version_major": 2,
       "version_minor": 0
      },
      "text/plain": [
       "  0%|          | 0/462 [00:00<?, ?it/s]"
      ]
     },
     "metadata": {},
     "output_type": "display_data"
    },
    {
     "data": {
      "application/vnd.jupyter.widget-view+json": {
       "model_id": "4ba5b4981cbf467f9704059908f85f18",
       "version_major": 2,
       "version_minor": 0
      },
      "text/plain": [
       "  0%|          | 0/463 [00:00<?, ?it/s]"
      ]
     },
     "metadata": {},
     "output_type": "display_data"
    },
    {
     "data": {
      "application/vnd.jupyter.widget-view+json": {
       "model_id": "e176eb68ac9a4fef9f5f9e0058af77f9",
       "version_major": 2,
       "version_minor": 0
      },
      "text/plain": [
       "  0%|          | 0/464 [00:00<?, ?it/s]"
      ]
     },
     "metadata": {},
     "output_type": "display_data"
    },
    {
     "data": {
      "application/vnd.jupyter.widget-view+json": {
       "model_id": "bbd4a0882bfe486d94468ecec6a235e2",
       "version_major": 2,
       "version_minor": 0
      },
      "text/plain": [
       "  0%|          | 0/465 [00:00<?, ?it/s]"
      ]
     },
     "metadata": {},
     "output_type": "display_data"
    },
    {
     "data": {
      "application/vnd.jupyter.widget-view+json": {
       "model_id": "59b8b43cea4049318d78af2a5358ff1e",
       "version_major": 2,
       "version_minor": 0
      },
      "text/plain": [
       "  0%|          | 0/466 [00:00<?, ?it/s]"
      ]
     },
     "metadata": {},
     "output_type": "display_data"
    },
    {
     "data": {
      "application/vnd.jupyter.widget-view+json": {
       "model_id": "f6f2a30e61a344bd9096a8cfb62a6774",
       "version_major": 2,
       "version_minor": 0
      },
      "text/plain": [
       "  0%|          | 0/467 [00:00<?, ?it/s]"
      ]
     },
     "metadata": {},
     "output_type": "display_data"
    },
    {
     "data": {
      "application/vnd.jupyter.widget-view+json": {
       "model_id": "a0f06180679b419db609a13af6fdfbf8",
       "version_major": 2,
       "version_minor": 0
      },
      "text/plain": [
       "  0%|          | 0/468 [00:00<?, ?it/s]"
      ]
     },
     "metadata": {},
     "output_type": "display_data"
    },
    {
     "data": {
      "application/vnd.jupyter.widget-view+json": {
       "model_id": "e403a17dc0e04fb98e79dc5caa59a0cc",
       "version_major": 2,
       "version_minor": 0
      },
      "text/plain": [
       "  0%|          | 0/469 [00:00<?, ?it/s]"
      ]
     },
     "metadata": {},
     "output_type": "display_data"
    },
    {
     "data": {
      "application/vnd.jupyter.widget-view+json": {
       "model_id": "28d6c5ca899548299a9481038d25d23a",
       "version_major": 2,
       "version_minor": 0
      },
      "text/plain": [
       "  0%|          | 0/470 [00:00<?, ?it/s]"
      ]
     },
     "metadata": {},
     "output_type": "display_data"
    },
    {
     "data": {
      "application/vnd.jupyter.widget-view+json": {
       "model_id": "f3771df5fae34d438fe8889cf84f163d",
       "version_major": 2,
       "version_minor": 0
      },
      "text/plain": [
       "  0%|          | 0/471 [00:00<?, ?it/s]"
      ]
     },
     "metadata": {},
     "output_type": "display_data"
    },
    {
     "data": {
      "application/vnd.jupyter.widget-view+json": {
       "model_id": "c5373637c4674b9aa544043c758c1a4b",
       "version_major": 2,
       "version_minor": 0
      },
      "text/plain": [
       "  0%|          | 0/472 [00:00<?, ?it/s]"
      ]
     },
     "metadata": {},
     "output_type": "display_data"
    },
    {
     "data": {
      "application/vnd.jupyter.widget-view+json": {
       "model_id": "ea57eb0058734304829bb22186336c35",
       "version_major": 2,
       "version_minor": 0
      },
      "text/plain": [
       "  0%|          | 0/473 [00:00<?, ?it/s]"
      ]
     },
     "metadata": {},
     "output_type": "display_data"
    },
    {
     "data": {
      "application/vnd.jupyter.widget-view+json": {
       "model_id": "c3084447755048acb9e64b37f54ca08f",
       "version_major": 2,
       "version_minor": 0
      },
      "text/plain": [
       "  0%|          | 0/474 [00:00<?, ?it/s]"
      ]
     },
     "metadata": {},
     "output_type": "display_data"
    },
    {
     "data": {
      "application/vnd.jupyter.widget-view+json": {
       "model_id": "4255e11bd85645f79c9fc2c98f398740",
       "version_major": 2,
       "version_minor": 0
      },
      "text/plain": [
       "  0%|          | 0/475 [00:00<?, ?it/s]"
      ]
     },
     "metadata": {},
     "output_type": "display_data"
    },
    {
     "data": {
      "application/vnd.jupyter.widget-view+json": {
       "model_id": "6fd1b10482bf4586b426be8e0f628466",
       "version_major": 2,
       "version_minor": 0
      },
      "text/plain": [
       "  0%|          | 0/476 [00:00<?, ?it/s]"
      ]
     },
     "metadata": {},
     "output_type": "display_data"
    },
    {
     "data": {
      "application/vnd.jupyter.widget-view+json": {
       "model_id": "a3c70f5b2de24abaa2edbd6924c54b4f",
       "version_major": 2,
       "version_minor": 0
      },
      "text/plain": [
       "  0%|          | 0/477 [00:00<?, ?it/s]"
      ]
     },
     "metadata": {},
     "output_type": "display_data"
    },
    {
     "data": {
      "application/vnd.jupyter.widget-view+json": {
       "model_id": "02a73c3872fb4b628c7cf5e1c02dba37",
       "version_major": 2,
       "version_minor": 0
      },
      "text/plain": [
       "  0%|          | 0/478 [00:00<?, ?it/s]"
      ]
     },
     "metadata": {},
     "output_type": "display_data"
    },
    {
     "data": {
      "application/vnd.jupyter.widget-view+json": {
       "model_id": "ceb89b1c48bc4114a832a1eec9a04b7f",
       "version_major": 2,
       "version_minor": 0
      },
      "text/plain": [
       "  0%|          | 0/479 [00:00<?, ?it/s]"
      ]
     },
     "metadata": {},
     "output_type": "display_data"
    },
    {
     "data": {
      "application/vnd.jupyter.widget-view+json": {
       "model_id": "8fc56e5d79284f3ba6802331123673b6",
       "version_major": 2,
       "version_minor": 0
      },
      "text/plain": [
       "  0%|          | 0/480 [00:00<?, ?it/s]"
      ]
     },
     "metadata": {},
     "output_type": "display_data"
    },
    {
     "data": {
      "application/vnd.jupyter.widget-view+json": {
       "model_id": "be9a9bcb778e43fa96342f7420de0473",
       "version_major": 2,
       "version_minor": 0
      },
      "text/plain": [
       "  0%|          | 0/481 [00:00<?, ?it/s]"
      ]
     },
     "metadata": {},
     "output_type": "display_data"
    },
    {
     "data": {
      "application/vnd.jupyter.widget-view+json": {
       "model_id": "f102d5f22a444df593ee372f411aa0f3",
       "version_major": 2,
       "version_minor": 0
      },
      "text/plain": [
       "  0%|          | 0/482 [00:00<?, ?it/s]"
      ]
     },
     "metadata": {},
     "output_type": "display_data"
    },
    {
     "data": {
      "application/vnd.jupyter.widget-view+json": {
       "model_id": "593a931a3aaf4a1db5c7bdeafb02990e",
       "version_major": 2,
       "version_minor": 0
      },
      "text/plain": [
       "  0%|          | 0/483 [00:00<?, ?it/s]"
      ]
     },
     "metadata": {},
     "output_type": "display_data"
    },
    {
     "data": {
      "application/vnd.jupyter.widget-view+json": {
       "model_id": "77d7c6729561452680e49f91601af843",
       "version_major": 2,
       "version_minor": 0
      },
      "text/plain": [
       "  0%|          | 0/484 [00:00<?, ?it/s]"
      ]
     },
     "metadata": {},
     "output_type": "display_data"
    },
    {
     "data": {
      "application/vnd.jupyter.widget-view+json": {
       "model_id": "f7be251cfc20480585c0a1c4a84ee4e3",
       "version_major": 2,
       "version_minor": 0
      },
      "text/plain": [
       "  0%|          | 0/485 [00:00<?, ?it/s]"
      ]
     },
     "metadata": {},
     "output_type": "display_data"
    },
    {
     "data": {
      "application/vnd.jupyter.widget-view+json": {
       "model_id": "d69611939f034aefa1aaade2bddc2c80",
       "version_major": 2,
       "version_minor": 0
      },
      "text/plain": [
       "  0%|          | 0/486 [00:00<?, ?it/s]"
      ]
     },
     "metadata": {},
     "output_type": "display_data"
    },
    {
     "data": {
      "application/vnd.jupyter.widget-view+json": {
       "model_id": "6091e6cbc0d44f1988ca2441b35ca67e",
       "version_major": 2,
       "version_minor": 0
      },
      "text/plain": [
       "  0%|          | 0/487 [00:00<?, ?it/s]"
      ]
     },
     "metadata": {},
     "output_type": "display_data"
    },
    {
     "data": {
      "application/vnd.jupyter.widget-view+json": {
       "model_id": "06b09c60fd3548189e711a233492a643",
       "version_major": 2,
       "version_minor": 0
      },
      "text/plain": [
       "  0%|          | 0/488 [00:00<?, ?it/s]"
      ]
     },
     "metadata": {},
     "output_type": "display_data"
    },
    {
     "data": {
      "application/vnd.jupyter.widget-view+json": {
       "model_id": "45009a71ebe0403aa7b0da527f64bc03",
       "version_major": 2,
       "version_minor": 0
      },
      "text/plain": [
       "  0%|          | 0/489 [00:00<?, ?it/s]"
      ]
     },
     "metadata": {},
     "output_type": "display_data"
    },
    {
     "data": {
      "application/vnd.jupyter.widget-view+json": {
       "model_id": "bbac4b29dc7641f1bc3f016640ddedca",
       "version_major": 2,
       "version_minor": 0
      },
      "text/plain": [
       "  0%|          | 0/490 [00:00<?, ?it/s]"
      ]
     },
     "metadata": {},
     "output_type": "display_data"
    },
    {
     "data": {
      "application/vnd.jupyter.widget-view+json": {
       "model_id": "4d6710c5e6674fe59c4a1f416a3de939",
       "version_major": 2,
       "version_minor": 0
      },
      "text/plain": [
       "  0%|          | 0/491 [00:00<?, ?it/s]"
      ]
     },
     "metadata": {},
     "output_type": "display_data"
    },
    {
     "data": {
      "application/vnd.jupyter.widget-view+json": {
       "model_id": "789907747a994279a5214680d2704832",
       "version_major": 2,
       "version_minor": 0
      },
      "text/plain": [
       "  0%|          | 0/492 [00:00<?, ?it/s]"
      ]
     },
     "metadata": {},
     "output_type": "display_data"
    },
    {
     "data": {
      "application/vnd.jupyter.widget-view+json": {
       "model_id": "b95aac0d8b5a420696668c540df27352",
       "version_major": 2,
       "version_minor": 0
      },
      "text/plain": [
       "  0%|          | 0/493 [00:00<?, ?it/s]"
      ]
     },
     "metadata": {},
     "output_type": "display_data"
    },
    {
     "data": {
      "application/vnd.jupyter.widget-view+json": {
       "model_id": "3feec46e53b642b491434732f807e5aa",
       "version_major": 2,
       "version_minor": 0
      },
      "text/plain": [
       "  0%|          | 0/494 [00:00<?, ?it/s]"
      ]
     },
     "metadata": {},
     "output_type": "display_data"
    },
    {
     "data": {
      "application/vnd.jupyter.widget-view+json": {
       "model_id": "dd2590d265c345c0934fe63629527c99",
       "version_major": 2,
       "version_minor": 0
      },
      "text/plain": [
       "  0%|          | 0/495 [00:00<?, ?it/s]"
      ]
     },
     "metadata": {},
     "output_type": "display_data"
    },
    {
     "data": {
      "application/vnd.jupyter.widget-view+json": {
       "model_id": "18ec19d026db4634a3a1368c457699b8",
       "version_major": 2,
       "version_minor": 0
      },
      "text/plain": [
       "  0%|          | 0/496 [00:00<?, ?it/s]"
      ]
     },
     "metadata": {},
     "output_type": "display_data"
    },
    {
     "data": {
      "application/vnd.jupyter.widget-view+json": {
       "model_id": "7e6a1436622446d285eaade331d1613d",
       "version_major": 2,
       "version_minor": 0
      },
      "text/plain": [
       "  0%|          | 0/497 [00:00<?, ?it/s]"
      ]
     },
     "metadata": {},
     "output_type": "display_data"
    },
    {
     "data": {
      "application/vnd.jupyter.widget-view+json": {
       "model_id": "0bfaae2b5610406dad51536bbd65186c",
       "version_major": 2,
       "version_minor": 0
      },
      "text/plain": [
       "  0%|          | 0/498 [00:00<?, ?it/s]"
      ]
     },
     "metadata": {},
     "output_type": "display_data"
    },
    {
     "data": {
      "application/vnd.jupyter.widget-view+json": {
       "model_id": "1c90078ced1c44f9831c67ed5698994b",
       "version_major": 2,
       "version_minor": 0
      },
      "text/plain": [
       "  0%|          | 0/499 [00:00<?, ?it/s]"
      ]
     },
     "metadata": {},
     "output_type": "display_data"
    },
    {
     "data": {
      "application/vnd.jupyter.widget-view+json": {
       "model_id": "abfafdca9d4c494b822ccb417a24ce68",
       "version_major": 2,
       "version_minor": 0
      },
      "text/plain": [
       "  0%|          | 0/500 [00:00<?, ?it/s]"
      ]
     },
     "metadata": {},
     "output_type": "display_data"
    },
    {
     "data": {
      "application/vnd.jupyter.widget-view+json": {
       "model_id": "9d9b172df7a241db98d05feb8f7ef7e5",
       "version_major": 2,
       "version_minor": 0
      },
      "text/plain": [
       "  0%|          | 0/501 [00:00<?, ?it/s]"
      ]
     },
     "metadata": {},
     "output_type": "display_data"
    },
    {
     "data": {
      "application/vnd.jupyter.widget-view+json": {
       "model_id": "3a267fafc6864f648a0c4eb88e51a6f8",
       "version_major": 2,
       "version_minor": 0
      },
      "text/plain": [
       "  0%|          | 0/502 [00:00<?, ?it/s]"
      ]
     },
     "metadata": {},
     "output_type": "display_data"
    },
    {
     "data": {
      "application/vnd.jupyter.widget-view+json": {
       "model_id": "f11a5ba55c514d1c984cc7f35e6d618d",
       "version_major": 2,
       "version_minor": 0
      },
      "text/plain": [
       "  0%|          | 0/503 [00:00<?, ?it/s]"
      ]
     },
     "metadata": {},
     "output_type": "display_data"
    },
    {
     "data": {
      "application/vnd.jupyter.widget-view+json": {
       "model_id": "fb6a3e5bb11b47c98d1ddd94479451e5",
       "version_major": 2,
       "version_minor": 0
      },
      "text/plain": [
       "  0%|          | 0/504 [00:00<?, ?it/s]"
      ]
     },
     "metadata": {},
     "output_type": "display_data"
    },
    {
     "data": {
      "application/vnd.jupyter.widget-view+json": {
       "model_id": "ce72c911d6e54b01981524a50a6c382d",
       "version_major": 2,
       "version_minor": 0
      },
      "text/plain": [
       "  0%|          | 0/505 [00:00<?, ?it/s]"
      ]
     },
     "metadata": {},
     "output_type": "display_data"
    },
    {
     "data": {
      "application/vnd.jupyter.widget-view+json": {
       "model_id": "4cdcae9978924fc58706771569aa0326",
       "version_major": 2,
       "version_minor": 0
      },
      "text/plain": [
       "  0%|          | 0/506 [00:00<?, ?it/s]"
      ]
     },
     "metadata": {},
     "output_type": "display_data"
    },
    {
     "data": {
      "application/vnd.jupyter.widget-view+json": {
       "model_id": "71bd880cded442438a1330fd3b1b4fcc",
       "version_major": 2,
       "version_minor": 0
      },
      "text/plain": [
       "  0%|          | 0/507 [00:00<?, ?it/s]"
      ]
     },
     "metadata": {},
     "output_type": "display_data"
    },
    {
     "data": {
      "application/vnd.jupyter.widget-view+json": {
       "model_id": "9206cf880b6a4af5b7007255dcf35030",
       "version_major": 2,
       "version_minor": 0
      },
      "text/plain": [
       "  0%|          | 0/508 [00:00<?, ?it/s]"
      ]
     },
     "metadata": {},
     "output_type": "display_data"
    },
    {
     "data": {
      "application/vnd.jupyter.widget-view+json": {
       "model_id": "4b987112eacf452f879d70d91a78a2a2",
       "version_major": 2,
       "version_minor": 0
      },
      "text/plain": [
       "  0%|          | 0/509 [00:00<?, ?it/s]"
      ]
     },
     "metadata": {},
     "output_type": "display_data"
    },
    {
     "data": {
      "application/vnd.jupyter.widget-view+json": {
       "model_id": "7c72bcc043f642b9bca6d81fda75e6e6",
       "version_major": 2,
       "version_minor": 0
      },
      "text/plain": [
       "  0%|          | 0/510 [00:00<?, ?it/s]"
      ]
     },
     "metadata": {},
     "output_type": "display_data"
    },
    {
     "data": {
      "application/vnd.jupyter.widget-view+json": {
       "model_id": "b3b9def68c0f4b909011b64fb9a877ee",
       "version_major": 2,
       "version_minor": 0
      },
      "text/plain": [
       "  0%|          | 0/511 [00:00<?, ?it/s]"
      ]
     },
     "metadata": {},
     "output_type": "display_data"
    },
    {
     "data": {
      "application/vnd.jupyter.widget-view+json": {
       "model_id": "f5eece3988b248f1a64dc8daf23d8494",
       "version_major": 2,
       "version_minor": 0
      },
      "text/plain": [
       "  0%|          | 0/512 [00:00<?, ?it/s]"
      ]
     },
     "metadata": {},
     "output_type": "display_data"
    },
    {
     "data": {
      "application/vnd.jupyter.widget-view+json": {
       "model_id": "3c6a05bd5dcd455385808e8955bf79b3",
       "version_major": 2,
       "version_minor": 0
      },
      "text/plain": [
       "  0%|          | 0/513 [00:00<?, ?it/s]"
      ]
     },
     "metadata": {},
     "output_type": "display_data"
    },
    {
     "data": {
      "application/vnd.jupyter.widget-view+json": {
       "model_id": "e3bc543660b6425db9ed2614ab31077f",
       "version_major": 2,
       "version_minor": 0
      },
      "text/plain": [
       "  0%|          | 0/514 [00:00<?, ?it/s]"
      ]
     },
     "metadata": {},
     "output_type": "display_data"
    },
    {
     "data": {
      "application/vnd.jupyter.widget-view+json": {
       "model_id": "42568ebfd41840c49116a01ee4b38760",
       "version_major": 2,
       "version_minor": 0
      },
      "text/plain": [
       "  0%|          | 0/515 [00:00<?, ?it/s]"
      ]
     },
     "metadata": {},
     "output_type": "display_data"
    },
    {
     "data": {
      "application/vnd.jupyter.widget-view+json": {
       "model_id": "c368e6f69f634f2c9d91fc93caeabc82",
       "version_major": 2,
       "version_minor": 0
      },
      "text/plain": [
       "  0%|          | 0/516 [00:00<?, ?it/s]"
      ]
     },
     "metadata": {},
     "output_type": "display_data"
    },
    {
     "data": {
      "application/vnd.jupyter.widget-view+json": {
       "model_id": "5b6ad1ee3d7e43e4a39f4bd4a2b66894",
       "version_major": 2,
       "version_minor": 0
      },
      "text/plain": [
       "  0%|          | 0/517 [00:00<?, ?it/s]"
      ]
     },
     "metadata": {},
     "output_type": "display_data"
    },
    {
     "data": {
      "application/vnd.jupyter.widget-view+json": {
       "model_id": "2460dadcd6944243b073341107271447",
       "version_major": 2,
       "version_minor": 0
      },
      "text/plain": [
       "  0%|          | 0/518 [00:00<?, ?it/s]"
      ]
     },
     "metadata": {},
     "output_type": "display_data"
    },
    {
     "data": {
      "application/vnd.jupyter.widget-view+json": {
       "model_id": "b296a92707214ae3a9bbca6acd44cd82",
       "version_major": 2,
       "version_minor": 0
      },
      "text/plain": [
       "  0%|          | 0/519 [00:00<?, ?it/s]"
      ]
     },
     "metadata": {},
     "output_type": "display_data"
    },
    {
     "data": {
      "application/vnd.jupyter.widget-view+json": {
       "model_id": "bfbf5bfed7364ce8bb97ee21ac1fd198",
       "version_major": 2,
       "version_minor": 0
      },
      "text/plain": [
       "  0%|          | 0/520 [00:00<?, ?it/s]"
      ]
     },
     "metadata": {},
     "output_type": "display_data"
    },
    {
     "data": {
      "application/vnd.jupyter.widget-view+json": {
       "model_id": "6c52847215c246c7993b275d038e6211",
       "version_major": 2,
       "version_minor": 0
      },
      "text/plain": [
       "  0%|          | 0/521 [00:00<?, ?it/s]"
      ]
     },
     "metadata": {},
     "output_type": "display_data"
    },
    {
     "data": {
      "application/vnd.jupyter.widget-view+json": {
       "model_id": "40b5206d871443b59b1fee212fac0823",
       "version_major": 2,
       "version_minor": 0
      },
      "text/plain": [
       "  0%|          | 0/522 [00:00<?, ?it/s]"
      ]
     },
     "metadata": {},
     "output_type": "display_data"
    },
    {
     "data": {
      "application/vnd.jupyter.widget-view+json": {
       "model_id": "deef03af7ec44174a726a1d99707f9ff",
       "version_major": 2,
       "version_minor": 0
      },
      "text/plain": [
       "  0%|          | 0/523 [00:00<?, ?it/s]"
      ]
     },
     "metadata": {},
     "output_type": "display_data"
    },
    {
     "data": {
      "application/vnd.jupyter.widget-view+json": {
       "model_id": "dea2b5e585e840f2b76dec59dff3079a",
       "version_major": 2,
       "version_minor": 0
      },
      "text/plain": [
       "  0%|          | 0/524 [00:00<?, ?it/s]"
      ]
     },
     "metadata": {},
     "output_type": "display_data"
    },
    {
     "data": {
      "application/vnd.jupyter.widget-view+json": {
       "model_id": "bb6edb12feb54c0c950d25ed26af5a33",
       "version_major": 2,
       "version_minor": 0
      },
      "text/plain": [
       "  0%|          | 0/525 [00:00<?, ?it/s]"
      ]
     },
     "metadata": {},
     "output_type": "display_data"
    },
    {
     "data": {
      "application/vnd.jupyter.widget-view+json": {
       "model_id": "a7b4725043b947ad95a3328d059781f3",
       "version_major": 2,
       "version_minor": 0
      },
      "text/plain": [
       "  0%|          | 0/526 [00:00<?, ?it/s]"
      ]
     },
     "metadata": {},
     "output_type": "display_data"
    },
    {
     "data": {
      "application/vnd.jupyter.widget-view+json": {
       "model_id": "3d837f0f44184e20b5dfd68a500c725e",
       "version_major": 2,
       "version_minor": 0
      },
      "text/plain": [
       "  0%|          | 0/527 [00:00<?, ?it/s]"
      ]
     },
     "metadata": {},
     "output_type": "display_data"
    },
    {
     "data": {
      "application/vnd.jupyter.widget-view+json": {
       "model_id": "f30ca64143924193b07f5e908cda32c1",
       "version_major": 2,
       "version_minor": 0
      },
      "text/plain": [
       "  0%|          | 0/528 [00:00<?, ?it/s]"
      ]
     },
     "metadata": {},
     "output_type": "display_data"
    },
    {
     "data": {
      "application/vnd.jupyter.widget-view+json": {
       "model_id": "7a7b9e4e6a214cf6b45e379289fae0b0",
       "version_major": 2,
       "version_minor": 0
      },
      "text/plain": [
       "  0%|          | 0/529 [00:00<?, ?it/s]"
      ]
     },
     "metadata": {},
     "output_type": "display_data"
    },
    {
     "data": {
      "application/vnd.jupyter.widget-view+json": {
       "model_id": "ce5322cac6e74a18b7967b4c0b6b7bf1",
       "version_major": 2,
       "version_minor": 0
      },
      "text/plain": [
       "  0%|          | 0/530 [00:00<?, ?it/s]"
      ]
     },
     "metadata": {},
     "output_type": "display_data"
    },
    {
     "data": {
      "application/vnd.jupyter.widget-view+json": {
       "model_id": "563ce501b96a424492b25ac9eaf52f72",
       "version_major": 2,
       "version_minor": 0
      },
      "text/plain": [
       "  0%|          | 0/531 [00:00<?, ?it/s]"
      ]
     },
     "metadata": {},
     "output_type": "display_data"
    },
    {
     "data": {
      "application/vnd.jupyter.widget-view+json": {
       "model_id": "6f56f0713f994fd1b311741a979526a7",
       "version_major": 2,
       "version_minor": 0
      },
      "text/plain": [
       "  0%|          | 0/532 [00:00<?, ?it/s]"
      ]
     },
     "metadata": {},
     "output_type": "display_data"
    },
    {
     "data": {
      "application/vnd.jupyter.widget-view+json": {
       "model_id": "22ff17265fd847a9b0457d86aa4290bd",
       "version_major": 2,
       "version_minor": 0
      },
      "text/plain": [
       "  0%|          | 0/533 [00:00<?, ?it/s]"
      ]
     },
     "metadata": {},
     "output_type": "display_data"
    },
    {
     "data": {
      "application/vnd.jupyter.widget-view+json": {
       "model_id": "cf48d561ef1b4ca890a398aaaccda945",
       "version_major": 2,
       "version_minor": 0
      },
      "text/plain": [
       "  0%|          | 0/534 [00:00<?, ?it/s]"
      ]
     },
     "metadata": {},
     "output_type": "display_data"
    },
    {
     "data": {
      "application/vnd.jupyter.widget-view+json": {
       "model_id": "415b69c7b1d4406cb4cbce2638ba84d5",
       "version_major": 2,
       "version_minor": 0
      },
      "text/plain": [
       "  0%|          | 0/535 [00:00<?, ?it/s]"
      ]
     },
     "metadata": {},
     "output_type": "display_data"
    },
    {
     "data": {
      "application/vnd.jupyter.widget-view+json": {
       "model_id": "f669cdfb2e014a13b89656efe797ff71",
       "version_major": 2,
       "version_minor": 0
      },
      "text/plain": [
       "  0%|          | 0/536 [00:00<?, ?it/s]"
      ]
     },
     "metadata": {},
     "output_type": "display_data"
    },
    {
     "data": {
      "application/vnd.jupyter.widget-view+json": {
       "model_id": "ea616731f00d40619e2372e31ef8034f",
       "version_major": 2,
       "version_minor": 0
      },
      "text/plain": [
       "  0%|          | 0/537 [00:00<?, ?it/s]"
      ]
     },
     "metadata": {},
     "output_type": "display_data"
    },
    {
     "data": {
      "application/vnd.jupyter.widget-view+json": {
       "model_id": "5c48d12587934bb6a568b19145e490ac",
       "version_major": 2,
       "version_minor": 0
      },
      "text/plain": [
       "  0%|          | 0/538 [00:00<?, ?it/s]"
      ]
     },
     "metadata": {},
     "output_type": "display_data"
    },
    {
     "data": {
      "application/vnd.jupyter.widget-view+json": {
       "model_id": "4daec74a5dea4777af8771c27d871dae",
       "version_major": 2,
       "version_minor": 0
      },
      "text/plain": [
       "  0%|          | 0/539 [00:00<?, ?it/s]"
      ]
     },
     "metadata": {},
     "output_type": "display_data"
    },
    {
     "data": {
      "application/vnd.jupyter.widget-view+json": {
       "model_id": "369cc4e328334faea55219b6123e9f50",
       "version_major": 2,
       "version_minor": 0
      },
      "text/plain": [
       "  0%|          | 0/540 [00:00<?, ?it/s]"
      ]
     },
     "metadata": {},
     "output_type": "display_data"
    },
    {
     "data": {
      "application/vnd.jupyter.widget-view+json": {
       "model_id": "075b1452c1304795aa73f15f456337f5",
       "version_major": 2,
       "version_minor": 0
      },
      "text/plain": [
       "  0%|          | 0/541 [00:00<?, ?it/s]"
      ]
     },
     "metadata": {},
     "output_type": "display_data"
    },
    {
     "data": {
      "application/vnd.jupyter.widget-view+json": {
       "model_id": "7588806a8e404d92ae853a491847f11e",
       "version_major": 2,
       "version_minor": 0
      },
      "text/plain": [
       "  0%|          | 0/542 [00:00<?, ?it/s]"
      ]
     },
     "metadata": {},
     "output_type": "display_data"
    },
    {
     "data": {
      "application/vnd.jupyter.widget-view+json": {
       "model_id": "2e40430775d64cc9abfdd2d40326494b",
       "version_major": 2,
       "version_minor": 0
      },
      "text/plain": [
       "  0%|          | 0/543 [00:00<?, ?it/s]"
      ]
     },
     "metadata": {},
     "output_type": "display_data"
    },
    {
     "data": {
      "application/vnd.jupyter.widget-view+json": {
       "model_id": "4ed67821e0be4230b6655a57a688381b",
       "version_major": 2,
       "version_minor": 0
      },
      "text/plain": [
       "  0%|          | 0/544 [00:00<?, ?it/s]"
      ]
     },
     "metadata": {},
     "output_type": "display_data"
    },
    {
     "data": {
      "application/vnd.jupyter.widget-view+json": {
       "model_id": "c1ca1120038046a5981cc3c20b60e267",
       "version_major": 2,
       "version_minor": 0
      },
      "text/plain": [
       "  0%|          | 0/545 [00:00<?, ?it/s]"
      ]
     },
     "metadata": {},
     "output_type": "display_data"
    },
    {
     "data": {
      "application/vnd.jupyter.widget-view+json": {
       "model_id": "eaf7eef575d945948b399c92d978605b",
       "version_major": 2,
       "version_minor": 0
      },
      "text/plain": [
       "  0%|          | 0/546 [00:00<?, ?it/s]"
      ]
     },
     "metadata": {},
     "output_type": "display_data"
    },
    {
     "data": {
      "application/vnd.jupyter.widget-view+json": {
       "model_id": "38d81be5f3084e2da6b9fda5174d34a8",
       "version_major": 2,
       "version_minor": 0
      },
      "text/plain": [
       "  0%|          | 0/547 [00:00<?, ?it/s]"
      ]
     },
     "metadata": {},
     "output_type": "display_data"
    },
    {
     "data": {
      "application/vnd.jupyter.widget-view+json": {
       "model_id": "0bf669d0df4f4d8688bdbf1f18e2b256",
       "version_major": 2,
       "version_minor": 0
      },
      "text/plain": [
       "  0%|          | 0/548 [00:00<?, ?it/s]"
      ]
     },
     "metadata": {},
     "output_type": "display_data"
    },
    {
     "data": {
      "application/vnd.jupyter.widget-view+json": {
       "model_id": "4a190cb8cc1746f08894b3a6bb6d24ba",
       "version_major": 2,
       "version_minor": 0
      },
      "text/plain": [
       "  0%|          | 0/549 [00:00<?, ?it/s]"
      ]
     },
     "metadata": {},
     "output_type": "display_data"
    },
    {
     "data": {
      "application/vnd.jupyter.widget-view+json": {
       "model_id": "13b9e4e480ff44748fdd00ba9938b3e4",
       "version_major": 2,
       "version_minor": 0
      },
      "text/plain": [
       "  0%|          | 0/550 [00:00<?, ?it/s]"
      ]
     },
     "metadata": {},
     "output_type": "display_data"
    },
    {
     "data": {
      "application/vnd.jupyter.widget-view+json": {
       "model_id": "7fc2fcd055e7451bb2ee1620a8f8c2f5",
       "version_major": 2,
       "version_minor": 0
      },
      "text/plain": [
       "  0%|          | 0/551 [00:00<?, ?it/s]"
      ]
     },
     "metadata": {},
     "output_type": "display_data"
    },
    {
     "data": {
      "application/vnd.jupyter.widget-view+json": {
       "model_id": "0d866f9b42684b72a21df12aa20adc63",
       "version_major": 2,
       "version_minor": 0
      },
      "text/plain": [
       "  0%|          | 0/552 [00:00<?, ?it/s]"
      ]
     },
     "metadata": {},
     "output_type": "display_data"
    },
    {
     "data": {
      "application/vnd.jupyter.widget-view+json": {
       "model_id": "72ad743231344cd2870a4fa2bdf51db7",
       "version_major": 2,
       "version_minor": 0
      },
      "text/plain": [
       "  0%|          | 0/553 [00:00<?, ?it/s]"
      ]
     },
     "metadata": {},
     "output_type": "display_data"
    },
    {
     "data": {
      "application/vnd.jupyter.widget-view+json": {
       "model_id": "9e0f1043e2004d3e90aa20950d38ad6c",
       "version_major": 2,
       "version_minor": 0
      },
      "text/plain": [
       "  0%|          | 0/554 [00:00<?, ?it/s]"
      ]
     },
     "metadata": {},
     "output_type": "display_data"
    },
    {
     "data": {
      "application/vnd.jupyter.widget-view+json": {
       "model_id": "d70fd2150c634cb88045867454d54a73",
       "version_major": 2,
       "version_minor": 0
      },
      "text/plain": [
       "  0%|          | 0/555 [00:00<?, ?it/s]"
      ]
     },
     "metadata": {},
     "output_type": "display_data"
    },
    {
     "data": {
      "application/vnd.jupyter.widget-view+json": {
       "model_id": "dac5e912f92841748e4da5215cedc43e",
       "version_major": 2,
       "version_minor": 0
      },
      "text/plain": [
       "  0%|          | 0/556 [00:00<?, ?it/s]"
      ]
     },
     "metadata": {},
     "output_type": "display_data"
    },
    {
     "data": {
      "application/vnd.jupyter.widget-view+json": {
       "model_id": "b5700eb39de64d3695431fafe8373d53",
       "version_major": 2,
       "version_minor": 0
      },
      "text/plain": [
       "  0%|          | 0/557 [00:00<?, ?it/s]"
      ]
     },
     "metadata": {},
     "output_type": "display_data"
    },
    {
     "data": {
      "application/vnd.jupyter.widget-view+json": {
       "model_id": "6b7a1817db694b81a524f8a3bf620231",
       "version_major": 2,
       "version_minor": 0
      },
      "text/plain": [
       "  0%|          | 0/558 [00:00<?, ?it/s]"
      ]
     },
     "metadata": {},
     "output_type": "display_data"
    },
    {
     "data": {
      "application/vnd.jupyter.widget-view+json": {
       "model_id": "3f5bee51906b403793cd60fc6654dfca",
       "version_major": 2,
       "version_minor": 0
      },
      "text/plain": [
       "  0%|          | 0/559 [00:00<?, ?it/s]"
      ]
     },
     "metadata": {},
     "output_type": "display_data"
    },
    {
     "data": {
      "application/vnd.jupyter.widget-view+json": {
       "model_id": "84a01ee5c873460c8a38ab6b5afcb4c4",
       "version_major": 2,
       "version_minor": 0
      },
      "text/plain": [
       "  0%|          | 0/560 [00:00<?, ?it/s]"
      ]
     },
     "metadata": {},
     "output_type": "display_data"
    },
    {
     "data": {
      "application/vnd.jupyter.widget-view+json": {
       "model_id": "d0ee7bcdc8c54680b3a366211551f0c7",
       "version_major": 2,
       "version_minor": 0
      },
      "text/plain": [
       "  0%|          | 0/561 [00:00<?, ?it/s]"
      ]
     },
     "metadata": {},
     "output_type": "display_data"
    },
    {
     "data": {
      "application/vnd.jupyter.widget-view+json": {
       "model_id": "191ee825998f4c60bc57343c21f837be",
       "version_major": 2,
       "version_minor": 0
      },
      "text/plain": [
       "  0%|          | 0/562 [00:00<?, ?it/s]"
      ]
     },
     "metadata": {},
     "output_type": "display_data"
    },
    {
     "data": {
      "application/vnd.jupyter.widget-view+json": {
       "model_id": "b9b38f41393d45ecb2529413ed68dca6",
       "version_major": 2,
       "version_minor": 0
      },
      "text/plain": [
       "  0%|          | 0/563 [00:00<?, ?it/s]"
      ]
     },
     "metadata": {},
     "output_type": "display_data"
    },
    {
     "data": {
      "application/vnd.jupyter.widget-view+json": {
       "model_id": "6bcc52b097e84f569307d76f024c0a47",
       "version_major": 2,
       "version_minor": 0
      },
      "text/plain": [
       "  0%|          | 0/564 [00:00<?, ?it/s]"
      ]
     },
     "metadata": {},
     "output_type": "display_data"
    },
    {
     "data": {
      "application/vnd.jupyter.widget-view+json": {
       "model_id": "47d229a26ccb4c859d89f28f676c1099",
       "version_major": 2,
       "version_minor": 0
      },
      "text/plain": [
       "  0%|          | 0/565 [00:00<?, ?it/s]"
      ]
     },
     "metadata": {},
     "output_type": "display_data"
    },
    {
     "data": {
      "application/vnd.jupyter.widget-view+json": {
       "model_id": "e5e819a3e6c7425a9553bee78bed6d93",
       "version_major": 2,
       "version_minor": 0
      },
      "text/plain": [
       "  0%|          | 0/566 [00:00<?, ?it/s]"
      ]
     },
     "metadata": {},
     "output_type": "display_data"
    },
    {
     "data": {
      "application/vnd.jupyter.widget-view+json": {
       "model_id": "152e43c378f24e4690f19293e88cad92",
       "version_major": 2,
       "version_minor": 0
      },
      "text/plain": [
       "  0%|          | 0/567 [00:00<?, ?it/s]"
      ]
     },
     "metadata": {},
     "output_type": "display_data"
    },
    {
     "data": {
      "application/vnd.jupyter.widget-view+json": {
       "model_id": "566d4c62a96149c99e6d59bb58f12588",
       "version_major": 2,
       "version_minor": 0
      },
      "text/plain": [
       "  0%|          | 0/568 [00:00<?, ?it/s]"
      ]
     },
     "metadata": {},
     "output_type": "display_data"
    },
    {
     "data": {
      "application/vnd.jupyter.widget-view+json": {
       "model_id": "653d5a5c051b496ca735fefd69db9826",
       "version_major": 2,
       "version_minor": 0
      },
      "text/plain": [
       "  0%|          | 0/569 [00:00<?, ?it/s]"
      ]
     },
     "metadata": {},
     "output_type": "display_data"
    },
    {
     "data": {
      "application/vnd.jupyter.widget-view+json": {
       "model_id": "eb4715795cf94a88947976a72639e9a4",
       "version_major": 2,
       "version_minor": 0
      },
      "text/plain": [
       "  0%|          | 0/570 [00:00<?, ?it/s]"
      ]
     },
     "metadata": {},
     "output_type": "display_data"
    },
    {
     "data": {
      "application/vnd.jupyter.widget-view+json": {
       "model_id": "1ee5cd6af5464ee1b4f302e763aba1f5",
       "version_major": 2,
       "version_minor": 0
      },
      "text/plain": [
       "  0%|          | 0/571 [00:00<?, ?it/s]"
      ]
     },
     "metadata": {},
     "output_type": "display_data"
    },
    {
     "data": {
      "application/vnd.jupyter.widget-view+json": {
       "model_id": "c454b5139a794ff1927625e1232407df",
       "version_major": 2,
       "version_minor": 0
      },
      "text/plain": [
       "  0%|          | 0/572 [00:00<?, ?it/s]"
      ]
     },
     "metadata": {},
     "output_type": "display_data"
    },
    {
     "data": {
      "application/vnd.jupyter.widget-view+json": {
       "model_id": "723e3d7ef92d47ee813ad0aaa5af00c2",
       "version_major": 2,
       "version_minor": 0
      },
      "text/plain": [
       "  0%|          | 0/573 [00:00<?, ?it/s]"
      ]
     },
     "metadata": {},
     "output_type": "display_data"
    },
    {
     "data": {
      "application/vnd.jupyter.widget-view+json": {
       "model_id": "eb700209cb3a44e489d415a2736d6760",
       "version_major": 2,
       "version_minor": 0
      },
      "text/plain": [
       "  0%|          | 0/574 [00:00<?, ?it/s]"
      ]
     },
     "metadata": {},
     "output_type": "display_data"
    },
    {
     "data": {
      "application/vnd.jupyter.widget-view+json": {
       "model_id": "465a906549f141e79f49ee853f3f38ed",
       "version_major": 2,
       "version_minor": 0
      },
      "text/plain": [
       "  0%|          | 0/575 [00:00<?, ?it/s]"
      ]
     },
     "metadata": {},
     "output_type": "display_data"
    },
    {
     "data": {
      "application/vnd.jupyter.widget-view+json": {
       "model_id": "302b6d8b4927491bb24ba33f9a9b858c",
       "version_major": 2,
       "version_minor": 0
      },
      "text/plain": [
       "  0%|          | 0/576 [00:00<?, ?it/s]"
      ]
     },
     "metadata": {},
     "output_type": "display_data"
    },
    {
     "data": {
      "application/vnd.jupyter.widget-view+json": {
       "model_id": "9d116c5598e24fa89d66502d7a7caa2f",
       "version_major": 2,
       "version_minor": 0
      },
      "text/plain": [
       "  0%|          | 0/577 [00:00<?, ?it/s]"
      ]
     },
     "metadata": {},
     "output_type": "display_data"
    },
    {
     "data": {
      "application/vnd.jupyter.widget-view+json": {
       "model_id": "d1259e4ee7a94b57b3f8d260004782ea",
       "version_major": 2,
       "version_minor": 0
      },
      "text/plain": [
       "  0%|          | 0/578 [00:00<?, ?it/s]"
      ]
     },
     "metadata": {},
     "output_type": "display_data"
    },
    {
     "data": {
      "application/vnd.jupyter.widget-view+json": {
       "model_id": "68d58a554f9849cd8cecd871b19b84d6",
       "version_major": 2,
       "version_minor": 0
      },
      "text/plain": [
       "  0%|          | 0/579 [00:00<?, ?it/s]"
      ]
     },
     "metadata": {},
     "output_type": "display_data"
    },
    {
     "data": {
      "application/vnd.jupyter.widget-view+json": {
       "model_id": "081e26c8d230421bbe360f6f1e41e0fe",
       "version_major": 2,
       "version_minor": 0
      },
      "text/plain": [
       "  0%|          | 0/580 [00:00<?, ?it/s]"
      ]
     },
     "metadata": {},
     "output_type": "display_data"
    },
    {
     "data": {
      "application/vnd.jupyter.widget-view+json": {
       "model_id": "8626611530e94415a1e5b69478c2b1bb",
       "version_major": 2,
       "version_minor": 0
      },
      "text/plain": [
       "  0%|          | 0/581 [00:00<?, ?it/s]"
      ]
     },
     "metadata": {},
     "output_type": "display_data"
    },
    {
     "data": {
      "application/vnd.jupyter.widget-view+json": {
       "model_id": "aafe86f159114c19a441f960e23a53cd",
       "version_major": 2,
       "version_minor": 0
      },
      "text/plain": [
       "  0%|          | 0/582 [00:00<?, ?it/s]"
      ]
     },
     "metadata": {},
     "output_type": "display_data"
    },
    {
     "data": {
      "application/vnd.jupyter.widget-view+json": {
       "model_id": "1cba1f43c09244c4985e409d3d6cd608",
       "version_major": 2,
       "version_minor": 0
      },
      "text/plain": [
       "  0%|          | 0/583 [00:00<?, ?it/s]"
      ]
     },
     "metadata": {},
     "output_type": "display_data"
    },
    {
     "data": {
      "application/vnd.jupyter.widget-view+json": {
       "model_id": "859a9781d3a84f2187ab444b18973749",
       "version_major": 2,
       "version_minor": 0
      },
      "text/plain": [
       "  0%|          | 0/584 [00:00<?, ?it/s]"
      ]
     },
     "metadata": {},
     "output_type": "display_data"
    },
    {
     "data": {
      "application/vnd.jupyter.widget-view+json": {
       "model_id": "fe76f166740c49f18a0b4851a172cbdd",
       "version_major": 2,
       "version_minor": 0
      },
      "text/plain": [
       "  0%|          | 0/585 [00:00<?, ?it/s]"
      ]
     },
     "metadata": {},
     "output_type": "display_data"
    },
    {
     "data": {
      "application/vnd.jupyter.widget-view+json": {
       "model_id": "ba9e5514f974487eb381838a81a2fde8",
       "version_major": 2,
       "version_minor": 0
      },
      "text/plain": [
       "  0%|          | 0/586 [00:00<?, ?it/s]"
      ]
     },
     "metadata": {},
     "output_type": "display_data"
    },
    {
     "data": {
      "application/vnd.jupyter.widget-view+json": {
       "model_id": "23faa8ab32c44bb4b6a470754bce055c",
       "version_major": 2,
       "version_minor": 0
      },
      "text/plain": [
       "  0%|          | 0/587 [00:00<?, ?it/s]"
      ]
     },
     "metadata": {},
     "output_type": "display_data"
    },
    {
     "data": {
      "application/vnd.jupyter.widget-view+json": {
       "model_id": "83c1443861ff4a40b4cdf1e098151e70",
       "version_major": 2,
       "version_minor": 0
      },
      "text/plain": [
       "  0%|          | 0/588 [00:00<?, ?it/s]"
      ]
     },
     "metadata": {},
     "output_type": "display_data"
    },
    {
     "data": {
      "application/vnd.jupyter.widget-view+json": {
       "model_id": "3bf18c77c8a24b1c86de96b50a7f9bef",
       "version_major": 2,
       "version_minor": 0
      },
      "text/plain": [
       "  0%|          | 0/589 [00:00<?, ?it/s]"
      ]
     },
     "metadata": {},
     "output_type": "display_data"
    },
    {
     "data": {
      "application/vnd.jupyter.widget-view+json": {
       "model_id": "d6ef24985c9147489a1f3c990e9b124e",
       "version_major": 2,
       "version_minor": 0
      },
      "text/plain": [
       "  0%|          | 0/590 [00:00<?, ?it/s]"
      ]
     },
     "metadata": {},
     "output_type": "display_data"
    },
    {
     "data": {
      "application/vnd.jupyter.widget-view+json": {
       "model_id": "1ab09c41922f4b5a89a89c1726dae1a4",
       "version_major": 2,
       "version_minor": 0
      },
      "text/plain": [
       "  0%|          | 0/591 [00:00<?, ?it/s]"
      ]
     },
     "metadata": {},
     "output_type": "display_data"
    },
    {
     "data": {
      "application/vnd.jupyter.widget-view+json": {
       "model_id": "35f0256553bd43d79d767f10e2aa1d7b",
       "version_major": 2,
       "version_minor": 0
      },
      "text/plain": [
       "  0%|          | 0/592 [00:00<?, ?it/s]"
      ]
     },
     "metadata": {},
     "output_type": "display_data"
    },
    {
     "data": {
      "application/vnd.jupyter.widget-view+json": {
       "model_id": "70b7835415854a0480e0928a6ba732cf",
       "version_major": 2,
       "version_minor": 0
      },
      "text/plain": [
       "  0%|          | 0/593 [00:00<?, ?it/s]"
      ]
     },
     "metadata": {},
     "output_type": "display_data"
    },
    {
     "data": {
      "application/vnd.jupyter.widget-view+json": {
       "model_id": "b3803055ea76400487ba440b7baf0ae8",
       "version_major": 2,
       "version_minor": 0
      },
      "text/plain": [
       "  0%|          | 0/594 [00:00<?, ?it/s]"
      ]
     },
     "metadata": {},
     "output_type": "display_data"
    },
    {
     "data": {
      "application/vnd.jupyter.widget-view+json": {
       "model_id": "21f61b3415c4431bb73ad5db22eda3f9",
       "version_major": 2,
       "version_minor": 0
      },
      "text/plain": [
       "  0%|          | 0/595 [00:00<?, ?it/s]"
      ]
     },
     "metadata": {},
     "output_type": "display_data"
    },
    {
     "data": {
      "application/vnd.jupyter.widget-view+json": {
       "model_id": "d9f58fb97944464eb5e274a138eb428a",
       "version_major": 2,
       "version_minor": 0
      },
      "text/plain": [
       "  0%|          | 0/596 [00:00<?, ?it/s]"
      ]
     },
     "metadata": {},
     "output_type": "display_data"
    },
    {
     "data": {
      "application/vnd.jupyter.widget-view+json": {
       "model_id": "b0a2f7df2dcb4172a26cd9501841bb54",
       "version_major": 2,
       "version_minor": 0
      },
      "text/plain": [
       "  0%|          | 0/597 [00:00<?, ?it/s]"
      ]
     },
     "metadata": {},
     "output_type": "display_data"
    },
    {
     "data": {
      "application/vnd.jupyter.widget-view+json": {
       "model_id": "0c4b4974ab0746ef9298c6be640be094",
       "version_major": 2,
       "version_minor": 0
      },
      "text/plain": [
       "  0%|          | 0/598 [00:00<?, ?it/s]"
      ]
     },
     "metadata": {},
     "output_type": "display_data"
    },
    {
     "data": {
      "application/vnd.jupyter.widget-view+json": {
       "model_id": "7e14dcfbc4764ffca7633069a6276c6d",
       "version_major": 2,
       "version_minor": 0
      },
      "text/plain": [
       "  0%|          | 0/599 [00:00<?, ?it/s]"
      ]
     },
     "metadata": {},
     "output_type": "display_data"
    },
    {
     "data": {
      "application/vnd.jupyter.widget-view+json": {
       "model_id": "b44830d0fb1e43278daf65a19380674c",
       "version_major": 2,
       "version_minor": 0
      },
      "text/plain": [
       "  0%|          | 0/600 [00:00<?, ?it/s]"
      ]
     },
     "metadata": {},
     "output_type": "display_data"
    },
    {
     "data": {
      "application/vnd.jupyter.widget-view+json": {
       "model_id": "6e4e673b10ad4f2fab95619180a7427c",
       "version_major": 2,
       "version_minor": 0
      },
      "text/plain": [
       "  0%|          | 0/601 [00:00<?, ?it/s]"
      ]
     },
     "metadata": {},
     "output_type": "display_data"
    },
    {
     "data": {
      "application/vnd.jupyter.widget-view+json": {
       "model_id": "c58e07eb5d0d42f0a0ce83146d36ebf0",
       "version_major": 2,
       "version_minor": 0
      },
      "text/plain": [
       "  0%|          | 0/602 [00:00<?, ?it/s]"
      ]
     },
     "metadata": {},
     "output_type": "display_data"
    },
    {
     "data": {
      "application/vnd.jupyter.widget-view+json": {
       "model_id": "d637ee0ea0ef4107b57382c78f6f8fa7",
       "version_major": 2,
       "version_minor": 0
      },
      "text/plain": [
       "  0%|          | 0/603 [00:00<?, ?it/s]"
      ]
     },
     "metadata": {},
     "output_type": "display_data"
    },
    {
     "data": {
      "application/vnd.jupyter.widget-view+json": {
       "model_id": "5b80e6ebfd9444f59d8edee369d85d91",
       "version_major": 2,
       "version_minor": 0
      },
      "text/plain": [
       "  0%|          | 0/604 [00:00<?, ?it/s]"
      ]
     },
     "metadata": {},
     "output_type": "display_data"
    },
    {
     "data": {
      "application/vnd.jupyter.widget-view+json": {
       "model_id": "72525b00e3474051b76e2531587cef4f",
       "version_major": 2,
       "version_minor": 0
      },
      "text/plain": [
       "  0%|          | 0/605 [00:00<?, ?it/s]"
      ]
     },
     "metadata": {},
     "output_type": "display_data"
    },
    {
     "data": {
      "application/vnd.jupyter.widget-view+json": {
       "model_id": "822c9b37a7444cf5af6e376297f52099",
       "version_major": 2,
       "version_minor": 0
      },
      "text/plain": [
       "  0%|          | 0/606 [00:00<?, ?it/s]"
      ]
     },
     "metadata": {},
     "output_type": "display_data"
    },
    {
     "data": {
      "application/vnd.jupyter.widget-view+json": {
       "model_id": "678f471fcaeb4468bff58cbeda078bb7",
       "version_major": 2,
       "version_minor": 0
      },
      "text/plain": [
       "  0%|          | 0/607 [00:00<?, ?it/s]"
      ]
     },
     "metadata": {},
     "output_type": "display_data"
    },
    {
     "data": {
      "application/vnd.jupyter.widget-view+json": {
       "model_id": "ab9296fdfd144dad83375f3f0656deef",
       "version_major": 2,
       "version_minor": 0
      },
      "text/plain": [
       "  0%|          | 0/608 [00:00<?, ?it/s]"
      ]
     },
     "metadata": {},
     "output_type": "display_data"
    },
    {
     "data": {
      "application/vnd.jupyter.widget-view+json": {
       "model_id": "c07a014dee484015b96080fb7e97a751",
       "version_major": 2,
       "version_minor": 0
      },
      "text/plain": [
       "  0%|          | 0/609 [00:00<?, ?it/s]"
      ]
     },
     "metadata": {},
     "output_type": "display_data"
    },
    {
     "data": {
      "application/vnd.jupyter.widget-view+json": {
       "model_id": "0e46502ea7514e9798fc26d84a5c3393",
       "version_major": 2,
       "version_minor": 0
      },
      "text/plain": [
       "  0%|          | 0/610 [00:00<?, ?it/s]"
      ]
     },
     "metadata": {},
     "output_type": "display_data"
    },
    {
     "data": {
      "application/vnd.jupyter.widget-view+json": {
       "model_id": "94d6fc2711ec410fa6d15b430573d41c",
       "version_major": 2,
       "version_minor": 0
      },
      "text/plain": [
       "  0%|          | 0/611 [00:00<?, ?it/s]"
      ]
     },
     "metadata": {},
     "output_type": "display_data"
    },
    {
     "data": {
      "application/vnd.jupyter.widget-view+json": {
       "model_id": "2f2c767c12e742ee9306cf9b28b3f52c",
       "version_major": 2,
       "version_minor": 0
      },
      "text/plain": [
       "  0%|          | 0/612 [00:00<?, ?it/s]"
      ]
     },
     "metadata": {},
     "output_type": "display_data"
    },
    {
     "data": {
      "application/vnd.jupyter.widget-view+json": {
       "model_id": "afb7ee2646b74e27b0d74844e9b025f6",
       "version_major": 2,
       "version_minor": 0
      },
      "text/plain": [
       "  0%|          | 0/613 [00:00<?, ?it/s]"
      ]
     },
     "metadata": {},
     "output_type": "display_data"
    },
    {
     "data": {
      "application/vnd.jupyter.widget-view+json": {
       "model_id": "2340fac278bd4032915ac32e9627a031",
       "version_major": 2,
       "version_minor": 0
      },
      "text/plain": [
       "  0%|          | 0/614 [00:00<?, ?it/s]"
      ]
     },
     "metadata": {},
     "output_type": "display_data"
    },
    {
     "data": {
      "application/vnd.jupyter.widget-view+json": {
       "model_id": "0107194d3b394340bb1249b770e5739c",
       "version_major": 2,
       "version_minor": 0
      },
      "text/plain": [
       "  0%|          | 0/615 [00:00<?, ?it/s]"
      ]
     },
     "metadata": {},
     "output_type": "display_data"
    },
    {
     "data": {
      "application/vnd.jupyter.widget-view+json": {
       "model_id": "c6a6316005b94773967c0d58e790537d",
       "version_major": 2,
       "version_minor": 0
      },
      "text/plain": [
       "  0%|          | 0/616 [00:00<?, ?it/s]"
      ]
     },
     "metadata": {},
     "output_type": "display_data"
    },
    {
     "data": {
      "application/vnd.jupyter.widget-view+json": {
       "model_id": "34ec765cd3c147fca1966e0fef8eb484",
       "version_major": 2,
       "version_minor": 0
      },
      "text/plain": [
       "  0%|          | 0/617 [00:00<?, ?it/s]"
      ]
     },
     "metadata": {},
     "output_type": "display_data"
    },
    {
     "data": {
      "application/vnd.jupyter.widget-view+json": {
       "model_id": "41ab1d3240954c189bd597c3b3fa29d2",
       "version_major": 2,
       "version_minor": 0
      },
      "text/plain": [
       "  0%|          | 0/618 [00:00<?, ?it/s]"
      ]
     },
     "metadata": {},
     "output_type": "display_data"
    },
    {
     "data": {
      "application/vnd.jupyter.widget-view+json": {
       "model_id": "c0c93463d9354c45b7a47efbed3da1c4",
       "version_major": 2,
       "version_minor": 0
      },
      "text/plain": [
       "  0%|          | 0/619 [00:00<?, ?it/s]"
      ]
     },
     "metadata": {},
     "output_type": "display_data"
    },
    {
     "data": {
      "application/vnd.jupyter.widget-view+json": {
       "model_id": "9bfb80e280fc4f1d96173a0ad7d35e91",
       "version_major": 2,
       "version_minor": 0
      },
      "text/plain": [
       "  0%|          | 0/620 [00:00<?, ?it/s]"
      ]
     },
     "metadata": {},
     "output_type": "display_data"
    },
    {
     "data": {
      "application/vnd.jupyter.widget-view+json": {
       "model_id": "28174ef303e641ac834e0b706e253d7b",
       "version_major": 2,
       "version_minor": 0
      },
      "text/plain": [
       "  0%|          | 0/621 [00:00<?, ?it/s]"
      ]
     },
     "metadata": {},
     "output_type": "display_data"
    },
    {
     "data": {
      "application/vnd.jupyter.widget-view+json": {
       "model_id": "dc749a0bb524492098499194e1952c61",
       "version_major": 2,
       "version_minor": 0
      },
      "text/plain": [
       "  0%|          | 0/622 [00:00<?, ?it/s]"
      ]
     },
     "metadata": {},
     "output_type": "display_data"
    },
    {
     "data": {
      "application/vnd.jupyter.widget-view+json": {
       "model_id": "1a0d8fb95a6847f5babaf3aa5e867a54",
       "version_major": 2,
       "version_minor": 0
      },
      "text/plain": [
       "  0%|          | 0/623 [00:00<?, ?it/s]"
      ]
     },
     "metadata": {},
     "output_type": "display_data"
    },
    {
     "data": {
      "application/vnd.jupyter.widget-view+json": {
       "model_id": "6f9d1814a03f4d9299bac276d2618ded",
       "version_major": 2,
       "version_minor": 0
      },
      "text/plain": [
       "  0%|          | 0/624 [00:00<?, ?it/s]"
      ]
     },
     "metadata": {},
     "output_type": "display_data"
    },
    {
     "data": {
      "application/vnd.jupyter.widget-view+json": {
       "model_id": "034dc5c465184ff0a671ea3945ef68f2",
       "version_major": 2,
       "version_minor": 0
      },
      "text/plain": [
       "  0%|          | 0/625 [00:00<?, ?it/s]"
      ]
     },
     "metadata": {},
     "output_type": "display_data"
    },
    {
     "data": {
      "application/vnd.jupyter.widget-view+json": {
       "model_id": "55c0d8676e3d4bb887e0614b2c2be2df",
       "version_major": 2,
       "version_minor": 0
      },
      "text/plain": [
       "  0%|          | 0/626 [00:00<?, ?it/s]"
      ]
     },
     "metadata": {},
     "output_type": "display_data"
    },
    {
     "data": {
      "application/vnd.jupyter.widget-view+json": {
       "model_id": "d1673452f0254fe59521a0a1dbe68aed",
       "version_major": 2,
       "version_minor": 0
      },
      "text/plain": [
       "  0%|          | 0/627 [00:00<?, ?it/s]"
      ]
     },
     "metadata": {},
     "output_type": "display_data"
    },
    {
     "data": {
      "application/vnd.jupyter.widget-view+json": {
       "model_id": "44aac77ff79d48b78bbe9820eec00f95",
       "version_major": 2,
       "version_minor": 0
      },
      "text/plain": [
       "  0%|          | 0/628 [00:00<?, ?it/s]"
      ]
     },
     "metadata": {},
     "output_type": "display_data"
    },
    {
     "data": {
      "application/vnd.jupyter.widget-view+json": {
       "model_id": "8c6016c5e96748359bc8f67a80e79f77",
       "version_major": 2,
       "version_minor": 0
      },
      "text/plain": [
       "  0%|          | 0/629 [00:00<?, ?it/s]"
      ]
     },
     "metadata": {},
     "output_type": "display_data"
    },
    {
     "data": {
      "application/vnd.jupyter.widget-view+json": {
       "model_id": "c25ad1cede7e4edcb5f60c53f1976c61",
       "version_major": 2,
       "version_minor": 0
      },
      "text/plain": [
       "  0%|          | 0/630 [00:00<?, ?it/s]"
      ]
     },
     "metadata": {},
     "output_type": "display_data"
    },
    {
     "data": {
      "application/vnd.jupyter.widget-view+json": {
       "model_id": "27ed57f5d73f4c62a75692c3f224b5ce",
       "version_major": 2,
       "version_minor": 0
      },
      "text/plain": [
       "  0%|          | 0/631 [00:00<?, ?it/s]"
      ]
     },
     "metadata": {},
     "output_type": "display_data"
    },
    {
     "data": {
      "application/vnd.jupyter.widget-view+json": {
       "model_id": "10660a2b17b649e79b89109520afaf5a",
       "version_major": 2,
       "version_minor": 0
      },
      "text/plain": [
       "  0%|          | 0/632 [00:00<?, ?it/s]"
      ]
     },
     "metadata": {},
     "output_type": "display_data"
    },
    {
     "data": {
      "application/vnd.jupyter.widget-view+json": {
       "model_id": "54623d7331374de6b6ee5c4c57a25cda",
       "version_major": 2,
       "version_minor": 0
      },
      "text/plain": [
       "  0%|          | 0/633 [00:00<?, ?it/s]"
      ]
     },
     "metadata": {},
     "output_type": "display_data"
    },
    {
     "data": {
      "application/vnd.jupyter.widget-view+json": {
       "model_id": "c40757002f3645e3b07c2b3161ede9a3",
       "version_major": 2,
       "version_minor": 0
      },
      "text/plain": [
       "  0%|          | 0/634 [00:00<?, ?it/s]"
      ]
     },
     "metadata": {},
     "output_type": "display_data"
    },
    {
     "data": {
      "application/vnd.jupyter.widget-view+json": {
       "model_id": "3af418e896294cb38f40dc27e358a47b",
       "version_major": 2,
       "version_minor": 0
      },
      "text/plain": [
       "  0%|          | 0/635 [00:00<?, ?it/s]"
      ]
     },
     "metadata": {},
     "output_type": "display_data"
    },
    {
     "data": {
      "application/vnd.jupyter.widget-view+json": {
       "model_id": "6feb72943dac443daf13affced2312e8",
       "version_major": 2,
       "version_minor": 0
      },
      "text/plain": [
       "  0%|          | 0/636 [00:00<?, ?it/s]"
      ]
     },
     "metadata": {},
     "output_type": "display_data"
    },
    {
     "data": {
      "application/vnd.jupyter.widget-view+json": {
       "model_id": "958d808e133247bd81e86147b0b60543",
       "version_major": 2,
       "version_minor": 0
      },
      "text/plain": [
       "  0%|          | 0/637 [00:00<?, ?it/s]"
      ]
     },
     "metadata": {},
     "output_type": "display_data"
    },
    {
     "data": {
      "application/vnd.jupyter.widget-view+json": {
       "model_id": "68122ea25c31432cbb3b0fb8063a1837",
       "version_major": 2,
       "version_minor": 0
      },
      "text/plain": [
       "  0%|          | 0/638 [00:00<?, ?it/s]"
      ]
     },
     "metadata": {},
     "output_type": "display_data"
    },
    {
     "data": {
      "application/vnd.jupyter.widget-view+json": {
       "model_id": "84db3e21ef7d4086a6a90f6e7d7dfeae",
       "version_major": 2,
       "version_minor": 0
      },
      "text/plain": [
       "  0%|          | 0/639 [00:00<?, ?it/s]"
      ]
     },
     "metadata": {},
     "output_type": "display_data"
    },
    {
     "data": {
      "application/vnd.jupyter.widget-view+json": {
       "model_id": "f508ac6503c84cca86ec503bed6d7602",
       "version_major": 2,
       "version_minor": 0
      },
      "text/plain": [
       "  0%|          | 0/640 [00:00<?, ?it/s]"
      ]
     },
     "metadata": {},
     "output_type": "display_data"
    },
    {
     "data": {
      "application/vnd.jupyter.widget-view+json": {
       "model_id": "b58655b569144276a11c29501558dcb9",
       "version_major": 2,
       "version_minor": 0
      },
      "text/plain": [
       "  0%|          | 0/641 [00:00<?, ?it/s]"
      ]
     },
     "metadata": {},
     "output_type": "display_data"
    },
    {
     "data": {
      "application/vnd.jupyter.widget-view+json": {
       "model_id": "3b3c442758e5448cbf409fbbe271095d",
       "version_major": 2,
       "version_minor": 0
      },
      "text/plain": [
       "  0%|          | 0/642 [00:00<?, ?it/s]"
      ]
     },
     "metadata": {},
     "output_type": "display_data"
    },
    {
     "data": {
      "application/vnd.jupyter.widget-view+json": {
       "model_id": "d86d59cb2a5649ee805397b87eae9140",
       "version_major": 2,
       "version_minor": 0
      },
      "text/plain": [
       "  0%|          | 0/643 [00:00<?, ?it/s]"
      ]
     },
     "metadata": {},
     "output_type": "display_data"
    },
    {
     "data": {
      "application/vnd.jupyter.widget-view+json": {
       "model_id": "4f9740479ead42ad95a6c1d0a73f441b",
       "version_major": 2,
       "version_minor": 0
      },
      "text/plain": [
       "  0%|          | 0/644 [00:00<?, ?it/s]"
      ]
     },
     "metadata": {},
     "output_type": "display_data"
    },
    {
     "data": {
      "application/vnd.jupyter.widget-view+json": {
       "model_id": "f419843acd934577aaba78d37a6379ab",
       "version_major": 2,
       "version_minor": 0
      },
      "text/plain": [
       "  0%|          | 0/645 [00:00<?, ?it/s]"
      ]
     },
     "metadata": {},
     "output_type": "display_data"
    },
    {
     "data": {
      "application/vnd.jupyter.widget-view+json": {
       "model_id": "4e3812b61aac480e948c813b55780946",
       "version_major": 2,
       "version_minor": 0
      },
      "text/plain": [
       "  0%|          | 0/646 [00:00<?, ?it/s]"
      ]
     },
     "metadata": {},
     "output_type": "display_data"
    },
    {
     "data": {
      "application/vnd.jupyter.widget-view+json": {
       "model_id": "da33aa663b4a42f99f7e815289187420",
       "version_major": 2,
       "version_minor": 0
      },
      "text/plain": [
       "  0%|          | 0/647 [00:00<?, ?it/s]"
      ]
     },
     "metadata": {},
     "output_type": "display_data"
    },
    {
     "data": {
      "application/vnd.jupyter.widget-view+json": {
       "model_id": "52420faecd054a4fb386b558bf8a0b3c",
       "version_major": 2,
       "version_minor": 0
      },
      "text/plain": [
       "  0%|          | 0/648 [00:00<?, ?it/s]"
      ]
     },
     "metadata": {},
     "output_type": "display_data"
    },
    {
     "data": {
      "application/vnd.jupyter.widget-view+json": {
       "model_id": "9c195d2685b14f2ca99327c43ec3cae5",
       "version_major": 2,
       "version_minor": 0
      },
      "text/plain": [
       "  0%|          | 0/649 [00:00<?, ?it/s]"
      ]
     },
     "metadata": {},
     "output_type": "display_data"
    },
    {
     "data": {
      "application/vnd.jupyter.widget-view+json": {
       "model_id": "d4ee0536c8e2426e836424f324a8d566",
       "version_major": 2,
       "version_minor": 0
      },
      "text/plain": [
       "  0%|          | 0/650 [00:00<?, ?it/s]"
      ]
     },
     "metadata": {},
     "output_type": "display_data"
    },
    {
     "data": {
      "application/vnd.jupyter.widget-view+json": {
       "model_id": "383331e9b80b489792f3688a809ef94c",
       "version_major": 2,
       "version_minor": 0
      },
      "text/plain": [
       "  0%|          | 0/651 [00:00<?, ?it/s]"
      ]
     },
     "metadata": {},
     "output_type": "display_data"
    },
    {
     "data": {
      "application/vnd.jupyter.widget-view+json": {
       "model_id": "2d072b3412054cb4b577151348f62b05",
       "version_major": 2,
       "version_minor": 0
      },
      "text/plain": [
       "  0%|          | 0/652 [00:00<?, ?it/s]"
      ]
     },
     "metadata": {},
     "output_type": "display_data"
    },
    {
     "data": {
      "application/vnd.jupyter.widget-view+json": {
       "model_id": "0c98033a4f4949fc949071e33d51e54e",
       "version_major": 2,
       "version_minor": 0
      },
      "text/plain": [
       "  0%|          | 0/653 [00:00<?, ?it/s]"
      ]
     },
     "metadata": {},
     "output_type": "display_data"
    },
    {
     "data": {
      "application/vnd.jupyter.widget-view+json": {
       "model_id": "02faadfc882b42ea88788e3ab3421bad",
       "version_major": 2,
       "version_minor": 0
      },
      "text/plain": [
       "  0%|          | 0/654 [00:00<?, ?it/s]"
      ]
     },
     "metadata": {},
     "output_type": "display_data"
    },
    {
     "data": {
      "application/vnd.jupyter.widget-view+json": {
       "model_id": "072485e310b54d7f8bfce1265ea9ea71",
       "version_major": 2,
       "version_minor": 0
      },
      "text/plain": [
       "  0%|          | 0/655 [00:00<?, ?it/s]"
      ]
     },
     "metadata": {},
     "output_type": "display_data"
    },
    {
     "data": {
      "application/vnd.jupyter.widget-view+json": {
       "model_id": "cfe4148c2cbc4261966319a888df057c",
       "version_major": 2,
       "version_minor": 0
      },
      "text/plain": [
       "  0%|          | 0/656 [00:00<?, ?it/s]"
      ]
     },
     "metadata": {},
     "output_type": "display_data"
    },
    {
     "data": {
      "application/vnd.jupyter.widget-view+json": {
       "model_id": "49d2c269f90c47539dfe9dbf1ee4a756",
       "version_major": 2,
       "version_minor": 0
      },
      "text/plain": [
       "  0%|          | 0/657 [00:00<?, ?it/s]"
      ]
     },
     "metadata": {},
     "output_type": "display_data"
    },
    {
     "data": {
      "application/vnd.jupyter.widget-view+json": {
       "model_id": "3e1c0c9cf4f645998ae4c7c028304568",
       "version_major": 2,
       "version_minor": 0
      },
      "text/plain": [
       "  0%|          | 0/658 [00:00<?, ?it/s]"
      ]
     },
     "metadata": {},
     "output_type": "display_data"
    },
    {
     "data": {
      "application/vnd.jupyter.widget-view+json": {
       "model_id": "20da11a9b1cc4279aaa7ff6a868e75e3",
       "version_major": 2,
       "version_minor": 0
      },
      "text/plain": [
       "  0%|          | 0/659 [00:00<?, ?it/s]"
      ]
     },
     "metadata": {},
     "output_type": "display_data"
    },
    {
     "data": {
      "application/vnd.jupyter.widget-view+json": {
       "model_id": "b60253f2dc3946d39b2367f3e424f5a0",
       "version_major": 2,
       "version_minor": 0
      },
      "text/plain": [
       "  0%|          | 0/660 [00:00<?, ?it/s]"
      ]
     },
     "metadata": {},
     "output_type": "display_data"
    },
    {
     "data": {
      "application/vnd.jupyter.widget-view+json": {
       "model_id": "38d55bb3e70e4e7b92d720ea20f76957",
       "version_major": 2,
       "version_minor": 0
      },
      "text/plain": [
       "  0%|          | 0/661 [00:00<?, ?it/s]"
      ]
     },
     "metadata": {},
     "output_type": "display_data"
    },
    {
     "data": {
      "application/vnd.jupyter.widget-view+json": {
       "model_id": "8e62ae7b0ff248df8e992ea2c2e89503",
       "version_major": 2,
       "version_minor": 0
      },
      "text/plain": [
       "  0%|          | 0/662 [00:00<?, ?it/s]"
      ]
     },
     "metadata": {},
     "output_type": "display_data"
    },
    {
     "data": {
      "application/vnd.jupyter.widget-view+json": {
       "model_id": "a22cad0ee9c149ffb99e35727e035b49",
       "version_major": 2,
       "version_minor": 0
      },
      "text/plain": [
       "  0%|          | 0/663 [00:00<?, ?it/s]"
      ]
     },
     "metadata": {},
     "output_type": "display_data"
    },
    {
     "data": {
      "application/vnd.jupyter.widget-view+json": {
       "model_id": "bc3385b5ece04ad28c69e30d6767db16",
       "version_major": 2,
       "version_minor": 0
      },
      "text/plain": [
       "  0%|          | 0/664 [00:00<?, ?it/s]"
      ]
     },
     "metadata": {},
     "output_type": "display_data"
    },
    {
     "data": {
      "application/vnd.jupyter.widget-view+json": {
       "model_id": "13cf41ef029748878c243e65517df944",
       "version_major": 2,
       "version_minor": 0
      },
      "text/plain": [
       "  0%|          | 0/665 [00:00<?, ?it/s]"
      ]
     },
     "metadata": {},
     "output_type": "display_data"
    },
    {
     "data": {
      "application/vnd.jupyter.widget-view+json": {
       "model_id": "8a03e0d9e3a349d7a61a5acf3c2b9679",
       "version_major": 2,
       "version_minor": 0
      },
      "text/plain": [
       "  0%|          | 0/666 [00:00<?, ?it/s]"
      ]
     },
     "metadata": {},
     "output_type": "display_data"
    },
    {
     "data": {
      "application/vnd.jupyter.widget-view+json": {
       "model_id": "4f7dddcae2064a7a8c75c4e49e648abb",
       "version_major": 2,
       "version_minor": 0
      },
      "text/plain": [
       "  0%|          | 0/667 [00:00<?, ?it/s]"
      ]
     },
     "metadata": {},
     "output_type": "display_data"
    },
    {
     "data": {
      "application/vnd.jupyter.widget-view+json": {
       "model_id": "f3a10fe0d2c043f89b181c708ca6cf47",
       "version_major": 2,
       "version_minor": 0
      },
      "text/plain": [
       "  0%|          | 0/668 [00:00<?, ?it/s]"
      ]
     },
     "metadata": {},
     "output_type": "display_data"
    },
    {
     "data": {
      "application/vnd.jupyter.widget-view+json": {
       "model_id": "d9b6e973337f45f69eb6f51f46dd4f9e",
       "version_major": 2,
       "version_minor": 0
      },
      "text/plain": [
       "  0%|          | 0/669 [00:00<?, ?it/s]"
      ]
     },
     "metadata": {},
     "output_type": "display_data"
    },
    {
     "data": {
      "application/vnd.jupyter.widget-view+json": {
       "model_id": "865f9856814e451d8c724a37519a9afb",
       "version_major": 2,
       "version_minor": 0
      },
      "text/plain": [
       "  0%|          | 0/670 [00:00<?, ?it/s]"
      ]
     },
     "metadata": {},
     "output_type": "display_data"
    },
    {
     "data": {
      "application/vnd.jupyter.widget-view+json": {
       "model_id": "46e32e2d180049759244c90f78a2c997",
       "version_major": 2,
       "version_minor": 0
      },
      "text/plain": [
       "  0%|          | 0/671 [00:00<?, ?it/s]"
      ]
     },
     "metadata": {},
     "output_type": "display_data"
    },
    {
     "data": {
      "application/vnd.jupyter.widget-view+json": {
       "model_id": "6dc50fb105e942faa80acdd40f6b5c7c",
       "version_major": 2,
       "version_minor": 0
      },
      "text/plain": [
       "  0%|          | 0/672 [00:00<?, ?it/s]"
      ]
     },
     "metadata": {},
     "output_type": "display_data"
    },
    {
     "data": {
      "application/vnd.jupyter.widget-view+json": {
       "model_id": "a79bb2573dda4de391c82f3743310176",
       "version_major": 2,
       "version_minor": 0
      },
      "text/plain": [
       "  0%|          | 0/673 [00:00<?, ?it/s]"
      ]
     },
     "metadata": {},
     "output_type": "display_data"
    },
    {
     "data": {
      "application/vnd.jupyter.widget-view+json": {
       "model_id": "01a7b114b6c84ff09bfdf478ac615a5f",
       "version_major": 2,
       "version_minor": 0
      },
      "text/plain": [
       "  0%|          | 0/674 [00:00<?, ?it/s]"
      ]
     },
     "metadata": {},
     "output_type": "display_data"
    },
    {
     "data": {
      "application/vnd.jupyter.widget-view+json": {
       "model_id": "cf55b566b0244477bffa1b05cc96a3ca",
       "version_major": 2,
       "version_minor": 0
      },
      "text/plain": [
       "  0%|          | 0/675 [00:00<?, ?it/s]"
      ]
     },
     "metadata": {},
     "output_type": "display_data"
    },
    {
     "data": {
      "application/vnd.jupyter.widget-view+json": {
       "model_id": "48ecea3c8c434d09bba8f21a56347bc4",
       "version_major": 2,
       "version_minor": 0
      },
      "text/plain": [
       "  0%|          | 0/676 [00:00<?, ?it/s]"
      ]
     },
     "metadata": {},
     "output_type": "display_data"
    },
    {
     "data": {
      "application/vnd.jupyter.widget-view+json": {
       "model_id": "3cb65ece367c474c8078c5424ec0b0bd",
       "version_major": 2,
       "version_minor": 0
      },
      "text/plain": [
       "  0%|          | 0/677 [00:00<?, ?it/s]"
      ]
     },
     "metadata": {},
     "output_type": "display_data"
    },
    {
     "data": {
      "application/vnd.jupyter.widget-view+json": {
       "model_id": "2c28e34826cf4d35a2e9196aefa77e62",
       "version_major": 2,
       "version_minor": 0
      },
      "text/plain": [
       "  0%|          | 0/678 [00:00<?, ?it/s]"
      ]
     },
     "metadata": {},
     "output_type": "display_data"
    },
    {
     "data": {
      "application/vnd.jupyter.widget-view+json": {
       "model_id": "7ad744708d8e45e380f846775181f7fc",
       "version_major": 2,
       "version_minor": 0
      },
      "text/plain": [
       "  0%|          | 0/679 [00:00<?, ?it/s]"
      ]
     },
     "metadata": {},
     "output_type": "display_data"
    },
    {
     "data": {
      "application/vnd.jupyter.widget-view+json": {
       "model_id": "fd11f7be0e5d4be2add0fad65b8d49da",
       "version_major": 2,
       "version_minor": 0
      },
      "text/plain": [
       "  0%|          | 0/680 [00:00<?, ?it/s]"
      ]
     },
     "metadata": {},
     "output_type": "display_data"
    },
    {
     "data": {
      "application/vnd.jupyter.widget-view+json": {
       "model_id": "a2da1dbddd424a2ca190ca86682f06bf",
       "version_major": 2,
       "version_minor": 0
      },
      "text/plain": [
       "  0%|          | 0/681 [00:00<?, ?it/s]"
      ]
     },
     "metadata": {},
     "output_type": "display_data"
    },
    {
     "data": {
      "application/vnd.jupyter.widget-view+json": {
       "model_id": "8ff7c53fcbfc4c5e9520a493975b2937",
       "version_major": 2,
       "version_minor": 0
      },
      "text/plain": [
       "  0%|          | 0/682 [00:00<?, ?it/s]"
      ]
     },
     "metadata": {},
     "output_type": "display_data"
    },
    {
     "data": {
      "application/vnd.jupyter.widget-view+json": {
       "model_id": "c54fbdf0b59a4896b95ceb91947de8b0",
       "version_major": 2,
       "version_minor": 0
      },
      "text/plain": [
       "  0%|          | 0/683 [00:00<?, ?it/s]"
      ]
     },
     "metadata": {},
     "output_type": "display_data"
    },
    {
     "data": {
      "application/vnd.jupyter.widget-view+json": {
       "model_id": "66738b8c7c4f46b3b77d24c7f0d4b5f6",
       "version_major": 2,
       "version_minor": 0
      },
      "text/plain": [
       "  0%|          | 0/684 [00:00<?, ?it/s]"
      ]
     },
     "metadata": {},
     "output_type": "display_data"
    },
    {
     "data": {
      "application/vnd.jupyter.widget-view+json": {
       "model_id": "eba7664e74754ca587d31df441e89700",
       "version_major": 2,
       "version_minor": 0
      },
      "text/plain": [
       "  0%|          | 0/685 [00:00<?, ?it/s]"
      ]
     },
     "metadata": {},
     "output_type": "display_data"
    },
    {
     "data": {
      "application/vnd.jupyter.widget-view+json": {
       "model_id": "abd2e99455104e0c872ba40f8fdb8c1c",
       "version_major": 2,
       "version_minor": 0
      },
      "text/plain": [
       "  0%|          | 0/686 [00:00<?, ?it/s]"
      ]
     },
     "metadata": {},
     "output_type": "display_data"
    },
    {
     "data": {
      "application/vnd.jupyter.widget-view+json": {
       "model_id": "0b83b9b891814b30a734d930615c4ae1",
       "version_major": 2,
       "version_minor": 0
      },
      "text/plain": [
       "  0%|          | 0/687 [00:00<?, ?it/s]"
      ]
     },
     "metadata": {},
     "output_type": "display_data"
    },
    {
     "data": {
      "application/vnd.jupyter.widget-view+json": {
       "model_id": "2b5ef0d6a22248ae913e95d4fe7fca78",
       "version_major": 2,
       "version_minor": 0
      },
      "text/plain": [
       "  0%|          | 0/688 [00:00<?, ?it/s]"
      ]
     },
     "metadata": {},
     "output_type": "display_data"
    },
    {
     "data": {
      "application/vnd.jupyter.widget-view+json": {
       "model_id": "a182914c9bda42628cfc279db8f32aa1",
       "version_major": 2,
       "version_minor": 0
      },
      "text/plain": [
       "  0%|          | 0/689 [00:00<?, ?it/s]"
      ]
     },
     "metadata": {},
     "output_type": "display_data"
    },
    {
     "data": {
      "application/vnd.jupyter.widget-view+json": {
       "model_id": "323ffa4ab8284347a2b5c91b173eaa42",
       "version_major": 2,
       "version_minor": 0
      },
      "text/plain": [
       "  0%|          | 0/690 [00:00<?, ?it/s]"
      ]
     },
     "metadata": {},
     "output_type": "display_data"
    },
    {
     "data": {
      "application/vnd.jupyter.widget-view+json": {
       "model_id": "c1c59841900342ff88276d9e1077fe3a",
       "version_major": 2,
       "version_minor": 0
      },
      "text/plain": [
       "  0%|          | 0/691 [00:00<?, ?it/s]"
      ]
     },
     "metadata": {},
     "output_type": "display_data"
    },
    {
     "data": {
      "application/vnd.jupyter.widget-view+json": {
       "model_id": "ffdb6ef9cfdc4be59cfe8a66d8b3ad55",
       "version_major": 2,
       "version_minor": 0
      },
      "text/plain": [
       "  0%|          | 0/692 [00:00<?, ?it/s]"
      ]
     },
     "metadata": {},
     "output_type": "display_data"
    },
    {
     "data": {
      "application/vnd.jupyter.widget-view+json": {
       "model_id": "1f143b1a9abd4d45a31c5756d0475513",
       "version_major": 2,
       "version_minor": 0
      },
      "text/plain": [
       "  0%|          | 0/693 [00:00<?, ?it/s]"
      ]
     },
     "metadata": {},
     "output_type": "display_data"
    },
    {
     "data": {
      "application/vnd.jupyter.widget-view+json": {
       "model_id": "5fdd3c53301840eb966e6d1c7791414a",
       "version_major": 2,
       "version_minor": 0
      },
      "text/plain": [
       "  0%|          | 0/694 [00:00<?, ?it/s]"
      ]
     },
     "metadata": {},
     "output_type": "display_data"
    },
    {
     "data": {
      "application/vnd.jupyter.widget-view+json": {
       "model_id": "5108145282bf4bfaa4ec9531f2216118",
       "version_major": 2,
       "version_minor": 0
      },
      "text/plain": [
       "  0%|          | 0/695 [00:00<?, ?it/s]"
      ]
     },
     "metadata": {},
     "output_type": "display_data"
    },
    {
     "data": {
      "application/vnd.jupyter.widget-view+json": {
       "model_id": "dffa7a9418c642269b02558ad7b7e64b",
       "version_major": 2,
       "version_minor": 0
      },
      "text/plain": [
       "  0%|          | 0/696 [00:00<?, ?it/s]"
      ]
     },
     "metadata": {},
     "output_type": "display_data"
    },
    {
     "data": {
      "application/vnd.jupyter.widget-view+json": {
       "model_id": "ac3398947da741b2af538861479dd4e5",
       "version_major": 2,
       "version_minor": 0
      },
      "text/plain": [
       "  0%|          | 0/697 [00:00<?, ?it/s]"
      ]
     },
     "metadata": {},
     "output_type": "display_data"
    },
    {
     "data": {
      "application/vnd.jupyter.widget-view+json": {
       "model_id": "b2dabbaada4549e4becf5fe3c54dcc16",
       "version_major": 2,
       "version_minor": 0
      },
      "text/plain": [
       "  0%|          | 0/698 [00:00<?, ?it/s]"
      ]
     },
     "metadata": {},
     "output_type": "display_data"
    },
    {
     "data": {
      "application/vnd.jupyter.widget-view+json": {
       "model_id": "f1f4ad15d9bb488fbfcfba40d1da5c9d",
       "version_major": 2,
       "version_minor": 0
      },
      "text/plain": [
       "  0%|          | 0/699 [00:00<?, ?it/s]"
      ]
     },
     "metadata": {},
     "output_type": "display_data"
    },
    {
     "data": {
      "application/vnd.jupyter.widget-view+json": {
       "model_id": "a4ba904454a94402b754bb2c8efe1710",
       "version_major": 2,
       "version_minor": 0
      },
      "text/plain": [
       "  0%|          | 0/700 [00:00<?, ?it/s]"
      ]
     },
     "metadata": {},
     "output_type": "display_data"
    },
    {
     "data": {
      "application/vnd.jupyter.widget-view+json": {
       "model_id": "dfdc0506836e44d5825edc9a5bc8b436",
       "version_major": 2,
       "version_minor": 0
      },
      "text/plain": [
       "  0%|          | 0/701 [00:00<?, ?it/s]"
      ]
     },
     "metadata": {},
     "output_type": "display_data"
    },
    {
     "data": {
      "application/vnd.jupyter.widget-view+json": {
       "model_id": "6e0e21b8dc3e4a4eaff0b544655b5a6a",
       "version_major": 2,
       "version_minor": 0
      },
      "text/plain": [
       "  0%|          | 0/702 [00:00<?, ?it/s]"
      ]
     },
     "metadata": {},
     "output_type": "display_data"
    },
    {
     "data": {
      "application/vnd.jupyter.widget-view+json": {
       "model_id": "6cc7d6aae26c4ea287ce7e5e202f6919",
       "version_major": 2,
       "version_minor": 0
      },
      "text/plain": [
       "  0%|          | 0/703 [00:00<?, ?it/s]"
      ]
     },
     "metadata": {},
     "output_type": "display_data"
    },
    {
     "data": {
      "application/vnd.jupyter.widget-view+json": {
       "model_id": "189521bd89ae4f2dbe85d7d95633d115",
       "version_major": 2,
       "version_minor": 0
      },
      "text/plain": [
       "  0%|          | 0/704 [00:00<?, ?it/s]"
      ]
     },
     "metadata": {},
     "output_type": "display_data"
    },
    {
     "data": {
      "application/vnd.jupyter.widget-view+json": {
       "model_id": "a3cb0133d6e64377957986a70e9f4b3b",
       "version_major": 2,
       "version_minor": 0
      },
      "text/plain": [
       "  0%|          | 0/705 [00:00<?, ?it/s]"
      ]
     },
     "metadata": {},
     "output_type": "display_data"
    },
    {
     "data": {
      "application/vnd.jupyter.widget-view+json": {
       "model_id": "277613f7e81a42b0b0344add593d9eb4",
       "version_major": 2,
       "version_minor": 0
      },
      "text/plain": [
       "  0%|          | 0/706 [00:00<?, ?it/s]"
      ]
     },
     "metadata": {},
     "output_type": "display_data"
    },
    {
     "data": {
      "application/vnd.jupyter.widget-view+json": {
       "model_id": "b36ed01a120541f4ba354c226f72269e",
       "version_major": 2,
       "version_minor": 0
      },
      "text/plain": [
       "  0%|          | 0/707 [00:00<?, ?it/s]"
      ]
     },
     "metadata": {},
     "output_type": "display_data"
    },
    {
     "data": {
      "application/vnd.jupyter.widget-view+json": {
       "model_id": "18dde066f7f346378dea0d9179bad8ae",
       "version_major": 2,
       "version_minor": 0
      },
      "text/plain": [
       "  0%|          | 0/708 [00:00<?, ?it/s]"
      ]
     },
     "metadata": {},
     "output_type": "display_data"
    },
    {
     "data": {
      "application/vnd.jupyter.widget-view+json": {
       "model_id": "d1dd4929fced4c7b9994708426d64364",
       "version_major": 2,
       "version_minor": 0
      },
      "text/plain": [
       "  0%|          | 0/709 [00:00<?, ?it/s]"
      ]
     },
     "metadata": {},
     "output_type": "display_data"
    },
    {
     "data": {
      "application/vnd.jupyter.widget-view+json": {
       "model_id": "43fc98fe6813449388ca5db5d8e1e8e0",
       "version_major": 2,
       "version_minor": 0
      },
      "text/plain": [
       "  0%|          | 0/710 [00:00<?, ?it/s]"
      ]
     },
     "metadata": {},
     "output_type": "display_data"
    },
    {
     "data": {
      "application/vnd.jupyter.widget-view+json": {
       "model_id": "a8a8f6ca5d114289a185d38b4882dbdd",
       "version_major": 2,
       "version_minor": 0
      },
      "text/plain": [
       "  0%|          | 0/711 [00:00<?, ?it/s]"
      ]
     },
     "metadata": {},
     "output_type": "display_data"
    },
    {
     "data": {
      "application/vnd.jupyter.widget-view+json": {
       "model_id": "43f45bc302a04fda9e4b3e256dabca13",
       "version_major": 2,
       "version_minor": 0
      },
      "text/plain": [
       "  0%|          | 0/712 [00:00<?, ?it/s]"
      ]
     },
     "metadata": {},
     "output_type": "display_data"
    },
    {
     "data": {
      "application/vnd.jupyter.widget-view+json": {
       "model_id": "651f974ab1e14f0f8893be045b90e6c4",
       "version_major": 2,
       "version_minor": 0
      },
      "text/plain": [
       "  0%|          | 0/713 [00:00<?, ?it/s]"
      ]
     },
     "metadata": {},
     "output_type": "display_data"
    },
    {
     "data": {
      "application/vnd.jupyter.widget-view+json": {
       "model_id": "28a02c42fae748b4b9af0f5a8fd7dfe5",
       "version_major": 2,
       "version_minor": 0
      },
      "text/plain": [
       "  0%|          | 0/714 [00:00<?, ?it/s]"
      ]
     },
     "metadata": {},
     "output_type": "display_data"
    },
    {
     "data": {
      "application/vnd.jupyter.widget-view+json": {
       "model_id": "c31eaef7504647378595df7b084d4292",
       "version_major": 2,
       "version_minor": 0
      },
      "text/plain": [
       "  0%|          | 0/715 [00:00<?, ?it/s]"
      ]
     },
     "metadata": {},
     "output_type": "display_data"
    },
    {
     "data": {
      "application/vnd.jupyter.widget-view+json": {
       "model_id": "f367a978f5b94c688e8b0a42005912c6",
       "version_major": 2,
       "version_minor": 0
      },
      "text/plain": [
       "  0%|          | 0/716 [00:00<?, ?it/s]"
      ]
     },
     "metadata": {},
     "output_type": "display_data"
    },
    {
     "data": {
      "application/vnd.jupyter.widget-view+json": {
       "model_id": "c7e08fc50dcf4a6f954d17e1f3f7d917",
       "version_major": 2,
       "version_minor": 0
      },
      "text/plain": [
       "  0%|          | 0/717 [00:00<?, ?it/s]"
      ]
     },
     "metadata": {},
     "output_type": "display_data"
    },
    {
     "data": {
      "application/vnd.jupyter.widget-view+json": {
       "model_id": "6ed8b7bac91a4e3bb53f56c72505ef9d",
       "version_major": 2,
       "version_minor": 0
      },
      "text/plain": [
       "  0%|          | 0/718 [00:00<?, ?it/s]"
      ]
     },
     "metadata": {},
     "output_type": "display_data"
    },
    {
     "data": {
      "application/vnd.jupyter.widget-view+json": {
       "model_id": "ce6b50487c9d432680311578c5622164",
       "version_major": 2,
       "version_minor": 0
      },
      "text/plain": [
       "  0%|          | 0/719 [00:00<?, ?it/s]"
      ]
     },
     "metadata": {},
     "output_type": "display_data"
    },
    {
     "data": {
      "application/vnd.jupyter.widget-view+json": {
       "model_id": "34e87a9a9d2b4470acacc76e8b44222e",
       "version_major": 2,
       "version_minor": 0
      },
      "text/plain": [
       "  0%|          | 0/720 [00:00<?, ?it/s]"
      ]
     },
     "metadata": {},
     "output_type": "display_data"
    },
    {
     "data": {
      "application/vnd.jupyter.widget-view+json": {
       "model_id": "f9b5a491cab748aa8f12beea08d23d9e",
       "version_major": 2,
       "version_minor": 0
      },
      "text/plain": [
       "  0%|          | 0/721 [00:00<?, ?it/s]"
      ]
     },
     "metadata": {},
     "output_type": "display_data"
    },
    {
     "data": {
      "application/vnd.jupyter.widget-view+json": {
       "model_id": "d7c7efc10fb544c3b7496c37a87c5109",
       "version_major": 2,
       "version_minor": 0
      },
      "text/plain": [
       "  0%|          | 0/722 [00:00<?, ?it/s]"
      ]
     },
     "metadata": {},
     "output_type": "display_data"
    },
    {
     "data": {
      "application/vnd.jupyter.widget-view+json": {
       "model_id": "ea84f6caacb549879ae0df60255b8ebb",
       "version_major": 2,
       "version_minor": 0
      },
      "text/plain": [
       "  0%|          | 0/723 [00:00<?, ?it/s]"
      ]
     },
     "metadata": {},
     "output_type": "display_data"
    },
    {
     "data": {
      "application/vnd.jupyter.widget-view+json": {
       "model_id": "5346c9e8b40446bead251565d12748c2",
       "version_major": 2,
       "version_minor": 0
      },
      "text/plain": [
       "  0%|          | 0/724 [00:00<?, ?it/s]"
      ]
     },
     "metadata": {},
     "output_type": "display_data"
    },
    {
     "data": {
      "application/vnd.jupyter.widget-view+json": {
       "model_id": "9e8b24dad9094b6da462952888600ac4",
       "version_major": 2,
       "version_minor": 0
      },
      "text/plain": [
       "  0%|          | 0/725 [00:00<?, ?it/s]"
      ]
     },
     "metadata": {},
     "output_type": "display_data"
    },
    {
     "data": {
      "application/vnd.jupyter.widget-view+json": {
       "model_id": "ce3040b391db4238972818924a45d92a",
       "version_major": 2,
       "version_minor": 0
      },
      "text/plain": [
       "  0%|          | 0/726 [00:00<?, ?it/s]"
      ]
     },
     "metadata": {},
     "output_type": "display_data"
    },
    {
     "data": {
      "application/vnd.jupyter.widget-view+json": {
       "model_id": "41803adea9b2425b847f020b1109dae2",
       "version_major": 2,
       "version_minor": 0
      },
      "text/plain": [
       "  0%|          | 0/727 [00:00<?, ?it/s]"
      ]
     },
     "metadata": {},
     "output_type": "display_data"
    },
    {
     "data": {
      "application/vnd.jupyter.widget-view+json": {
       "model_id": "28b9368c3aa04ddca3735c3415f70668",
       "version_major": 2,
       "version_minor": 0
      },
      "text/plain": [
       "  0%|          | 0/728 [00:00<?, ?it/s]"
      ]
     },
     "metadata": {},
     "output_type": "display_data"
    },
    {
     "data": {
      "application/vnd.jupyter.widget-view+json": {
       "model_id": "39dd1e31c409491f8c4d58c6e49c3865",
       "version_major": 2,
       "version_minor": 0
      },
      "text/plain": [
       "  0%|          | 0/729 [00:00<?, ?it/s]"
      ]
     },
     "metadata": {},
     "output_type": "display_data"
    },
    {
     "data": {
      "application/vnd.jupyter.widget-view+json": {
       "model_id": "da996ff928504e879be79b6efc815e0a",
       "version_major": 2,
       "version_minor": 0
      },
      "text/plain": [
       "  0%|          | 0/730 [00:00<?, ?it/s]"
      ]
     },
     "metadata": {},
     "output_type": "display_data"
    },
    {
     "data": {
      "application/vnd.jupyter.widget-view+json": {
       "model_id": "087e2a0b092645baa6e21e711e012dd1",
       "version_major": 2,
       "version_minor": 0
      },
      "text/plain": [
       "  0%|          | 0/731 [00:00<?, ?it/s]"
      ]
     },
     "metadata": {},
     "output_type": "display_data"
    },
    {
     "data": {
      "application/vnd.jupyter.widget-view+json": {
       "model_id": "a18f2d4634b64f408e9ba4ab7470d1b4",
       "version_major": 2,
       "version_minor": 0
      },
      "text/plain": [
       "  0%|          | 0/732 [00:00<?, ?it/s]"
      ]
     },
     "metadata": {},
     "output_type": "display_data"
    },
    {
     "data": {
      "application/vnd.jupyter.widget-view+json": {
       "model_id": "bd060f98aa074527a14d1d49ab7b4fd1",
       "version_major": 2,
       "version_minor": 0
      },
      "text/plain": [
       "  0%|          | 0/733 [00:00<?, ?it/s]"
      ]
     },
     "metadata": {},
     "output_type": "display_data"
    },
    {
     "data": {
      "application/vnd.jupyter.widget-view+json": {
       "model_id": "c3d3d20e03b340308bd018a931cdd429",
       "version_major": 2,
       "version_minor": 0
      },
      "text/plain": [
       "  0%|          | 0/734 [00:00<?, ?it/s]"
      ]
     },
     "metadata": {},
     "output_type": "display_data"
    },
    {
     "data": {
      "application/vnd.jupyter.widget-view+json": {
       "model_id": "ce74cfa76e69486d8b43024e29b468c4",
       "version_major": 2,
       "version_minor": 0
      },
      "text/plain": [
       "  0%|          | 0/735 [00:00<?, ?it/s]"
      ]
     },
     "metadata": {},
     "output_type": "display_data"
    },
    {
     "data": {
      "application/vnd.jupyter.widget-view+json": {
       "model_id": "d858b2d70d8146a383b256f2532312e8",
       "version_major": 2,
       "version_minor": 0
      },
      "text/plain": [
       "  0%|          | 0/736 [00:00<?, ?it/s]"
      ]
     },
     "metadata": {},
     "output_type": "display_data"
    },
    {
     "data": {
      "application/vnd.jupyter.widget-view+json": {
       "model_id": "6b02304d40944c578bcacf617a04da5e",
       "version_major": 2,
       "version_minor": 0
      },
      "text/plain": [
       "  0%|          | 0/737 [00:00<?, ?it/s]"
      ]
     },
     "metadata": {},
     "output_type": "display_data"
    },
    {
     "data": {
      "application/vnd.jupyter.widget-view+json": {
       "model_id": "db2e9bd73bd749e5b5daaf239434cf91",
       "version_major": 2,
       "version_minor": 0
      },
      "text/plain": [
       "  0%|          | 0/738 [00:00<?, ?it/s]"
      ]
     },
     "metadata": {},
     "output_type": "display_data"
    },
    {
     "data": {
      "application/vnd.jupyter.widget-view+json": {
       "model_id": "8c23615af85841d8967c14f976275145",
       "version_major": 2,
       "version_minor": 0
      },
      "text/plain": [
       "  0%|          | 0/739 [00:00<?, ?it/s]"
      ]
     },
     "metadata": {},
     "output_type": "display_data"
    },
    {
     "data": {
      "application/vnd.jupyter.widget-view+json": {
       "model_id": "f061d8c2096f4ccbbfea9a03e77c1a3b",
       "version_major": 2,
       "version_minor": 0
      },
      "text/plain": [
       "  0%|          | 0/740 [00:00<?, ?it/s]"
      ]
     },
     "metadata": {},
     "output_type": "display_data"
    },
    {
     "data": {
      "application/vnd.jupyter.widget-view+json": {
       "model_id": "8cec40b475c74159a156155c4b04d020",
       "version_major": 2,
       "version_minor": 0
      },
      "text/plain": [
       "  0%|          | 0/741 [00:00<?, ?it/s]"
      ]
     },
     "metadata": {},
     "output_type": "display_data"
    },
    {
     "data": {
      "application/vnd.jupyter.widget-view+json": {
       "model_id": "376f9f09dd3749619e95881a1f094e24",
       "version_major": 2,
       "version_minor": 0
      },
      "text/plain": [
       "  0%|          | 0/742 [00:00<?, ?it/s]"
      ]
     },
     "metadata": {},
     "output_type": "display_data"
    },
    {
     "data": {
      "application/vnd.jupyter.widget-view+json": {
       "model_id": "89c81e56ed6e47b797c8705c7b0c859c",
       "version_major": 2,
       "version_minor": 0
      },
      "text/plain": [
       "  0%|          | 0/743 [00:00<?, ?it/s]"
      ]
     },
     "metadata": {},
     "output_type": "display_data"
    },
    {
     "data": {
      "application/vnd.jupyter.widget-view+json": {
       "model_id": "8d88314d25044595ad15d3eaac0fd981",
       "version_major": 2,
       "version_minor": 0
      },
      "text/plain": [
       "  0%|          | 0/744 [00:00<?, ?it/s]"
      ]
     },
     "metadata": {},
     "output_type": "display_data"
    },
    {
     "data": {
      "application/vnd.jupyter.widget-view+json": {
       "model_id": "6f50f1562d5248bf87caf01d9bf2fc38",
       "version_major": 2,
       "version_minor": 0
      },
      "text/plain": [
       "  0%|          | 0/745 [00:00<?, ?it/s]"
      ]
     },
     "metadata": {},
     "output_type": "display_data"
    },
    {
     "data": {
      "application/vnd.jupyter.widget-view+json": {
       "model_id": "bb511659aec145ee900689a5517508a5",
       "version_major": 2,
       "version_minor": 0
      },
      "text/plain": [
       "  0%|          | 0/746 [00:00<?, ?it/s]"
      ]
     },
     "metadata": {},
     "output_type": "display_data"
    },
    {
     "data": {
      "application/vnd.jupyter.widget-view+json": {
       "model_id": "ba550cd1894d4280b0c598f0f723c607",
       "version_major": 2,
       "version_minor": 0
      },
      "text/plain": [
       "  0%|          | 0/747 [00:00<?, ?it/s]"
      ]
     },
     "metadata": {},
     "output_type": "display_data"
    },
    {
     "data": {
      "application/vnd.jupyter.widget-view+json": {
       "model_id": "335a41038a5741698a14529e0158e78c",
       "version_major": 2,
       "version_minor": 0
      },
      "text/plain": [
       "  0%|          | 0/748 [00:00<?, ?it/s]"
      ]
     },
     "metadata": {},
     "output_type": "display_data"
    },
    {
     "data": {
      "application/vnd.jupyter.widget-view+json": {
       "model_id": "5affa9d066ae4fa4a9401b1ae11c8490",
       "version_major": 2,
       "version_minor": 0
      },
      "text/plain": [
       "  0%|          | 0/749 [00:00<?, ?it/s]"
      ]
     },
     "metadata": {},
     "output_type": "display_data"
    },
    {
     "data": {
      "application/vnd.jupyter.widget-view+json": {
       "model_id": "019e90fc35604f3a8b94a16afe741d5b",
       "version_major": 2,
       "version_minor": 0
      },
      "text/plain": [
       "  0%|          | 0/750 [00:00<?, ?it/s]"
      ]
     },
     "metadata": {},
     "output_type": "display_data"
    },
    {
     "data": {
      "application/vnd.jupyter.widget-view+json": {
       "model_id": "96a6b1f8da594ec3932247fcde31df42",
       "version_major": 2,
       "version_minor": 0
      },
      "text/plain": [
       "  0%|          | 0/751 [00:00<?, ?it/s]"
      ]
     },
     "metadata": {},
     "output_type": "display_data"
    },
    {
     "data": {
      "application/vnd.jupyter.widget-view+json": {
       "model_id": "21a09922bb7642bd9e99b6fa2948b5c6",
       "version_major": 2,
       "version_minor": 0
      },
      "text/plain": [
       "  0%|          | 0/752 [00:00<?, ?it/s]"
      ]
     },
     "metadata": {},
     "output_type": "display_data"
    },
    {
     "data": {
      "application/vnd.jupyter.widget-view+json": {
       "model_id": "598c9ed2b25c476293d46ca231aff929",
       "version_major": 2,
       "version_minor": 0
      },
      "text/plain": [
       "  0%|          | 0/753 [00:00<?, ?it/s]"
      ]
     },
     "metadata": {},
     "output_type": "display_data"
    },
    {
     "data": {
      "application/vnd.jupyter.widget-view+json": {
       "model_id": "0cde040abc3446a9865295f2a9260803",
       "version_major": 2,
       "version_minor": 0
      },
      "text/plain": [
       "  0%|          | 0/754 [00:00<?, ?it/s]"
      ]
     },
     "metadata": {},
     "output_type": "display_data"
    },
    {
     "data": {
      "application/vnd.jupyter.widget-view+json": {
       "model_id": "615f739f5f3d4133a546623fc44a30cc",
       "version_major": 2,
       "version_minor": 0
      },
      "text/plain": [
       "  0%|          | 0/755 [00:00<?, ?it/s]"
      ]
     },
     "metadata": {},
     "output_type": "display_data"
    },
    {
     "data": {
      "application/vnd.jupyter.widget-view+json": {
       "model_id": "b50d482d3427444cb8dfeb82f68d1570",
       "version_major": 2,
       "version_minor": 0
      },
      "text/plain": [
       "  0%|          | 0/756 [00:00<?, ?it/s]"
      ]
     },
     "metadata": {},
     "output_type": "display_data"
    },
    {
     "data": {
      "application/vnd.jupyter.widget-view+json": {
       "model_id": "a9bd3accfbe044189f10a02ba85dd8ef",
       "version_major": 2,
       "version_minor": 0
      },
      "text/plain": [
       "  0%|          | 0/757 [00:00<?, ?it/s]"
      ]
     },
     "metadata": {},
     "output_type": "display_data"
    },
    {
     "data": {
      "application/vnd.jupyter.widget-view+json": {
       "model_id": "0355950df8fe43c4a6e25e8ef40c4123",
       "version_major": 2,
       "version_minor": 0
      },
      "text/plain": [
       "  0%|          | 0/758 [00:00<?, ?it/s]"
      ]
     },
     "metadata": {},
     "output_type": "display_data"
    },
    {
     "data": {
      "application/vnd.jupyter.widget-view+json": {
       "model_id": "a73cb729ab1b40bd9ff2ff63e8cc906f",
       "version_major": 2,
       "version_minor": 0
      },
      "text/plain": [
       "  0%|          | 0/759 [00:00<?, ?it/s]"
      ]
     },
     "metadata": {},
     "output_type": "display_data"
    },
    {
     "data": {
      "application/vnd.jupyter.widget-view+json": {
       "model_id": "6b8b576586824863afb1206276d4b0d1",
       "version_major": 2,
       "version_minor": 0
      },
      "text/plain": [
       "  0%|          | 0/760 [00:00<?, ?it/s]"
      ]
     },
     "metadata": {},
     "output_type": "display_data"
    },
    {
     "data": {
      "application/vnd.jupyter.widget-view+json": {
       "model_id": "d2e979204af64cac96f3494bca434e33",
       "version_major": 2,
       "version_minor": 0
      },
      "text/plain": [
       "  0%|          | 0/761 [00:00<?, ?it/s]"
      ]
     },
     "metadata": {},
     "output_type": "display_data"
    },
    {
     "data": {
      "application/vnd.jupyter.widget-view+json": {
       "model_id": "56f297cba4714802819bf5cb43f838ad",
       "version_major": 2,
       "version_minor": 0
      },
      "text/plain": [
       "  0%|          | 0/762 [00:00<?, ?it/s]"
      ]
     },
     "metadata": {},
     "output_type": "display_data"
    },
    {
     "data": {
      "application/vnd.jupyter.widget-view+json": {
       "model_id": "63a418d1b37c4efdac0765cbb2fcf9ba",
       "version_major": 2,
       "version_minor": 0
      },
      "text/plain": [
       "  0%|          | 0/763 [00:00<?, ?it/s]"
      ]
     },
     "metadata": {},
     "output_type": "display_data"
    },
    {
     "data": {
      "application/vnd.jupyter.widget-view+json": {
       "model_id": "12cc5442d4b9422885bd6d0eb0530040",
       "version_major": 2,
       "version_minor": 0
      },
      "text/plain": [
       "  0%|          | 0/764 [00:00<?, ?it/s]"
      ]
     },
     "metadata": {},
     "output_type": "display_data"
    },
    {
     "data": {
      "application/vnd.jupyter.widget-view+json": {
       "model_id": "d6fe82c8e0b2440fa8a67378bb366140",
       "version_major": 2,
       "version_minor": 0
      },
      "text/plain": [
       "  0%|          | 0/765 [00:00<?, ?it/s]"
      ]
     },
     "metadata": {},
     "output_type": "display_data"
    },
    {
     "data": {
      "application/vnd.jupyter.widget-view+json": {
       "model_id": "3fb96ea103c3432b90eef16692bf0fa0",
       "version_major": 2,
       "version_minor": 0
      },
      "text/plain": [
       "  0%|          | 0/766 [00:00<?, ?it/s]"
      ]
     },
     "metadata": {},
     "output_type": "display_data"
    },
    {
     "data": {
      "application/vnd.jupyter.widget-view+json": {
       "model_id": "9c31d24fd04f46dab591d72a55e7c014",
       "version_major": 2,
       "version_minor": 0
      },
      "text/plain": [
       "  0%|          | 0/767 [00:00<?, ?it/s]"
      ]
     },
     "metadata": {},
     "output_type": "display_data"
    },
    {
     "data": {
      "application/vnd.jupyter.widget-view+json": {
       "model_id": "139cab1b46dc45cba6f96f9a85cb80ca",
       "version_major": 2,
       "version_minor": 0
      },
      "text/plain": [
       "  0%|          | 0/768 [00:00<?, ?it/s]"
      ]
     },
     "metadata": {},
     "output_type": "display_data"
    },
    {
     "data": {
      "application/vnd.jupyter.widget-view+json": {
       "model_id": "9d016042744041e2a8c545d8fad4cb14",
       "version_major": 2,
       "version_minor": 0
      },
      "text/plain": [
       "  0%|          | 0/769 [00:00<?, ?it/s]"
      ]
     },
     "metadata": {},
     "output_type": "display_data"
    },
    {
     "data": {
      "application/vnd.jupyter.widget-view+json": {
       "model_id": "f5bb19b8cf4d4186b2c353cc01504b31",
       "version_major": 2,
       "version_minor": 0
      },
      "text/plain": [
       "  0%|          | 0/770 [00:00<?, ?it/s]"
      ]
     },
     "metadata": {},
     "output_type": "display_data"
    },
    {
     "data": {
      "application/vnd.jupyter.widget-view+json": {
       "model_id": "19f1dd589e4d47f1b0274438ed100514",
       "version_major": 2,
       "version_minor": 0
      },
      "text/plain": [
       "  0%|          | 0/771 [00:00<?, ?it/s]"
      ]
     },
     "metadata": {},
     "output_type": "display_data"
    },
    {
     "data": {
      "application/vnd.jupyter.widget-view+json": {
       "model_id": "3fb54454b1f14ec7852771514f31b6ad",
       "version_major": 2,
       "version_minor": 0
      },
      "text/plain": [
       "  0%|          | 0/772 [00:00<?, ?it/s]"
      ]
     },
     "metadata": {},
     "output_type": "display_data"
    },
    {
     "data": {
      "application/vnd.jupyter.widget-view+json": {
       "model_id": "2fedee76b215474289887bbfeab2b89e",
       "version_major": 2,
       "version_minor": 0
      },
      "text/plain": [
       "  0%|          | 0/773 [00:00<?, ?it/s]"
      ]
     },
     "metadata": {},
     "output_type": "display_data"
    },
    {
     "data": {
      "application/vnd.jupyter.widget-view+json": {
       "model_id": "3000e5ddb04940389057dc94d46416ef",
       "version_major": 2,
       "version_minor": 0
      },
      "text/plain": [
       "  0%|          | 0/774 [00:00<?, ?it/s]"
      ]
     },
     "metadata": {},
     "output_type": "display_data"
    },
    {
     "data": {
      "application/vnd.jupyter.widget-view+json": {
       "model_id": "fdab5c2d4ec944c0b5d8dc9403eca706",
       "version_major": 2,
       "version_minor": 0
      },
      "text/plain": [
       "  0%|          | 0/775 [00:00<?, ?it/s]"
      ]
     },
     "metadata": {},
     "output_type": "display_data"
    },
    {
     "data": {
      "application/vnd.jupyter.widget-view+json": {
       "model_id": "9e93aa62403f4485a239e0d640c4d94b",
       "version_major": 2,
       "version_minor": 0
      },
      "text/plain": [
       "  0%|          | 0/776 [00:00<?, ?it/s]"
      ]
     },
     "metadata": {},
     "output_type": "display_data"
    },
    {
     "data": {
      "application/vnd.jupyter.widget-view+json": {
       "model_id": "9733c44c29a3435c90f959564cd4f161",
       "version_major": 2,
       "version_minor": 0
      },
      "text/plain": [
       "  0%|          | 0/777 [00:00<?, ?it/s]"
      ]
     },
     "metadata": {},
     "output_type": "display_data"
    },
    {
     "data": {
      "application/vnd.jupyter.widget-view+json": {
       "model_id": "e1dc36123cd14ab7957ef1c62c94ca06",
       "version_major": 2,
       "version_minor": 0
      },
      "text/plain": [
       "  0%|          | 0/778 [00:00<?, ?it/s]"
      ]
     },
     "metadata": {},
     "output_type": "display_data"
    },
    {
     "data": {
      "application/vnd.jupyter.widget-view+json": {
       "model_id": "ef78ceec90fe4e999754e618d39d1106",
       "version_major": 2,
       "version_minor": 0
      },
      "text/plain": [
       "  0%|          | 0/779 [00:00<?, ?it/s]"
      ]
     },
     "metadata": {},
     "output_type": "display_data"
    },
    {
     "data": {
      "application/vnd.jupyter.widget-view+json": {
       "model_id": "a3d0677544dc4d0b8e56cc10917412dd",
       "version_major": 2,
       "version_minor": 0
      },
      "text/plain": [
       "  0%|          | 0/780 [00:00<?, ?it/s]"
      ]
     },
     "metadata": {},
     "output_type": "display_data"
    },
    {
     "data": {
      "application/vnd.jupyter.widget-view+json": {
       "model_id": "d6031610d07a4aaca2d7c6d790105ad3",
       "version_major": 2,
       "version_minor": 0
      },
      "text/plain": [
       "  0%|          | 0/781 [00:00<?, ?it/s]"
      ]
     },
     "metadata": {},
     "output_type": "display_data"
    },
    {
     "data": {
      "application/vnd.jupyter.widget-view+json": {
       "model_id": "30188be0d527473d83fafed6732d698a",
       "version_major": 2,
       "version_minor": 0
      },
      "text/plain": [
       "  0%|          | 0/782 [00:00<?, ?it/s]"
      ]
     },
     "metadata": {},
     "output_type": "display_data"
    },
    {
     "data": {
      "application/vnd.jupyter.widget-view+json": {
       "model_id": "f4c626a0428b463fa1ad915e4b8a17eb",
       "version_major": 2,
       "version_minor": 0
      },
      "text/plain": [
       "  0%|          | 0/783 [00:00<?, ?it/s]"
      ]
     },
     "metadata": {},
     "output_type": "display_data"
    },
    {
     "data": {
      "application/vnd.jupyter.widget-view+json": {
       "model_id": "8af4681aaef94e09b1029564525d14bd",
       "version_major": 2,
       "version_minor": 0
      },
      "text/plain": [
       "  0%|          | 0/784 [00:00<?, ?it/s]"
      ]
     },
     "metadata": {},
     "output_type": "display_data"
    },
    {
     "data": {
      "application/vnd.jupyter.widget-view+json": {
       "model_id": "83d76dbc2fd64c7799519208f934ba1c",
       "version_major": 2,
       "version_minor": 0
      },
      "text/plain": [
       "  0%|          | 0/785 [00:00<?, ?it/s]"
      ]
     },
     "metadata": {},
     "output_type": "display_data"
    },
    {
     "data": {
      "application/vnd.jupyter.widget-view+json": {
       "model_id": "6305199559f34cc8abfde8b985752eda",
       "version_major": 2,
       "version_minor": 0
      },
      "text/plain": [
       "  0%|          | 0/786 [00:00<?, ?it/s]"
      ]
     },
     "metadata": {},
     "output_type": "display_data"
    },
    {
     "data": {
      "application/vnd.jupyter.widget-view+json": {
       "model_id": "d9c24a4663334a208de93c6222a84f13",
       "version_major": 2,
       "version_minor": 0
      },
      "text/plain": [
       "  0%|          | 0/787 [00:00<?, ?it/s]"
      ]
     },
     "metadata": {},
     "output_type": "display_data"
    },
    {
     "data": {
      "application/vnd.jupyter.widget-view+json": {
       "model_id": "31c5b946fa394db6bea4ad4e1df559a2",
       "version_major": 2,
       "version_minor": 0
      },
      "text/plain": [
       "  0%|          | 0/788 [00:00<?, ?it/s]"
      ]
     },
     "metadata": {},
     "output_type": "display_data"
    },
    {
     "data": {
      "application/vnd.jupyter.widget-view+json": {
       "model_id": "f2bf8cd17a924e4c8c3991dfcf86a416",
       "version_major": 2,
       "version_minor": 0
      },
      "text/plain": [
       "  0%|          | 0/789 [00:00<?, ?it/s]"
      ]
     },
     "metadata": {},
     "output_type": "display_data"
    },
    {
     "data": {
      "application/vnd.jupyter.widget-view+json": {
       "model_id": "e0f0dc7aa51446ff8503512e93c8cbab",
       "version_major": 2,
       "version_minor": 0
      },
      "text/plain": [
       "  0%|          | 0/790 [00:00<?, ?it/s]"
      ]
     },
     "metadata": {},
     "output_type": "display_data"
    },
    {
     "data": {
      "application/vnd.jupyter.widget-view+json": {
       "model_id": "050d316af7e14a049d97695a09b6afab",
       "version_major": 2,
       "version_minor": 0
      },
      "text/plain": [
       "  0%|          | 0/791 [00:00<?, ?it/s]"
      ]
     },
     "metadata": {},
     "output_type": "display_data"
    },
    {
     "data": {
      "application/vnd.jupyter.widget-view+json": {
       "model_id": "4e52796ef6484fb5ab786c41581bc228",
       "version_major": 2,
       "version_minor": 0
      },
      "text/plain": [
       "  0%|          | 0/792 [00:00<?, ?it/s]"
      ]
     },
     "metadata": {},
     "output_type": "display_data"
    },
    {
     "data": {
      "application/vnd.jupyter.widget-view+json": {
       "model_id": "c361922b434c4539aabfd874650b56e8",
       "version_major": 2,
       "version_minor": 0
      },
      "text/plain": [
       "  0%|          | 0/793 [00:00<?, ?it/s]"
      ]
     },
     "metadata": {},
     "output_type": "display_data"
    },
    {
     "data": {
      "application/vnd.jupyter.widget-view+json": {
       "model_id": "af4bc56125344316a61be102459be0f0",
       "version_major": 2,
       "version_minor": 0
      },
      "text/plain": [
       "  0%|          | 0/794 [00:00<?, ?it/s]"
      ]
     },
     "metadata": {},
     "output_type": "display_data"
    },
    {
     "data": {
      "application/vnd.jupyter.widget-view+json": {
       "model_id": "f8e8169ec1ba4d59a00b4909ff9e471a",
       "version_major": 2,
       "version_minor": 0
      },
      "text/plain": [
       "  0%|          | 0/795 [00:00<?, ?it/s]"
      ]
     },
     "metadata": {},
     "output_type": "display_data"
    },
    {
     "data": {
      "application/vnd.jupyter.widget-view+json": {
       "model_id": "a71bde6a145642139bc9c1182eabb29c",
       "version_major": 2,
       "version_minor": 0
      },
      "text/plain": [
       "  0%|          | 0/796 [00:00<?, ?it/s]"
      ]
     },
     "metadata": {},
     "output_type": "display_data"
    },
    {
     "data": {
      "application/vnd.jupyter.widget-view+json": {
       "model_id": "bb3aa8f0d05c4446b6679bece23a07ea",
       "version_major": 2,
       "version_minor": 0
      },
      "text/plain": [
       "  0%|          | 0/797 [00:00<?, ?it/s]"
      ]
     },
     "metadata": {},
     "output_type": "display_data"
    },
    {
     "data": {
      "application/vnd.jupyter.widget-view+json": {
       "model_id": "64d6027c54014e7f97ed94c08d32a901",
       "version_major": 2,
       "version_minor": 0
      },
      "text/plain": [
       "  0%|          | 0/798 [00:00<?, ?it/s]"
      ]
     },
     "metadata": {},
     "output_type": "display_data"
    },
    {
     "data": {
      "application/vnd.jupyter.widget-view+json": {
       "model_id": "4b78f022099e425aa25790f47862e72d",
       "version_major": 2,
       "version_minor": 0
      },
      "text/plain": [
       "  0%|          | 0/799 [00:00<?, ?it/s]"
      ]
     },
     "metadata": {},
     "output_type": "display_data"
    },
    {
     "data": {
      "application/vnd.jupyter.widget-view+json": {
       "model_id": "078bc1cfd48442ada0322ada451f5ec4",
       "version_major": 2,
       "version_minor": 0
      },
      "text/plain": [
       "  0%|          | 0/800 [00:00<?, ?it/s]"
      ]
     },
     "metadata": {},
     "output_type": "display_data"
    },
    {
     "data": {
      "application/vnd.jupyter.widget-view+json": {
       "model_id": "87e3f4aed272483a957e581d01f5371b",
       "version_major": 2,
       "version_minor": 0
      },
      "text/plain": [
       "  0%|          | 0/801 [00:00<?, ?it/s]"
      ]
     },
     "metadata": {},
     "output_type": "display_data"
    },
    {
     "data": {
      "application/vnd.jupyter.widget-view+json": {
       "model_id": "ec225281efc34112bfe44d65341918a9",
       "version_major": 2,
       "version_minor": 0
      },
      "text/plain": [
       "  0%|          | 0/802 [00:00<?, ?it/s]"
      ]
     },
     "metadata": {},
     "output_type": "display_data"
    },
    {
     "data": {
      "application/vnd.jupyter.widget-view+json": {
       "model_id": "e47fa2ce7ceb4b4b84f505069e89d70a",
       "version_major": 2,
       "version_minor": 0
      },
      "text/plain": [
       "  0%|          | 0/803 [00:00<?, ?it/s]"
      ]
     },
     "metadata": {},
     "output_type": "display_data"
    },
    {
     "data": {
      "application/vnd.jupyter.widget-view+json": {
       "model_id": "aa4ec9155499409a99f4e23a576634dc",
       "version_major": 2,
       "version_minor": 0
      },
      "text/plain": [
       "  0%|          | 0/804 [00:00<?, ?it/s]"
      ]
     },
     "metadata": {},
     "output_type": "display_data"
    },
    {
     "data": {
      "application/vnd.jupyter.widget-view+json": {
       "model_id": "6b4c4b5de7ee442a922e369afd5de38e",
       "version_major": 2,
       "version_minor": 0
      },
      "text/plain": [
       "  0%|          | 0/805 [00:00<?, ?it/s]"
      ]
     },
     "metadata": {},
     "output_type": "display_data"
    },
    {
     "data": {
      "application/vnd.jupyter.widget-view+json": {
       "model_id": "9c95cabc01804d1ab58ec84288396cf2",
       "version_major": 2,
       "version_minor": 0
      },
      "text/plain": [
       "  0%|          | 0/806 [00:00<?, ?it/s]"
      ]
     },
     "metadata": {},
     "output_type": "display_data"
    },
    {
     "data": {
      "application/vnd.jupyter.widget-view+json": {
       "model_id": "6e14fd73a3e14e328667880a5ce07150",
       "version_major": 2,
       "version_minor": 0
      },
      "text/plain": [
       "  0%|          | 0/807 [00:00<?, ?it/s]"
      ]
     },
     "metadata": {},
     "output_type": "display_data"
    },
    {
     "data": {
      "application/vnd.jupyter.widget-view+json": {
       "model_id": "fbbcfa2256a14d00a62a7d7fd1ba234c",
       "version_major": 2,
       "version_minor": 0
      },
      "text/plain": [
       "  0%|          | 0/808 [00:00<?, ?it/s]"
      ]
     },
     "metadata": {},
     "output_type": "display_data"
    },
    {
     "data": {
      "application/vnd.jupyter.widget-view+json": {
       "model_id": "b2c67760dab14a749937f63d50d4d500",
       "version_major": 2,
       "version_minor": 0
      },
      "text/plain": [
       "  0%|          | 0/809 [00:00<?, ?it/s]"
      ]
     },
     "metadata": {},
     "output_type": "display_data"
    },
    {
     "data": {
      "application/vnd.jupyter.widget-view+json": {
       "model_id": "c64b6916de954322986a5f3eae217295",
       "version_major": 2,
       "version_minor": 0
      },
      "text/plain": [
       "  0%|          | 0/810 [00:00<?, ?it/s]"
      ]
     },
     "metadata": {},
     "output_type": "display_data"
    },
    {
     "data": {
      "application/vnd.jupyter.widget-view+json": {
       "model_id": "6fe6fdb090dc4f26826e978cabe78bb2",
       "version_major": 2,
       "version_minor": 0
      },
      "text/plain": [
       "  0%|          | 0/811 [00:00<?, ?it/s]"
      ]
     },
     "metadata": {},
     "output_type": "display_data"
    },
    {
     "data": {
      "application/vnd.jupyter.widget-view+json": {
       "model_id": "52e173e7b5a342b1ba7b7a3e9a9f66b4",
       "version_major": 2,
       "version_minor": 0
      },
      "text/plain": [
       "  0%|          | 0/812 [00:00<?, ?it/s]"
      ]
     },
     "metadata": {},
     "output_type": "display_data"
    },
    {
     "data": {
      "application/vnd.jupyter.widget-view+json": {
       "model_id": "bea26129c8cf465d99a787614ee8568c",
       "version_major": 2,
       "version_minor": 0
      },
      "text/plain": [
       "  0%|          | 0/813 [00:00<?, ?it/s]"
      ]
     },
     "metadata": {},
     "output_type": "display_data"
    },
    {
     "data": {
      "application/vnd.jupyter.widget-view+json": {
       "model_id": "33ef91c060ff4926b414b0ef541ae427",
       "version_major": 2,
       "version_minor": 0
      },
      "text/plain": [
       "  0%|          | 0/814 [00:00<?, ?it/s]"
      ]
     },
     "metadata": {},
     "output_type": "display_data"
    },
    {
     "data": {
      "application/vnd.jupyter.widget-view+json": {
       "model_id": "55899b90c06d40c882379e5a7e205972",
       "version_major": 2,
       "version_minor": 0
      },
      "text/plain": [
       "  0%|          | 0/815 [00:00<?, ?it/s]"
      ]
     },
     "metadata": {},
     "output_type": "display_data"
    },
    {
     "data": {
      "application/vnd.jupyter.widget-view+json": {
       "model_id": "adfd12a6b5664bf99b51c63cc398ad14",
       "version_major": 2,
       "version_minor": 0
      },
      "text/plain": [
       "  0%|          | 0/816 [00:00<?, ?it/s]"
      ]
     },
     "metadata": {},
     "output_type": "display_data"
    },
    {
     "data": {
      "application/vnd.jupyter.widget-view+json": {
       "model_id": "2134bebbe1984792a3a202243c57b300",
       "version_major": 2,
       "version_minor": 0
      },
      "text/plain": [
       "  0%|          | 0/817 [00:00<?, ?it/s]"
      ]
     },
     "metadata": {},
     "output_type": "display_data"
    },
    {
     "data": {
      "application/vnd.jupyter.widget-view+json": {
       "model_id": "a660ad0c511a4ffd862f39e3f4e55788",
       "version_major": 2,
       "version_minor": 0
      },
      "text/plain": [
       "  0%|          | 0/818 [00:00<?, ?it/s]"
      ]
     },
     "metadata": {},
     "output_type": "display_data"
    },
    {
     "data": {
      "application/vnd.jupyter.widget-view+json": {
       "model_id": "960ab45acd45421e8b7311c81d2fe3a7",
       "version_major": 2,
       "version_minor": 0
      },
      "text/plain": [
       "  0%|          | 0/819 [00:00<?, ?it/s]"
      ]
     },
     "metadata": {},
     "output_type": "display_data"
    },
    {
     "data": {
      "application/vnd.jupyter.widget-view+json": {
       "model_id": "6ea01067066849e9b75fada887161f61",
       "version_major": 2,
       "version_minor": 0
      },
      "text/plain": [
       "  0%|          | 0/820 [00:00<?, ?it/s]"
      ]
     },
     "metadata": {},
     "output_type": "display_data"
    },
    {
     "data": {
      "application/vnd.jupyter.widget-view+json": {
       "model_id": "48765b2123f940e386cb85905b3a9891",
       "version_major": 2,
       "version_minor": 0
      },
      "text/plain": [
       "  0%|          | 0/821 [00:00<?, ?it/s]"
      ]
     },
     "metadata": {},
     "output_type": "display_data"
    },
    {
     "data": {
      "application/vnd.jupyter.widget-view+json": {
       "model_id": "52b0d9d17763469995b03fcdddcf2015",
       "version_major": 2,
       "version_minor": 0
      },
      "text/plain": [
       "  0%|          | 0/822 [00:00<?, ?it/s]"
      ]
     },
     "metadata": {},
     "output_type": "display_data"
    },
    {
     "data": {
      "application/vnd.jupyter.widget-view+json": {
       "model_id": "3a6318a9f4de48c7914a7307e483a5c2",
       "version_major": 2,
       "version_minor": 0
      },
      "text/plain": [
       "  0%|          | 0/823 [00:00<?, ?it/s]"
      ]
     },
     "metadata": {},
     "output_type": "display_data"
    },
    {
     "data": {
      "application/vnd.jupyter.widget-view+json": {
       "model_id": "bdf86af727424228942204cc567e962d",
       "version_major": 2,
       "version_minor": 0
      },
      "text/plain": [
       "  0%|          | 0/824 [00:00<?, ?it/s]"
      ]
     },
     "metadata": {},
     "output_type": "display_data"
    },
    {
     "data": {
      "application/vnd.jupyter.widget-view+json": {
       "model_id": "066159409c41414eb43a07dfaa6a134c",
       "version_major": 2,
       "version_minor": 0
      },
      "text/plain": [
       "  0%|          | 0/825 [00:00<?, ?it/s]"
      ]
     },
     "metadata": {},
     "output_type": "display_data"
    },
    {
     "data": {
      "application/vnd.jupyter.widget-view+json": {
       "model_id": "52a09f3e5a4c44f6b1226492dd0f936c",
       "version_major": 2,
       "version_minor": 0
      },
      "text/plain": [
       "  0%|          | 0/826 [00:00<?, ?it/s]"
      ]
     },
     "metadata": {},
     "output_type": "display_data"
    },
    {
     "data": {
      "application/vnd.jupyter.widget-view+json": {
       "model_id": "24661c571fe64ce99b0ef710f4ce3561",
       "version_major": 2,
       "version_minor": 0
      },
      "text/plain": [
       "  0%|          | 0/827 [00:00<?, ?it/s]"
      ]
     },
     "metadata": {},
     "output_type": "display_data"
    },
    {
     "data": {
      "application/vnd.jupyter.widget-view+json": {
       "model_id": "42b9de4524fc48af90fbd4978ee3c4e5",
       "version_major": 2,
       "version_minor": 0
      },
      "text/plain": [
       "  0%|          | 0/828 [00:00<?, ?it/s]"
      ]
     },
     "metadata": {},
     "output_type": "display_data"
    },
    {
     "data": {
      "application/vnd.jupyter.widget-view+json": {
       "model_id": "cb57557dbedd4a92ac329ef166145ac1",
       "version_major": 2,
       "version_minor": 0
      },
      "text/plain": [
       "  0%|          | 0/829 [00:00<?, ?it/s]"
      ]
     },
     "metadata": {},
     "output_type": "display_data"
    },
    {
     "data": {
      "application/vnd.jupyter.widget-view+json": {
       "model_id": "4f4fc4ee10ca4a25a345dba7edb15d91",
       "version_major": 2,
       "version_minor": 0
      },
      "text/plain": [
       "  0%|          | 0/830 [00:00<?, ?it/s]"
      ]
     },
     "metadata": {},
     "output_type": "display_data"
    },
    {
     "data": {
      "application/vnd.jupyter.widget-view+json": {
       "model_id": "4023cb5c32ff4d129c3e2cb43fa8563e",
       "version_major": 2,
       "version_minor": 0
      },
      "text/plain": [
       "  0%|          | 0/831 [00:00<?, ?it/s]"
      ]
     },
     "metadata": {},
     "output_type": "display_data"
    },
    {
     "data": {
      "application/vnd.jupyter.widget-view+json": {
       "model_id": "5bf528d766894fee8173ba451080a863",
       "version_major": 2,
       "version_minor": 0
      },
      "text/plain": [
       "  0%|          | 0/832 [00:00<?, ?it/s]"
      ]
     },
     "metadata": {},
     "output_type": "display_data"
    },
    {
     "data": {
      "application/vnd.jupyter.widget-view+json": {
       "model_id": "e3f9df66d7574a969975858de38fc6f3",
       "version_major": 2,
       "version_minor": 0
      },
      "text/plain": [
       "  0%|          | 0/833 [00:00<?, ?it/s]"
      ]
     },
     "metadata": {},
     "output_type": "display_data"
    },
    {
     "data": {
      "application/vnd.jupyter.widget-view+json": {
       "model_id": "b7bd7df15e074e16a75a46a16de19d22",
       "version_major": 2,
       "version_minor": 0
      },
      "text/plain": [
       "  0%|          | 0/834 [00:00<?, ?it/s]"
      ]
     },
     "metadata": {},
     "output_type": "display_data"
    },
    {
     "data": {
      "application/vnd.jupyter.widget-view+json": {
       "model_id": "c3abd87e42ee4abf8280507d46855666",
       "version_major": 2,
       "version_minor": 0
      },
      "text/plain": [
       "  0%|          | 0/835 [00:00<?, ?it/s]"
      ]
     },
     "metadata": {},
     "output_type": "display_data"
    },
    {
     "data": {
      "application/vnd.jupyter.widget-view+json": {
       "model_id": "59ef91e4598447fb854b8271efad30db",
       "version_major": 2,
       "version_minor": 0
      },
      "text/plain": [
       "  0%|          | 0/836 [00:00<?, ?it/s]"
      ]
     },
     "metadata": {},
     "output_type": "display_data"
    },
    {
     "data": {
      "application/vnd.jupyter.widget-view+json": {
       "model_id": "95f8a871a4cf40f99ad84e3129fd75f1",
       "version_major": 2,
       "version_minor": 0
      },
      "text/plain": [
       "  0%|          | 0/837 [00:00<?, ?it/s]"
      ]
     },
     "metadata": {},
     "output_type": "display_data"
    },
    {
     "data": {
      "application/vnd.jupyter.widget-view+json": {
       "model_id": "9a98daebe0b04a27aa7407beded48519",
       "version_major": 2,
       "version_minor": 0
      },
      "text/plain": [
       "  0%|          | 0/838 [00:00<?, ?it/s]"
      ]
     },
     "metadata": {},
     "output_type": "display_data"
    },
    {
     "data": {
      "application/vnd.jupyter.widget-view+json": {
       "model_id": "b636f73c46aa46fbabcce3339ed5c2d1",
       "version_major": 2,
       "version_minor": 0
      },
      "text/plain": [
       "  0%|          | 0/839 [00:00<?, ?it/s]"
      ]
     },
     "metadata": {},
     "output_type": "display_data"
    },
    {
     "data": {
      "application/vnd.jupyter.widget-view+json": {
       "model_id": "dc060af7b6874daf9635b3804e08c86a",
       "version_major": 2,
       "version_minor": 0
      },
      "text/plain": [
       "  0%|          | 0/840 [00:00<?, ?it/s]"
      ]
     },
     "metadata": {},
     "output_type": "display_data"
    },
    {
     "data": {
      "application/vnd.jupyter.widget-view+json": {
       "model_id": "13e14b208410475481c67e0447d28faa",
       "version_major": 2,
       "version_minor": 0
      },
      "text/plain": [
       "  0%|          | 0/841 [00:00<?, ?it/s]"
      ]
     },
     "metadata": {},
     "output_type": "display_data"
    },
    {
     "data": {
      "application/vnd.jupyter.widget-view+json": {
       "model_id": "60be3c2d7c8243c6b8e8cbca6c869cb7",
       "version_major": 2,
       "version_minor": 0
      },
      "text/plain": [
       "  0%|          | 0/842 [00:00<?, ?it/s]"
      ]
     },
     "metadata": {},
     "output_type": "display_data"
    },
    {
     "data": {
      "application/vnd.jupyter.widget-view+json": {
       "model_id": "9d38e1955f294f629681fb98698960cc",
       "version_major": 2,
       "version_minor": 0
      },
      "text/plain": [
       "  0%|          | 0/843 [00:00<?, ?it/s]"
      ]
     },
     "metadata": {},
     "output_type": "display_data"
    },
    {
     "data": {
      "application/vnd.jupyter.widget-view+json": {
       "model_id": "0041c50567ff472da8e0e4eea98faf74",
       "version_major": 2,
       "version_minor": 0
      },
      "text/plain": [
       "  0%|          | 0/844 [00:00<?, ?it/s]"
      ]
     },
     "metadata": {},
     "output_type": "display_data"
    },
    {
     "data": {
      "application/vnd.jupyter.widget-view+json": {
       "model_id": "a716d2a03af14c3bb02766e89932f8c4",
       "version_major": 2,
       "version_minor": 0
      },
      "text/plain": [
       "  0%|          | 0/845 [00:00<?, ?it/s]"
      ]
     },
     "metadata": {},
     "output_type": "display_data"
    },
    {
     "data": {
      "application/vnd.jupyter.widget-view+json": {
       "model_id": "556f4469ca534d4e9a8a92c478e0bd2e",
       "version_major": 2,
       "version_minor": 0
      },
      "text/plain": [
       "  0%|          | 0/846 [00:00<?, ?it/s]"
      ]
     },
     "metadata": {},
     "output_type": "display_data"
    },
    {
     "data": {
      "application/vnd.jupyter.widget-view+json": {
       "model_id": "47195389538646d1aebdd1c45f745fc4",
       "version_major": 2,
       "version_minor": 0
      },
      "text/plain": [
       "  0%|          | 0/847 [00:00<?, ?it/s]"
      ]
     },
     "metadata": {},
     "output_type": "display_data"
    },
    {
     "data": {
      "application/vnd.jupyter.widget-view+json": {
       "model_id": "31ae06f1566d4918a784c16bb307da90",
       "version_major": 2,
       "version_minor": 0
      },
      "text/plain": [
       "  0%|          | 0/848 [00:00<?, ?it/s]"
      ]
     },
     "metadata": {},
     "output_type": "display_data"
    },
    {
     "data": {
      "application/vnd.jupyter.widget-view+json": {
       "model_id": "eee8587a421e4d0b95a79b41a2441713",
       "version_major": 2,
       "version_minor": 0
      },
      "text/plain": [
       "  0%|          | 0/849 [00:00<?, ?it/s]"
      ]
     },
     "metadata": {},
     "output_type": "display_data"
    },
    {
     "data": {
      "application/vnd.jupyter.widget-view+json": {
       "model_id": "dcfce3a974814563b3ec95f15f7dafd6",
       "version_major": 2,
       "version_minor": 0
      },
      "text/plain": [
       "  0%|          | 0/850 [00:00<?, ?it/s]"
      ]
     },
     "metadata": {},
     "output_type": "display_data"
    },
    {
     "data": {
      "application/vnd.jupyter.widget-view+json": {
       "model_id": "42ad45a3cbe64f6ab3184442c0fa1bef",
       "version_major": 2,
       "version_minor": 0
      },
      "text/plain": [
       "  0%|          | 0/851 [00:00<?, ?it/s]"
      ]
     },
     "metadata": {},
     "output_type": "display_data"
    },
    {
     "data": {
      "application/vnd.jupyter.widget-view+json": {
       "model_id": "0dc916345b024fb391018bbf3fd3658f",
       "version_major": 2,
       "version_minor": 0
      },
      "text/plain": [
       "  0%|          | 0/852 [00:00<?, ?it/s]"
      ]
     },
     "metadata": {},
     "output_type": "display_data"
    },
    {
     "data": {
      "application/vnd.jupyter.widget-view+json": {
       "model_id": "01d15a0f5f3243758784354ce1e3152e",
       "version_major": 2,
       "version_minor": 0
      },
      "text/plain": [
       "  0%|          | 0/853 [00:00<?, ?it/s]"
      ]
     },
     "metadata": {},
     "output_type": "display_data"
    },
    {
     "data": {
      "application/vnd.jupyter.widget-view+json": {
       "model_id": "8fc33becde9f4ef48f5d20f2bf8bbdf8",
       "version_major": 2,
       "version_minor": 0
      },
      "text/plain": [
       "  0%|          | 0/854 [00:00<?, ?it/s]"
      ]
     },
     "metadata": {},
     "output_type": "display_data"
    },
    {
     "data": {
      "application/vnd.jupyter.widget-view+json": {
       "model_id": "a306beb2487346e59d236718741993e2",
       "version_major": 2,
       "version_minor": 0
      },
      "text/plain": [
       "  0%|          | 0/855 [00:00<?, ?it/s]"
      ]
     },
     "metadata": {},
     "output_type": "display_data"
    },
    {
     "data": {
      "application/vnd.jupyter.widget-view+json": {
       "model_id": "51d1ea6e47ca4c2abbdfbdf65a0455bb",
       "version_major": 2,
       "version_minor": 0
      },
      "text/plain": [
       "  0%|          | 0/856 [00:00<?, ?it/s]"
      ]
     },
     "metadata": {},
     "output_type": "display_data"
    },
    {
     "data": {
      "application/vnd.jupyter.widget-view+json": {
       "model_id": "4c41d5dbbec9453ebfddc71bda0797a4",
       "version_major": 2,
       "version_minor": 0
      },
      "text/plain": [
       "  0%|          | 0/857 [00:00<?, ?it/s]"
      ]
     },
     "metadata": {},
     "output_type": "display_data"
    },
    {
     "data": {
      "application/vnd.jupyter.widget-view+json": {
       "model_id": "1764fa45780a4c9dac0a4bf0540a0587",
       "version_major": 2,
       "version_minor": 0
      },
      "text/plain": [
       "  0%|          | 0/858 [00:00<?, ?it/s]"
      ]
     },
     "metadata": {},
     "output_type": "display_data"
    },
    {
     "data": {
      "application/vnd.jupyter.widget-view+json": {
       "model_id": "0e26a709f5fd494bae3bb4f8a439a80c",
       "version_major": 2,
       "version_minor": 0
      },
      "text/plain": [
       "  0%|          | 0/859 [00:00<?, ?it/s]"
      ]
     },
     "metadata": {},
     "output_type": "display_data"
    },
    {
     "data": {
      "application/vnd.jupyter.widget-view+json": {
       "model_id": "3f07b5c8df4d4c2eab748f1905569882",
       "version_major": 2,
       "version_minor": 0
      },
      "text/plain": [
       "  0%|          | 0/860 [00:00<?, ?it/s]"
      ]
     },
     "metadata": {},
     "output_type": "display_data"
    },
    {
     "data": {
      "application/vnd.jupyter.widget-view+json": {
       "model_id": "edaf0e26cafe4c249631666fbe00e710",
       "version_major": 2,
       "version_minor": 0
      },
      "text/plain": [
       "  0%|          | 0/861 [00:00<?, ?it/s]"
      ]
     },
     "metadata": {},
     "output_type": "display_data"
    },
    {
     "data": {
      "application/vnd.jupyter.widget-view+json": {
       "model_id": "fdd7ba293c56476a9f3811e48f557362",
       "version_major": 2,
       "version_minor": 0
      },
      "text/plain": [
       "  0%|          | 0/862 [00:00<?, ?it/s]"
      ]
     },
     "metadata": {},
     "output_type": "display_data"
    },
    {
     "data": {
      "application/vnd.jupyter.widget-view+json": {
       "model_id": "39034eb7430a46fab7a548d1de0ab83b",
       "version_major": 2,
       "version_minor": 0
      },
      "text/plain": [
       "  0%|          | 0/863 [00:00<?, ?it/s]"
      ]
     },
     "metadata": {},
     "output_type": "display_data"
    },
    {
     "data": {
      "application/vnd.jupyter.widget-view+json": {
       "model_id": "8a722cd4cb88420ca11c56701eb509dc",
       "version_major": 2,
       "version_minor": 0
      },
      "text/plain": [
       "  0%|          | 0/864 [00:00<?, ?it/s]"
      ]
     },
     "metadata": {},
     "output_type": "display_data"
    },
    {
     "data": {
      "application/vnd.jupyter.widget-view+json": {
       "model_id": "75183f8d224045e987eb1f15a34a3dee",
       "version_major": 2,
       "version_minor": 0
      },
      "text/plain": [
       "  0%|          | 0/865 [00:00<?, ?it/s]"
      ]
     },
     "metadata": {},
     "output_type": "display_data"
    },
    {
     "data": {
      "application/vnd.jupyter.widget-view+json": {
       "model_id": "62c5a9baf0e7414fa7cf78e3dd6a2680",
       "version_major": 2,
       "version_minor": 0
      },
      "text/plain": [
       "  0%|          | 0/866 [00:00<?, ?it/s]"
      ]
     },
     "metadata": {},
     "output_type": "display_data"
    },
    {
     "data": {
      "application/vnd.jupyter.widget-view+json": {
       "model_id": "7f7ca905052d4e469850952c96655f31",
       "version_major": 2,
       "version_minor": 0
      },
      "text/plain": [
       "  0%|          | 0/867 [00:00<?, ?it/s]"
      ]
     },
     "metadata": {},
     "output_type": "display_data"
    },
    {
     "data": {
      "application/vnd.jupyter.widget-view+json": {
       "model_id": "5a2d30cc10cb4a678fb51984b87bf64a",
       "version_major": 2,
       "version_minor": 0
      },
      "text/plain": [
       "  0%|          | 0/868 [00:00<?, ?it/s]"
      ]
     },
     "metadata": {},
     "output_type": "display_data"
    },
    {
     "data": {
      "application/vnd.jupyter.widget-view+json": {
       "model_id": "ded28c28d1d9431e874b779cf2bdc055",
       "version_major": 2,
       "version_minor": 0
      },
      "text/plain": [
       "  0%|          | 0/869 [00:00<?, ?it/s]"
      ]
     },
     "metadata": {},
     "output_type": "display_data"
    },
    {
     "data": {
      "application/vnd.jupyter.widget-view+json": {
       "model_id": "7f52ed7036e24d65a4d909b586e821a7",
       "version_major": 2,
       "version_minor": 0
      },
      "text/plain": [
       "  0%|          | 0/870 [00:00<?, ?it/s]"
      ]
     },
     "metadata": {},
     "output_type": "display_data"
    },
    {
     "data": {
      "application/vnd.jupyter.widget-view+json": {
       "model_id": "4b5dacf454314a6ab7526910dd48b767",
       "version_major": 2,
       "version_minor": 0
      },
      "text/plain": [
       "  0%|          | 0/871 [00:00<?, ?it/s]"
      ]
     },
     "metadata": {},
     "output_type": "display_data"
    },
    {
     "data": {
      "application/vnd.jupyter.widget-view+json": {
       "model_id": "d007fd6fbc1d4a74bb93859a39776ad1",
       "version_major": 2,
       "version_minor": 0
      },
      "text/plain": [
       "  0%|          | 0/872 [00:00<?, ?it/s]"
      ]
     },
     "metadata": {},
     "output_type": "display_data"
    },
    {
     "data": {
      "application/vnd.jupyter.widget-view+json": {
       "model_id": "469831ad1153436582949c1a083a7ab5",
       "version_major": 2,
       "version_minor": 0
      },
      "text/plain": [
       "  0%|          | 0/873 [00:00<?, ?it/s]"
      ]
     },
     "metadata": {},
     "output_type": "display_data"
    },
    {
     "data": {
      "application/vnd.jupyter.widget-view+json": {
       "model_id": "5f1565e8ebb94d2ea7da70945d54ca10",
       "version_major": 2,
       "version_minor": 0
      },
      "text/plain": [
       "  0%|          | 0/874 [00:00<?, ?it/s]"
      ]
     },
     "metadata": {},
     "output_type": "display_data"
    },
    {
     "data": {
      "application/vnd.jupyter.widget-view+json": {
       "model_id": "5827b7f0dcc048c8bc22c8027b22e7fd",
       "version_major": 2,
       "version_minor": 0
      },
      "text/plain": [
       "  0%|          | 0/875 [00:00<?, ?it/s]"
      ]
     },
     "metadata": {},
     "output_type": "display_data"
    },
    {
     "data": {
      "application/vnd.jupyter.widget-view+json": {
       "model_id": "a0c52c79729145698ff382df14a0135a",
       "version_major": 2,
       "version_minor": 0
      },
      "text/plain": [
       "  0%|          | 0/876 [00:00<?, ?it/s]"
      ]
     },
     "metadata": {},
     "output_type": "display_data"
    },
    {
     "data": {
      "application/vnd.jupyter.widget-view+json": {
       "model_id": "11a777d2b6a4489f85507ea3ff0a6a6d",
       "version_major": 2,
       "version_minor": 0
      },
      "text/plain": [
       "  0%|          | 0/877 [00:00<?, ?it/s]"
      ]
     },
     "metadata": {},
     "output_type": "display_data"
    },
    {
     "data": {
      "application/vnd.jupyter.widget-view+json": {
       "model_id": "b2683c7cad244086aa4d985c37becf5d",
       "version_major": 2,
       "version_minor": 0
      },
      "text/plain": [
       "  0%|          | 0/878 [00:00<?, ?it/s]"
      ]
     },
     "metadata": {},
     "output_type": "display_data"
    },
    {
     "data": {
      "application/vnd.jupyter.widget-view+json": {
       "model_id": "97695fdd3a92472fa946366cf751c5d3",
       "version_major": 2,
       "version_minor": 0
      },
      "text/plain": [
       "  0%|          | 0/879 [00:00<?, ?it/s]"
      ]
     },
     "metadata": {},
     "output_type": "display_data"
    },
    {
     "data": {
      "application/vnd.jupyter.widget-view+json": {
       "model_id": "1230932a00174a698d27ffb2e3228f0f",
       "version_major": 2,
       "version_minor": 0
      },
      "text/plain": [
       "  0%|          | 0/880 [00:00<?, ?it/s]"
      ]
     },
     "metadata": {},
     "output_type": "display_data"
    },
    {
     "data": {
      "application/vnd.jupyter.widget-view+json": {
       "model_id": "2773280a371941aaac618f5f43c1649c",
       "version_major": 2,
       "version_minor": 0
      },
      "text/plain": [
       "  0%|          | 0/881 [00:00<?, ?it/s]"
      ]
     },
     "metadata": {},
     "output_type": "display_data"
    },
    {
     "data": {
      "application/vnd.jupyter.widget-view+json": {
       "model_id": "c67b8d904afe462eaeaec0e2b51032b8",
       "version_major": 2,
       "version_minor": 0
      },
      "text/plain": [
       "  0%|          | 0/882 [00:00<?, ?it/s]"
      ]
     },
     "metadata": {},
     "output_type": "display_data"
    },
    {
     "data": {
      "application/vnd.jupyter.widget-view+json": {
       "model_id": "bc1075dc7536492f953712e33555159f",
       "version_major": 2,
       "version_minor": 0
      },
      "text/plain": [
       "  0%|          | 0/883 [00:00<?, ?it/s]"
      ]
     },
     "metadata": {},
     "output_type": "display_data"
    },
    {
     "data": {
      "application/vnd.jupyter.widget-view+json": {
       "model_id": "1c501b2f089f48b787f0e69fa4190d31",
       "version_major": 2,
       "version_minor": 0
      },
      "text/plain": [
       "  0%|          | 0/884 [00:00<?, ?it/s]"
      ]
     },
     "metadata": {},
     "output_type": "display_data"
    },
    {
     "data": {
      "application/vnd.jupyter.widget-view+json": {
       "model_id": "c2525a3580f14a139a7dfc2f22ba21b1",
       "version_major": 2,
       "version_minor": 0
      },
      "text/plain": [
       "  0%|          | 0/885 [00:00<?, ?it/s]"
      ]
     },
     "metadata": {},
     "output_type": "display_data"
    },
    {
     "data": {
      "application/vnd.jupyter.widget-view+json": {
       "model_id": "8f5a782a14fc4504b5857d7b8b1232af",
       "version_major": 2,
       "version_minor": 0
      },
      "text/plain": [
       "  0%|          | 0/886 [00:00<?, ?it/s]"
      ]
     },
     "metadata": {},
     "output_type": "display_data"
    },
    {
     "data": {
      "application/vnd.jupyter.widget-view+json": {
       "model_id": "855a9f0735f649538be88faaa0dc0385",
       "version_major": 2,
       "version_minor": 0
      },
      "text/plain": [
       "  0%|          | 0/887 [00:00<?, ?it/s]"
      ]
     },
     "metadata": {},
     "output_type": "display_data"
    },
    {
     "data": {
      "application/vnd.jupyter.widget-view+json": {
       "model_id": "dbd585d36e66437baeefa07322c34556",
       "version_major": 2,
       "version_minor": 0
      },
      "text/plain": [
       "  0%|          | 0/888 [00:00<?, ?it/s]"
      ]
     },
     "metadata": {},
     "output_type": "display_data"
    },
    {
     "data": {
      "application/vnd.jupyter.widget-view+json": {
       "model_id": "8ca4ee5142cb4977a4cc39048edb7449",
       "version_major": 2,
       "version_minor": 0
      },
      "text/plain": [
       "  0%|          | 0/889 [00:00<?, ?it/s]"
      ]
     },
     "metadata": {},
     "output_type": "display_data"
    },
    {
     "data": {
      "application/vnd.jupyter.widget-view+json": {
       "model_id": "cb1fa3179db340f0b62429080321ac48",
       "version_major": 2,
       "version_minor": 0
      },
      "text/plain": [
       "  0%|          | 0/890 [00:00<?, ?it/s]"
      ]
     },
     "metadata": {},
     "output_type": "display_data"
    },
    {
     "data": {
      "application/vnd.jupyter.widget-view+json": {
       "model_id": "4cd3e51c717448a397891dbc4b2ab68a",
       "version_major": 2,
       "version_minor": 0
      },
      "text/plain": [
       "  0%|          | 0/891 [00:00<?, ?it/s]"
      ]
     },
     "metadata": {},
     "output_type": "display_data"
    },
    {
     "data": {
      "application/vnd.jupyter.widget-view+json": {
       "model_id": "1b4b1123f60a4e648e1c0e82b0287680",
       "version_major": 2,
       "version_minor": 0
      },
      "text/plain": [
       "  0%|          | 0/892 [00:00<?, ?it/s]"
      ]
     },
     "metadata": {},
     "output_type": "display_data"
    },
    {
     "data": {
      "application/vnd.jupyter.widget-view+json": {
       "model_id": "97ec5a00f3cb4359afab77e8a68d5554",
       "version_major": 2,
       "version_minor": 0
      },
      "text/plain": [
       "  0%|          | 0/893 [00:00<?, ?it/s]"
      ]
     },
     "metadata": {},
     "output_type": "display_data"
    },
    {
     "data": {
      "application/vnd.jupyter.widget-view+json": {
       "model_id": "dd8042dbc7a94eb5b47e0e16f26004fc",
       "version_major": 2,
       "version_minor": 0
      },
      "text/plain": [
       "  0%|          | 0/894 [00:00<?, ?it/s]"
      ]
     },
     "metadata": {},
     "output_type": "display_data"
    },
    {
     "data": {
      "application/vnd.jupyter.widget-view+json": {
       "model_id": "9c3683331e624d13881115aa9f228edf",
       "version_major": 2,
       "version_minor": 0
      },
      "text/plain": [
       "  0%|          | 0/895 [00:00<?, ?it/s]"
      ]
     },
     "metadata": {},
     "output_type": "display_data"
    },
    {
     "data": {
      "application/vnd.jupyter.widget-view+json": {
       "model_id": "e253711a2ab7464d8d8d98b915dc33be",
       "version_major": 2,
       "version_minor": 0
      },
      "text/plain": [
       "  0%|          | 0/896 [00:00<?, ?it/s]"
      ]
     },
     "metadata": {},
     "output_type": "display_data"
    },
    {
     "data": {
      "application/vnd.jupyter.widget-view+json": {
       "model_id": "55a2e2259f114748a7155a891b3e0128",
       "version_major": 2,
       "version_minor": 0
      },
      "text/plain": [
       "  0%|          | 0/897 [00:00<?, ?it/s]"
      ]
     },
     "metadata": {},
     "output_type": "display_data"
    },
    {
     "data": {
      "application/vnd.jupyter.widget-view+json": {
       "model_id": "4c391e79c6194950bbe9b00391e7da85",
       "version_major": 2,
       "version_minor": 0
      },
      "text/plain": [
       "  0%|          | 0/898 [00:00<?, ?it/s]"
      ]
     },
     "metadata": {},
     "output_type": "display_data"
    },
    {
     "data": {
      "application/vnd.jupyter.widget-view+json": {
       "model_id": "7b944338ee6b4225a076f911cb1f32b7",
       "version_major": 2,
       "version_minor": 0
      },
      "text/plain": [
       "  0%|          | 0/899 [00:00<?, ?it/s]"
      ]
     },
     "metadata": {},
     "output_type": "display_data"
    },
    {
     "data": {
      "application/vnd.jupyter.widget-view+json": {
       "model_id": "bf873b495caf479f9930295d8e9bb0d2",
       "version_major": 2,
       "version_minor": 0
      },
      "text/plain": [
       "  0%|          | 0/900 [00:00<?, ?it/s]"
      ]
     },
     "metadata": {},
     "output_type": "display_data"
    },
    {
     "data": {
      "application/vnd.jupyter.widget-view+json": {
       "model_id": "8ba87262f1564436b72a967c945168dd",
       "version_major": 2,
       "version_minor": 0
      },
      "text/plain": [
       "  0%|          | 0/901 [00:00<?, ?it/s]"
      ]
     },
     "metadata": {},
     "output_type": "display_data"
    },
    {
     "data": {
      "application/vnd.jupyter.widget-view+json": {
       "model_id": "b74f3d7fb8284f39b27879bc7056111d",
       "version_major": 2,
       "version_minor": 0
      },
      "text/plain": [
       "  0%|          | 0/902 [00:00<?, ?it/s]"
      ]
     },
     "metadata": {},
     "output_type": "display_data"
    },
    {
     "data": {
      "application/vnd.jupyter.widget-view+json": {
       "model_id": "79b080fb970e48d9848636cd3793f831",
       "version_major": 2,
       "version_minor": 0
      },
      "text/plain": [
       "  0%|          | 0/903 [00:00<?, ?it/s]"
      ]
     },
     "metadata": {},
     "output_type": "display_data"
    },
    {
     "data": {
      "application/vnd.jupyter.widget-view+json": {
       "model_id": "5ade2fdf710c425bb9b758a71150256a",
       "version_major": 2,
       "version_minor": 0
      },
      "text/plain": [
       "  0%|          | 0/904 [00:00<?, ?it/s]"
      ]
     },
     "metadata": {},
     "output_type": "display_data"
    },
    {
     "data": {
      "application/vnd.jupyter.widget-view+json": {
       "model_id": "ea883ae6b57346c6907d6b1c77e9fee1",
       "version_major": 2,
       "version_minor": 0
      },
      "text/plain": [
       "  0%|          | 0/905 [00:00<?, ?it/s]"
      ]
     },
     "metadata": {},
     "output_type": "display_data"
    },
    {
     "data": {
      "application/vnd.jupyter.widget-view+json": {
       "model_id": "cabb4c1b0caf4751821c9fb874b6ac4e",
       "version_major": 2,
       "version_minor": 0
      },
      "text/plain": [
       "  0%|          | 0/906 [00:00<?, ?it/s]"
      ]
     },
     "metadata": {},
     "output_type": "display_data"
    },
    {
     "data": {
      "application/vnd.jupyter.widget-view+json": {
       "model_id": "6c807045208e442184a0c7df8c216d80",
       "version_major": 2,
       "version_minor": 0
      },
      "text/plain": [
       "  0%|          | 0/907 [00:00<?, ?it/s]"
      ]
     },
     "metadata": {},
     "output_type": "display_data"
    },
    {
     "data": {
      "application/vnd.jupyter.widget-view+json": {
       "model_id": "2a0922b8a3d943a49d8c356714402a36",
       "version_major": 2,
       "version_minor": 0
      },
      "text/plain": [
       "  0%|          | 0/908 [00:00<?, ?it/s]"
      ]
     },
     "metadata": {},
     "output_type": "display_data"
    },
    {
     "data": {
      "application/vnd.jupyter.widget-view+json": {
       "model_id": "39963a00c7f44456b79ad5a457eaf99b",
       "version_major": 2,
       "version_minor": 0
      },
      "text/plain": [
       "  0%|          | 0/909 [00:00<?, ?it/s]"
      ]
     },
     "metadata": {},
     "output_type": "display_data"
    },
    {
     "data": {
      "application/vnd.jupyter.widget-view+json": {
       "model_id": "4ff2d535a8874f4396e85ff31cb63553",
       "version_major": 2,
       "version_minor": 0
      },
      "text/plain": [
       "  0%|          | 0/910 [00:00<?, ?it/s]"
      ]
     },
     "metadata": {},
     "output_type": "display_data"
    },
    {
     "data": {
      "application/vnd.jupyter.widget-view+json": {
       "model_id": "2ce529ea1f0d45b9b77fee094c8b66ce",
       "version_major": 2,
       "version_minor": 0
      },
      "text/plain": [
       "  0%|          | 0/911 [00:00<?, ?it/s]"
      ]
     },
     "metadata": {},
     "output_type": "display_data"
    },
    {
     "data": {
      "application/vnd.jupyter.widget-view+json": {
       "model_id": "56ef72b21b074fef83695666c7bcedd2",
       "version_major": 2,
       "version_minor": 0
      },
      "text/plain": [
       "  0%|          | 0/912 [00:00<?, ?it/s]"
      ]
     },
     "metadata": {},
     "output_type": "display_data"
    },
    {
     "data": {
      "application/vnd.jupyter.widget-view+json": {
       "model_id": "763ccfa95eb2468697e11c6e1548b95d",
       "version_major": 2,
       "version_minor": 0
      },
      "text/plain": [
       "  0%|          | 0/913 [00:00<?, ?it/s]"
      ]
     },
     "metadata": {},
     "output_type": "display_data"
    },
    {
     "data": {
      "application/vnd.jupyter.widget-view+json": {
       "model_id": "fb9563a283b14e848397ba19839890b7",
       "version_major": 2,
       "version_minor": 0
      },
      "text/plain": [
       "  0%|          | 0/914 [00:00<?, ?it/s]"
      ]
     },
     "metadata": {},
     "output_type": "display_data"
    },
    {
     "data": {
      "application/vnd.jupyter.widget-view+json": {
       "model_id": "57ea2fdfe6c7495aad8f309cafe7f102",
       "version_major": 2,
       "version_minor": 0
      },
      "text/plain": [
       "  0%|          | 0/915 [00:00<?, ?it/s]"
      ]
     },
     "metadata": {},
     "output_type": "display_data"
    },
    {
     "data": {
      "application/vnd.jupyter.widget-view+json": {
       "model_id": "e9fb02263589448cae349ff5898f8cab",
       "version_major": 2,
       "version_minor": 0
      },
      "text/plain": [
       "  0%|          | 0/916 [00:00<?, ?it/s]"
      ]
     },
     "metadata": {},
     "output_type": "display_data"
    },
    {
     "data": {
      "application/vnd.jupyter.widget-view+json": {
       "model_id": "fdec545cbc7a43d18e91550a4fc35821",
       "version_major": 2,
       "version_minor": 0
      },
      "text/plain": [
       "  0%|          | 0/917 [00:00<?, ?it/s]"
      ]
     },
     "metadata": {},
     "output_type": "display_data"
    },
    {
     "data": {
      "application/vnd.jupyter.widget-view+json": {
       "model_id": "c994212bd43a4b86a645e7dc15b4855e",
       "version_major": 2,
       "version_minor": 0
      },
      "text/plain": [
       "  0%|          | 0/918 [00:00<?, ?it/s]"
      ]
     },
     "metadata": {},
     "output_type": "display_data"
    },
    {
     "data": {
      "application/vnd.jupyter.widget-view+json": {
       "model_id": "74ed81d82bf445d1ab2555264b96929a",
       "version_major": 2,
       "version_minor": 0
      },
      "text/plain": [
       "  0%|          | 0/919 [00:00<?, ?it/s]"
      ]
     },
     "metadata": {},
     "output_type": "display_data"
    },
    {
     "data": {
      "application/vnd.jupyter.widget-view+json": {
       "model_id": "ff14b66a07fa4a95af4e6c9d124ee128",
       "version_major": 2,
       "version_minor": 0
      },
      "text/plain": [
       "  0%|          | 0/920 [00:00<?, ?it/s]"
      ]
     },
     "metadata": {},
     "output_type": "display_data"
    },
    {
     "data": {
      "application/vnd.jupyter.widget-view+json": {
       "model_id": "dda65dd7815940f88f881f51218d465a",
       "version_major": 2,
       "version_minor": 0
      },
      "text/plain": [
       "  0%|          | 0/921 [00:00<?, ?it/s]"
      ]
     },
     "metadata": {},
     "output_type": "display_data"
    },
    {
     "data": {
      "application/vnd.jupyter.widget-view+json": {
       "model_id": "f1f2ee55be7c4ae991100959e3ee0ea2",
       "version_major": 2,
       "version_minor": 0
      },
      "text/plain": [
       "  0%|          | 0/922 [00:00<?, ?it/s]"
      ]
     },
     "metadata": {},
     "output_type": "display_data"
    },
    {
     "data": {
      "application/vnd.jupyter.widget-view+json": {
       "model_id": "96cdd22e11974b7cac95c82c41eaa113",
       "version_major": 2,
       "version_minor": 0
      },
      "text/plain": [
       "  0%|          | 0/923 [00:00<?, ?it/s]"
      ]
     },
     "metadata": {},
     "output_type": "display_data"
    },
    {
     "data": {
      "application/vnd.jupyter.widget-view+json": {
       "model_id": "26367ea1247a4d1a89cbc7660c8a8b47",
       "version_major": 2,
       "version_minor": 0
      },
      "text/plain": [
       "  0%|          | 0/924 [00:00<?, ?it/s]"
      ]
     },
     "metadata": {},
     "output_type": "display_data"
    },
    {
     "data": {
      "application/vnd.jupyter.widget-view+json": {
       "model_id": "592d654c13b74b6fa812a278737475a9",
       "version_major": 2,
       "version_minor": 0
      },
      "text/plain": [
       "  0%|          | 0/925 [00:00<?, ?it/s]"
      ]
     },
     "metadata": {},
     "output_type": "display_data"
    },
    {
     "data": {
      "application/vnd.jupyter.widget-view+json": {
       "model_id": "f847a1299c8b4cbbac48e363320a1a71",
       "version_major": 2,
       "version_minor": 0
      },
      "text/plain": [
       "  0%|          | 0/926 [00:00<?, ?it/s]"
      ]
     },
     "metadata": {},
     "output_type": "display_data"
    },
    {
     "data": {
      "application/vnd.jupyter.widget-view+json": {
       "model_id": "f59cc52f557e4f3098d556eab1a3ddbd",
       "version_major": 2,
       "version_minor": 0
      },
      "text/plain": [
       "  0%|          | 0/927 [00:00<?, ?it/s]"
      ]
     },
     "metadata": {},
     "output_type": "display_data"
    },
    {
     "data": {
      "application/vnd.jupyter.widget-view+json": {
       "model_id": "24f676e23d3b48c08a9ba4b8ee7b3bd1",
       "version_major": 2,
       "version_minor": 0
      },
      "text/plain": [
       "  0%|          | 0/928 [00:00<?, ?it/s]"
      ]
     },
     "metadata": {},
     "output_type": "display_data"
    },
    {
     "data": {
      "application/vnd.jupyter.widget-view+json": {
       "model_id": "d54fd04b13094d7cb1f68c04a2f1c2c3",
       "version_major": 2,
       "version_minor": 0
      },
      "text/plain": [
       "  0%|          | 0/929 [00:00<?, ?it/s]"
      ]
     },
     "metadata": {},
     "output_type": "display_data"
    },
    {
     "data": {
      "application/vnd.jupyter.widget-view+json": {
       "model_id": "bb6e53ddc3c64690a6e1cd2906a86d72",
       "version_major": 2,
       "version_minor": 0
      },
      "text/plain": [
       "  0%|          | 0/930 [00:00<?, ?it/s]"
      ]
     },
     "metadata": {},
     "output_type": "display_data"
    },
    {
     "data": {
      "application/vnd.jupyter.widget-view+json": {
       "model_id": "a56352eb54f14d7abe8a6905df5cd671",
       "version_major": 2,
       "version_minor": 0
      },
      "text/plain": [
       "  0%|          | 0/931 [00:00<?, ?it/s]"
      ]
     },
     "metadata": {},
     "output_type": "display_data"
    },
    {
     "data": {
      "application/vnd.jupyter.widget-view+json": {
       "model_id": "a4b7a59d040a489b874cf23d8a62a573",
       "version_major": 2,
       "version_minor": 0
      },
      "text/plain": [
       "  0%|          | 0/932 [00:00<?, ?it/s]"
      ]
     },
     "metadata": {},
     "output_type": "display_data"
    },
    {
     "data": {
      "application/vnd.jupyter.widget-view+json": {
       "model_id": "e0afec268a1d4da3b9ec0a87d682e492",
       "version_major": 2,
       "version_minor": 0
      },
      "text/plain": [
       "  0%|          | 0/933 [00:00<?, ?it/s]"
      ]
     },
     "metadata": {},
     "output_type": "display_data"
    },
    {
     "data": {
      "application/vnd.jupyter.widget-view+json": {
       "model_id": "017ce692d8ea4e269fc47430024b8862",
       "version_major": 2,
       "version_minor": 0
      },
      "text/plain": [
       "  0%|          | 0/934 [00:00<?, ?it/s]"
      ]
     },
     "metadata": {},
     "output_type": "display_data"
    },
    {
     "data": {
      "application/vnd.jupyter.widget-view+json": {
       "model_id": "c897f9e49b13411e938ffe0d46f102b5",
       "version_major": 2,
       "version_minor": 0
      },
      "text/plain": [
       "  0%|          | 0/935 [00:00<?, ?it/s]"
      ]
     },
     "metadata": {},
     "output_type": "display_data"
    },
    {
     "data": {
      "application/vnd.jupyter.widget-view+json": {
       "model_id": "f996c544a8e249e893e1000dee4534a5",
       "version_major": 2,
       "version_minor": 0
      },
      "text/plain": [
       "  0%|          | 0/936 [00:00<?, ?it/s]"
      ]
     },
     "metadata": {},
     "output_type": "display_data"
    },
    {
     "data": {
      "application/vnd.jupyter.widget-view+json": {
       "model_id": "efde37a987834e74ba6857cd07ed82ab",
       "version_major": 2,
       "version_minor": 0
      },
      "text/plain": [
       "  0%|          | 0/937 [00:00<?, ?it/s]"
      ]
     },
     "metadata": {},
     "output_type": "display_data"
    },
    {
     "data": {
      "application/vnd.jupyter.widget-view+json": {
       "model_id": "baa745707c504f66a0bd64796c5f0b99",
       "version_major": 2,
       "version_minor": 0
      },
      "text/plain": [
       "  0%|          | 0/938 [00:00<?, ?it/s]"
      ]
     },
     "metadata": {},
     "output_type": "display_data"
    },
    {
     "data": {
      "application/vnd.jupyter.widget-view+json": {
       "model_id": "4b10ff63d79c40acba13c07e33993846",
       "version_major": 2,
       "version_minor": 0
      },
      "text/plain": [
       "  0%|          | 0/939 [00:00<?, ?it/s]"
      ]
     },
     "metadata": {},
     "output_type": "display_data"
    },
    {
     "data": {
      "application/vnd.jupyter.widget-view+json": {
       "model_id": "bf4f0f35558548f487062293c68ccc05",
       "version_major": 2,
       "version_minor": 0
      },
      "text/plain": [
       "  0%|          | 0/940 [00:00<?, ?it/s]"
      ]
     },
     "metadata": {},
     "output_type": "display_data"
    },
    {
     "data": {
      "application/vnd.jupyter.widget-view+json": {
       "model_id": "f150ddace0c249378f2461bc64218846",
       "version_major": 2,
       "version_minor": 0
      },
      "text/plain": [
       "  0%|          | 0/941 [00:00<?, ?it/s]"
      ]
     },
     "metadata": {},
     "output_type": "display_data"
    },
    {
     "data": {
      "application/vnd.jupyter.widget-view+json": {
       "model_id": "e80f4960a5bf45b0b7458228ca8f0048",
       "version_major": 2,
       "version_minor": 0
      },
      "text/plain": [
       "  0%|          | 0/942 [00:00<?, ?it/s]"
      ]
     },
     "metadata": {},
     "output_type": "display_data"
    },
    {
     "data": {
      "application/vnd.jupyter.widget-view+json": {
       "model_id": "aaa2d3c16b204c73bc011b1bbaaf78be",
       "version_major": 2,
       "version_minor": 0
      },
      "text/plain": [
       "  0%|          | 0/943 [00:00<?, ?it/s]"
      ]
     },
     "metadata": {},
     "output_type": "display_data"
    },
    {
     "data": {
      "application/vnd.jupyter.widget-view+json": {
       "model_id": "e7fea4305fd1463c954b7077fd605af8",
       "version_major": 2,
       "version_minor": 0
      },
      "text/plain": [
       "  0%|          | 0/944 [00:00<?, ?it/s]"
      ]
     },
     "metadata": {},
     "output_type": "display_data"
    },
    {
     "data": {
      "application/vnd.jupyter.widget-view+json": {
       "model_id": "9972e8df801c4f25b873cb5d4c6e1227",
       "version_major": 2,
       "version_minor": 0
      },
      "text/plain": [
       "  0%|          | 0/945 [00:00<?, ?it/s]"
      ]
     },
     "metadata": {},
     "output_type": "display_data"
    },
    {
     "data": {
      "application/vnd.jupyter.widget-view+json": {
       "model_id": "5350fc4fb636400997df52c9c77ecd1d",
       "version_major": 2,
       "version_minor": 0
      },
      "text/plain": [
       "  0%|          | 0/946 [00:00<?, ?it/s]"
      ]
     },
     "metadata": {},
     "output_type": "display_data"
    },
    {
     "data": {
      "application/vnd.jupyter.widget-view+json": {
       "model_id": "f3fa44d84c364a91810e068dbe332d1d",
       "version_major": 2,
       "version_minor": 0
      },
      "text/plain": [
       "  0%|          | 0/947 [00:00<?, ?it/s]"
      ]
     },
     "metadata": {},
     "output_type": "display_data"
    },
    {
     "data": {
      "application/vnd.jupyter.widget-view+json": {
       "model_id": "894b726b46d54c18a172d9b197b6fd06",
       "version_major": 2,
       "version_minor": 0
      },
      "text/plain": [
       "  0%|          | 0/948 [00:00<?, ?it/s]"
      ]
     },
     "metadata": {},
     "output_type": "display_data"
    },
    {
     "data": {
      "application/vnd.jupyter.widget-view+json": {
       "model_id": "3cebca353e51455baf49b55baf8d9333",
       "version_major": 2,
       "version_minor": 0
      },
      "text/plain": [
       "  0%|          | 0/949 [00:00<?, ?it/s]"
      ]
     },
     "metadata": {},
     "output_type": "display_data"
    },
    {
     "data": {
      "application/vnd.jupyter.widget-view+json": {
       "model_id": "37af307fb7bb4e9e9a68a39addf72700",
       "version_major": 2,
       "version_minor": 0
      },
      "text/plain": [
       "  0%|          | 0/950 [00:00<?, ?it/s]"
      ]
     },
     "metadata": {},
     "output_type": "display_data"
    },
    {
     "data": {
      "application/vnd.jupyter.widget-view+json": {
       "model_id": "1e7ec3918ba048ee8f3267047217787a",
       "version_major": 2,
       "version_minor": 0
      },
      "text/plain": [
       "  0%|          | 0/951 [00:00<?, ?it/s]"
      ]
     },
     "metadata": {},
     "output_type": "display_data"
    },
    {
     "data": {
      "application/vnd.jupyter.widget-view+json": {
       "model_id": "6e7ac8a065f041afaed71f2ef0ccec5c",
       "version_major": 2,
       "version_minor": 0
      },
      "text/plain": [
       "  0%|          | 0/952 [00:00<?, ?it/s]"
      ]
     },
     "metadata": {},
     "output_type": "display_data"
    },
    {
     "data": {
      "application/vnd.jupyter.widget-view+json": {
       "model_id": "6ff8a24bec3c4e68a68ca2cfcf2e07e2",
       "version_major": 2,
       "version_minor": 0
      },
      "text/plain": [
       "  0%|          | 0/953 [00:00<?, ?it/s]"
      ]
     },
     "metadata": {},
     "output_type": "display_data"
    },
    {
     "data": {
      "application/vnd.jupyter.widget-view+json": {
       "model_id": "2a2517444a8542b598dd3c4e20660656",
       "version_major": 2,
       "version_minor": 0
      },
      "text/plain": [
       "  0%|          | 0/954 [00:00<?, ?it/s]"
      ]
     },
     "metadata": {},
     "output_type": "display_data"
    },
    {
     "data": {
      "application/vnd.jupyter.widget-view+json": {
       "model_id": "7c535a0530f44553bcd48174bafde385",
       "version_major": 2,
       "version_minor": 0
      },
      "text/plain": [
       "  0%|          | 0/955 [00:00<?, ?it/s]"
      ]
     },
     "metadata": {},
     "output_type": "display_data"
    },
    {
     "data": {
      "application/vnd.jupyter.widget-view+json": {
       "model_id": "91f8ced5a7734fd3ba2716c836c04172",
       "version_major": 2,
       "version_minor": 0
      },
      "text/plain": [
       "  0%|          | 0/956 [00:00<?, ?it/s]"
      ]
     },
     "metadata": {},
     "output_type": "display_data"
    },
    {
     "data": {
      "application/vnd.jupyter.widget-view+json": {
       "model_id": "55f604d593da415da081e9fe53243e5b",
       "version_major": 2,
       "version_minor": 0
      },
      "text/plain": [
       "  0%|          | 0/957 [00:00<?, ?it/s]"
      ]
     },
     "metadata": {},
     "output_type": "display_data"
    },
    {
     "data": {
      "application/vnd.jupyter.widget-view+json": {
       "model_id": "734ee6426e7e4604af31648f20a65ede",
       "version_major": 2,
       "version_minor": 0
      },
      "text/plain": [
       "  0%|          | 0/958 [00:00<?, ?it/s]"
      ]
     },
     "metadata": {},
     "output_type": "display_data"
    },
    {
     "data": {
      "application/vnd.jupyter.widget-view+json": {
       "model_id": "f739eb9e533a438588bd4ae8bd7a8f26",
       "version_major": 2,
       "version_minor": 0
      },
      "text/plain": [
       "  0%|          | 0/959 [00:00<?, ?it/s]"
      ]
     },
     "metadata": {},
     "output_type": "display_data"
    },
    {
     "data": {
      "application/vnd.jupyter.widget-view+json": {
       "model_id": "ff42c3e99d094b0b9b6e2af98345a4a3",
       "version_major": 2,
       "version_minor": 0
      },
      "text/plain": [
       "  0%|          | 0/960 [00:00<?, ?it/s]"
      ]
     },
     "metadata": {},
     "output_type": "display_data"
    },
    {
     "data": {
      "application/vnd.jupyter.widget-view+json": {
       "model_id": "1e357316600a443daf3725567d4eba20",
       "version_major": 2,
       "version_minor": 0
      },
      "text/plain": [
       "  0%|          | 0/961 [00:00<?, ?it/s]"
      ]
     },
     "metadata": {},
     "output_type": "display_data"
    },
    {
     "data": {
      "application/vnd.jupyter.widget-view+json": {
       "model_id": "83d87b083e2144dcadff13c0265f405c",
       "version_major": 2,
       "version_minor": 0
      },
      "text/plain": [
       "  0%|          | 0/962 [00:00<?, ?it/s]"
      ]
     },
     "metadata": {},
     "output_type": "display_data"
    },
    {
     "data": {
      "application/vnd.jupyter.widget-view+json": {
       "model_id": "2f0c2c61477c4496ac4667597bc08ca8",
       "version_major": 2,
       "version_minor": 0
      },
      "text/plain": [
       "  0%|          | 0/963 [00:00<?, ?it/s]"
      ]
     },
     "metadata": {},
     "output_type": "display_data"
    },
    {
     "data": {
      "application/vnd.jupyter.widget-view+json": {
       "model_id": "6b71a957fcc3419d92fea7ef58cef4e3",
       "version_major": 2,
       "version_minor": 0
      },
      "text/plain": [
       "  0%|          | 0/964 [00:00<?, ?it/s]"
      ]
     },
     "metadata": {},
     "output_type": "display_data"
    },
    {
     "data": {
      "application/vnd.jupyter.widget-view+json": {
       "model_id": "4e5467dbba134a4f88177cbbfa8f5e25",
       "version_major": 2,
       "version_minor": 0
      },
      "text/plain": [
       "  0%|          | 0/965 [00:00<?, ?it/s]"
      ]
     },
     "metadata": {},
     "output_type": "display_data"
    },
    {
     "data": {
      "application/vnd.jupyter.widget-view+json": {
       "model_id": "946a2d37246a4a55b1b4cc1637f43f00",
       "version_major": 2,
       "version_minor": 0
      },
      "text/plain": [
       "  0%|          | 0/966 [00:00<?, ?it/s]"
      ]
     },
     "metadata": {},
     "output_type": "display_data"
    },
    {
     "data": {
      "application/vnd.jupyter.widget-view+json": {
       "model_id": "cd6ccb585a02486a9ac4f998ddc227cb",
       "version_major": 2,
       "version_minor": 0
      },
      "text/plain": [
       "  0%|          | 0/967 [00:00<?, ?it/s]"
      ]
     },
     "metadata": {},
     "output_type": "display_data"
    },
    {
     "data": {
      "application/vnd.jupyter.widget-view+json": {
       "model_id": "8cb04127dd204b63bce8d871c6c85b05",
       "version_major": 2,
       "version_minor": 0
      },
      "text/plain": [
       "  0%|          | 0/968 [00:00<?, ?it/s]"
      ]
     },
     "metadata": {},
     "output_type": "display_data"
    },
    {
     "data": {
      "application/vnd.jupyter.widget-view+json": {
       "model_id": "4a714e60ddf348f294b562978fcaf9a5",
       "version_major": 2,
       "version_minor": 0
      },
      "text/plain": [
       "  0%|          | 0/969 [00:00<?, ?it/s]"
      ]
     },
     "metadata": {},
     "output_type": "display_data"
    },
    {
     "data": {
      "application/vnd.jupyter.widget-view+json": {
       "model_id": "31eff66376eb4c58acda080cdfab0e0b",
       "version_major": 2,
       "version_minor": 0
      },
      "text/plain": [
       "  0%|          | 0/970 [00:00<?, ?it/s]"
      ]
     },
     "metadata": {},
     "output_type": "display_data"
    },
    {
     "data": {
      "application/vnd.jupyter.widget-view+json": {
       "model_id": "269b67d1b528480ba425a087cc15ba2c",
       "version_major": 2,
       "version_minor": 0
      },
      "text/plain": [
       "  0%|          | 0/971 [00:00<?, ?it/s]"
      ]
     },
     "metadata": {},
     "output_type": "display_data"
    },
    {
     "data": {
      "application/vnd.jupyter.widget-view+json": {
       "model_id": "8f2f47f072ff4347a9fa2f2acf45cd50",
       "version_major": 2,
       "version_minor": 0
      },
      "text/plain": [
       "  0%|          | 0/972 [00:00<?, ?it/s]"
      ]
     },
     "metadata": {},
     "output_type": "display_data"
    },
    {
     "data": {
      "application/vnd.jupyter.widget-view+json": {
       "model_id": "fa3028d0a7d748d28d39389d6dbc8625",
       "version_major": 2,
       "version_minor": 0
      },
      "text/plain": [
       "  0%|          | 0/973 [00:00<?, ?it/s]"
      ]
     },
     "metadata": {},
     "output_type": "display_data"
    },
    {
     "data": {
      "application/vnd.jupyter.widget-view+json": {
       "model_id": "f1cb6790b3c4433ebb4c950e87ccc67c",
       "version_major": 2,
       "version_minor": 0
      },
      "text/plain": [
       "  0%|          | 0/974 [00:00<?, ?it/s]"
      ]
     },
     "metadata": {},
     "output_type": "display_data"
    },
    {
     "data": {
      "application/vnd.jupyter.widget-view+json": {
       "model_id": "b500a58c767e4f1b82a711157e3a47a1",
       "version_major": 2,
       "version_minor": 0
      },
      "text/plain": [
       "  0%|          | 0/975 [00:00<?, ?it/s]"
      ]
     },
     "metadata": {},
     "output_type": "display_data"
    },
    {
     "data": {
      "application/vnd.jupyter.widget-view+json": {
       "model_id": "38251708c1c042b5bad0795632e70023",
       "version_major": 2,
       "version_minor": 0
      },
      "text/plain": [
       "  0%|          | 0/976 [00:00<?, ?it/s]"
      ]
     },
     "metadata": {},
     "output_type": "display_data"
    },
    {
     "data": {
      "application/vnd.jupyter.widget-view+json": {
       "model_id": "ea7b56e53bfc4d4d9ee104bab7c963a6",
       "version_major": 2,
       "version_minor": 0
      },
      "text/plain": [
       "  0%|          | 0/977 [00:00<?, ?it/s]"
      ]
     },
     "metadata": {},
     "output_type": "display_data"
    },
    {
     "data": {
      "application/vnd.jupyter.widget-view+json": {
       "model_id": "1e29dc72a22d4c98931cc68995428678",
       "version_major": 2,
       "version_minor": 0
      },
      "text/plain": [
       "  0%|          | 0/978 [00:00<?, ?it/s]"
      ]
     },
     "metadata": {},
     "output_type": "display_data"
    },
    {
     "data": {
      "application/vnd.jupyter.widget-view+json": {
       "model_id": "8a2b470b59954b0a878a3d148fc6a6d3",
       "version_major": 2,
       "version_minor": 0
      },
      "text/plain": [
       "  0%|          | 0/979 [00:00<?, ?it/s]"
      ]
     },
     "metadata": {},
     "output_type": "display_data"
    },
    {
     "data": {
      "application/vnd.jupyter.widget-view+json": {
       "model_id": "1b705df9027a4bc1a8790227e5e609bd",
       "version_major": 2,
       "version_minor": 0
      },
      "text/plain": [
       "  0%|          | 0/980 [00:00<?, ?it/s]"
      ]
     },
     "metadata": {},
     "output_type": "display_data"
    },
    {
     "data": {
      "application/vnd.jupyter.widget-view+json": {
       "model_id": "d592f3266aa14c50bddf06ed69df9d2b",
       "version_major": 2,
       "version_minor": 0
      },
      "text/plain": [
       "  0%|          | 0/981 [00:00<?, ?it/s]"
      ]
     },
     "metadata": {},
     "output_type": "display_data"
    },
    {
     "data": {
      "application/vnd.jupyter.widget-view+json": {
       "model_id": "a7bda09d751449778eddbb5205e27091",
       "version_major": 2,
       "version_minor": 0
      },
      "text/plain": [
       "  0%|          | 0/982 [00:00<?, ?it/s]"
      ]
     },
     "metadata": {},
     "output_type": "display_data"
    },
    {
     "data": {
      "application/vnd.jupyter.widget-view+json": {
       "model_id": "ee2c3896084f40a99f998b219a239dc9",
       "version_major": 2,
       "version_minor": 0
      },
      "text/plain": [
       "  0%|          | 0/983 [00:00<?, ?it/s]"
      ]
     },
     "metadata": {},
     "output_type": "display_data"
    },
    {
     "data": {
      "application/vnd.jupyter.widget-view+json": {
       "model_id": "1ce65a80e484414f82ac56dd15514f9f",
       "version_major": 2,
       "version_minor": 0
      },
      "text/plain": [
       "  0%|          | 0/984 [00:00<?, ?it/s]"
      ]
     },
     "metadata": {},
     "output_type": "display_data"
    },
    {
     "data": {
      "application/vnd.jupyter.widget-view+json": {
       "model_id": "04560f415373450d8868faeaaa14dab6",
       "version_major": 2,
       "version_minor": 0
      },
      "text/plain": [
       "  0%|          | 0/985 [00:00<?, ?it/s]"
      ]
     },
     "metadata": {},
     "output_type": "display_data"
    },
    {
     "data": {
      "application/vnd.jupyter.widget-view+json": {
       "model_id": "9ea4aecdbf694cb2abe75e0fc4b5bb6d",
       "version_major": 2,
       "version_minor": 0
      },
      "text/plain": [
       "  0%|          | 0/986 [00:00<?, ?it/s]"
      ]
     },
     "metadata": {},
     "output_type": "display_data"
    },
    {
     "data": {
      "application/vnd.jupyter.widget-view+json": {
       "model_id": "cf0fa7cdbe2b4f6db4e6057d03a63dae",
       "version_major": 2,
       "version_minor": 0
      },
      "text/plain": [
       "  0%|          | 0/987 [00:00<?, ?it/s]"
      ]
     },
     "metadata": {},
     "output_type": "display_data"
    },
    {
     "data": {
      "application/vnd.jupyter.widget-view+json": {
       "model_id": "4ecfaf3eca1f4fd488a40a04aec5c510",
       "version_major": 2,
       "version_minor": 0
      },
      "text/plain": [
       "  0%|          | 0/988 [00:00<?, ?it/s]"
      ]
     },
     "metadata": {},
     "output_type": "display_data"
    },
    {
     "data": {
      "application/vnd.jupyter.widget-view+json": {
       "model_id": "4db6d1a76f3b423cb962c70831fbd1c9",
       "version_major": 2,
       "version_minor": 0
      },
      "text/plain": [
       "  0%|          | 0/989 [00:00<?, ?it/s]"
      ]
     },
     "metadata": {},
     "output_type": "display_data"
    },
    {
     "data": {
      "application/vnd.jupyter.widget-view+json": {
       "model_id": "0361393f527245ec9e8164452c34cc26",
       "version_major": 2,
       "version_minor": 0
      },
      "text/plain": [
       "  0%|          | 0/990 [00:00<?, ?it/s]"
      ]
     },
     "metadata": {},
     "output_type": "display_data"
    },
    {
     "data": {
      "application/vnd.jupyter.widget-view+json": {
       "model_id": "8ebdadd7032b43b9a57be52df0b17b84",
       "version_major": 2,
       "version_minor": 0
      },
      "text/plain": [
       "  0%|          | 0/991 [00:00<?, ?it/s]"
      ]
     },
     "metadata": {},
     "output_type": "display_data"
    },
    {
     "data": {
      "application/vnd.jupyter.widget-view+json": {
       "model_id": "737ef607e3074387afc50c26c7b922fc",
       "version_major": 2,
       "version_minor": 0
      },
      "text/plain": [
       "  0%|          | 0/992 [00:00<?, ?it/s]"
      ]
     },
     "metadata": {},
     "output_type": "display_data"
    },
    {
     "data": {
      "application/vnd.jupyter.widget-view+json": {
       "model_id": "a744dc5d74f74891bc08fe72b182d9cf",
       "version_major": 2,
       "version_minor": 0
      },
      "text/plain": [
       "  0%|          | 0/993 [00:00<?, ?it/s]"
      ]
     },
     "metadata": {},
     "output_type": "display_data"
    },
    {
     "data": {
      "application/vnd.jupyter.widget-view+json": {
       "model_id": "bb5e550ace5540afa04c225de08d90c1",
       "version_major": 2,
       "version_minor": 0
      },
      "text/plain": [
       "  0%|          | 0/994 [00:00<?, ?it/s]"
      ]
     },
     "metadata": {},
     "output_type": "display_data"
    },
    {
     "data": {
      "application/vnd.jupyter.widget-view+json": {
       "model_id": "2cc9833a9eab4eb3b9bbc818767dc9ff",
       "version_major": 2,
       "version_minor": 0
      },
      "text/plain": [
       "  0%|          | 0/995 [00:00<?, ?it/s]"
      ]
     },
     "metadata": {},
     "output_type": "display_data"
    },
    {
     "data": {
      "application/vnd.jupyter.widget-view+json": {
       "model_id": "85c317e7cdd54a20a1b96d37e84ac7ba",
       "version_major": 2,
       "version_minor": 0
      },
      "text/plain": [
       "  0%|          | 0/996 [00:00<?, ?it/s]"
      ]
     },
     "metadata": {},
     "output_type": "display_data"
    },
    {
     "data": {
      "application/vnd.jupyter.widget-view+json": {
       "model_id": "05d7efb6326b4fc8a73f2147e072c65f",
       "version_major": 2,
       "version_minor": 0
      },
      "text/plain": [
       "  0%|          | 0/997 [00:00<?, ?it/s]"
      ]
     },
     "metadata": {},
     "output_type": "display_data"
    },
    {
     "data": {
      "application/vnd.jupyter.widget-view+json": {
       "model_id": "44ac047b5d844b28a3225474275e0b36",
       "version_major": 2,
       "version_minor": 0
      },
      "text/plain": [
       "  0%|          | 0/998 [00:00<?, ?it/s]"
      ]
     },
     "metadata": {},
     "output_type": "display_data"
    },
    {
     "data": {
      "application/vnd.jupyter.widget-view+json": {
       "model_id": "752b67f8af9b4880a623db07badfb4ce",
       "version_major": 2,
       "version_minor": 0
      },
      "text/plain": [
       "  0%|          | 0/999 [00:00<?, ?it/s]"
      ]
     },
     "metadata": {},
     "output_type": "display_data"
    },
    {
     "data": {
      "application/vnd.jupyter.widget-view+json": {
       "model_id": "73c8ccbe00c145d5a5ed88f33b95e980",
       "version_major": 2,
       "version_minor": 0
      },
      "text/plain": [
       "  0%|          | 0/1000 [00:00<?, ?it/s]"
      ]
     },
     "metadata": {},
     "output_type": "display_data"
    },
    {
     "data": {
      "application/vnd.jupyter.widget-view+json": {
       "model_id": "112f605befc0418d95966c6f37e14d03",
       "version_major": 2,
       "version_minor": 0
      },
      "text/plain": [
       "  0%|          | 0/1001 [00:00<?, ?it/s]"
      ]
     },
     "metadata": {},
     "output_type": "display_data"
    },
    {
     "data": {
      "application/vnd.jupyter.widget-view+json": {
       "model_id": "de2c94493e394bab8d9bf90ef9f71732",
       "version_major": 2,
       "version_minor": 0
      },
      "text/plain": [
       "  0%|          | 0/1002 [00:00<?, ?it/s]"
      ]
     },
     "metadata": {},
     "output_type": "display_data"
    },
    {
     "data": {
      "application/vnd.jupyter.widget-view+json": {
       "model_id": "7077617b214849bea6116ab5c41a00bc",
       "version_major": 2,
       "version_minor": 0
      },
      "text/plain": [
       "  0%|          | 0/1003 [00:00<?, ?it/s]"
      ]
     },
     "metadata": {},
     "output_type": "display_data"
    },
    {
     "data": {
      "application/vnd.jupyter.widget-view+json": {
       "model_id": "8e6d4aa2ea254d66befe183fbecf77d1",
       "version_major": 2,
       "version_minor": 0
      },
      "text/plain": [
       "  0%|          | 0/1004 [00:00<?, ?it/s]"
      ]
     },
     "metadata": {},
     "output_type": "display_data"
    },
    {
     "data": {
      "application/vnd.jupyter.widget-view+json": {
       "model_id": "c95987a278e140db856aaaa9b6d5a99a",
       "version_major": 2,
       "version_minor": 0
      },
      "text/plain": [
       "  0%|          | 0/1005 [00:00<?, ?it/s]"
      ]
     },
     "metadata": {},
     "output_type": "display_data"
    },
    {
     "data": {
      "application/vnd.jupyter.widget-view+json": {
       "model_id": "cf3b6069f5f640349a3226e97f8fe54b",
       "version_major": 2,
       "version_minor": 0
      },
      "text/plain": [
       "  0%|          | 0/1006 [00:00<?, ?it/s]"
      ]
     },
     "metadata": {},
     "output_type": "display_data"
    },
    {
     "data": {
      "application/vnd.jupyter.widget-view+json": {
       "model_id": "810cccefb1bd45dc8ae975e4bfabb47c",
       "version_major": 2,
       "version_minor": 0
      },
      "text/plain": [
       "  0%|          | 0/1007 [00:00<?, ?it/s]"
      ]
     },
     "metadata": {},
     "output_type": "display_data"
    },
    {
     "data": {
      "application/vnd.jupyter.widget-view+json": {
       "model_id": "dcd94d5c731f4e32a1583a7dfea2957b",
       "version_major": 2,
       "version_minor": 0
      },
      "text/plain": [
       "  0%|          | 0/1008 [00:00<?, ?it/s]"
      ]
     },
     "metadata": {},
     "output_type": "display_data"
    },
    {
     "data": {
      "application/vnd.jupyter.widget-view+json": {
       "model_id": "d0158064bb0240dfaf0b11d39421f47f",
       "version_major": 2,
       "version_minor": 0
      },
      "text/plain": [
       "  0%|          | 0/1009 [00:00<?, ?it/s]"
      ]
     },
     "metadata": {},
     "output_type": "display_data"
    },
    {
     "data": {
      "application/vnd.jupyter.widget-view+json": {
       "model_id": "b3377c217ba94d998ad2a0d675ce5691",
       "version_major": 2,
       "version_minor": 0
      },
      "text/plain": [
       "  0%|          | 0/1010 [00:00<?, ?it/s]"
      ]
     },
     "metadata": {},
     "output_type": "display_data"
    },
    {
     "data": {
      "application/vnd.jupyter.widget-view+json": {
       "model_id": "541e4d55a90749998bdbbd85fee232f5",
       "version_major": 2,
       "version_minor": 0
      },
      "text/plain": [
       "  0%|          | 0/1011 [00:00<?, ?it/s]"
      ]
     },
     "metadata": {},
     "output_type": "display_data"
    },
    {
     "data": {
      "application/vnd.jupyter.widget-view+json": {
       "model_id": "5d9e6b2d598d49faac1c5cdd870e1568",
       "version_major": 2,
       "version_minor": 0
      },
      "text/plain": [
       "  0%|          | 0/1012 [00:00<?, ?it/s]"
      ]
     },
     "metadata": {},
     "output_type": "display_data"
    },
    {
     "data": {
      "application/vnd.jupyter.widget-view+json": {
       "model_id": "c724cc92c3e84d90a140d65f2d54246a",
       "version_major": 2,
       "version_minor": 0
      },
      "text/plain": [
       "  0%|          | 0/1013 [00:00<?, ?it/s]"
      ]
     },
     "metadata": {},
     "output_type": "display_data"
    },
    {
     "data": {
      "application/vnd.jupyter.widget-view+json": {
       "model_id": "133e15ebcb094613841fced232c7d11b",
       "version_major": 2,
       "version_minor": 0
      },
      "text/plain": [
       "  0%|          | 0/1014 [00:00<?, ?it/s]"
      ]
     },
     "metadata": {},
     "output_type": "display_data"
    },
    {
     "data": {
      "application/vnd.jupyter.widget-view+json": {
       "model_id": "cc08988a1f014ab2be78e70cc5adee74",
       "version_major": 2,
       "version_minor": 0
      },
      "text/plain": [
       "  0%|          | 0/1015 [00:00<?, ?it/s]"
      ]
     },
     "metadata": {},
     "output_type": "display_data"
    },
    {
     "data": {
      "application/vnd.jupyter.widget-view+json": {
       "model_id": "8ce54daf98e743f1a7b3ecbad1cae17a",
       "version_major": 2,
       "version_minor": 0
      },
      "text/plain": [
       "  0%|          | 0/1016 [00:00<?, ?it/s]"
      ]
     },
     "metadata": {},
     "output_type": "display_data"
    },
    {
     "data": {
      "application/vnd.jupyter.widget-view+json": {
       "model_id": "33a4a88b5e48404e8fdb7843183ecc6e",
       "version_major": 2,
       "version_minor": 0
      },
      "text/plain": [
       "  0%|          | 0/1017 [00:00<?, ?it/s]"
      ]
     },
     "metadata": {},
     "output_type": "display_data"
    },
    {
     "data": {
      "application/vnd.jupyter.widget-view+json": {
       "model_id": "2c71727fdc624f0f89170bfc25b7baaa",
       "version_major": 2,
       "version_minor": 0
      },
      "text/plain": [
       "  0%|          | 0/1018 [00:00<?, ?it/s]"
      ]
     },
     "metadata": {},
     "output_type": "display_data"
    },
    {
     "data": {
      "application/vnd.jupyter.widget-view+json": {
       "model_id": "6c87363a8ab645a6818ba211f0a73615",
       "version_major": 2,
       "version_minor": 0
      },
      "text/plain": [
       "  0%|          | 0/1019 [00:00<?, ?it/s]"
      ]
     },
     "metadata": {},
     "output_type": "display_data"
    },
    {
     "data": {
      "application/vnd.jupyter.widget-view+json": {
       "model_id": "7203afafe35243d8ad9565f3215b8ebc",
       "version_major": 2,
       "version_minor": 0
      },
      "text/plain": [
       "  0%|          | 0/1020 [00:00<?, ?it/s]"
      ]
     },
     "metadata": {},
     "output_type": "display_data"
    },
    {
     "data": {
      "application/vnd.jupyter.widget-view+json": {
       "model_id": "9662da2bd67e4c71b499dec8339fe598",
       "version_major": 2,
       "version_minor": 0
      },
      "text/plain": [
       "  0%|          | 0/1021 [00:00<?, ?it/s]"
      ]
     },
     "metadata": {},
     "output_type": "display_data"
    },
    {
     "data": {
      "application/vnd.jupyter.widget-view+json": {
       "model_id": "1d367d9c25b14888a09ecaf2b40dbb03",
       "version_major": 2,
       "version_minor": 0
      },
      "text/plain": [
       "  0%|          | 0/1022 [00:00<?, ?it/s]"
      ]
     },
     "metadata": {},
     "output_type": "display_data"
    },
    {
     "data": {
      "application/vnd.jupyter.widget-view+json": {
       "model_id": "0ca467be4a164c329e0dcf2c8a69ae96",
       "version_major": 2,
       "version_minor": 0
      },
      "text/plain": [
       "  0%|          | 0/1023 [00:00<?, ?it/s]"
      ]
     },
     "metadata": {},
     "output_type": "display_data"
    },
    {
     "data": {
      "application/vnd.jupyter.widget-view+json": {
       "model_id": "0898c1b6b285425d8ce12f8c71fb6d72",
       "version_major": 2,
       "version_minor": 0
      },
      "text/plain": [
       "  0%|          | 0/1024 [00:00<?, ?it/s]"
      ]
     },
     "metadata": {},
     "output_type": "display_data"
    },
    {
     "data": {
      "application/vnd.jupyter.widget-view+json": {
       "model_id": "b1c749816b9f46e698b7d2703736a750",
       "version_major": 2,
       "version_minor": 0
      },
      "text/plain": [
       "  0%|          | 0/1025 [00:00<?, ?it/s]"
      ]
     },
     "metadata": {},
     "output_type": "display_data"
    },
    {
     "data": {
      "application/vnd.jupyter.widget-view+json": {
       "model_id": "dc97b4488fe34fd0851cadbcaa2054f8",
       "version_major": 2,
       "version_minor": 0
      },
      "text/plain": [
       "  0%|          | 0/1026 [00:00<?, ?it/s]"
      ]
     },
     "metadata": {},
     "output_type": "display_data"
    },
    {
     "data": {
      "application/vnd.jupyter.widget-view+json": {
       "model_id": "f5dab389702646ce91de8af2fa8081be",
       "version_major": 2,
       "version_minor": 0
      },
      "text/plain": [
       "  0%|          | 0/1027 [00:00<?, ?it/s]"
      ]
     },
     "metadata": {},
     "output_type": "display_data"
    },
    {
     "data": {
      "application/vnd.jupyter.widget-view+json": {
       "model_id": "140abf3144dc43afb64dd5527b6f008a",
       "version_major": 2,
       "version_minor": 0
      },
      "text/plain": [
       "  0%|          | 0/1028 [00:00<?, ?it/s]"
      ]
     },
     "metadata": {},
     "output_type": "display_data"
    },
    {
     "data": {
      "application/vnd.jupyter.widget-view+json": {
       "model_id": "2b7eec12139c42b5a1480fa65dfc0b61",
       "version_major": 2,
       "version_minor": 0
      },
      "text/plain": [
       "  0%|          | 0/1029 [00:00<?, ?it/s]"
      ]
     },
     "metadata": {},
     "output_type": "display_data"
    },
    {
     "data": {
      "application/vnd.jupyter.widget-view+json": {
       "model_id": "4ad5248896a04ea1869d59d2e86e57a0",
       "version_major": 2,
       "version_minor": 0
      },
      "text/plain": [
       "  0%|          | 0/1030 [00:00<?, ?it/s]"
      ]
     },
     "metadata": {},
     "output_type": "display_data"
    },
    {
     "data": {
      "application/vnd.jupyter.widget-view+json": {
       "model_id": "dd168dc4eef942ab99a284f03e44d58a",
       "version_major": 2,
       "version_minor": 0
      },
      "text/plain": [
       "  0%|          | 0/1031 [00:00<?, ?it/s]"
      ]
     },
     "metadata": {},
     "output_type": "display_data"
    },
    {
     "data": {
      "application/vnd.jupyter.widget-view+json": {
       "model_id": "ca0d1e29d75d4cc19562184c21c0ac58",
       "version_major": 2,
       "version_minor": 0
      },
      "text/plain": [
       "  0%|          | 0/1032 [00:00<?, ?it/s]"
      ]
     },
     "metadata": {},
     "output_type": "display_data"
    },
    {
     "data": {
      "application/vnd.jupyter.widget-view+json": {
       "model_id": "92d1e3f42c274d58853da6a8375aed1b",
       "version_major": 2,
       "version_minor": 0
      },
      "text/plain": [
       "  0%|          | 0/1033 [00:00<?, ?it/s]"
      ]
     },
     "metadata": {},
     "output_type": "display_data"
    },
    {
     "data": {
      "application/vnd.jupyter.widget-view+json": {
       "model_id": "4df6b58b4c5646318545f229d18f27b2",
       "version_major": 2,
       "version_minor": 0
      },
      "text/plain": [
       "  0%|          | 0/1034 [00:00<?, ?it/s]"
      ]
     },
     "metadata": {},
     "output_type": "display_data"
    },
    {
     "data": {
      "application/vnd.jupyter.widget-view+json": {
       "model_id": "77e7d3c9ae9242cabddcc00fad7afe52",
       "version_major": 2,
       "version_minor": 0
      },
      "text/plain": [
       "  0%|          | 0/1035 [00:00<?, ?it/s]"
      ]
     },
     "metadata": {},
     "output_type": "display_data"
    },
    {
     "data": {
      "application/vnd.jupyter.widget-view+json": {
       "model_id": "32964246ef2747e5980bf3f3ecaf83a4",
       "version_major": 2,
       "version_minor": 0
      },
      "text/plain": [
       "  0%|          | 0/1036 [00:00<?, ?it/s]"
      ]
     },
     "metadata": {},
     "output_type": "display_data"
    },
    {
     "data": {
      "application/vnd.jupyter.widget-view+json": {
       "model_id": "1925f6eb866d47cd927bba01f684c256",
       "version_major": 2,
       "version_minor": 0
      },
      "text/plain": [
       "  0%|          | 0/1037 [00:00<?, ?it/s]"
      ]
     },
     "metadata": {},
     "output_type": "display_data"
    },
    {
     "data": {
      "application/vnd.jupyter.widget-view+json": {
       "model_id": "7b23070f04704caea6ca51548191e8ef",
       "version_major": 2,
       "version_minor": 0
      },
      "text/plain": [
       "  0%|          | 0/1038 [00:00<?, ?it/s]"
      ]
     },
     "metadata": {},
     "output_type": "display_data"
    },
    {
     "data": {
      "application/vnd.jupyter.widget-view+json": {
       "model_id": "a32399f3dc0d4f2c9221c06a91f7891c",
       "version_major": 2,
       "version_minor": 0
      },
      "text/plain": [
       "  0%|          | 0/1039 [00:00<?, ?it/s]"
      ]
     },
     "metadata": {},
     "output_type": "display_data"
    },
    {
     "data": {
      "application/vnd.jupyter.widget-view+json": {
       "model_id": "0f9ddfd5d42747f2aca122410947aa56",
       "version_major": 2,
       "version_minor": 0
      },
      "text/plain": [
       "  0%|          | 0/1040 [00:00<?, ?it/s]"
      ]
     },
     "metadata": {},
     "output_type": "display_data"
    },
    {
     "data": {
      "application/vnd.jupyter.widget-view+json": {
       "model_id": "72d0ebfd2a104838a364e49852bbd7f8",
       "version_major": 2,
       "version_minor": 0
      },
      "text/plain": [
       "  0%|          | 0/1041 [00:00<?, ?it/s]"
      ]
     },
     "metadata": {},
     "output_type": "display_data"
    },
    {
     "data": {
      "application/vnd.jupyter.widget-view+json": {
       "model_id": "01a7787dec0c4e60a583679cd867ed97",
       "version_major": 2,
       "version_minor": 0
      },
      "text/plain": [
       "  0%|          | 0/1042 [00:00<?, ?it/s]"
      ]
     },
     "metadata": {},
     "output_type": "display_data"
    },
    {
     "data": {
      "application/vnd.jupyter.widget-view+json": {
       "model_id": "4a909f7e999a47dbb0d6de6ac44f141e",
       "version_major": 2,
       "version_minor": 0
      },
      "text/plain": [
       "  0%|          | 0/1043 [00:00<?, ?it/s]"
      ]
     },
     "metadata": {},
     "output_type": "display_data"
    },
    {
     "data": {
      "application/vnd.jupyter.widget-view+json": {
       "model_id": "dcf95c38b4864036a5ee42bdcf02c49a",
       "version_major": 2,
       "version_minor": 0
      },
      "text/plain": [
       "  0%|          | 0/1044 [00:00<?, ?it/s]"
      ]
     },
     "metadata": {},
     "output_type": "display_data"
    },
    {
     "data": {
      "application/vnd.jupyter.widget-view+json": {
       "model_id": "98d6ee2466ca442da5c1e4f2abc4a845",
       "version_major": 2,
       "version_minor": 0
      },
      "text/plain": [
       "  0%|          | 0/1045 [00:00<?, ?it/s]"
      ]
     },
     "metadata": {},
     "output_type": "display_data"
    },
    {
     "data": {
      "application/vnd.jupyter.widget-view+json": {
       "model_id": "f867ef80d1874ac791971c5d50ebe01c",
       "version_major": 2,
       "version_minor": 0
      },
      "text/plain": [
       "  0%|          | 0/1046 [00:00<?, ?it/s]"
      ]
     },
     "metadata": {},
     "output_type": "display_data"
    },
    {
     "data": {
      "application/vnd.jupyter.widget-view+json": {
       "model_id": "304c303f2851428c8be66b76c8aede5d",
       "version_major": 2,
       "version_minor": 0
      },
      "text/plain": [
       "  0%|          | 0/1047 [00:00<?, ?it/s]"
      ]
     },
     "metadata": {},
     "output_type": "display_data"
    },
    {
     "data": {
      "application/vnd.jupyter.widget-view+json": {
       "model_id": "9435941cdeac4b9785102b092f9e7f49",
       "version_major": 2,
       "version_minor": 0
      },
      "text/plain": [
       "  0%|          | 0/1048 [00:00<?, ?it/s]"
      ]
     },
     "metadata": {},
     "output_type": "display_data"
    },
    {
     "data": {
      "application/vnd.jupyter.widget-view+json": {
       "model_id": "3b7e68ae7ce84106936c25cf77dab00e",
       "version_major": 2,
       "version_minor": 0
      },
      "text/plain": [
       "  0%|          | 0/1049 [00:00<?, ?it/s]"
      ]
     },
     "metadata": {},
     "output_type": "display_data"
    },
    {
     "data": {
      "application/vnd.jupyter.widget-view+json": {
       "model_id": "9fb5099a8aec439ba49d221632ae94ec",
       "version_major": 2,
       "version_minor": 0
      },
      "text/plain": [
       "  0%|          | 0/1050 [00:00<?, ?it/s]"
      ]
     },
     "metadata": {},
     "output_type": "display_data"
    },
    {
     "data": {
      "application/vnd.jupyter.widget-view+json": {
       "model_id": "e14750580148447fbd4555665f5246b8",
       "version_major": 2,
       "version_minor": 0
      },
      "text/plain": [
       "  0%|          | 0/1051 [00:00<?, ?it/s]"
      ]
     },
     "metadata": {},
     "output_type": "display_data"
    },
    {
     "data": {
      "application/vnd.jupyter.widget-view+json": {
       "model_id": "da1f2adfcc3948e8a42a5dc53d6c7b1f",
       "version_major": 2,
       "version_minor": 0
      },
      "text/plain": [
       "  0%|          | 0/1052 [00:00<?, ?it/s]"
      ]
     },
     "metadata": {},
     "output_type": "display_data"
    },
    {
     "data": {
      "application/vnd.jupyter.widget-view+json": {
       "model_id": "76257a73a8f2479194442d1f73ce3569",
       "version_major": 2,
       "version_minor": 0
      },
      "text/plain": [
       "  0%|          | 0/1053 [00:00<?, ?it/s]"
      ]
     },
     "metadata": {},
     "output_type": "display_data"
    },
    {
     "data": {
      "application/vnd.jupyter.widget-view+json": {
       "model_id": "a7a545b581984d3fbfa1923120cee70a",
       "version_major": 2,
       "version_minor": 0
      },
      "text/plain": [
       "  0%|          | 0/1054 [00:00<?, ?it/s]"
      ]
     },
     "metadata": {},
     "output_type": "display_data"
    },
    {
     "data": {
      "application/vnd.jupyter.widget-view+json": {
       "model_id": "783c7caf36e74280a1e28ff0439b4f5b",
       "version_major": 2,
       "version_minor": 0
      },
      "text/plain": [
       "  0%|          | 0/1055 [00:00<?, ?it/s]"
      ]
     },
     "metadata": {},
     "output_type": "display_data"
    },
    {
     "data": {
      "application/vnd.jupyter.widget-view+json": {
       "model_id": "99f5cc42c0aa4fe89b3527e63fae5fa8",
       "version_major": 2,
       "version_minor": 0
      },
      "text/plain": [
       "  0%|          | 0/1056 [00:00<?, ?it/s]"
      ]
     },
     "metadata": {},
     "output_type": "display_data"
    },
    {
     "data": {
      "application/vnd.jupyter.widget-view+json": {
       "model_id": "e3699427d8934f028f4696e5a7d5d8cd",
       "version_major": 2,
       "version_minor": 0
      },
      "text/plain": [
       "  0%|          | 0/1057 [00:00<?, ?it/s]"
      ]
     },
     "metadata": {},
     "output_type": "display_data"
    },
    {
     "data": {
      "application/vnd.jupyter.widget-view+json": {
       "model_id": "70bbbba940904d0e8e068b6ff0b253d2",
       "version_major": 2,
       "version_minor": 0
      },
      "text/plain": [
       "  0%|          | 0/1058 [00:00<?, ?it/s]"
      ]
     },
     "metadata": {},
     "output_type": "display_data"
    },
    {
     "data": {
      "application/vnd.jupyter.widget-view+json": {
       "model_id": "c2615dfaf28047a28b682d5ef395df81",
       "version_major": 2,
       "version_minor": 0
      },
      "text/plain": [
       "  0%|          | 0/1059 [00:00<?, ?it/s]"
      ]
     },
     "metadata": {},
     "output_type": "display_data"
    },
    {
     "data": {
      "application/vnd.jupyter.widget-view+json": {
       "model_id": "730506aee81c446184acb9ba2044c52f",
       "version_major": 2,
       "version_minor": 0
      },
      "text/plain": [
       "  0%|          | 0/1060 [00:00<?, ?it/s]"
      ]
     },
     "metadata": {},
     "output_type": "display_data"
    },
    {
     "data": {
      "application/vnd.jupyter.widget-view+json": {
       "model_id": "104fc8cb585e41138016931fcbef6d48",
       "version_major": 2,
       "version_minor": 0
      },
      "text/plain": [
       "  0%|          | 0/1061 [00:00<?, ?it/s]"
      ]
     },
     "metadata": {},
     "output_type": "display_data"
    },
    {
     "data": {
      "application/vnd.jupyter.widget-view+json": {
       "model_id": "c2f9899910474a5db6abce823f7c7d1d",
       "version_major": 2,
       "version_minor": 0
      },
      "text/plain": [
       "  0%|          | 0/1062 [00:00<?, ?it/s]"
      ]
     },
     "metadata": {},
     "output_type": "display_data"
    },
    {
     "data": {
      "application/vnd.jupyter.widget-view+json": {
       "model_id": "150896d95bfa41b0aeef076048042ecc",
       "version_major": 2,
       "version_minor": 0
      },
      "text/plain": [
       "  0%|          | 0/1063 [00:00<?, ?it/s]"
      ]
     },
     "metadata": {},
     "output_type": "display_data"
    },
    {
     "data": {
      "application/vnd.jupyter.widget-view+json": {
       "model_id": "5c96975f772f43428eab8c0c400ca2a3",
       "version_major": 2,
       "version_minor": 0
      },
      "text/plain": [
       "  0%|          | 0/1064 [00:00<?, ?it/s]"
      ]
     },
     "metadata": {},
     "output_type": "display_data"
    },
    {
     "data": {
      "application/vnd.jupyter.widget-view+json": {
       "model_id": "ab46ed9b180843e19ddfac71ba1fbabf",
       "version_major": 2,
       "version_minor": 0
      },
      "text/plain": [
       "  0%|          | 0/1065 [00:00<?, ?it/s]"
      ]
     },
     "metadata": {},
     "output_type": "display_data"
    },
    {
     "data": {
      "application/vnd.jupyter.widget-view+json": {
       "model_id": "b2f249989ab14ad99610ec518d5639f3",
       "version_major": 2,
       "version_minor": 0
      },
      "text/plain": [
       "  0%|          | 0/1066 [00:00<?, ?it/s]"
      ]
     },
     "metadata": {},
     "output_type": "display_data"
    },
    {
     "data": {
      "application/vnd.jupyter.widget-view+json": {
       "model_id": "9df617ecff2f4ac3bde63e4a2d0fc824",
       "version_major": 2,
       "version_minor": 0
      },
      "text/plain": [
       "  0%|          | 0/1067 [00:00<?, ?it/s]"
      ]
     },
     "metadata": {},
     "output_type": "display_data"
    },
    {
     "data": {
      "application/vnd.jupyter.widget-view+json": {
       "model_id": "6d4e9c0515f14bb2bf597fd67fc10dab",
       "version_major": 2,
       "version_minor": 0
      },
      "text/plain": [
       "  0%|          | 0/1068 [00:00<?, ?it/s]"
      ]
     },
     "metadata": {},
     "output_type": "display_data"
    },
    {
     "data": {
      "application/vnd.jupyter.widget-view+json": {
       "model_id": "95253b3ca5ff432497397dc376712142",
       "version_major": 2,
       "version_minor": 0
      },
      "text/plain": [
       "  0%|          | 0/1069 [00:00<?, ?it/s]"
      ]
     },
     "metadata": {},
     "output_type": "display_data"
    },
    {
     "data": {
      "application/vnd.jupyter.widget-view+json": {
       "model_id": "8c2362fe2882464b8f762e9ebcaeb771",
       "version_major": 2,
       "version_minor": 0
      },
      "text/plain": [
       "  0%|          | 0/1070 [00:00<?, ?it/s]"
      ]
     },
     "metadata": {},
     "output_type": "display_data"
    },
    {
     "data": {
      "application/vnd.jupyter.widget-view+json": {
       "model_id": "c006353cdc36435dab04c3cde7482d7a",
       "version_major": 2,
       "version_minor": 0
      },
      "text/plain": [
       "  0%|          | 0/1071 [00:00<?, ?it/s]"
      ]
     },
     "metadata": {},
     "output_type": "display_data"
    },
    {
     "data": {
      "application/vnd.jupyter.widget-view+json": {
       "model_id": "4b27f2b49ffc4bd09d3fea659b15c1dd",
       "version_major": 2,
       "version_minor": 0
      },
      "text/plain": [
       "  0%|          | 0/1072 [00:00<?, ?it/s]"
      ]
     },
     "metadata": {},
     "output_type": "display_data"
    },
    {
     "data": {
      "application/vnd.jupyter.widget-view+json": {
       "model_id": "47311be226264ff680a2d47b8c0ec295",
       "version_major": 2,
       "version_minor": 0
      },
      "text/plain": [
       "  0%|          | 0/1073 [00:00<?, ?it/s]"
      ]
     },
     "metadata": {},
     "output_type": "display_data"
    },
    {
     "data": {
      "application/vnd.jupyter.widget-view+json": {
       "model_id": "bd1b08091035411b9586a894b41d9846",
       "version_major": 2,
       "version_minor": 0
      },
      "text/plain": [
       "  0%|          | 0/1074 [00:00<?, ?it/s]"
      ]
     },
     "metadata": {},
     "output_type": "display_data"
    },
    {
     "data": {
      "application/vnd.jupyter.widget-view+json": {
       "model_id": "a73820f536c54afeb37593850518e549",
       "version_major": 2,
       "version_minor": 0
      },
      "text/plain": [
       "  0%|          | 0/1075 [00:00<?, ?it/s]"
      ]
     },
     "metadata": {},
     "output_type": "display_data"
    },
    {
     "data": {
      "application/vnd.jupyter.widget-view+json": {
       "model_id": "e0c54c890a03464eb63fd4e13d40a8fe",
       "version_major": 2,
       "version_minor": 0
      },
      "text/plain": [
       "  0%|          | 0/1076 [00:00<?, ?it/s]"
      ]
     },
     "metadata": {},
     "output_type": "display_data"
    },
    {
     "data": {
      "application/vnd.jupyter.widget-view+json": {
       "model_id": "d08c84e357164b8b92617cc9e9eed66e",
       "version_major": 2,
       "version_minor": 0
      },
      "text/plain": [
       "  0%|          | 0/1077 [00:00<?, ?it/s]"
      ]
     },
     "metadata": {},
     "output_type": "display_data"
    },
    {
     "data": {
      "application/vnd.jupyter.widget-view+json": {
       "model_id": "3bbffd93caa94f779e5f5e41482251c3",
       "version_major": 2,
       "version_minor": 0
      },
      "text/plain": [
       "  0%|          | 0/1078 [00:00<?, ?it/s]"
      ]
     },
     "metadata": {},
     "output_type": "display_data"
    },
    {
     "data": {
      "application/vnd.jupyter.widget-view+json": {
       "model_id": "027f1525bdd0494f982b6eec2d69b15c",
       "version_major": 2,
       "version_minor": 0
      },
      "text/plain": [
       "  0%|          | 0/1079 [00:00<?, ?it/s]"
      ]
     },
     "metadata": {},
     "output_type": "display_data"
    },
    {
     "data": {
      "application/vnd.jupyter.widget-view+json": {
       "model_id": "0cda8c0f051e4fb9a16791dfa80d30de",
       "version_major": 2,
       "version_minor": 0
      },
      "text/plain": [
       "  0%|          | 0/1080 [00:00<?, ?it/s]"
      ]
     },
     "metadata": {},
     "output_type": "display_data"
    },
    {
     "data": {
      "application/vnd.jupyter.widget-view+json": {
       "model_id": "a350cceccdf84e739f90568bdeab9e41",
       "version_major": 2,
       "version_minor": 0
      },
      "text/plain": [
       "  0%|          | 0/1081 [00:00<?, ?it/s]"
      ]
     },
     "metadata": {},
     "output_type": "display_data"
    },
    {
     "data": {
      "application/vnd.jupyter.widget-view+json": {
       "model_id": "eef0f3783185417e814c2ac19f215593",
       "version_major": 2,
       "version_minor": 0
      },
      "text/plain": [
       "  0%|          | 0/1082 [00:00<?, ?it/s]"
      ]
     },
     "metadata": {},
     "output_type": "display_data"
    },
    {
     "data": {
      "application/vnd.jupyter.widget-view+json": {
       "model_id": "abc7f029c98a4fe99ec40c93fcf9c916",
       "version_major": 2,
       "version_minor": 0
      },
      "text/plain": [
       "  0%|          | 0/1083 [00:00<?, ?it/s]"
      ]
     },
     "metadata": {},
     "output_type": "display_data"
    },
    {
     "data": {
      "application/vnd.jupyter.widget-view+json": {
       "model_id": "d8e195fc19ee4a94bd5c91abbc292811",
       "version_major": 2,
       "version_minor": 0
      },
      "text/plain": [
       "  0%|          | 0/1084 [00:00<?, ?it/s]"
      ]
     },
     "metadata": {},
     "output_type": "display_data"
    },
    {
     "data": {
      "application/vnd.jupyter.widget-view+json": {
       "model_id": "9b76e603cc32457286dd1ccc7d202faf",
       "version_major": 2,
       "version_minor": 0
      },
      "text/plain": [
       "  0%|          | 0/1085 [00:00<?, ?it/s]"
      ]
     },
     "metadata": {},
     "output_type": "display_data"
    },
    {
     "data": {
      "application/vnd.jupyter.widget-view+json": {
       "model_id": "5229c83875484214a178f213ee52efe7",
       "version_major": 2,
       "version_minor": 0
      },
      "text/plain": [
       "  0%|          | 0/1086 [00:00<?, ?it/s]"
      ]
     },
     "metadata": {},
     "output_type": "display_data"
    },
    {
     "data": {
      "application/vnd.jupyter.widget-view+json": {
       "model_id": "92af0a214539426b9b42fa32ac1caae0",
       "version_major": 2,
       "version_minor": 0
      },
      "text/plain": [
       "  0%|          | 0/1087 [00:00<?, ?it/s]"
      ]
     },
     "metadata": {},
     "output_type": "display_data"
    },
    {
     "data": {
      "application/vnd.jupyter.widget-view+json": {
       "model_id": "92946eba8371409dbafe04a0ca98121a",
       "version_major": 2,
       "version_minor": 0
      },
      "text/plain": [
       "  0%|          | 0/1088 [00:00<?, ?it/s]"
      ]
     },
     "metadata": {},
     "output_type": "display_data"
    },
    {
     "data": {
      "application/vnd.jupyter.widget-view+json": {
       "model_id": "68b838aad560445480fc704386fef65c",
       "version_major": 2,
       "version_minor": 0
      },
      "text/plain": [
       "  0%|          | 0/1089 [00:00<?, ?it/s]"
      ]
     },
     "metadata": {},
     "output_type": "display_data"
    },
    {
     "data": {
      "application/vnd.jupyter.widget-view+json": {
       "model_id": "2b995dbb7ce34b458f122b08a49fbb63",
       "version_major": 2,
       "version_minor": 0
      },
      "text/plain": [
       "  0%|          | 0/1090 [00:00<?, ?it/s]"
      ]
     },
     "metadata": {},
     "output_type": "display_data"
    },
    {
     "data": {
      "application/vnd.jupyter.widget-view+json": {
       "model_id": "8bddb50db69e41a0baf928509bc10afc",
       "version_major": 2,
       "version_minor": 0
      },
      "text/plain": [
       "  0%|          | 0/1091 [00:00<?, ?it/s]"
      ]
     },
     "metadata": {},
     "output_type": "display_data"
    },
    {
     "data": {
      "application/vnd.jupyter.widget-view+json": {
       "model_id": "00c42eb79d0f420395e5e5f91ec3bd30",
       "version_major": 2,
       "version_minor": 0
      },
      "text/plain": [
       "  0%|          | 0/1092 [00:00<?, ?it/s]"
      ]
     },
     "metadata": {},
     "output_type": "display_data"
    },
    {
     "data": {
      "application/vnd.jupyter.widget-view+json": {
       "model_id": "66bde568474146f38850215f02fd69ca",
       "version_major": 2,
       "version_minor": 0
      },
      "text/plain": [
       "  0%|          | 0/1093 [00:00<?, ?it/s]"
      ]
     },
     "metadata": {},
     "output_type": "display_data"
    },
    {
     "data": {
      "application/vnd.jupyter.widget-view+json": {
       "model_id": "301292b9bd8b434387dc20d6a209bd67",
       "version_major": 2,
       "version_minor": 0
      },
      "text/plain": [
       "  0%|          | 0/1094 [00:00<?, ?it/s]"
      ]
     },
     "metadata": {},
     "output_type": "display_data"
    },
    {
     "data": {
      "application/vnd.jupyter.widget-view+json": {
       "model_id": "2dbc02f21f9b40a98cb03b147d1db081",
       "version_major": 2,
       "version_minor": 0
      },
      "text/plain": [
       "  0%|          | 0/1095 [00:00<?, ?it/s]"
      ]
     },
     "metadata": {},
     "output_type": "display_data"
    },
    {
     "data": {
      "application/vnd.jupyter.widget-view+json": {
       "model_id": "e6dc1b6ab99b4ba4b5720167ab64da89",
       "version_major": 2,
       "version_minor": 0
      },
      "text/plain": [
       "  0%|          | 0/1096 [00:00<?, ?it/s]"
      ]
     },
     "metadata": {},
     "output_type": "display_data"
    },
    {
     "data": {
      "application/vnd.jupyter.widget-view+json": {
       "model_id": "db11c2c200834499bc080a6a9add0789",
       "version_major": 2,
       "version_minor": 0
      },
      "text/plain": [
       "  0%|          | 0/1097 [00:00<?, ?it/s]"
      ]
     },
     "metadata": {},
     "output_type": "display_data"
    },
    {
     "data": {
      "application/vnd.jupyter.widget-view+json": {
       "model_id": "b8b3d8994e42490a876e0c4888c0a31b",
       "version_major": 2,
       "version_minor": 0
      },
      "text/plain": [
       "  0%|          | 0/1098 [00:00<?, ?it/s]"
      ]
     },
     "metadata": {},
     "output_type": "display_data"
    },
    {
     "data": {
      "application/vnd.jupyter.widget-view+json": {
       "model_id": "d3f165e29cd84500a063d1834055aaee",
       "version_major": 2,
       "version_minor": 0
      },
      "text/plain": [
       "  0%|          | 0/1099 [00:00<?, ?it/s]"
      ]
     },
     "metadata": {},
     "output_type": "display_data"
    },
    {
     "data": {
      "application/vnd.jupyter.widget-view+json": {
       "model_id": "2ffb0c4582a948838fe4a5245afc19dc",
       "version_major": 2,
       "version_minor": 0
      },
      "text/plain": [
       "  0%|          | 0/1100 [00:00<?, ?it/s]"
      ]
     },
     "metadata": {},
     "output_type": "display_data"
    },
    {
     "data": {
      "application/vnd.jupyter.widget-view+json": {
       "model_id": "fb5fc96b48c2477a853cf350c0a1d938",
       "version_major": 2,
       "version_minor": 0
      },
      "text/plain": [
       "  0%|          | 0/1101 [00:00<?, ?it/s]"
      ]
     },
     "metadata": {},
     "output_type": "display_data"
    },
    {
     "data": {
      "application/vnd.jupyter.widget-view+json": {
       "model_id": "a848610ba9d7490e9bf1231ad9a98c4a",
       "version_major": 2,
       "version_minor": 0
      },
      "text/plain": [
       "  0%|          | 0/1102 [00:00<?, ?it/s]"
      ]
     },
     "metadata": {},
     "output_type": "display_data"
    },
    {
     "data": {
      "application/vnd.jupyter.widget-view+json": {
       "model_id": "ac8fcf412a24498195a34ecf9fcad5d9",
       "version_major": 2,
       "version_minor": 0
      },
      "text/plain": [
       "  0%|          | 0/1103 [00:00<?, ?it/s]"
      ]
     },
     "metadata": {},
     "output_type": "display_data"
    },
    {
     "data": {
      "application/vnd.jupyter.widget-view+json": {
       "model_id": "0463f72f5f14420bbd45cc84b1a69edf",
       "version_major": 2,
       "version_minor": 0
      },
      "text/plain": [
       "  0%|          | 0/1104 [00:00<?, ?it/s]"
      ]
     },
     "metadata": {},
     "output_type": "display_data"
    },
    {
     "data": {
      "application/vnd.jupyter.widget-view+json": {
       "model_id": "c51204d6dd7344509adab7fbead33279",
       "version_major": 2,
       "version_minor": 0
      },
      "text/plain": [
       "  0%|          | 0/1105 [00:00<?, ?it/s]"
      ]
     },
     "metadata": {},
     "output_type": "display_data"
    },
    {
     "data": {
      "application/vnd.jupyter.widget-view+json": {
       "model_id": "1c7d4fc978344a96a44d29162c89ad6c",
       "version_major": 2,
       "version_minor": 0
      },
      "text/plain": [
       "  0%|          | 0/1106 [00:00<?, ?it/s]"
      ]
     },
     "metadata": {},
     "output_type": "display_data"
    },
    {
     "data": {
      "application/vnd.jupyter.widget-view+json": {
       "model_id": "79995cfbe4ee4fc6a39f484879f0a233",
       "version_major": 2,
       "version_minor": 0
      },
      "text/plain": [
       "  0%|          | 0/1107 [00:00<?, ?it/s]"
      ]
     },
     "metadata": {},
     "output_type": "display_data"
    },
    {
     "data": {
      "application/vnd.jupyter.widget-view+json": {
       "model_id": "2a138abdf8fa42979ad2aa5ac001948c",
       "version_major": 2,
       "version_minor": 0
      },
      "text/plain": [
       "  0%|          | 0/1108 [00:00<?, ?it/s]"
      ]
     },
     "metadata": {},
     "output_type": "display_data"
    },
    {
     "data": {
      "application/vnd.jupyter.widget-view+json": {
       "model_id": "eaaf8055c8094fd78808b72a2181edb3",
       "version_major": 2,
       "version_minor": 0
      },
      "text/plain": [
       "  0%|          | 0/1109 [00:00<?, ?it/s]"
      ]
     },
     "metadata": {},
     "output_type": "display_data"
    },
    {
     "data": {
      "application/vnd.jupyter.widget-view+json": {
       "model_id": "b78e290511894ac5a4794c9581f60be4",
       "version_major": 2,
       "version_minor": 0
      },
      "text/plain": [
       "  0%|          | 0/1110 [00:00<?, ?it/s]"
      ]
     },
     "metadata": {},
     "output_type": "display_data"
    },
    {
     "data": {
      "application/vnd.jupyter.widget-view+json": {
       "model_id": "01470df22ffb4740af71ae7eb9eada23",
       "version_major": 2,
       "version_minor": 0
      },
      "text/plain": [
       "  0%|          | 0/1111 [00:00<?, ?it/s]"
      ]
     },
     "metadata": {},
     "output_type": "display_data"
    },
    {
     "data": {
      "application/vnd.jupyter.widget-view+json": {
       "model_id": "c56b3793d64c4e9e8d21f9156b0541ad",
       "version_major": 2,
       "version_minor": 0
      },
      "text/plain": [
       "  0%|          | 0/1112 [00:00<?, ?it/s]"
      ]
     },
     "metadata": {},
     "output_type": "display_data"
    },
    {
     "data": {
      "application/vnd.jupyter.widget-view+json": {
       "model_id": "17831c174dad4fd892e327927469b365",
       "version_major": 2,
       "version_minor": 0
      },
      "text/plain": [
       "  0%|          | 0/1113 [00:00<?, ?it/s]"
      ]
     },
     "metadata": {},
     "output_type": "display_data"
    },
    {
     "data": {
      "application/vnd.jupyter.widget-view+json": {
       "model_id": "54acfdab3ab34971abcc0e4d0365d203",
       "version_major": 2,
       "version_minor": 0
      },
      "text/plain": [
       "  0%|          | 0/1114 [00:00<?, ?it/s]"
      ]
     },
     "metadata": {},
     "output_type": "display_data"
    },
    {
     "data": {
      "application/vnd.jupyter.widget-view+json": {
       "model_id": "0c26c4da04a148dba822ce15c30e9d26",
       "version_major": 2,
       "version_minor": 0
      },
      "text/plain": [
       "  0%|          | 0/1115 [00:00<?, ?it/s]"
      ]
     },
     "metadata": {},
     "output_type": "display_data"
    },
    {
     "data": {
      "application/vnd.jupyter.widget-view+json": {
       "model_id": "e2ee9a1da0444e0ebebcd98f1fa30514",
       "version_major": 2,
       "version_minor": 0
      },
      "text/plain": [
       "  0%|          | 0/1116 [00:00<?, ?it/s]"
      ]
     },
     "metadata": {},
     "output_type": "display_data"
    },
    {
     "data": {
      "application/vnd.jupyter.widget-view+json": {
       "model_id": "8416dd373f684caf84faf1163bda0aee",
       "version_major": 2,
       "version_minor": 0
      },
      "text/plain": [
       "  0%|          | 0/1117 [00:00<?, ?it/s]"
      ]
     },
     "metadata": {},
     "output_type": "display_data"
    },
    {
     "data": {
      "application/vnd.jupyter.widget-view+json": {
       "model_id": "d5282df559d84fe3a07c25e9a93ea6dc",
       "version_major": 2,
       "version_minor": 0
      },
      "text/plain": [
       "  0%|          | 0/1118 [00:00<?, ?it/s]"
      ]
     },
     "metadata": {},
     "output_type": "display_data"
    },
    {
     "data": {
      "application/vnd.jupyter.widget-view+json": {
       "model_id": "6e0146796f0b4f3eb6fcbcbdf1f08253",
       "version_major": 2,
       "version_minor": 0
      },
      "text/plain": [
       "  0%|          | 0/1119 [00:00<?, ?it/s]"
      ]
     },
     "metadata": {},
     "output_type": "display_data"
    },
    {
     "data": {
      "application/vnd.jupyter.widget-view+json": {
       "model_id": "72b34eb6a1d24365bd146455d401afa8",
       "version_major": 2,
       "version_minor": 0
      },
      "text/plain": [
       "  0%|          | 0/1120 [00:00<?, ?it/s]"
      ]
     },
     "metadata": {},
     "output_type": "display_data"
    },
    {
     "data": {
      "application/vnd.jupyter.widget-view+json": {
       "model_id": "a0215f42a7874157a3302199fbebddf5",
       "version_major": 2,
       "version_minor": 0
      },
      "text/plain": [
       "  0%|          | 0/1121 [00:00<?, ?it/s]"
      ]
     },
     "metadata": {},
     "output_type": "display_data"
    },
    {
     "data": {
      "application/vnd.jupyter.widget-view+json": {
       "model_id": "0223f0dff68d45d69dc0d9fdbb28f97c",
       "version_major": 2,
       "version_minor": 0
      },
      "text/plain": [
       "  0%|          | 0/1122 [00:00<?, ?it/s]"
      ]
     },
     "metadata": {},
     "output_type": "display_data"
    },
    {
     "data": {
      "application/vnd.jupyter.widget-view+json": {
       "model_id": "e3682756a4884daeb1da698d12f332d8",
       "version_major": 2,
       "version_minor": 0
      },
      "text/plain": [
       "  0%|          | 0/1123 [00:00<?, ?it/s]"
      ]
     },
     "metadata": {},
     "output_type": "display_data"
    },
    {
     "data": {
      "application/vnd.jupyter.widget-view+json": {
       "model_id": "c96f65430558469cbd57f31e3eb6e900",
       "version_major": 2,
       "version_minor": 0
      },
      "text/plain": [
       "  0%|          | 0/1124 [00:00<?, ?it/s]"
      ]
     },
     "metadata": {},
     "output_type": "display_data"
    },
    {
     "data": {
      "application/vnd.jupyter.widget-view+json": {
       "model_id": "334e0c96fe5343e6b6191857d9bc9895",
       "version_major": 2,
       "version_minor": 0
      },
      "text/plain": [
       "  0%|          | 0/1125 [00:00<?, ?it/s]"
      ]
     },
     "metadata": {},
     "output_type": "display_data"
    },
    {
     "data": {
      "application/vnd.jupyter.widget-view+json": {
       "model_id": "7a143074f3e9430a9138064e2af39a6a",
       "version_major": 2,
       "version_minor": 0
      },
      "text/plain": [
       "  0%|          | 0/1126 [00:00<?, ?it/s]"
      ]
     },
     "metadata": {},
     "output_type": "display_data"
    },
    {
     "data": {
      "application/vnd.jupyter.widget-view+json": {
       "model_id": "aa064972d5214d839a79b976fdb3eb8a",
       "version_major": 2,
       "version_minor": 0
      },
      "text/plain": [
       "  0%|          | 0/1127 [00:00<?, ?it/s]"
      ]
     },
     "metadata": {},
     "output_type": "display_data"
    },
    {
     "data": {
      "application/vnd.jupyter.widget-view+json": {
       "model_id": "b0eb1b84af484d19b1cba88131d24896",
       "version_major": 2,
       "version_minor": 0
      },
      "text/plain": [
       "  0%|          | 0/1128 [00:00<?, ?it/s]"
      ]
     },
     "metadata": {},
     "output_type": "display_data"
    },
    {
     "data": {
      "application/vnd.jupyter.widget-view+json": {
       "model_id": "239b9b62f4a8469ca14a4d1e5c3060f2",
       "version_major": 2,
       "version_minor": 0
      },
      "text/plain": [
       "  0%|          | 0/1129 [00:00<?, ?it/s]"
      ]
     },
     "metadata": {},
     "output_type": "display_data"
    },
    {
     "data": {
      "application/vnd.jupyter.widget-view+json": {
       "model_id": "7457d612c9e14e80aad764fa86ec420e",
       "version_major": 2,
       "version_minor": 0
      },
      "text/plain": [
       "  0%|          | 0/1130 [00:00<?, ?it/s]"
      ]
     },
     "metadata": {},
     "output_type": "display_data"
    },
    {
     "data": {
      "application/vnd.jupyter.widget-view+json": {
       "model_id": "5fea27bec8314a87b7ff9666db3bae6e",
       "version_major": 2,
       "version_minor": 0
      },
      "text/plain": [
       "  0%|          | 0/1131 [00:00<?, ?it/s]"
      ]
     },
     "metadata": {},
     "output_type": "display_data"
    },
    {
     "data": {
      "application/vnd.jupyter.widget-view+json": {
       "model_id": "6f25eb8487e24fb58bdc7f68c265d0ec",
       "version_major": 2,
       "version_minor": 0
      },
      "text/plain": [
       "  0%|          | 0/1132 [00:00<?, ?it/s]"
      ]
     },
     "metadata": {},
     "output_type": "display_data"
    },
    {
     "data": {
      "application/vnd.jupyter.widget-view+json": {
       "model_id": "bd64bbad145e410dbacb9ae6271e3f91",
       "version_major": 2,
       "version_minor": 0
      },
      "text/plain": [
       "  0%|          | 0/1133 [00:00<?, ?it/s]"
      ]
     },
     "metadata": {},
     "output_type": "display_data"
    },
    {
     "data": {
      "application/vnd.jupyter.widget-view+json": {
       "model_id": "341c3cbd9bc84d4c8deb5c00e15182b0",
       "version_major": 2,
       "version_minor": 0
      },
      "text/plain": [
       "  0%|          | 0/1134 [00:00<?, ?it/s]"
      ]
     },
     "metadata": {},
     "output_type": "display_data"
    },
    {
     "data": {
      "application/vnd.jupyter.widget-view+json": {
       "model_id": "2bcb352b29ae442ba74a9f89035f348e",
       "version_major": 2,
       "version_minor": 0
      },
      "text/plain": [
       "  0%|          | 0/1135 [00:00<?, ?it/s]"
      ]
     },
     "metadata": {},
     "output_type": "display_data"
    },
    {
     "data": {
      "application/vnd.jupyter.widget-view+json": {
       "model_id": "58fa3234946542c5b7be613fb0a69f8f",
       "version_major": 2,
       "version_minor": 0
      },
      "text/plain": [
       "  0%|          | 0/1136 [00:00<?, ?it/s]"
      ]
     },
     "metadata": {},
     "output_type": "display_data"
    },
    {
     "data": {
      "application/vnd.jupyter.widget-view+json": {
       "model_id": "0f3af222d5374dfd9549fc8b71798f0c",
       "version_major": 2,
       "version_minor": 0
      },
      "text/plain": [
       "  0%|          | 0/1137 [00:00<?, ?it/s]"
      ]
     },
     "metadata": {},
     "output_type": "display_data"
    },
    {
     "ename": "KeyboardInterrupt",
     "evalue": "",
     "output_type": "error",
     "traceback": [
      "\u001b[0;31m---------------------------------------------------------------------------\u001b[0m",
      "\u001b[0;31mKeyboardInterrupt\u001b[0m                         Traceback (most recent call last)",
      "\u001b[1;32m/root/school/cs136/Project/CS136-Project/CFR.ipynb Cell 9\u001b[0m line \u001b[0;36m<cell line: 3>\u001b[0;34m()\u001b[0m\n\u001b[1;32m      <a href='vscode-notebook-cell://wsl%2Bubuntu/root/school/cs136/Project/CS136-Project/CFR.ipynb#X11sdnNjb2RlLXJlbW90ZQ%3D%3D?line=0'>1</a>\u001b[0m \u001b[39m#create very approximated win prob matrix\u001b[39;00m\n\u001b[0;32m----> <a href='vscode-notebook-cell://wsl%2Bubuntu/root/school/cs136/Project/CS136-Project/CFR.ipynb#X11sdnNjb2RlLXJlbW90ZQ%3D%3D?line=2'>3</a>\u001b[0m surplus_win_probs_1 \u001b[39m=\u001b[39m create_pf_win_prob_matrix(\u001b[39m1\u001b[39;49m)\n",
      "\u001b[1;32m/root/school/cs136/Project/CS136-Project/CFR.ipynb Cell 9\u001b[0m line \u001b[0;36mcreate_pf_win_prob_matrix\u001b[0;34m(iters)\u001b[0m\n\u001b[1;32m     <a href='vscode-notebook-cell://wsl%2Bubuntu/root/school/cs136/Project/CS136-Project/CFR.ipynb#X11sdnNjb2RlLXJlbW90ZQ%3D%3D?line=17'>18</a>\u001b[0m hand1 \u001b[39m=\u001b[39m num_to_hand[hand1_num]\n\u001b[1;32m     <a href='vscode-notebook-cell://wsl%2Bubuntu/root/school/cs136/Project/CS136-Project/CFR.ipynb#X11sdnNjb2RlLXJlbW90ZQ%3D%3D?line=18'>19</a>\u001b[0m hand2 \u001b[39m=\u001b[39m num_to_hand[hand2_num]\n\u001b[0;32m---> <a href='vscode-notebook-cell://wsl%2Bubuntu/root/school/cs136/Project/CS136-Project/CFR.ipynb#X11sdnNjb2RlLXJlbW90ZQ%3D%3D?line=20'>21</a>\u001b[0m surplus_win_prob_p1 \u001b[39m=\u001b[39m (\u001b[39m2\u001b[39m\u001b[39m*\u001b[39msimulate_hand_fight(hand1,hand2, iters, \u001b[39mTrue\u001b[39;49;00m)[\u001b[39m0\u001b[39m]\u001b[39m/\u001b[39miters\u001b[39m-\u001b[39m\u001b[39m1\u001b[39m)\n\u001b[1;32m     <a href='vscode-notebook-cell://wsl%2Bubuntu/root/school/cs136/Project/CS136-Project/CFR.ipynb#X11sdnNjb2RlLXJlbW90ZQ%3D%3D?line=21'>22</a>\u001b[0m surplus_win_probs[hand1_num,hand2_num] \u001b[39m=\u001b[39m surplus_win_prob_p1\n\u001b[1;32m     <a href='vscode-notebook-cell://wsl%2Bubuntu/root/school/cs136/Project/CS136-Project/CFR.ipynb#X11sdnNjb2RlLXJlbW90ZQ%3D%3D?line=22'>23</a>\u001b[0m surplus_win_probs[hand2_num,hand1_num] \u001b[39m=\u001b[39m \u001b[39m-\u001b[39msurplus_win_prob_p1\n",
      "\u001b[1;32m/root/school/cs136/Project/CS136-Project/CFR.ipynb Cell 9\u001b[0m line \u001b[0;36msimulate_hand_fight\u001b[0;34m(hand1, hand2, iterations, equity)\u001b[0m\n\u001b[1;32m      <a href='vscode-notebook-cell://wsl%2Bubuntu/root/school/cs136/Project/CS136-Project/CFR.ipynb#X11sdnNjb2RlLXJlbW90ZQ%3D%3D?line=8'>9</a>\u001b[0m \u001b[39mfor\u001b[39;00m trial \u001b[39min\u001b[39;00m \u001b[39mrange\u001b[39m(iterations):\n\u001b[1;32m     <a href='vscode-notebook-cell://wsl%2Bubuntu/root/school/cs136/Project/CS136-Project/CFR.ipynb#X11sdnNjb2RlLXJlbW90ZQ%3D%3D?line=10'>11</a>\u001b[0m     game_trial \u001b[39m=\u001b[39m start_game_with_hands(hand1, hand2)\n\u001b[0;32m---> <a href='vscode-notebook-cell://wsl%2Bubuntu/root/school/cs136/Project/CS136-Project/CFR.ipynb#X11sdnNjb2RlLXJlbW90ZQ%3D%3D?line=12'>13</a>\u001b[0m     results[game_trial\u001b[39m.\u001b[39;49mall_phases_calculate()] \u001b[39m+\u001b[39m\u001b[39m=\u001b[39m \u001b[39m1\u001b[39m\n\u001b[1;32m     <a href='vscode-notebook-cell://wsl%2Bubuntu/root/school/cs136/Project/CS136-Project/CFR.ipynb#X11sdnNjb2RlLXJlbW90ZQ%3D%3D?line=14'>15</a>\u001b[0m \u001b[39mif\u001b[39;00m equity\u001b[39m==\u001b[39m\u001b[39mTrue\u001b[39;00m:\n\u001b[1;32m     <a href='vscode-notebook-cell://wsl%2Bubuntu/root/school/cs136/Project/CS136-Project/CFR.ipynb#X11sdnNjb2RlLXJlbW90ZQ%3D%3D?line=16'>17</a>\u001b[0m     results \u001b[39m=\u001b[39m [results[\u001b[39m1\u001b[39m]\u001b[39m+\u001b[39mresults[\u001b[39m0\u001b[39m]\u001b[39m/\u001b[39m\u001b[39m2\u001b[39m, results[\u001b[39m2\u001b[39m]\u001b[39m+\u001b[39mresults[\u001b[39m0\u001b[39m]\u001b[39m/\u001b[39m\u001b[39m2\u001b[39m]\n",
      "\u001b[1;32m/root/school/cs136/Project/CS136-Project/CFR.ipynb Cell 9\u001b[0m line \u001b[0;36mboard_state.all_phases_calculate\u001b[0;34m(self)\u001b[0m\n\u001b[1;32m     <a href='vscode-notebook-cell://wsl%2Bubuntu/root/school/cs136/Project/CS136-Project/CFR.ipynb#X11sdnNjb2RlLXJlbW90ZQ%3D%3D?line=74'>75</a>\u001b[0m \u001b[39mself\u001b[39m\u001b[39m.\u001b[39mturn()\n\u001b[1;32m     <a href='vscode-notebook-cell://wsl%2Bubuntu/root/school/cs136/Project/CS136-Project/CFR.ipynb#X11sdnNjb2RlLXJlbW90ZQ%3D%3D?line=75'>76</a>\u001b[0m \u001b[39mself\u001b[39m\u001b[39m.\u001b[39mriver()\n\u001b[0;32m---> <a href='vscode-notebook-cell://wsl%2Bubuntu/root/school/cs136/Project/CS136-Project/CFR.ipynb#X11sdnNjb2RlLXJlbW90ZQ%3D%3D?line=77'>78</a>\u001b[0m \u001b[39mreturn\u001b[39;00m \u001b[39mself\u001b[39;49m\u001b[39m.\u001b[39;49mcalculate_winner()\n",
      "\u001b[1;32m/root/school/cs136/Project/CS136-Project/CFR.ipynb Cell 9\u001b[0m line \u001b[0;36mboard_state.calculate_winner\u001b[0;34m(self)\u001b[0m\n\u001b[1;32m     <a href='vscode-notebook-cell://wsl%2Bubuntu/root/school/cs136/Project/CS136-Project/CFR.ipynb#X11sdnNjb2RlLXJlbW90ZQ%3D%3D?line=54'>55</a>\u001b[0m \u001b[39melif\u001b[39;00m \u001b[39mself\u001b[39m\u001b[39m.\u001b[39mphase \u001b[39m==\u001b[39m \u001b[39m3\u001b[39m:\n\u001b[1;32m     <a href='vscode-notebook-cell://wsl%2Bubuntu/root/school/cs136/Project/CS136-Project/CFR.ipynb#X11sdnNjb2RlLXJlbW90ZQ%3D%3D?line=56'>57</a>\u001b[0m     hand1_strength \u001b[39m=\u001b[39m calc_seven_card_strength(\u001b[39mself\u001b[39m\u001b[39m.\u001b[39mboard,\u001b[39mself\u001b[39m\u001b[39m.\u001b[39mhand1)\n\u001b[0;32m---> <a href='vscode-notebook-cell://wsl%2Bubuntu/root/school/cs136/Project/CS136-Project/CFR.ipynb#X11sdnNjb2RlLXJlbW90ZQ%3D%3D?line=57'>58</a>\u001b[0m     hand2_strength \u001b[39m=\u001b[39m calc_seven_card_strength(\u001b[39mself\u001b[39;49m\u001b[39m.\u001b[39;49mboard,\u001b[39mself\u001b[39;49m\u001b[39m.\u001b[39;49mhand2)\n\u001b[1;32m     <a href='vscode-notebook-cell://wsl%2Bubuntu/root/school/cs136/Project/CS136-Project/CFR.ipynb#X11sdnNjb2RlLXJlbW90ZQ%3D%3D?line=59'>60</a>\u001b[0m     \u001b[39mif\u001b[39;00m hand1_strength \u001b[39m>\u001b[39m hand2_strength:\n\u001b[1;32m     <a href='vscode-notebook-cell://wsl%2Bubuntu/root/school/cs136/Project/CS136-Project/CFR.ipynb#X11sdnNjb2RlLXJlbW90ZQ%3D%3D?line=61'>62</a>\u001b[0m         \u001b[39mreturn\u001b[39;00m \u001b[39m1\u001b[39m\n",
      "\u001b[1;32m/root/school/cs136/Project/CS136-Project/CFR.ipynb Cell 9\u001b[0m line \u001b[0;36mcalc_seven_card_strength\u001b[0;34m(hand, board)\u001b[0m\n\u001b[1;32m    <a href='vscode-notebook-cell://wsl%2Bubuntu/root/school/cs136/Project/CS136-Project/CFR.ipynb#X11sdnNjb2RlLXJlbW90ZQ%3D%3D?line=183'>184</a>\u001b[0m all_scores \u001b[39m=\u001b[39m []\n\u001b[1;32m    <a href='vscode-notebook-cell://wsl%2Bubuntu/root/school/cs136/Project/CS136-Project/CFR.ipynb#X11sdnNjb2RlLXJlbW90ZQ%3D%3D?line=185'>186</a>\u001b[0m \u001b[39mfor\u001b[39;00m five_cards \u001b[39min\u001b[39;00m \u001b[39mlist\u001b[39m(itertools\u001b[39m.\u001b[39mcombinations([\u001b[39m*\u001b[39mhand, \u001b[39m*\u001b[39mboard],\u001b[39m5\u001b[39m)):\n\u001b[0;32m--> <a href='vscode-notebook-cell://wsl%2Bubuntu/root/school/cs136/Project/CS136-Project/CFR.ipynb#X11sdnNjb2RlLXJlbW90ZQ%3D%3D?line=187'>188</a>\u001b[0m     all_scores\u001b[39m.\u001b[39mappend(calc_five_card_strength(\u001b[39mlist\u001b[39;49m(five_cards)))\n\u001b[1;32m    <a href='vscode-notebook-cell://wsl%2Bubuntu/root/school/cs136/Project/CS136-Project/CFR.ipynb#X11sdnNjb2RlLXJlbW90ZQ%3D%3D?line=189'>190</a>\u001b[0m \u001b[39mreturn\u001b[39;00m \u001b[39mmax\u001b[39m(all_scores)\n",
      "\u001b[1;32m/root/school/cs136/Project/CS136-Project/CFR.ipynb Cell 9\u001b[0m line \u001b[0;36mcalc_five_card_strength\u001b[0;34m(five_cards)\u001b[0m\n\u001b[1;32m    <a href='vscode-notebook-cell://wsl%2Bubuntu/root/school/cs136/Project/CS136-Project/CFR.ipynb#X11sdnNjb2RlLXJlbW90ZQ%3D%3D?line=163'>164</a>\u001b[0m \u001b[39m#check for high card\u001b[39;00m\n\u001b[1;32m    <a href='vscode-notebook-cell://wsl%2Bubuntu/root/school/cs136/Project/CS136-Project/CFR.ipynb#X11sdnNjb2RlLXJlbW90ZQ%3D%3D?line=164'>165</a>\u001b[0m \u001b[39melse\u001b[39;00m:\n\u001b[1;32m    <a href='vscode-notebook-cell://wsl%2Bubuntu/root/school/cs136/Project/CS136-Project/CFR.ipynb#X11sdnNjb2RlLXJlbW90ZQ%3D%3D?line=166'>167</a>\u001b[0m     score \u001b[39m=\u001b[39m check_high_card(magnitude_num, numbers_to_values)\n\u001b[0;32m--> <a href='vscode-notebook-cell://wsl%2Bubuntu/root/school/cs136/Project/CS136-Project/CFR.ipynb#X11sdnNjb2RlLXJlbW90ZQ%3D%3D?line=168'>169</a>\u001b[0m straight \u001b[39m=\u001b[39m check_straight(magnitude_num, numbers_to_values)\n\u001b[1;32m    <a href='vscode-notebook-cell://wsl%2Bubuntu/root/school/cs136/Project/CS136-Project/CFR.ipynb#X11sdnNjb2RlLXJlbW90ZQ%3D%3D?line=169'>170</a>\u001b[0m flush \u001b[39m=\u001b[39m check_flush(suits, magnitude_num, numbers_to_values)\n\u001b[1;32m    <a href='vscode-notebook-cell://wsl%2Bubuntu/root/school/cs136/Project/CS136-Project/CFR.ipynb#X11sdnNjb2RlLXJlbW90ZQ%3D%3D?line=171'>172</a>\u001b[0m \u001b[39mif\u001b[39;00m (flush \u001b[39m>\u001b[39m \u001b[39m0\u001b[39m) \u001b[39m&\u001b[39m (straight \u001b[39m>\u001b[39m \u001b[39m0\u001b[39m):\n",
      "\u001b[1;32m/root/school/cs136/Project/CS136-Project/CFR.ipynb Cell 9\u001b[0m line \u001b[0;36mcheck_straight\u001b[0;34m(magnitude_num, numbers_to_values)\u001b[0m\n\u001b[1;32m     <a href='vscode-notebook-cell://wsl%2Bubuntu/root/school/cs136/Project/CS136-Project/CFR.ipynb#X11sdnNjb2RlLXJlbW90ZQ%3D%3D?line=71'>72</a>\u001b[0m \u001b[39mdef\u001b[39;00m \u001b[39mcheck_straight\u001b[39m(magnitude_num, numbers_to_values):\n\u001b[1;32m     <a href='vscode-notebook-cell://wsl%2Bubuntu/root/school/cs136/Project/CS136-Project/CFR.ipynb#X11sdnNjb2RlLXJlbW90ZQ%3D%3D?line=73'>74</a>\u001b[0m     score \u001b[39m=\u001b[39m \u001b[39m0\u001b[39m\n\u001b[0;32m---> <a href='vscode-notebook-cell://wsl%2Bubuntu/root/school/cs136/Project/CS136-Project/CFR.ipynb#X11sdnNjb2RlLXJlbW90ZQ%3D%3D?line=75'>76</a>\u001b[0m     \u001b[39mif\u001b[39;00m (\u001b[39mlen\u001b[39m(np\u001b[39m.\u001b[39;49munique(magnitude_num))\u001b[39m==\u001b[39m\u001b[39m5\u001b[39m) \u001b[39m&\u001b[39m (\u001b[39mmax\u001b[39m(magnitude_num)\u001b[39m-\u001b[39m\u001b[39mmin\u001b[39m(magnitude_num) \u001b[39m==\u001b[39m \u001b[39m4\u001b[39m):\n\u001b[1;32m     <a href='vscode-notebook-cell://wsl%2Bubuntu/root/school/cs136/Project/CS136-Project/CFR.ipynb#X11sdnNjb2RlLXJlbW90ZQ%3D%3D?line=77'>78</a>\u001b[0m         score \u001b[39m=\u001b[39m \u001b[39m4\u001b[39m\n\u001b[1;32m     <a href='vscode-notebook-cell://wsl%2Bubuntu/root/school/cs136/Project/CS136-Project/CFR.ipynb#X11sdnNjb2RlLXJlbW90ZQ%3D%3D?line=79'>80</a>\u001b[0m         score \u001b[39m+\u001b[39m\u001b[39m=\u001b[39m numbers_to_values[\u001b[39mmax\u001b[39m(magnitude_num)]\n",
      "File \u001b[0;32m<__array_function__ internals>:180\u001b[0m, in \u001b[0;36munique\u001b[0;34m(*args, **kwargs)\u001b[0m\n",
      "File \u001b[0;32m/usr/local/lib/python3.8/dist-packages/numpy/lib/arraysetops.py:272\u001b[0m, in \u001b[0;36munique\u001b[0;34m(ar, return_index, return_inverse, return_counts, axis)\u001b[0m\n\u001b[1;32m    270\u001b[0m ar \u001b[39m=\u001b[39m np\u001b[39m.\u001b[39masanyarray(ar)\n\u001b[1;32m    271\u001b[0m \u001b[39mif\u001b[39;00m axis \u001b[39mis\u001b[39;00m \u001b[39mNone\u001b[39;00m:\n\u001b[0;32m--> 272\u001b[0m     ret \u001b[39m=\u001b[39m _unique1d(ar, return_index, return_inverse, return_counts)\n\u001b[1;32m    273\u001b[0m     \u001b[39mreturn\u001b[39;00m _unpack_tuple(ret)\n\u001b[1;32m    275\u001b[0m \u001b[39m# axis was specified and not None\u001b[39;00m\n",
      "File \u001b[0;32m/usr/local/lib/python3.8/dist-packages/numpy/lib/arraysetops.py:350\u001b[0m, in \u001b[0;36m_unique1d\u001b[0;34m(ar, return_index, return_inverse, return_counts)\u001b[0m\n\u001b[1;32m    347\u001b[0m \u001b[39melse\u001b[39;00m:\n\u001b[1;32m    348\u001b[0m     mask[\u001b[39m1\u001b[39m:] \u001b[39m=\u001b[39m aux[\u001b[39m1\u001b[39m:] \u001b[39m!=\u001b[39m aux[:\u001b[39m-\u001b[39m\u001b[39m1\u001b[39m]\n\u001b[0;32m--> 350\u001b[0m ret \u001b[39m=\u001b[39m (aux[mask],)\n\u001b[1;32m    351\u001b[0m \u001b[39mif\u001b[39;00m return_index:\n\u001b[1;32m    352\u001b[0m     ret \u001b[39m+\u001b[39m\u001b[39m=\u001b[39m (perm[mask],)\n",
      "\u001b[0;31mKeyboardInterrupt\u001b[0m: "
     ]
    }
   ],
   "source": [
    "#create very approximated win prob matrix\n",
    "\n",
    "surplus_win_probs_1 = create_pf_win_prob_matrix(1)\n"
   ]
  },
  {
   "cell_type": "code",
   "execution_count": 33,
   "id": "3b0c014f",
   "metadata": {},
   "outputs": [],
   "source": [
    "surplus_win_probs_10 = pd.read_csv('10_sim_hand_fight.csv', header=None).values"
   ]
  },
  {
   "cell_type": "code",
   "execution_count": 38,
   "id": "19d564c4",
   "metadata": {},
   "outputs": [
    {
     "data": {
      "application/vnd.jupyter.widget-view+json": {
       "model_id": "4d72c3d6ab624071bb1df5f8077d337e",
       "version_major": 2,
       "version_minor": 0
      },
      "text/plain": [
       "  0%|          | 0/100000 [00:00<?, ?it/s]"
      ]
     },
     "metadata": {},
     "output_type": "display_data"
    }
   ],
   "source": [
    "#find regrets per player\n",
    "\n",
    "[p1_resp, p2_resp] = hu_pf_sim_v2(surplus_win_probs_10,100000)"
   ]
  },
  {
   "cell_type": "code",
   "execution_count": 39,
   "id": "8ff0f397",
   "metadata": {},
   "outputs": [
    {
     "data": {
      "text/plain": [
       "[[array([  1.65137906, -10.06007777]), ['2s', '3s']],\n",
       " [array([ 1.58279302, -6.99519476]), ['2s', '4s']],\n",
       " [array([ 1.6022831 , -4.13408259]), ['2s', '5s']],\n",
       " [array([ 1.56744067, -1.99342099]), ['2s', '6s']],\n",
       " [array([  1.61211093, -12.61750936]), ['2s', '7s']],\n",
       " [array([  1.62562379, -13.91895768]), ['2s', '8s']],\n",
       " [array([  1.58887598, -12.8090361 ]), ['2s', '9s']],\n",
       " [array([ 1.60113855, -6.60799859]), ['2s', 'Ts']],\n",
       " [array([-1.37346613,  1.51613061]), ['2s', 'Js']],\n",
       " [array([0.76754285, 1.20741316]), ['2s', 'Qs']],\n",
       " [array([-25.693325 ,   1.6577578]), ['2s', 'Ks']],\n",
       " [array([-82.07698206,   1.93746806]), ['2s', 'As']],\n",
       " [array([-52.97726713,   1.65814038]), ['2s', '2h']],\n",
       " [array([  1.82426668, -38.36812642]), ['2s', '3h']],\n",
       " [array([  1.67953224, -40.87504597]), ['2s', '4h']],\n",
       " [array([  1.67229161, -28.72720789]), ['2s', '5h']],\n",
       " [array([  1.74794612, -35.65046691]), ['2s', '6h']],\n",
       " [array([  1.80557433, -32.93358083]), ['2s', '7h']],\n",
       " [array([  1.6844555 , -33.83705113]), ['2s', '8h']],\n",
       " [array([  1.69371195, -29.8865975 ]), ['2s', '9h']],\n",
       " [array([  1.6737884 , -29.07628324]), ['2s', 'Th']],\n",
       " [array([  1.65416557, -25.34260851]), ['2s', 'Jh']],\n",
       " [array([ 1.49163522, -7.61142111]), ['2s', 'Qh']],\n",
       " [array([-9.88112429,  1.51707236]), ['2s', 'Kh']],\n",
       " [array([-60.01299929,   1.8719531 ]), ['2s', 'Ah']],\n",
       " [array([-62.43463203,   1.72345078]), ['2s', '2d']],\n",
       " [array([  1.86802141, -45.55429779]), ['2s', '3d']],\n",
       " [array([  1.82064939, -29.87043274]), ['2s', '4d']],\n",
       " [array([  1.77384932, -24.85631378]), ['2s', '5d']],\n",
       " [array([  1.74675168, -35.86504551]), ['2s', '6d']],\n",
       " [array([  1.81770114, -39.33105322]), ['2s', '7d']],\n",
       " [array([  1.68884459, -32.47094444]), ['2s', '8d']],\n",
       " [array([  1.6905078 , -26.86363796]), ['2s', '9d']],\n",
       " [array([  1.60421371, -18.54692741]), ['2s', 'Td']],\n",
       " [array([  1.5921476 , -25.29767635]), ['2s', 'Jd']],\n",
       " [array([  1.54755531, -13.97900268]), ['2s', 'Qd']],\n",
       " [array([-11.77887025,   1.58748093]), ['2s', 'Kd']],\n",
       " [array([-58.21035464,   1.8545959 ]), ['2s', 'Ad']],\n",
       " [array([-80.87522092,   1.69712418]), ['2s', '2c']],\n",
       " [array([  1.85653695, -37.26878092]), ['2s', '3c']],\n",
       " [array([  1.80044852, -26.49737066]), ['2s', '4c']],\n",
       " [array([  1.74789563, -40.50691561]), ['2s', '5c']],\n",
       " [array([  1.69259506, -33.22918827]), ['2s', '6c']],\n",
       " [array([  1.71737735, -23.22573008]), ['2s', '7c']],\n",
       " [array([  1.66411021, -33.66456064]), ['2s', '8c']],\n",
       " [array([  1.68816586, -30.36299932]), ['2s', '9c']],\n",
       " [array([  1.66244424, -28.91111494]), ['2s', 'Tc']],\n",
       " [array([  1.59973099, -16.18318271]), ['2s', 'Jc']],\n",
       " [array([  1.67925441, -23.57022554]), ['2s', 'Qc']],\n",
       " [array([-11.93827365,   1.60617373]), ['2s', 'Kc']],\n",
       " [array([-60.48496977,   1.80112936]), ['2s', 'Ac']],\n",
       " [array([1.56584808, 0.27022535]), ['3s', '4s']],\n",
       " [array([0.66403984, 1.40965034]), ['3s', '5s']],\n",
       " [array([1.12075465, 1.0450367 ]), ['3s', '6s']],\n",
       " [array([ 1.58315259, -9.46447156]), ['3s', '7s']],\n",
       " [array([ 1.5436531 , -4.76243342]), ['3s', '8s']],\n",
       " [array([ 1.55194845, -3.68763517]), ['3s', '9s']],\n",
       " [array([ 1.54302233, -0.34590744]), ['3s', 'Ts']],\n",
       " [array([-3.91593915,  1.56799035]), ['3s', 'Js']],\n",
       " [array([-6.71811033,  1.68760865]), ['3s', 'Qs']],\n",
       " [array([-45.19082901,   1.8537906 ]), ['3s', 'Ks']],\n",
       " [array([-88.2734671 ,   1.93069754]), ['3s', 'As']],\n",
       " [array([  1.72084995, -31.88250597]), ['3s', '2h']],\n",
       " [array([-83.0150056 ,   1.85099578]), ['3s', '3h']],\n",
       " [array([  1.71756749, -25.26734239]), ['3s', '4h']],\n",
       " [array([  1.65510105, -21.67230638]), ['3s', '5h']],\n",
       " [array([  1.68252061, -24.91332172]), ['3s', '6h']],\n",
       " [array([  1.70107214, -29.20545911]), ['3s', '7h']],\n",
       " [array([  1.71174176, -35.3572261 ]), ['3s', '8h']],\n",
       " [array([  1.66195664, -29.63396918]), ['3s', '9h']],\n",
       " [array([  1.60403639, -26.37527446]), ['3s', 'Th']],\n",
       " [array([  1.59267453, -29.5488261 ]), ['3s', 'Jh']],\n",
       " [array([  1.55812054, -10.67105631]), ['3s', 'Qh']],\n",
       " [array([-8.50179555,  1.45563387]), ['3s', 'Kh']],\n",
       " [array([-51.55164912,   1.84017605]), ['3s', 'Ah']],\n",
       " [array([  1.84199941, -40.31383321]), ['3s', '2d']],\n",
       " [array([-68.71828849,   1.85215788]), ['3s', '3d']],\n",
       " [array([  1.7454564 , -24.55866832]), ['3s', '4d']],\n",
       " [array([  1.6642343 , -18.47717962]), ['3s', '5d']],\n",
       " [array([  1.68511051, -34.18902662]), ['3s', '6d']],\n",
       " [array([  1.67188693, -25.20491753]), ['3s', '7d']],\n",
       " [array([  1.68547522, -35.38180709]), ['3s', '8d']],\n",
       " [array([  1.63103918, -15.13195834]), ['3s', '9d']],\n",
       " [array([  1.64722232, -26.00180208]), ['3s', 'Td']],\n",
       " [array([  1.53157089, -16.1203267 ]), ['3s', 'Jd']],\n",
       " [array([ 1.74388452, -4.14881032]), ['3s', 'Qd']],\n",
       " [array([-11.81890368,   1.56609504]), ['3s', 'Kd']],\n",
       " [array([-53.41218531,   1.92059701]), ['3s', 'Ad']],\n",
       " [array([  1.70716598, -36.81574081]), ['3s', '2c']],\n",
       " [array([-73.39174048,   1.81311123]), ['3s', '3c']],\n",
       " [array([  1.67319346, -23.36687877]), ['3s', '4c']],\n",
       " [array([  1.64320295, -16.48625264]), ['3s', '5c']],\n",
       " [array([  1.68306888, -14.03886671]), ['3s', '6c']],\n",
       " [array([  1.66787583, -28.65847912]), ['3s', '7c']],\n",
       " [array([  1.6690176 , -23.48261994]), ['3s', '8c']],\n",
       " [array([  1.68351945, -37.45490946]), ['3s', '9c']],\n",
       " [array([  1.58089397, -20.35363202]), ['3s', 'Tc']],\n",
       " [array([  1.58081487, -23.01460013]), ['3s', 'Jc']],\n",
       " [array([ 1.68834928, -8.73647405]), ['3s', 'Qc']],\n",
       " [array([-5.68572104,  1.6119294 ]), ['3s', 'Kc']],\n",
       " [array([-74.10411219,   1.85468272]), ['3s', 'Ac']],\n",
       " [array([-10.31286763,   1.54127538]), ['4s', '5s']],\n",
       " [array([-1.48711307,  1.55681604]), ['4s', '6s']],\n",
       " [array([1.45776647, 0.44889217]), ['4s', '7s']],\n",
       " [array([ 1.52715545, -4.09791901]), ['4s', '8s']],\n",
       " [array([ 1.5098212 , -3.28966721]), ['4s', '9s']],\n",
       " [array([-0.21750268,  1.64021429]), ['4s', 'Ts']],\n",
       " [array([-6.02996523,  1.45069021]), ['4s', 'Js']],\n",
       " [array([-16.18450019,   1.66689398]), ['4s', 'Qs']],\n",
       " [array([-33.97583556,   1.90638161]), ['4s', 'Ks']],\n",
       " [array([-91.8628594 ,   1.94034385]), ['4s', 'As']],\n",
       " [array([  1.74752121, -37.633418  ]), ['4s', '2h']],\n",
       " [array([  1.66711136, -24.31702501]), ['4s', '3h']],\n",
       " [array([-100.07299688,    1.93448057]), ['4s', '4h']],\n",
       " [array([ 1.61190945, -9.92156517]), ['4s', '5h']],\n",
       " [array([ 1.63282928, -6.66735992]), ['4s', '6h']],\n",
       " [array([  1.59242115, -12.15987734]), ['4s', '7h']],\n",
       " [array([  1.66121852, -20.16783739]), ['4s', '8h']],\n",
       " [array([  1.67120516, -25.87243831]), ['4s', '9h']],\n",
       " [array([  1.60266572, -14.59500727]), ['4s', 'Th']],\n",
       " [array([  1.56271768, -15.18327733]), ['4s', 'Jh']],\n",
       " [array([ 1.63392129, -0.80072154]), ['4s', 'Qh']],\n",
       " [array([-23.48483535,   1.8418818 ]), ['4s', 'Kh']],\n",
       " [array([-58.55046695,   1.89903938]), ['4s', 'Ah']],\n",
       " [array([  1.80793769, -26.12324178]), ['4s', '2d']],\n",
       " [array([  1.74527684, -23.9815839 ]), ['4s', '3d']],\n",
       " [array([-88.50897749,   1.96232057]), ['4s', '4d']],\n",
       " [array([ 1.58234825, -7.7421722 ]), ['4s', '5d']],\n",
       " [array([  1.65850696, -14.4743418 ]), ['4s', '6d']],\n",
       " [array([  1.65166545, -14.78583479]), ['4s', '7d']],\n",
       " [array([  1.57031156, -11.40028671]), ['4s', '8d']],\n",
       " [array([  1.66392356, -29.50300409]), ['4s', '9d']],\n",
       " [array([  1.63295367, -19.63005544]), ['4s', 'Td']],\n",
       " [array([ 1.59287684, -6.61106795]), ['4s', 'Jd']],\n",
       " [array([ 1.53942748, -0.65509976]), ['4s', 'Qd']],\n",
       " [array([-16.5360788 ,   1.69901133]), ['4s', 'Kd']],\n",
       " [array([-74.39556824,   1.91530365]), ['4s', 'Ad']],\n",
       " [array([  1.66841493, -33.21728081]), ['4s', '2c']],\n",
       " [array([  1.70501262, -21.05534319]), ['4s', '3c']],\n",
       " [array([-91.61238821,   1.85857044]), ['4s', '4c']],\n",
       " [array([  1.64978364, -12.17798971]), ['4s', '5c']],\n",
       " [array([  1.65765634, -13.94211927]), ['4s', '6c']],\n",
       " [array([  1.61100677, -14.57277468]), ['4s', '7c']],\n",
       " [array([  1.65623992, -23.81450676]), ['4s', '8c']],\n",
       " [array([  1.60178064, -28.71512598]), ['4s', '9c']],\n",
       " [array([  1.6157936 , -26.94456495]), ['4s', 'Tc']],\n",
       " [array([  1.57362963, -11.90558681]), ['4s', 'Jc']],\n",
       " [array([  1.65623653, -13.94972497]), ['4s', 'Qc']],\n",
       " [array([-14.60762769,   1.66839701]), ['4s', 'Kc']],\n",
       " [array([-68.51496224,   1.89521099]), ['4s', 'Ac']],\n",
       " [array([-15.94235833,   1.53691377]), ['5s', '6s']],\n",
       " [array([-14.92284259,   1.48881009]), ['5s', '7s']],\n",
       " [array([-0.50871665,  1.53813722]), ['5s', '8s']],\n",
       " [array([-2.98483375,  1.47933148]), ['5s', '9s']],\n",
       " [array([-4.54667096,  1.46045123]), ['5s', 'Ts']],\n",
       " [array([-8.55549076,  1.46570054]), ['5s', 'Js']],\n",
       " [array([-15.06138286,   1.65040321]), ['5s', 'Qs']],\n",
       " [array([-33.69630593,   1.7074099 ]), ['5s', 'Ks']],\n",
       " [array([-89.67247991,   1.94580087]), ['5s', 'As']],\n",
       " [array([  1.78664657, -32.50058501]), ['5s', '2h']],\n",
       " [array([  1.69195984, -22.55403999]), ['5s', '3h']],\n",
       " [array([ 1.63281488, -6.87025341]), ['5s', '4h']],\n",
       " [array([-93.34901324,   1.95493897]), ['5s', '5h']],\n",
       " [array([ 1.57069335, -0.87264287]), ['5s', '6h']],\n",
       " [array([ 1.56329192, -5.81687929]), ['5s', '7h']],\n",
       " [array([  1.57379627, -10.89491667]), ['5s', '8h']],\n",
       " [array([  1.5926124 , -11.14862744]), ['5s', '9h']],\n",
       " [array([  1.60507142, -22.1487778 ]), ['5s', 'Th']],\n",
       " [array([  1.63300335, -20.62966455]), ['5s', 'Jh']],\n",
       " [array([ 1.47923818, -0.02355509]), ['5s', 'Qh']],\n",
       " [array([-24.69176979,   1.83849568]), ['5s', 'Kh']],\n",
       " [array([-66.69362846,   1.90528824]), ['5s', 'Ah']],\n",
       " [array([  1.68644521, -26.97129026]), ['5s', '2d']],\n",
       " [array([  1.65610916, -18.01125955]), ['5s', '3d']],\n",
       " [array([ 1.59831913, -6.0068146 ]), ['5s', '4d']],\n",
       " [array([-114.77460753,    1.99453265]), ['5s', '5d']],\n",
       " [array([ 1.53875119, -1.63178254]), ['5s', '6d']],\n",
       " [array([  1.59039351, -11.42611858]), ['5s', '7d']],\n",
       " [array([  1.58123044, -14.93585726]), ['5s', '8d']],\n",
       " [array([  1.57407756, -16.69450371]), ['5s', '9d']],\n",
       " [array([  1.60699387, -15.97311448]), ['5s', 'Td']],\n",
       " [array([ 1.61268314, -8.10615945]), ['5s', 'Jd']],\n",
       " [array([ 1.63527313, -8.04651893]), ['5s', 'Qd']],\n",
       " [array([-14.34718089,   1.54987093]), ['5s', 'Kd']],\n",
       " [array([-79.56605923,   1.95650218]), ['5s', 'Ad']],\n",
       " [array([  1.75104423, -24.65435013]), ['5s', '2c']],\n",
       " [array([  1.67002282, -23.52907654]), ['5s', '3c']],\n",
       " [array([ 1.61262765, -7.12929911]), ['5s', '4c']],\n",
       " [array([-97.87108008,   1.99912802]), ['5s', '5c']],\n",
       " [array([ 1.5739106 , -4.18443203]), ['5s', '6c']],\n",
       " [array([ 1.57688453, -6.71411362]), ['5s', '7c']],\n",
       " [array([  1.57379154, -16.2524156 ]), ['5s', '8c']],\n",
       " [array([  1.59425604, -14.67750571]), ['5s', '9c']],\n",
       " [array([  1.60579463, -16.34228436]), ['5s', 'Tc']],\n",
       " [array([ 1.59691902, -7.53653104]), ['5s', 'Jc']],\n",
       " [array([1.58693524, 0.59502225]), ['5s', 'Qc']],\n",
       " [array([-15.6869357,   1.6161384]), ['5s', 'Kc']],\n",
       " [array([-72.82169964,   1.96000819]), ['5s', 'Ac']],\n",
       " [array([-19.55615239,   1.48036933]), ['6s', '7s']],\n",
       " [array([-13.44799759,   1.49222601]), ['6s', '8s']],\n",
       " [array([-17.69799923,   1.46812767]), ['6s', '9s']],\n",
       " [array([-7.8814118 ,  1.50699569]), ['6s', 'Ts']],\n",
       " [array([-3.85516319,  1.44802044]), ['6s', 'Js']],\n",
       " [array([-22.79971205,   1.60300435]), ['6s', 'Qs']],\n",
       " [array([-47.99903181,   1.92841324]), ['6s', 'Ks']],\n",
       " [array([-75.13188042,   1.98730109]), ['6s', 'As']],\n",
       " [array([  1.67263285, -35.87521356]), ['6s', '2h']],\n",
       " [array([  1.66260838, -23.44337931]), ['6s', '3h']],\n",
       " [array([  1.63618609, -21.76207754]), ['6s', '4h']],\n",
       " [array([  1.6163427 , -10.48163938]), ['6s', '5h']],\n",
       " [array([-102.13645133,    2.01359073]), ['6s', '6h']],\n",
       " [array([ 1.56140284, -0.33778185]), ['6s', '7h']],\n",
       " [array([ 1.55294461, -1.91164702]), ['6s', '8h']],\n",
       " [array([ 1.56210091, -8.54190782]), ['6s', '9h']],\n",
       " [array([ 1.50606669, -7.05953513]), ['6s', 'Th']],\n",
       " [array([  1.55922   , -14.74082741]), ['6s', 'Jh']],\n",
       " [array([1.20253572, 1.06367098]), ['6s', 'Qh']],\n",
       " [array([-29.39591963,   1.81635154]), ['6s', 'Kh']],\n",
       " [array([-64.57984084,   1.95236961]), ['6s', 'Ah']],\n",
       " [array([  1.77968649, -18.69976022]), ['6s', '2d']],\n",
       " [array([  1.65694125, -23.22278908]), ['6s', '3d']],\n",
       " [array([ 1.59801989, -5.92883359]), ['6s', '4d']],\n",
       " [array([ 1.55308397, -3.49591837]), ['6s', '5d']],\n",
       " [array([-78.39776166,   1.98888302]), ['6s', '6d']],\n",
       " [array([ 1.5607182 , -5.71837967]), ['6s', '7d']],\n",
       " [array([1.22768047, 0.88289342]), ['6s', '8d']],\n",
       " [array([ 1.61394263, -2.27631069]), ['6s', '9d']],\n",
       " [array([ 1.56764121, -9.90782148]), ['6s', 'Td']],\n",
       " [array([ 1.51693493, -6.22165594]), ['6s', 'Jd']],\n",
       " [array([-1.79587847,  1.51366256]), ['6s', 'Qd']],\n",
       " [array([-28.46908513,   1.83448644]), ['6s', 'Kd']],\n",
       " [array([-69.30166715,   1.81009383]), ['6s', 'Ad']],\n",
       " [array([  1.65988574, -39.35105176]), ['6s', '2c']],\n",
       " [array([  1.73034134, -26.86310505]), ['6s', '3c']],\n",
       " [array([  1.63747525, -17.01210467]), ['6s', '4c']],\n",
       " [array([ 1.58576171, -3.49483253]), ['6s', '5c']],\n",
       " [array([-109.51763598,    2.10045455]), ['6s', '6c']],\n",
       " [array([0.60540343, 1.46126661]), ['6s', '7c']],\n",
       " [array([-0.671195  ,  1.50599551]), ['6s', '8c']],\n",
       " [array([ 1.53726943, -3.76351731]), ['6s', '9c']],\n",
       " [array([ 1.49216053, -1.41506978]), ['6s', 'Tc']],\n",
       " [array([  1.53228186, -17.22119083]), ['6s', 'Jc']],\n",
       " [array([-1.36148619,  1.53742501]), ['6s', 'Qc']],\n",
       " [array([-41.99962057,   1.79944208]), ['6s', 'Kc']],\n",
       " [array([-66.47807581,   1.94314173]), ['6s', 'Ac']],\n",
       " [array([-39.52201737,   1.58177453]), ['7s', '8s']],\n",
       " [array([-17.75217629,   1.55433532]), ['7s', '9s']],\n",
       " [array([-27.10574278,   1.56833175]), ['7s', 'Ts']],\n",
       " [array([-20.29879132,   1.69228846]), ['7s', 'Js']],\n",
       " [array([-24.9180552 ,   1.77179032]), ['7s', 'Qs']],\n",
       " [array([-48.67717024,   1.73083907]), ['7s', 'Ks']],\n",
       " [array([-108.2431115 ,    1.99416033]), ['7s', 'As']],\n",
       " [array([  1.81962298, -38.33744992]), ['7s', '2h']],\n",
       " [array([  1.69453085, -23.08481909]), ['7s', '3h']],\n",
       " [array([  1.6640531 , -25.24945927]), ['7s', '4h']],\n",
       " [array([ 1.55992897, -7.52898005]), ['7s', '5h']],\n",
       " [array([-6.36251421,  1.52478718]), ['7s', '6h']],\n",
       " [array([-109.40947737,    2.31333626]), ['7s', '7h']],\n",
       " [array([-11.06423142,   1.49404862]), ['7s', '8h']],\n",
       " [array([0.16156843, 1.55568464]), ['7s', '9h']],\n",
       " [array([-3.10984585,  1.55416862]), ['7s', 'Th']],\n",
       " [array([ 1.46302399, -0.27624111]), ['7s', 'Jh']],\n",
       " [array([-0.26771692,  1.57514261]), ['7s', 'Qh']],\n",
       " [array([-28.75637852,   1.75415599]), ['7s', 'Kh']],\n",
       " [array([-65.90056244,   1.96614138]), ['7s', 'Ah']],\n",
       " [array([  1.80591651, -38.4622005 ]), ['7s', '2d']],\n",
       " [array([  1.67114269, -28.35240951]), ['7s', '3d']],\n",
       " [array([  1.6325203 , -15.40701203]), ['7s', '4d']],\n",
       " [array([ 1.62232197, -8.05899328]), ['7s', '5d']],\n",
       " [array([0.78142243, 1.35071675]), ['7s', '6d']],\n",
       " [array([-108.89689034,    2.28361889]), ['7s', '7d']],\n",
       " [array([-0.94463032,  1.52733835]), ['7s', '8d']],\n",
       " [array([ 1.52014783, -2.47051778]), ['7s', '9d']],\n",
       " [array([-2.36773264,  1.5367816 ]), ['7s', 'Td']],\n",
       " [array([-2.82664984,  1.54130631]), ['7s', 'Jd']],\n",
       " [array([1.27369803, 0.86415284]), ['7s', 'Qd']],\n",
       " [array([-48.75795552,   1.92056352]), ['7s', 'Kd']],\n",
       " [array([-79.47533898,   1.9957118 ]), ['7s', 'Ad']],\n",
       " [array([  1.73717742, -32.54139125]), ['7s', '2c']],\n",
       " [array([  1.70241346, -19.82531602]), ['7s', '3c']],\n",
       " [array([  1.62650907, -14.84486983]), ['7s', '4c']],\n",
       " [array([  1.59666114, -10.86580015]), ['7s', '5c']],\n",
       " [array([1.42195644, 0.63619524]), ['7s', '6c']],\n",
       " [array([-103.25294832,    2.2558009 ]), ['7s', '7c']],\n",
       " [array([-5.50438707,  1.48283217]), ['7s', '8c']],\n",
       " [array([1.33943947, 0.78569274]), ['7s', '9c']],\n",
       " [array([1.5692193 , 0.12208587]), ['7s', 'Tc']],\n",
       " [array([ 1.52218264, -0.81159991]), ['7s', 'Jc']],\n",
       " [array([-1.0613859 ,  1.73699688]), ['7s', 'Qc']],\n",
       " [array([-48.05716655,   1.85278802]), ['7s', 'Kc']],\n",
       " [array([-73.69718211,   1.92884157]), ['7s', 'Ac']],\n",
       " [array([-23.17356719,   1.49951146]), ['8s', '9s']],\n",
       " [array([-31.53452971,   1.50814838]), ['8s', 'Ts']],\n",
       " [array([-17.25323902,   1.86767171]), ['8s', 'Js']],\n",
       " [array([-28.42625383,   1.64550738]), ['8s', 'Qs']],\n",
       " [array([-68.42616709,   1.98022619]), ['8s', 'Ks']],\n",
       " [array([-104.51892435,    1.99471316]), ['8s', 'As']],\n",
       " [array([  1.75798282, -41.05105434]), ['8s', '2h']],\n",
       " [array([  1.73900063, -26.81119298]), ['8s', '3h']],\n",
       " [array([  1.63911098, -28.2835201 ]), ['8s', '4h']],\n",
       " [array([ 1.56356377, -5.69443531]), ['8s', '5h']],\n",
       " [array([1.53610241, 0.16839088]), ['8s', '6h']],\n",
       " [array([-9.59196988,  1.5535648 ]), ['8s', '7h']],\n",
       " [array([-133.66330301,    2.3839266 ]), ['8s', '8h']],\n",
       " [array([-15.19342163,   1.5902797 ]), ['8s', '9h']],\n",
       " [array([-2.58132936,  1.4761172 ]), ['8s', 'Th']],\n",
       " [array([-6.28377745,  1.5519256 ]), ['8s', 'Jh']],\n",
       " [array([-5.45980555,  1.67530235]), ['8s', 'Qh']],\n",
       " [array([-51.01143058,   1.9242718 ]), ['8s', 'Kh']],\n",
       " [array([-103.69646048,    1.99921917]), ['8s', 'Ah']],\n",
       " [array([  1.67123146, -35.83754473]), ['8s', '2d']],\n",
       " [array([  1.64491391, -33.60944219]), ['8s', '3d']],\n",
       " [array([  1.62048904, -16.78532181]), ['8s', '4d']],\n",
       " [array([ 1.5861584 , -6.69215869]), ['8s', '5d']],\n",
       " [array([ 1.54137911, -6.14540544]), ['8s', '6d']],\n",
       " [array([-3.42028314,  1.53161585]), ['8s', '7d']],\n",
       " [array([-124.00290306,    2.02038311]), ['8s', '8d']],\n",
       " [array([-7.77665254,  1.46416769]), ['8s', '9d']],\n",
       " [array([ 1.49765134, -0.52505728]), ['8s', 'Td']],\n",
       " [array([-8.13008619,  1.57338303]), ['8s', 'Jd']],\n",
       " [array([-6.40183854,  1.63063268]), ['8s', 'Qd']],\n",
       " [array([-33.35142936,   1.85554623]), ['8s', 'Kd']],\n",
       " [array([-130.8706299 ,    1.99948746]), ['8s', 'Ad']],\n",
       " [array([  1.75120723, -37.25166329]), ['8s', '2c']],\n",
       " [array([  1.67966459, -40.49214689]), ['8s', '3c']],\n",
       " [array([  1.67364298, -30.19511567]), ['8s', '4c']],\n",
       " [array([  1.61126759, -11.47566758]), ['8s', '5c']],\n",
       " [array([ 1.55349949, -1.37188397]), ['8s', '6c']],\n",
       " [array([-5.98493211,  1.52614964]), ['8s', '7c']],\n",
       " [array([-126.88906622,    2.37897568]), ['8s', '8c']],\n",
       " [array([-5.77411358,  1.51826506]), ['8s', '9c']],\n",
       " [array([-1.351382  ,  1.56866475]), ['8s', 'Tc']],\n",
       " [array([-4.09558947,  1.61336829]), ['8s', 'Jc']],\n",
       " [array([-5.49820483,  1.52902592]), ['8s', 'Qc']],\n",
       " [array([-46.88516732,   1.90723745]), ['8s', 'Kc']],\n",
       " [array([-97.21530724,   1.99182616]), ['8s', 'Ac']],\n",
       " [array([-30.10882037,   1.56014867]), ['9s', 'Ts']],\n",
       " [array([-35.08627836,   1.82203794]), ['9s', 'Js']],\n",
       " [array([-45.15932269,   1.63140754]), ['9s', 'Qs']],\n",
       " [array([-62.30984559,   1.90009409]), ['9s', 'Ks']],\n",
       " [array([-112.99013071,    1.99729724]), ['9s', 'As']],\n",
       " [array([  1.66835938, -37.25643885]), ['9s', '2h']],\n",
       " [array([  1.66671407, -26.17005322]), ['9s', '3h']],\n",
       " [array([  1.60762625, -26.24329611]), ['9s', '4h']],\n",
       " [array([ 1.54862649, -6.33667684]), ['9s', '5h']],\n",
       " [array([ 1.53193266, -4.62152996]), ['9s', '6h']],\n",
       " [array([ 1.5381483 , -1.78559608]), ['9s', '7h']],\n",
       " [array([-10.78463832,   1.51824912]), ['9s', '8h']],\n",
       " [array([-156.03428106,    2.57732464]), ['9s', '9h']],\n",
       " [array([-17.20718386,   1.71115886]), ['9s', 'Th']],\n",
       " [array([-14.83460383,   1.85310164]), ['9s', 'Jh']],\n",
       " [array([-42.16559179,   1.85967478]), ['9s', 'Qh']],\n",
       " [array([-62.1981807,   1.8944282]), ['9s', 'Kh']],\n",
       " [array([-99.57507638,   1.98099211]), ['9s', 'Ah']],\n",
       " [array([  1.63267581, -36.37367948]), ['9s', '2d']],\n",
       " [array([  1.65156004, -27.51080147]), ['9s', '3d']],\n",
       " [array([  1.63567257, -21.07690142]), ['9s', '4d']],\n",
       " [array([  1.62656243, -19.37280944]), ['9s', '5d']],\n",
       " [array([ 1.56389455, -6.49948828]), ['9s', '6d']],\n",
       " [array([ 1.59686063, -5.3274469 ]), ['9s', '7d']],\n",
       " [array([-5.99755545,  1.47391927]), ['9s', '8d']],\n",
       " [array([-152.80740281,    2.54222707]), ['9s', '9d']],\n",
       " [array([-16.86672156,   1.559737  ]), ['9s', 'Td']],\n",
       " [array([-14.84586208,   1.68588639]), ['9s', 'Jd']],\n",
       " [array([-23.55584112,   1.80360969]), ['9s', 'Qd']],\n",
       " [array([-50.24809858,   1.87820572]), ['9s', 'Kd']],\n",
       " [array([-140.62363398,    1.99597252]), ['9s', 'Ad']],\n",
       " [array([  1.69766952, -33.19876311]), ['9s', '2c']],\n",
       " [array([  1.60920216, -22.96316962]), ['9s', '3c']],\n",
       " [array([  1.65043142, -19.38651702]), ['9s', '4c']],\n",
       " [array([  1.63528885, -19.99774073]), ['9s', '5c']],\n",
       " [array([ 1.60527011, -9.64320412]), ['9s', '6c']],\n",
       " [array([0.29631571, 1.50484373]), ['9s', '7c']],\n",
       " [array([-16.18684852,   1.48933279]), ['9s', '8c']],\n",
       " [array([-191.60147207,    2.58752389]), ['9s', '9c']],\n",
       " [array([-23.26772337,   1.55351252]), ['9s', 'Tc']],\n",
       " [array([-15.31208299,   1.50088646]), ['9s', 'Jc']],\n",
       " [array([-28.78683084,   1.92261854]), ['9s', 'Qc']],\n",
       " [array([-62.2147397 ,   1.94882581]), ['9s', 'Kc']],\n",
       " [array([-81.18174642,   1.99762399]), ['9s', 'Ac']],\n",
       " [array([-48.18571113,   1.654582  ]), ['Ts', 'Js']],\n",
       " [array([-45.25304811,   1.7235774 ]), ['Ts', 'Qs']],\n",
       " [array([-91.02128735,   2.08452431]), ['Ts', 'Ks']],\n",
       " [array([-136.37529534,    2.16752839]), ['Ts', 'As']],\n",
       " [array([  1.63745272, -25.4033674 ]), ['Ts', '2h']],\n",
       " [array([  1.59096244, -24.58947007]), ['Ts', '3h']],\n",
       " [array([  1.60779974, -21.09380415]), ['Ts', '4h']],\n",
       " [array([  1.62947275, -19.65087736]), ['Ts', '5h']],\n",
       " [array([  1.54792906, -10.28272057]), ['Ts', '6h']],\n",
       " [array([ 1.60696963, -5.55504722]), ['Ts', '7h']],\n",
       " [array([0.10702458, 1.54838098]), ['Ts', '8h']],\n",
       " [array([-19.82173701,   1.65922697]), ['Ts', '9h']],\n",
       " [array([-161.20984567,    2.66171076]), ['Ts', 'Th']],\n",
       " [array([-33.44072948,   1.76813697]), ['Ts', 'Jh']],\n",
       " [array([-40.32864854,   1.95637925]), ['Ts', 'Qh']],\n",
       " [array([-84.90438417,   1.93686704]), ['Ts', 'Kh']],\n",
       " [array([-127.19048315,    2.11269678]), ['Ts', 'Ah']],\n",
       " [array([  1.62832063, -32.06313011]), ['Ts', '2d']],\n",
       " [array([  1.61380289, -27.92151813]), ['Ts', '3d']],\n",
       " [array([  1.6162814 , -17.34395823]), ['Ts', '4d']],\n",
       " [array([  1.69215698, -16.37852231]), ['Ts', '5d']],\n",
       " [array([ 1.6538879 , -6.00784803]), ['Ts', '6d']],\n",
       " [array([-2.51540303,  1.550222  ]), ['Ts', '7d']],\n",
       " [array([-12.6035641 ,   1.54634943]), ['Ts', '8d']],\n",
       " [array([-19.28843722,   1.60031139]), ['Ts', '9d']],\n",
       " [array([-133.9580994 ,    2.60220449]), ['Ts', 'Td']],\n",
       " [array([-25.38189293,   1.70763047]), ['Ts', 'Jd']],\n",
       " [array([-46.21469642,   1.82441935]), ['Ts', 'Qd']],\n",
       " [array([-61.14856957,   1.93615796]), ['Ts', 'Kd']],\n",
       " [array([-125.79123198,    2.06462872]), ['Ts', 'Ad']],\n",
       " [array([  1.64908589, -26.65797171]), ['Ts', '2c']],\n",
       " [array([  1.58595402, -15.82792197]), ['Ts', '3c']],\n",
       " [array([  1.63179062, -20.67374758]), ['Ts', '4c']],\n",
       " [array([  1.56729707, -15.7198933 ]), ['Ts', '5c']],\n",
       " [array([ 1.52844212, -8.28674821]), ['Ts', '6c']],\n",
       " [array([-0.70340572,  1.48658416]), ['Ts', '7c']],\n",
       " [array([-10.96385654,   1.49782551]), ['Ts', '8c']],\n",
       " [array([-15.46591695,   1.63953553]), ['Ts', '9c']],\n",
       " [array([-193.88965269,    2.73191866]), ['Ts', 'Tc']],\n",
       " [array([-25.6589795 ,   1.70178058]), ['Ts', 'Jc']],\n",
       " [array([-46.94553139,   1.83634211]), ['Ts', 'Qc']],\n",
       " [array([-76.54063297,   1.97164899]), ['Ts', 'Kc']],\n",
       " [array([-137.50616563,    2.13515241]), ['Ts', 'Ac']],\n",
       " [array([-52.43469176,   1.88242593]), ['Js', 'Qs']],\n",
       " [array([-100.8729777 ,    2.08320003]), ['Js', 'Ks']],\n",
       " [array([-156.07362582,    2.24099744]), ['Js', 'As']],\n",
       " [array([  1.61345116, -24.02348528]), ['Js', '2h']],\n",
       " [array([  1.55218179, -18.14971638]), ['Js', '3h']],\n",
       " [array([  1.62978552, -16.73573906]), ['Js', '4h']],\n",
       " [array([  1.65190602, -23.524318  ]), ['Js', '5h']],\n",
       " [array([ 1.67573536, -9.98632739]), ['Js', '6h']],\n",
       " [array([0.82018117, 1.22238235]), ['Js', '7h']],\n",
       " [array([-5.08633572,  1.56103909]), ['Js', '8h']],\n",
       " [array([-20.42736513,   1.63466854]), ['Js', '9h']],\n",
       " [array([-35.65501584,   1.57377558]), ['Js', 'Th']],\n",
       " [array([-196.3189039 ,    2.83043464]), ['Js', 'Jh']],\n",
       " [array([-55.73158952,   1.98998005]), ['Js', 'Qh']],\n",
       " [array([-93.84336773,   1.99964604]), ['Js', 'Kh']],\n",
       " [array([-130.42599522,    2.19588363]), ['Js', 'Ah']],\n",
       " [array([  1.57650363, -23.21668566]), ['Js', '2d']],\n",
       " [array([  1.55663405, -14.05491707]), ['Js', '3d']],\n",
       " [array([ 1.51766714, -5.29484386]), ['Js', '4d']],\n",
       " [array([ 1.53352769, -6.52342904]), ['Js', '5d']],\n",
       " [array([ 1.57176185, -9.18195026]), ['Js', '6d']],\n",
       " [array([-0.51287028,  1.45733043]), ['Js', '7d']],\n",
       " [array([-0.56779308,  1.60755646]), ['Js', '8d']],\n",
       " [array([-15.110655  ,   1.52663824]), ['Js', '9d']],\n",
       " [array([-43.65895594,   1.90297163]), ['Js', 'Td']],\n",
       " [array([-184.14973791,    2.83969651]), ['Js', 'Jd']],\n",
       " [array([-41.83203941,   1.80499509]), ['Js', 'Qd']],\n",
       " [array([-84.36866954,   1.97769942]), ['Js', 'Kd']],\n",
       " [array([-159.80943298,    2.19205903]), ['Js', 'Ad']],\n",
       " [array([  1.66723852, -22.59037375]), ['Js', '2c']],\n",
       " [array([ 1.57923358, -7.81854097]), ['Js', '3c']],\n",
       " [array([  1.59785042, -11.91260763]), ['Js', '4c']],\n",
       " [array([  1.68101421, -14.72313281]), ['Js', '5c']],\n",
       " [array([  1.62661205, -11.14725188]), ['Js', '6c']],\n",
       " [array([1.1188606 , 0.98361204]), ['Js', '7c']],\n",
       " [array([-4.29173282,  1.47230661]), ['Js', '8c']],\n",
       " [array([-22.75985485,   1.65141539]), ['Js', '9c']],\n",
       " [array([-28.99205216,   1.82760692]), ['Js', 'Tc']],\n",
       " [array([-177.93639083,    2.87858959]), ['Js', 'Jc']],\n",
       " [array([-40.145534  ,   1.83339568]), ['Js', 'Qc']],\n",
       " [array([-88.17151576,   2.02053133]), ['Js', 'Kc']],\n",
       " [array([-124.9731089 ,    2.19117094]), ['Js', 'Ac']],\n",
       " [array([-143.24438762,    2.06350083]), ['Qs', 'Ks']],\n",
       " [array([-163.21279113,    2.34365271]), ['Qs', 'As']],\n",
       " [array([  1.52159021, -18.42985666]), ['Qs', '2h']],\n",
       " [array([ 1.51544523, -8.2480521 ]), ['Qs', '3h']],\n",
       " [array([ 1.52284498, -5.45128965]), ['Qs', '4h']],\n",
       " [array([-1.42215755,  1.47247998]), ['Qs', '5h']],\n",
       " [array([-6.93719828,  1.63063918]), ['Qs', '6h']],\n",
       " [array([-6.62484334,  1.63554999]), ['Qs', '7h']],\n",
       " [array([-12.56333923,   1.78386109]), ['Qs', '8h']],\n",
       " [array([-17.11249849,   1.64186061]), ['Qs', '9h']],\n",
       " [array([-42.94078988,   1.83408101]), ['Qs', 'Th']],\n",
       " [array([-35.46090715,   1.65493522]), ['Qs', 'Jh']],\n",
       " [array([-198.44742071,    3.03432851]), ['Qs', 'Qh']],\n",
       " [array([-85.22447609,   2.00872999]), ['Qs', 'Kh']],\n",
       " [array([-137.99052068,    2.19382661]), ['Qs', 'Ah']],\n",
       " [array([  1.61401304, -10.27812969]), ['Qs', '2d']],\n",
       " [array([ 1.53630734, -8.49792439]), ['Qs', '3d']],\n",
       " [array([ 1.66158688, -7.4413955 ]), ['Qs', '4d']],\n",
       " [array([1.41848168, 0.2217621 ]), ['Qs', '5d']],\n",
       " [array([-0.68015006,  1.44437226]), ['Qs', '6d']],\n",
       " [array([ 1.512286  , -1.63159516]), ['Qs', '7d']],\n",
       " [array([-4.67852225,  1.78531891]), ['Qs', '8d']],\n",
       " [array([-26.06736051,   1.76898003]), ['Qs', '9d']],\n",
       " [array([-37.94837912,   1.86211748]), ['Qs', 'Td']],\n",
       " [array([-45.30303743,   1.95170865]), ['Qs', 'Jd']],\n",
       " [array([-263.39189104,    3.01533655]), ['Qs', 'Qd']],\n",
       " [array([-100.66206322,    2.03719078]), ['Qs', 'Kd']],\n",
       " [array([-144.27168546,    2.14345365]), ['Qs', 'Ad']],\n",
       " [array([  1.72450042, -16.40478334]), ['Qs', '2c']],\n",
       " [array([ 1.51379643, -2.96429647]), ['Qs', '3c']],\n",
       " [array([  1.53776324, -13.3404836 ]), ['Qs', '4c']],\n",
       " [array([0.91666795, 1.20140872]), ['Qs', '5c']],\n",
       " [array([-2.3071596 ,  1.53989459]), ['Qs', '6c']],\n",
       " [array([1.20192648, 1.07543484]), ['Qs', '7c']],\n",
       " [array([-15.98951776,   1.50469162]), ['Qs', '8c']],\n",
       " [array([-23.77596162,   1.57012512]), ['Qs', '9c']],\n",
       " [array([-45.4844346 ,   1.92292672]), ['Qs', 'Tc']],\n",
       " [array([-38.41365494,   1.94167622]), ['Qs', 'Jc']],\n",
       " [array([-217.65701375,    3.01628459]), ['Qs', 'Qc']],\n",
       " [array([-96.76711178,   2.06342666]), ['Qs', 'Kc']],\n",
       " [array([-167.92832514,    2.22089983]), ['Qs', 'Ac']],\n",
       " [array([-171.03658416,    2.35511031]), ['Ks', 'As']],\n",
       " [array([-8.84992925,  1.71995393]), ['Ks', '2h']],\n",
       " [array([-11.65366257,   1.71098086]), ['Ks', '3h']],\n",
       " [array([-18.43402558,   1.53666525]), ['Ks', '4h']],\n",
       " [array([-19.53874373,   1.5952596 ]), ['Ks', '5h']],\n",
       " [array([-26.51070106,   1.7381211 ]), ['Ks', '6h']],\n",
       " [array([-33.92042297,   1.93812533]), ['Ks', '7h']],\n",
       " [array([-33.83935292,   1.88311613]), ['Ks', '8h']],\n",
       " [array([-62.03255629,   1.83094393]), ['Ks', '9h']],\n",
       " [array([-68.02620869,   1.92698247]), ['Ks', 'Th']],\n",
       " [array([-66.84891333,   1.98229371]), ['Ks', 'Jh']],\n",
       " [array([-84.3458053 ,   1.98601542]), ['Ks', 'Qh']],\n",
       " [array([-292.38933955,    3.14266543]), ['Ks', 'Kh']],\n",
       " [array([-163.8873968 ,    2.29588946]), ['Ks', 'Ah']],\n",
       " [array([-15.58634109,   1.72107949]), ['Ks', '2d']],\n",
       " [array([-19.15511149,   1.78510821]), ['Ks', '3d']],\n",
       " [array([-20.8699426 ,   1.70982868]), ['Ks', '4d']],\n",
       " [array([-19.8249672 ,   1.63744725]), ['Ks', '5d']],\n",
       " [array([-28.37621629,   1.56984503]), ['Ks', '6d']],\n",
       " [array([-36.08789496,   1.8187379 ]), ['Ks', '7d']],\n",
       " [array([-41.79046093,   1.84365838]), ['Ks', '8d']],\n",
       " [array([-43.64738913,   1.85397395]), ['Ks', '9d']],\n",
       " [array([-67.26969605,   1.8747112 ]), ['Ks', 'Td']],\n",
       " [array([-79.53478439,   1.99684028]), ['Ks', 'Jd']],\n",
       " [array([-72.11905475,   2.02028305]), ['Ks', 'Qd']],\n",
       " [array([-250.85712536,    3.15868638]), ['Ks', 'Kd']],\n",
       " [array([-159.84314378,    2.33425776]), ['Ks', 'Ad']],\n",
       " [array([-4.19918109,  1.64403516]), ['Ks', '2c']],\n",
       " [array([-16.09757998,   1.70229565]), ['Ks', '3c']],\n",
       " [array([-19.34545622,   1.53351596]), ['Ks', '4c']],\n",
       " [array([-23.3018266 ,   1.73619918]), ['Ks', '5c']],\n",
       " [array([-31.82878358,   1.67336513]), ['Ks', '6c']],\n",
       " [array([-31.68731197,   1.81641603]), ['Ks', '7c']],\n",
       " [array([-43.77038816,   1.67005466]), ['Ks', '8c']],\n",
       " [array([-57.1399691 ,   1.93668486]), ['Ks', '9c']],\n",
       " [array([-68.92559143,   1.98461613]), ['Ks', 'Tc']],\n",
       " [array([-102.08903832,    2.02250561]), ['Ks', 'Jc']],\n",
       " [array([-83.17912771,   1.98484583]), ['Ks', 'Qc']],\n",
       " [array([-249.38890732,    3.17920904]), ['Ks', 'Kc']],\n",
       " [array([-184.83670357,    2.26985422]), ['Ks', 'Ac']],\n",
       " [array([-55.77570583,   1.70178717]), ['As', '2h']],\n",
       " [array([-67.41818966,   1.80750529]), ['As', '3h']],\n",
       " [array([-66.28657385,   1.89121062]), ['As', '4h']],\n",
       " [array([-66.07236718,   1.86786798]), ['As', '5h']],\n",
       " [array([-74.47112378,   1.95078591]), ['As', '6h']],\n",
       " [array([-73.31123103,   1.96952081]), ['As', '7h']],\n",
       " [array([-117.45857543,    1.97401863]), ['As', '8h']],\n",
       " [array([-113.24785644,    2.0058147 ]), ['As', '9h']],\n",
       " [array([-153.74880858,    2.09060265]), ['As', 'Th']],\n",
       " [array([-113.39103987,    2.18832731]), ['As', 'Jh']],\n",
       " [array([-195.61906649,    2.23329472]), ['As', 'Qh']],\n",
       " [array([-147.44951414,    2.31829053]), ['As', 'Kh']],\n",
       " [array([-274.94065193,    3.30035381]), ['As', 'Ah']],\n",
       " [array([-58.84193668,   1.71085049]), ['As', '2d']],\n",
       " [array([-72.12796753,   1.80207621]), ['As', '3d']],\n",
       " [array([-81.32519806,   1.9572052 ]), ['As', '4d']],\n",
       " [array([-90.86998628,   1.96859703]), ['As', '5d']],\n",
       " [array([-65.02146105,   1.94957608]), ['As', '6d']],\n",
       " [array([-85.09701057,   1.98631275]), ['As', '7d']],\n",
       " [array([-102.25114735,    1.99170632]), ['As', '8d']],\n",
       " [array([-111.61350793,    2.04947751]), ['As', '9d']],\n",
       " [array([-128.664178  ,    2.07905332]), ['As', 'Td']],\n",
       " [array([-122.87216968,    2.17773917]), ['As', 'Jd']],\n",
       " [array([-123.37401095,    2.26656655]), ['As', 'Qd']],\n",
       " [array([-197.22839857,    2.27405163]), ['As', 'Kd']],\n",
       " [array([-273.6254786,    3.3903594]), ['As', 'Ad']],\n",
       " [array([-55.08232649,   1.77708251]), ['As', '2c']],\n",
       " [array([-65.24741569,   1.85313383]), ['As', '3c']],\n",
       " [array([-51.23254862,   1.91957838]), ['As', '4c']],\n",
       " [array([-77.69737084,   1.96627014]), ['As', '5c']],\n",
       " [array([-92.54900287,   1.96893051]), ['As', '6c']],\n",
       " [array([-81.86055503,   1.94733001]), ['As', '7c']],\n",
       " [array([-98.9883191 ,   1.99124863]), ['As', '8c']],\n",
       " [array([-96.56734901,   1.99931792]), ['As', '9c']],\n",
       " [array([-115.22756567,    2.0794882 ]), ['As', 'Tc']],\n",
       " [array([-114.89387135,    2.00962027]), ['As', 'Jc']],\n",
       " [array([-167.11667301,    2.22797186]), ['As', 'Qc']],\n",
       " [array([-183.92143507,    2.29198143]), ['As', 'Kc']],\n",
       " [array([-206.55954923,    3.31403165]), ['As', 'Ac']],\n",
       " [array([ 1.6532753 , -8.87519937]), ['2h', '3h']],\n",
       " [array([ 1.64878643, -9.94005539]), ['2h', '4h']],\n",
       " [array([ 1.54251173, -1.15801142]), ['2h', '5h']],\n",
       " [array([  1.60578639, -17.56526925]), ['2h', '6h']],\n",
       " [array([  1.65765471, -22.03116936]), ['2h', '7h']],\n",
       " [array([  1.56065971, -12.75460411]), ['2h', '8h']],\n",
       " [array([  1.57729679, -13.82473796]), ['2h', '9h']],\n",
       " [array([ 1.51873155, -1.74685066]), ['2h', 'Th']],\n",
       " [array([ 1.51084209, -4.5473284 ]), ['2h', 'Jh']],\n",
       " [array([-6.42814408,  1.49321295]), ['2h', 'Qh']],\n",
       " [array([-24.33538728,   1.71004925]), ['2h', 'Kh']],\n",
       " [array([-89.40341996,   1.99328994]), ['2h', 'Ah']],\n",
       " [array([-67.90812721,   1.70785115]), ['2h', '2d']],\n",
       " [array([  1.8033812 , -37.79788543]), ['2h', '3d']],\n",
       " [array([  1.77401441, -29.46516287]), ['2h', '4d']],\n",
       " [array([  1.75555271, -29.30863574]), ['2h', '5d']],\n",
       " [array([  1.73791631, -34.39340829]), ['2h', '6d']],\n",
       " [array([  1.67821577, -40.25142185]), ['2h', '7d']],\n",
       " [array([  1.69024462, -28.01948788]), ['2h', '8d']],\n",
       " [array([  1.68294652, -33.26168761]), ['2h', '9d']],\n",
       " [array([  1.65746876, -31.97523562]), ['2h', 'Td']],\n",
       " [array([  1.56848173, -15.71688624]), ['2h', 'Jd']],\n",
       " [array([  1.61557192, -15.88490349]), ['2h', 'Qd']],\n",
       " [array([-9.10529472,  1.65378784]), ['2h', 'Kd']],\n",
       " [array([-48.39857472,   1.75791587]), ['2h', 'Ad']],\n",
       " [array([-49.73394185,   1.64495369]), ['2h', '2c']],\n",
       " [array([  1.85034153, -28.06126503]), ['2h', '3c']],\n",
       " [array([  1.73249066, -32.31199172]), ['2h', '4c']],\n",
       " [array([  1.70079522, -29.00499108]), ['2h', '5c']],\n",
       " [array([  1.65785118, -27.97787024]), ['2h', '6c']],\n",
       " [array([  1.73206986, -40.97488866]), ['2h', '7c']],\n",
       " [array([  1.57722531, -25.18230438]), ['2h', '8c']],\n",
       " [array([  1.62993013, -40.54406532]), ['2h', '9c']],\n",
       " [array([  1.65827233, -27.53559637]), ['2h', 'Tc']],\n",
       " [array([  1.58442647, -25.21861127]), ['2h', 'Jc']],\n",
       " [array([  1.56676343, -17.90631238]), ['2h', 'Qc']],\n",
       " [array([-12.57595668,   1.70665565]), ['2h', 'Kc']],\n",
       " [array([-69.24257519,   1.90024586]), ['2h', 'Ac']],\n",
       " [array([ 1.49282134, -0.44494732]), ['3h', '4h']],\n",
       " [array([-4.78015695,  1.46446693]), ['3h', '5h']],\n",
       " [array([1.54383932, 0.31960202]), ['3h', '6h']],\n",
       " [array([0.0606635 , 1.58696418]), ['3h', '7h']],\n",
       " [array([ 1.58489138, -7.21987296]), ['3h', '8h']],\n",
       " [array([ 1.54985491, -2.84038623]), ['3h', '9h']],\n",
       " [array([0.74523861, 1.33416092]), ['3h', 'Th']],\n",
       " [array([ 1.52530725, -0.84621989]), ['3h', 'Jh']],\n",
       " [array([-18.12648969,   1.52644141]), ['3h', 'Qh']],\n",
       " [array([-32.24453283,   1.68538007]), ['3h', 'Kh']],\n",
       " [array([-77.49545386,   1.95393069]), ['3h', 'Ah']],\n",
       " [array([  1.81792798, -33.79518683]), ['3h', '2d']],\n",
       " [array([-66.35520462,   1.80343591]), ['3h', '3d']],\n",
       " [array([  1.70465269, -20.8098815 ]), ['3h', '4d']],\n",
       " [array([  1.65783258, -18.51278077]), ['3h', '5d']],\n",
       " [array([  1.71437214, -21.2870646 ]), ['3h', '6d']],\n",
       " [array([  1.68250549, -20.77912563]), ['3h', '7d']],\n",
       " [array([  1.6678087 , -32.45173286]), ['3h', '8d']],\n",
       " [array([  1.6744851 , -30.23315218]), ['3h', '9d']],\n",
       " [array([  1.62023251, -20.01271951]), ['3h', 'Td']],\n",
       " [array([  1.5715966 , -10.73008498]), ['3h', 'Jd']],\n",
       " [array([ 1.51027536, -7.9755979 ]), ['3h', 'Qd']],\n",
       " [array([-12.91785198,   1.675034  ]), ['3h', 'Kd']],\n",
       " [array([-64.28940587,   1.85426011]), ['3h', 'Ad']],\n",
       " [array([  1.86959592, -44.4965786 ]), ['3h', '2c']],\n",
       " [array([-60.25229876,   1.81301104]), ['3h', '3c']],\n",
       " [array([  1.7196778 , -25.06504352]), ['3h', '4c']],\n",
       " [array([  1.67575505, -16.09377613]), ['3h', '5c']],\n",
       " [array([  1.69588476, -24.01070295]), ['3h', '6c']],\n",
       " [array([  1.64017127, -18.14330681]), ['3h', '7c']],\n",
       " [array([  1.73466254, -37.3989536 ]), ['3h', '8c']],\n",
       " [array([  1.6749993 , -22.61191794]), ['3h', '9c']],\n",
       " [array([  1.58850568, -16.67690642]), ['3h', 'Tc']],\n",
       " [array([  1.62082371, -26.44564001]), ['3h', 'Jc']],\n",
       " [array([ 1.63712795, -8.23376783]), ['3h', 'Qc']],\n",
       " [array([-14.00673874,   1.67604388]), ['3h', 'Kc']],\n",
       " [array([-60.22021068,   1.8737203 ]), ['3h', 'Ac']],\n",
       " [array([-8.89695161,  1.56048983]), ['4h', '5h']],\n",
       " [array([-4.39127759,  1.61639792]), ['4h', '6h']],\n",
       " [array([-4.29025395,  1.60582258]), ['4h', '7h']],\n",
       " [array([ 1.53202338, -0.20714689]), ['4h', '8h']],\n",
       " [array([ 1.59278657, -7.61621298]), ['4h', '9h']],\n",
       " [array([ 1.5402501 , -2.89799504]), ['4h', 'Th']],\n",
       " [array([-1.75556055,  1.55585184]), ['4h', 'Jh']],\n",
       " [array([-19.265284  ,   1.74134103]), ['4h', 'Qh']],\n",
       " [array([-34.31078483,   1.74641404]), ['4h', 'Kh']],\n",
       " [array([-96.90880027,   1.96646963]), ['4h', 'Ah']],\n",
       " [array([  1.81920896, -32.28896542]), ['4h', '2d']],\n",
       " [array([  1.66508889, -19.05758662]), ['4h', '3d']],\n",
       " [array([-73.23589716,   1.91848134]), ['4h', '4d']],\n",
       " [array([ 1.61462955, -9.92169422]), ['4h', '5d']],\n",
       " [array([ 1.62340268, -7.33529965]), ['4h', '6d']],\n",
       " [array([  1.6677968 , -21.66118058]), ['4h', '7d']],\n",
       " [array([  1.66437772, -31.32608598]), ['4h', '8d']],\n",
       " [array([  1.58923703, -34.66688362]), ['4h', '9d']],\n",
       " [array([  1.57920359, -22.12783541]), ['4h', 'Td']],\n",
       " [array([  1.55178062, -19.11353198]), ['4h', 'Jd']],\n",
       " [array([ 1.4883123 , -4.62802734]), ['4h', 'Qd']],\n",
       " [array([-17.64080115,   1.70677322]), ['4h', 'Kd']],\n",
       " [array([-60.74018099,   1.80504168]), ['4h', 'Ad']],\n",
       " [array([  1.81513347, -33.71552417]), ['4h', '2c']],\n",
       " [array([  1.66427949, -23.83563978]), ['4h', '3c']],\n",
       " [array([-76.13443127,   1.94382248]), ['4h', '4c']],\n",
       " [array([ 1.5109606 , -1.20028266]), ['4h', '5c']],\n",
       " [array([  1.63598112, -12.70141964]), ['4h', '6c']],\n",
       " [array([  1.56019485, -13.87591117]), ['4h', '7c']],\n",
       " [array([  1.64859106, -24.6655325 ]), ['4h', '8c']],\n",
       " [array([  1.60143495, -22.23675207]), ['4h', '9c']],\n",
       " [array([  1.61705733, -24.39270449]), ['4h', 'Tc']],\n",
       " [array([  1.54614769, -13.78916539]), ['4h', 'Jc']],\n",
       " [array([ 1.55037768, -3.76636697]), ['4h', 'Qc']],\n",
       " [array([-10.14047571,   1.48967018]), ['4h', 'Kc']],\n",
       " [array([-68.56095997,   1.92265216]), ['4h', 'Ac']],\n",
       " [array([-10.51292366,   1.57404799]), ['5h', '6h']],\n",
       " [array([-15.33646312,   1.50253664]), ['5h', '7h']],\n",
       " [array([-6.23325438,  1.561783  ]), ['5h', '8h']],\n",
       " [array([-3.13516284,  1.50736846]), ['5h', '9h']],\n",
       " [array([ 1.48476118, -4.09143418]), ['5h', 'Th']],\n",
       " [array([-6.06091056,  1.45171631]), ['5h', 'Jh']],\n",
       " [array([-24.82345508,   1.85016248]), ['5h', 'Qh']],\n",
       " [array([-43.48072345,   1.88293741]), ['5h', 'Kh']],\n",
       " [array([-90.1676748 ,   1.99562237]), ['5h', 'Ah']],\n",
       " [array([  1.74150183, -37.99669779]), ['5h', '2d']],\n",
       " [array([  1.66897901, -21.07810238]), ['5h', '3d']],\n",
       " [array([ 1.58681055, -3.41687772]), ['5h', '4d']],\n",
       " [array([-109.62504088,    1.97356621]), ['5h', '5d']],\n",
       " [array([ 1.57062755, -2.22659829]), ['5h', '6d']],\n",
       " [array([ 1.55239537, -0.71324109]), ['5h', '7d']],\n",
       " [array([  1.60511935, -18.77313176]), ['5h', '8d']],\n",
       " [array([  1.57450712, -17.92458695]), ['5h', '9d']],\n",
       " [array([  1.56931168, -11.46362364]), ['5h', 'Td']],\n",
       " [array([  1.52531848, -10.43320584]), ['5h', 'Jd']],\n",
       " [array([ 1.49856874, -7.75920546]), ['5h', 'Qd']],\n",
       " [array([-20.9859377 ,   1.75316174]), ['5h', 'Kd']],\n",
       " [array([-81.38553317,   1.87177857]), ['5h', 'Ad']],\n",
       " [array([  1.76214345, -27.22633562]), ['5h', '2c']],\n",
       " [array([  1.65624873, -11.49523803]), ['5h', '3c']],\n",
       " [array([ 1.58339369, -2.60099089]), ['5h', '4c']],\n",
       " [array([-90.04158693,   1.9740957 ]), ['5h', '5c']],\n",
       " [array([ 1.58147792, -5.5669986 ]), ['5h', '6c']],\n",
       " [array([  1.62929891, -10.69406349]), ['5h', '7c']],\n",
       " [array([ 1.61260823, -9.10999857]), ['5h', '8c']],\n",
       " [array([  1.61617665, -17.69832246]), ['5h', '9c']],\n",
       " [array([  1.5706432 , -15.18861255]), ['5h', 'Tc']],\n",
       " [array([  1.67123034, -19.87346624]), ['5h', 'Jc']],\n",
       " [array([1.44054801, 0.6488409 ]), ['5h', 'Qc']],\n",
       " [array([-23.53747343,   1.69802416]), ['5h', 'Kc']],\n",
       " [array([-69.55009914,   1.91070454]), ['5h', 'Ac']],\n",
       " [array([-16.6854255 ,   1.49672175]), ['6h', '7h']],\n",
       " [array([-13.30029646,   1.46815875]), ['6h', '8h']],\n",
       " [array([-17.14602035,   1.47608927]), ['6h', '9h']],\n",
       " [array([-8.71261215,  1.4901804 ]), ['6h', 'Th']],\n",
       " [array([-10.69402826,   1.45952842]), ['6h', 'Jh']],\n",
       " [array([-24.76815435,   1.83426974]), ['6h', 'Qh']],\n",
       " [array([-40.58352253,   1.9527513 ]), ['6h', 'Kh']],\n",
       " [array([-86.70291823,   1.98108868]), ['6h', 'Ah']],\n",
       " [array([  1.70307562, -39.43913162]), ['6h', '2d']],\n",
       " [array([  1.67661553, -16.26400636]), ['6h', '3d']],\n",
       " [array([ 1.60454425, -9.77064252]), ['6h', '4d']],\n",
       " [array([ 1.5682272 , -3.27259187]), ['6h', '5d']],\n",
       " [array([-116.73878281,    1.98351385]), ['6h', '6d']],\n",
       " [array([-1.24938294,  1.57408111]), ['6h', '7d']],\n",
       " [array([ 1.55522269, -1.33597208]), ['6h', '8d']],\n",
       " [array([ 1.51918499, -0.34853872]), ['6h', '9d']],\n",
       " [array([ 1.59887828, -7.41671989]), ['6h', 'Td']],\n",
       " [array([ 1.6342375 , -8.96456624]), ['6h', 'Jd']],\n",
       " [array([ 1.47165064, -6.86199217]), ['6h', 'Qd']],\n",
       " [array([-25.80241841,   1.80423395]), ['6h', 'Kd']],\n",
       " [array([-70.31534796,   1.92979308]), ['6h', 'Ad']],\n",
       " [array([  1.81716564, -34.11875722]), ['6h', '2c']],\n",
       " [array([  1.71900976, -24.26261721]), ['6h', '3c']],\n",
       " [array([  1.65236174, -12.16609767]), ['6h', '4c']],\n",
       " [array([0.99630495, 1.23788849]), ['6h', '5c']],\n",
       " [array([-127.44165478,    2.13881023]), ['6h', '6c']],\n",
       " [array([-0.88437452,  1.58441246]), ['6h', '7c']],\n",
       " [array([ 1.55669295, -8.84931564]), ['6h', '8c']],\n",
       " [array([ 1.50362453, -1.9796103 ]), ['6h', '9c']],\n",
       " [array([ 1.54143241, -7.19447124]), ['6h', 'Tc']],\n",
       " [array([ 1.54855615, -7.89706154]), ['6h', 'Jc']],\n",
       " [array([0.06630549, 1.49788704]), ['6h', 'Qc']],\n",
       " [array([-34.60399642,   1.61540743]), ['6h', 'Kc']],\n",
       " [array([-87.77969239,   1.84985544]), ['6h', 'Ac']],\n",
       " [array([-24.72981227,   1.47262727]), ['7h', '8h']],\n",
       " [array([-27.96112708,   1.60117501]), ['7h', '9h']],\n",
       " [array([-12.29004539,   1.55554044]), ['7h', 'Th']],\n",
       " [array([-12.70848365,   1.47310221]), ['7h', 'Jh']],\n",
       " [array([-24.88823373,   1.60977594]), ['7h', 'Qh']],\n",
       " [array([-47.83902495,   1.67641576]), ['7h', 'Kh']],\n",
       " [array([-86.92292658,   2.07269668]), ['7h', 'Ah']],\n",
       " [array([  1.71248428, -42.35702112]), ['7h', '2d']],\n",
       " [array([  1.72599047, -24.3616726 ]), ['7h', '3d']],\n",
       " [array([ 1.62722338, -7.6990371 ]), ['7h', '4d']],\n",
       " [array([ 1.5566197 , -7.81415181]), ['7h', '5d']],\n",
       " [array([-0.84309424,  1.6039918 ]), ['7h', '6d']],\n",
       " [array([-145.51647973,    2.2217527 ]), ['7h', '7d']],\n",
       " [array([-3.71583319,  1.52729832]), ['7h', '8d']],\n",
       " [array([ 1.58944406, -6.34089276]), ['7h', '9d']],\n",
       " [array([ 1.51999561, -5.03738082]), ['7h', 'Td']],\n",
       " [array([0.9027504 , 1.13818497]), ['7h', 'Jd']],\n",
       " [array([-0.46666003,  1.72185549]), ['7h', 'Qd']],\n",
       " [array([-36.03039191,   1.66195299]), ['7h', 'Kd']],\n",
       " [array([-85.37354974,   1.96396397]), ['7h', 'Ad']],\n",
       " [array([  1.62647795, -37.55929128]), ['7h', '2c']],\n",
       " [array([  1.609204  , -37.30924268]), ['7h', '3c']],\n",
       " [array([  1.65977693, -17.73641543]), ['7h', '4c']],\n",
       " [array([1.46896301, 0.56996292]), ['7h', '5c']],\n",
       " [array([ 1.54483591, -1.90293025]), ['7h', '6c']],\n",
       " [array([-140.16104218,    2.31299643]), ['7h', '7c']],\n",
       " [array([-2.03804961,  1.54750252]), ['7h', '8c']],\n",
       " [array([-1.31511203,  1.48490384]), ['7h', '9c']],\n",
       " [array([ 1.74424003, -4.81532203]), ['7h', 'Tc']],\n",
       " [array([1.30425948, 0.62277774]), ['7h', 'Jc']],\n",
       " [array([-1.13798939,  1.58211264]), ['7h', 'Qc']],\n",
       " [array([-37.01080667,   1.86270504]), ['7h', 'Kc']],\n",
       " [array([-100.25970165,    1.98502182]), ['7h', 'Ac']],\n",
       " [array([-29.68832372,   1.52602069]), ['8h', '9h']],\n",
       " [array([-27.52058413,   1.50715486]), ['8h', 'Th']],\n",
       " [array([-21.48136933,   1.72074369]), ['8h', 'Jh']],\n",
       " [array([-32.93858687,   1.65286997]), ['8h', 'Qh']],\n",
       " [array([-55.95710015,   1.93662271]), ['8h', 'Kh']],\n",
       " [array([-113.54841351,    2.04194424]), ['8h', 'Ah']],\n",
       " [array([  1.7025392 , -25.48613988]), ['8h', '2d']],\n",
       " [array([  1.66699322, -20.01093084]), ['8h', '3d']],\n",
       " [array([  1.64969367, -21.63379   ]), ['8h', '4d']],\n",
       " [array([ 1.55793021, -6.68505073]), ['8h', '5d']],\n",
       " [array([ 1.52341274, -3.39339917]), ['8h', '6d']],\n",
       " [array([1.39234898, 0.61917886]), ['8h', '7d']],\n",
       " [array([-125.88049562,    2.24336016]), ['8h', '8d']],\n",
       " [array([-13.53635369,   1.47299173]), ['8h', '9d']],\n",
       " [array([1.35128952, 0.48214238]), ['8h', 'Td']],\n",
       " [array([-3.59997821,  1.52134548]), ['8h', 'Jd']],\n",
       " [array([-15.62112101,   1.75284157]), ['8h', 'Qd']],\n",
       " [array([-44.09746447,   1.93534696]), ['8h', 'Kd']],\n",
       " [array([-109.32939524,    1.99212071]), ['8h', 'Ad']],\n",
       " [array([  1.71726404, -41.75764945]), ['8h', '2c']],\n",
       " [array([  1.76542467, -39.30012255]), ['8h', '3c']],\n",
       " [array([  1.57529073, -17.74147623]), ['8h', '4c']],\n",
       " [array([  1.56732717, -18.69350358]), ['8h', '5c']],\n",
       " [array([ 1.56422713, -3.40692285]), ['8h', '6c']],\n",
       " [array([1.43631183, 0.44497348]), ['8h', '7c']],\n",
       " [array([-146.14088611,    2.47733384]), ['8h', '8c']],\n",
       " [array([-2.51414008,  1.5437702 ]), ['8h', '9c']],\n",
       " [array([-0.14169022,  1.45706351]), ['8h', 'Tc']],\n",
       " [array([-10.21153753,   1.76189113]), ['8h', 'Jc']],\n",
       " [array([-14.35306922,   1.53834365]), ['8h', 'Qc']],\n",
       " [array([-47.19274252,   1.67290775]), ['8h', 'Kc']],\n",
       " [array([-100.65118772,    1.9991808 ]), ['8h', 'Ac']],\n",
       " [array([-24.13068513,   1.67821002]), ['9h', 'Th']],\n",
       " [array([-40.50654696,   1.82818262]), ['9h', 'Jh']],\n",
       " [array([-42.59149888,   1.63184364]), ['9h', 'Qh']],\n",
       " [array([-76.36603331,   1.95645908]), ['9h', 'Kh']],\n",
       " [array([-135.33339444,    2.12355884]), ['9h', 'Ah']],\n",
       " [array([  1.72583383, -38.43533042]), ['9h', '2d']],\n",
       " [array([  1.59736064, -30.42007446]), ['9h', '3d']],\n",
       " [array([  1.65873764, -26.86317892]), ['9h', '4d']],\n",
       " [array([  1.58677867, -18.08584145]), ['9h', '5d']],\n",
       " [array([-0.34393344,  1.55220568]), ['9h', '6d']],\n",
       " [array([-3.34385938,  1.45827047]), ['9h', '7d']],\n",
       " [array([-4.24359943,  1.51618791]), ['9h', '8d']],\n",
       " [array([-138.5097216 ,    2.58624366]), ['9h', '9d']],\n",
       " [array([-10.66006178,   1.50173161]), ['9h', 'Td']],\n",
       " [array([-18.18459367,   1.78641568]), ['9h', 'Jd']],\n",
       " [array([-26.64878896,   1.85962847]), ['9h', 'Qd']],\n",
       " [array([-65.28943816,   1.82313035]), ['9h', 'Kd']],\n",
       " [array([-100.38763343,    1.99280737]), ['9h', 'Ad']],\n",
       " [array([  1.66358067, -32.27290968]), ['9h', '2c']],\n",
       " [array([  1.68306647, -39.08877475]), ['9h', '3c']],\n",
       " [array([  1.6029352 , -19.22471821]), ['9h', '4c']],\n",
       " [array([  1.59628983, -10.72573494]), ['9h', '5c']],\n",
       " [array([ 1.52716673, -4.71850268]), ['9h', '6c']],\n",
       " [array([-3.53139521,  1.59458706]), ['9h', '7c']],\n",
       " [array([-10.65623176,   1.65176942]), ['9h', '8c']],\n",
       " [array([-149.29632588,    2.55629494]), ['9h', '9c']],\n",
       " [array([-14.5680382 ,   1.49203112]), ['9h', 'Tc']],\n",
       " [array([-27.53353978,   1.79042969]), ['9h', 'Jc']],\n",
       " [array([-26.35343935,   1.83614722]), ['9h', 'Qc']],\n",
       " [array([-55.76979171,   1.90510545]), ['9h', 'Kc']],\n",
       " [array([-97.51577468,   1.99714316]), ['9h', 'Ac']],\n",
       " [array([-45.22632315,   1.86326151]), ['Th', 'Jh']],\n",
       " [array([-54.34123608,   1.99938917]), ['Th', 'Qh']],\n",
       " [array([-82.38879688,   1.96156434]), ['Th', 'Kh']],\n",
       " [array([-140.28878592,    2.21149693]), ['Th', 'Ah']],\n",
       " [array([  1.64635252, -23.49405296]), ['Th', '2d']],\n",
       " [array([  1.58303873, -17.72678753]), ['Th', '3d']],\n",
       " [array([  1.63009977, -20.4855992 ]), ['Th', '4d']],\n",
       " [array([  1.58761376, -19.48572401]), ['Th', '5d']],\n",
       " [array([ 1.52199207, -7.14626021]), ['Th', '6d']],\n",
       " [array([ 1.4956176 , -4.54184275]), ['Th', '7d']],\n",
       " [array([-2.53351344,  1.47783902]), ['Th', '8d']],\n",
       " [array([-9.57459023,  1.66861214]), ['Th', '9d']],\n",
       " [array([-161.54313971,    2.72347158]), ['Th', 'Td']],\n",
       " [array([-28.61136487,   1.6582203 ]), ['Th', 'Jd']],\n",
       " [array([-42.07832023,   1.93117311]), ['Th', 'Qd']],\n",
       " [array([-70.16517609,   1.99786774]), ['Th', 'Kd']],\n",
       " [array([-110.91602877,    2.09625419]), ['Th', 'Ad']],\n",
       " [array([  1.65732575, -29.25795429]), ['Th', '2c']],\n",
       " [array([  1.63602884, -25.8024379 ]), ['Th', '3c']],\n",
       " [array([  1.6129484 , -22.34512197]), ['Th', '4c']],\n",
       " [array([  1.58733147, -29.4044548 ]), ['Th', '5c']],\n",
       " [array([ 1.53028552, -9.74712816]), ['Th', '6c']],\n",
       " [array([ 1.51174641, -4.5554643 ]), ['Th', '7c']],\n",
       " [array([-3.62070844,  1.5513148 ]), ['Th', '8c']],\n",
       " [array([-15.26179958,   1.65543646]), ['Th', '9c']],\n",
       " [array([-192.14879794,    2.747185  ]), ['Th', 'Tc']],\n",
       " [array([-32.03268021,   1.74467226]), ['Th', 'Jc']],\n",
       " [array([-43.70609715,   1.78769258]), ['Th', 'Qc']],\n",
       " [array([-71.91643384,   1.98997102]), ['Th', 'Kc']],\n",
       " [array([-152.00562143,    2.06111284]), ['Th', 'Ac']],\n",
       " [array([-69.64971477,   1.9614802 ]), ['Jh', 'Qh']],\n",
       " [array([-112.87437156,    2.11447368]), ['Jh', 'Kh']],\n",
       " [array([-146.30055231,    2.28251003]), ['Jh', 'Ah']],\n",
       " [array([  1.61636006, -31.35932127]), ['Jh', '2d']],\n",
       " [array([  1.57180597, -15.05036735]), ['Jh', '3d']],\n",
       " [array([ 1.60541611, -8.48625631]), ['Jh', '4d']],\n",
       " [array([  1.60024998, -12.34017057]), ['Jh', '5d']],\n",
       " [array([ 1.57429038, -1.61642797]), ['Jh', '6d']],\n",
       " [array([ 1.6490971 , -5.38997376]), ['Jh', '7d']],\n",
       " [array([-6.43654228,  1.61395747]), ['Jh', '8d']],\n",
       " [array([-30.31323053,   1.90330121]), ['Jh', '9d']],\n",
       " [array([-28.64807918,   1.81282434]), ['Jh', 'Td']],\n",
       " [array([-205.16767866,    2.87443663]), ['Jh', 'Jd']],\n",
       " [array([-44.58899293,   1.88561065]), ['Jh', 'Qd']],\n",
       " [array([-90.64634938,   2.0260699 ]), ['Jh', 'Kd']],\n",
       " [array([-133.06337873,    2.18156994]), ['Jh', 'Ad']],\n",
       " [array([  1.63399888, -26.47159213]), ['Jh', '2c']],\n",
       " [array([  1.61162428, -19.28204762]), ['Jh', '3c']],\n",
       " [array([  1.66479434, -19.72362369]), ['Jh', '4c']],\n",
       " [array([  1.53868673, -12.23116572]), ['Jh', '5c']],\n",
       " [array([ 1.59432635, -8.62984467]), ['Jh', '6c']],\n",
       " [array([0.23224848, 1.57955186]), ['Jh', '7c']],\n",
       " [array([-1.70702337,  1.61628631]), ['Jh', '8c']],\n",
       " [array([-19.16661215,   1.63967989]), ['Jh', '9c']],\n",
       " [array([-40.70754002,   1.83815787]), ['Jh', 'Tc']],\n",
       " [array([-168.12564349,    2.4567239 ]), ['Jh', 'Jc']],\n",
       " [array([-46.43200946,   1.82720485]), ['Jh', 'Qc']],\n",
       " [array([-77.56554219,   1.99996495]), ['Jh', 'Kc']],\n",
       " [array([-163.98743783,    2.17828281]), ['Jh', 'Ac']],\n",
       " [array([-99.86736741,   2.07469751]), ['Qh', 'Kh']],\n",
       " [array([-159.73151006,    2.2913669 ]), ['Qh', 'Ah']],\n",
       " [array([ 1.45475563, -3.1418308 ]), ['Qh', '2d']],\n",
       " [array([ 1.56038218, -7.46771922]), ['Qh', '3d']],\n",
       " [array([  1.64965187, -12.45251762]), ['Qh', '4d']],\n",
       " [array([ 1.44864859, -1.35377149]), ['Qh', '5d']],\n",
       " [array([ 1.4913931 , -3.68199768]), ['Qh', '6d']],\n",
       " [array([-0.79342139,  1.42782579]), ['Qh', '7d']],\n",
       " [array([-16.14648411,   1.68655623]), ['Qh', '8d']],\n",
       " [array([-26.14254578,   1.87650577]), ['Qh', '9d']],\n",
       " [array([-54.99488095,   1.94163459]), ['Qh', 'Td']],\n",
       " [array([-41.25262952,   1.90570396]), ['Qh', 'Jd']],\n",
       " [array([-242.25173944,    3.04300084]), ['Qh', 'Qd']],\n",
       " [array([-111.57016165,    2.09120412]), ['Qh', 'Kd']],\n",
       " [array([-174.02247376,    2.21427029]), ['Qh', 'Ad']],\n",
       " [array([ 1.49119132, -6.30621627]), ['Qh', '2c']],\n",
       " [array([ 1.55573769, -5.74844212]), ['Qh', '3c']],\n",
       " [array([0.15404099, 1.63507945]), ['Qh', '4c']],\n",
       " [array([0.82144671, 1.29271675]), ['Qh', '5c']],\n",
       " [array([ 1.49440071, -4.8773671 ]), ['Qh', '6c']],\n",
       " [array([-1.28301   ,  1.68757077]), ['Qh', '7c']],\n",
       " [array([-11.63837712,   1.68509694]), ['Qh', '8c']],\n",
       " [array([-24.96943319,   1.65262096]), ['Qh', '9c']],\n",
       " [array([-40.72004405,   1.96248305]), ['Qh', 'Tc']],\n",
       " [array([-42.37696739,   1.87023971]), ['Qh', 'Jc']],\n",
       " [array([-188.37925463,    2.98214124]), ['Qh', 'Qc']],\n",
       " [array([-99.48130918,   2.09159292]), ['Qh', 'Kc']],\n",
       " [array([-148.48771973,    2.20629561]), ['Qh', 'Ac']],\n",
       " [array([-159.6699052 ,    2.37674457]), ['Kh', 'Ah']],\n",
       " [array([-3.99235105,  1.58276724]), ['Kh', '2d']],\n",
       " [array([-11.18741736,   1.60646037]), ['Kh', '3d']],\n",
       " [array([-7.08874542,  1.76702933]), ['Kh', '4d']],\n",
       " [array([-12.83644712,   1.61954094]), ['Kh', '5d']],\n",
       " [array([-29.35888742,   1.74857194]), ['Kh', '6d']],\n",
       " [array([-31.59542409,   1.79579657]), ['Kh', '7d']],\n",
       " [array([-45.26693823,   1.91276831]), ['Kh', '8d']],\n",
       " [array([-60.03314223,   1.94221041]), ['Kh', '9d']],\n",
       " [array([-79.00668831,   1.95529779]), ['Kh', 'Td']],\n",
       " [array([-80.77369932,   2.00345292]), ['Kh', 'Jd']],\n",
       " [array([-98.67411743,   1.99993037]), ['Kh', 'Qd']],\n",
       " [array([-199.61181066,    3.02705521]), ['Kh', 'Kd']],\n",
       " [array([-195.40518122,    2.2723916 ]), ['Kh', 'Ad']],\n",
       " [array([0.51163245, 1.40981633]), ['Kh', '2c']],\n",
       " [array([-21.351599  ,   1.66513653]), ['Kh', '3c']],\n",
       " [array([-14.54223402,   1.6305471 ]), ['Kh', '4c']],\n",
       " [array([-21.203349  ,   1.87016354]), ['Kh', '5c']],\n",
       " [array([-21.28978342,   1.80339045]), ['Kh', '6c']],\n",
       " [array([-32.45457735,   1.824073  ]), ['Kh', '7c']],\n",
       " [array([-32.14274052,   1.72396938]), ['Kh', '8c']],\n",
       " [array([-59.35624435,   1.92838156]), ['Kh', '9c']],\n",
       " [array([-77.06801559,   1.98051325]), ['Kh', 'Tc']],\n",
       " [array([-70.05268834,   1.97079231]), ['Kh', 'Jc']],\n",
       " [array([-90.05593091,   2.03550787]), ['Kh', 'Qc']],\n",
       " [array([-228.96440422,    3.18454633]), ['Kh', 'Kc']],\n",
       " [array([-155.19548683,    2.31103032]), ['Kh', 'Ac']],\n",
       " [array([-54.93505154,   1.80035611]), ['Ah', '2d']],\n",
       " [array([-78.60664497,   1.85404963]), ['Ah', '3d']],\n",
       " [array([-69.31184286,   1.95016728]), ['Ah', '4d']],\n",
       " [array([-65.67811973,   1.96156638]), ['Ah', '5d']],\n",
       " [array([-66.99865133,   1.93729001]), ['Ah', '6d']],\n",
       " [array([-86.06911323,   1.91468905]), ['Ah', '7d']],\n",
       " [array([-94.33803413,   1.97253737]), ['Ah', '8d']],\n",
       " [array([-104.40041166,    1.99427768]), ['Ah', '9d']],\n",
       " [array([-121.41019888,    2.14529865]), ['Ah', 'Td']],\n",
       " [array([-127.03050257,    2.17710819]), ['Ah', 'Jd']],\n",
       " [array([-134.7736957 ,    2.17294386]), ['Ah', 'Qd']],\n",
       " [array([-187.72158934,    2.31283364]), ['Ah', 'Kd']],\n",
       " [array([-281.63434246,    3.27787543]), ['Ah', 'Ad']],\n",
       " [array([-66.45676481,   1.82090413]), ['Ah', '2c']],\n",
       " [array([-63.73163946,   1.92304775]), ['Ah', '3c']],\n",
       " [array([-62.7463299,   1.9581973]), ['Ah', '4c']],\n",
       " [array([-72.94902073,   1.85945339]), ['Ah', '5c']],\n",
       " [array([-83.65656123,   1.90026603]), ['Ah', '6c']],\n",
       " [array([-88.57712211,   1.96043583]), ['Ah', '7c']],\n",
       " [array([-87.2826104 ,   1.96975706]), ['Ah', '8c']],\n",
       " [array([-113.9537009 ,    1.99637009]), ['Ah', '9c']],\n",
       " [array([-111.85586574,    2.12206321]), ['Ah', 'Tc']],\n",
       " [array([-123.06509485,    2.19273481]), ['Ah', 'Jc']],\n",
       " [array([-170.26059582,    2.24069958]), ['Ah', 'Qc']],\n",
       " [array([-166.16028083,    2.28377953]), ['Ah', 'Kc']],\n",
       " ...]"
      ]
     },
     "execution_count": 39,
     "metadata": {},
     "output_type": "execute_result"
    }
   ],
   "source": [
    "#view regrets for each hand\n",
    "\n",
    "num_hands = int(52*51/2)\n",
    "poss_hands = [list(list(itertools.combinations(deck,2))[i]) for i in range(num_hands)]\n",
    "new_array = [[p1_resp[i],poss_hands[i]] for i in range(len(poss_hands))]\n",
    "new_array"
   ]
  },
  {
   "cell_type": "code",
   "execution_count": 44,
   "id": "e17091f1",
   "metadata": {},
   "outputs": [],
   "source": [
    "push_fold_array = np.zeros([13,13])\n",
    "\n",
    "cards_to_numbers = {\"2\":2, \"3\":3, \"4\":4, \"5\":5, \"6\":6, \"7\":7, \"8\":8, \"9\":9, \"T\":10, \"J\":11, \"Q\":12, \"K\":13, \"A\":14}\n",
    "numbers_to_cards = dict(zip(cards_to_numbers.values(),cards_to_numbers.keys()))\n",
    "\n",
    "num_hands = int(52*51/2)\n",
    "poss_hands = [list(list(itertools.combinations(deck,2))[i]) for i in range(num_hands)]\n",
    "\n",
    "hands_to_idx = {tuple(poss_hands[i]): i for i in range(num_hands)}\n",
    "\n",
    "offsuit_pairs = [['s', 'h'], ['s', 'd'], ['s', 'c'], ['h', 'd'], ['h', 'c'], ['d', 'c']]\n",
    "suited_pairs = [['s','s'],['h','h'],['d','d'],['c','c']]\n",
    "\n",
    "for card1 in range(13):\n",
    "    for card2 in range(13):\n",
    "        \n",
    "        card1_num = (12-card2)+2 #reverse ordering\n",
    "        card2_num = (12-card1)+2 #reverse ordering\n",
    "        \n",
    "        if card1 > card2:\n",
    "            \n",
    "            #offsuit\n",
    "            pair_list = [[str(numbers_to_cards[card1_num])+offsuit_pairs[i][0],str(numbers_to_cards[card2_num])+offsuit_pairs[i][1]] for i in range(len(offsuit_pairs))] +\\\n",
    "                        [[str(numbers_to_cards[card2_num])+offsuit_pairs[i][0],str(numbers_to_cards[card1_num])+offsuit_pairs[i][1]] for i in range(len(offsuit_pairs))]\n",
    "            \n",
    "            total_regret = [0,0]\n",
    "            for card_pair in pair_list:\n",
    "                \n",
    "                regret_matrix = p2_resp[hands_to_idx[tuple(card_pair)]]\n",
    "                total_regret+=regret_matrix\n",
    "                \n",
    "            if regret_matrix[0]<=0:\n",
    "                if regret_matrix[1]<=0:\n",
    "                    push_fold_array[card1][card2]=.5\n",
    "                else:\n",
    "                    push_fold_array[card1][card2]=1\n",
    "            else:\n",
    "                if regret_matrix[1]<=0:\n",
    "                    push_fold_array[card1][card2]=0\n",
    "                else:\n",
    "                    push_fold_array[card1][card2] = 1-regret_matrix[0]/sum(regret_matrix[:])\n",
    "            \n",
    "        if card1 == card2:\n",
    "            \n",
    "            #paired\n",
    "            pair_list = [[str(numbers_to_cards[card1_num])+offsuit_pairs[i][0],str(numbers_to_cards[card2_num])+offsuit_pairs[i][1]] for i in range(len(offsuit_pairs))]\n",
    "            \n",
    "            total_regret = [0,0]\n",
    "            for card_pair in pair_list:\n",
    "                \n",
    "                regret_matrix = p2_resp[hands_to_idx[tuple(card_pair)]]\n",
    "                total_regret+=regret_matrix\n",
    "                \n",
    "            if regret_matrix[0]<=0:\n",
    "                if regret_matrix[1]<=0:\n",
    "                    push_fold_array[card1][card2]=.5\n",
    "                else:\n",
    "                    push_fold_array[card1][card2]=1\n",
    "            else:\n",
    "                if regret_matrix[1]<=0:\n",
    "                    push_fold_array[card1][card2]=0\n",
    "                else:\n",
    "                    push_fold_array[card1][card2] = 1-regret_matrix[0]/sum(regret_matrix[:])\n",
    "            \n",
    "        if card1 < card2:\n",
    "            \n",
    "            #suited\n",
    "            pair_list = [[str(numbers_to_cards[card1_num])+suited_pairs[i][0],str(numbers_to_cards[card2_num])+suited_pairs[i][1]] for i in range(len(suited_pairs))]\n",
    "            \n",
    "            total_regret = [0,0]\n",
    "            for card_pair in pair_list:\n",
    "                \n",
    "                regret_matrix = p2_resp[hands_to_idx[tuple(card_pair)]]\n",
    "                total_regret+=regret_matrix\n",
    "                \n",
    "            if regret_matrix[0]<=0:\n",
    "                if regret_matrix[1]<=0:\n",
    "                    push_fold_array[card1][card2]=.5\n",
    "                else:\n",
    "                    push_fold_array[card1][card2]=1\n",
    "            else:\n",
    "                if regret_matrix[1]<=0:\n",
    "                    push_fold_array[card1][card2]=0\n",
    "                else:\n",
    "                    push_fold_array[card1][card2] = 1-regret_matrix[0]/sum(regret_matrix[:])\n",
    "            "
   ]
  },
  {
   "cell_type": "code",
   "execution_count": 45,
   "id": "14d90e64",
   "metadata": {},
   "outputs": [
    {
     "data": {
      "text/plain": [
       "<matplotlib.image.AxesImage at 0x7f8f719c3220>"
      ]
     },
     "execution_count": 45,
     "metadata": {},
     "output_type": "execute_result"
    },
    {
     "data": {
      "image/png": "[encoded data removed]",
      "text/plain": [
       "<Figure size 432x288 with 1 Axes>"
      ]
     },
     "metadata": {
      "needs_background": "light"
     },
     "output_type": "display_data"
    }
   ],
   "source": [
    "plt.imshow(push_fold_array)"
   ]
  }
 ],
 "metadata": {
  "kernelspec": {
   "display_name": "Python 3 (ipykernel)",
   "language": "python",
   "name": "python3"
  },
  "language_info": {
   "codemirror_mode": {
    "name": "ipython",
    "version": 3
   },
   "file_extension": ".py",
   "mimetype": "text/x-python",
   "name": "python",
   "nbconvert_exporter": "python",
   "pygments_lexer": "ipython3",
   "version": "3.8.10"
  }
 },
 "nbformat": 4,
 "nbformat_minor": 5
}
